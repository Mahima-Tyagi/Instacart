{
  "nbformat": 4,
  "nbformat_minor": 0,
  "metadata": {
    "colab": {
      "name": "VI_insta_Final_pipeline.ipynb",
      "provenance": []
    },
    "kernelspec": {
      "name": "python3",
      "display_name": "Python 3"
    },
    "language_info": {
      "name": "python"
    },
    "accelerator": "GPU"
  },
  "cells": [
    {
      "cell_type": "code",
      "metadata": {
        "id": "pyut2vVhwYSC"
      },
      "source": [
        "import pandas as pd\n",
        "import pickle\n",
        "from sklearn.metrics import f1_score"
      ],
      "execution_count": null,
      "outputs": []
    },
    {
      "cell_type": "markdown",
      "metadata": {
        "id": "D-X9gXTG1_QY"
      },
      "source": [
        "Function-1"
      ]
    },
    {
      "cell_type": "code",
      "metadata": {
        "id": "-gztWhMVu8cK"
      },
      "source": [
        "def ip_to_op1(order_id,eval_set):\n",
        "  '''\n",
        "  this function takes a orderid and returns products to be reordered by it\n",
        "  '''\n",
        "  #For train\n",
        "  if eval_set=='train':\n",
        "     #load data and droping cols+reseting index\n",
        "     df=pd.read_csv('/content/drive/MyDrive/Instacart/train_final.csv').drop(['Unnamed: 0','order_hour_of_day','days_since_prior_order','reordered'],axis=1)\n",
        "     #checking order_id valid or not\n",
        "     if order_id not in list(df['order_id']):\n",
        "       print('Please enter valid order_id')\n",
        "       return\n",
        "     #selecting all rows with given order_id\n",
        "     rows=df[df.order_id==order_id]\n",
        "     datapt=rows.drop(['order_id'],axis=1)\n",
        "     #resetting index\n",
        "     datapt=datapt.set_index(['user_id','product_id'])\n",
        "     #load model\n",
        "     model=pickle.load(open('/content/drive/MyDrive/Instacart/model.sav','rb'))\n",
        "     #predicting\n",
        "     pred=model.predict(datapt)\n",
        "     datapt['pred']=pred\n",
        "     datapt=datapt.reset_index()  \n",
        "     #to return products\n",
        "     products=datapt[datapt.pred==1]['product_id']\n",
        "     return list(products)\n",
        "  \n",
        "\n",
        "  #For test\n",
        "  elif eval_set=='test':\n",
        "     #load data and droping cols+reseting index\n",
        "     df=pd.read_csv('/content/drive/MyDrive/Instacart/test_final.csv').drop(['Unnamed: 0','order_hour_of_day','days_since_prior_order'],axis=1)\n",
        "     #checking order_id valid or not\n",
        "     if order_id not in list(df['order_id']):\n",
        "       print('Please enter valid order_id')\n",
        "       return\n",
        "     \n",
        "     #selecting all rows with given order_id\n",
        "     rows=df[df.order_id==order_id]\n",
        "     datapt=rows.drop(['order_id'],axis=1)\n",
        "     #resetting index\n",
        "     datapt=datapt.set_index(['user_id','product_id'])\n",
        "     #load model\n",
        "     model=pickle.load(open('/content/drive/MyDrive/Instacart/model.sav','rb'))\n",
        "     #predicting\n",
        "     pred=model.predict(datapt)\n",
        "     datapt['pred']=pred\n",
        "     datapt=datapt.reset_index()  \n",
        "     #to return products\n",
        "     products=datapt[datapt.pred==1]['product_id']\n",
        "     return list(products)\n",
        "  \n",
        "  else:\n",
        "    print('Please enter a valid eval set')\n",
        "    return"
      ],
      "execution_count": null,
      "outputs": []
    },
    {
      "cell_type": "markdown",
      "metadata": {
        "id": "kq8UYrapNi-t"
      },
      "source": [
        "checking above function"
      ]
    },
    {
      "cell_type": "code",
      "metadata": {
        "colab": {
          "base_uri": "https://localhost:8080/"
        },
        "id": "I1qX-c2iMUV8",
        "outputId": "f707650c-9192-4fa0-dd0c-50177e6274de"
      },
      "source": [
        "%%time\n",
        "order_id=int(input('Enter the order_id:'))\n",
        "ev_set=input('Enter the eval set it belongs:')\n",
        "products=ip_to_op1(order_id,ev_set)\n",
        "print('products to be reordered for order_id {} are {}'.format(order_id,products))"
      ],
      "execution_count": null,
      "outputs": [
        {
          "output_type": "stream",
          "text": [
            "Enter the order_id:34\n",
            "Enter the eval set it belongs:test\n",
            "products to be reordered for order_id 34 are [2596, 16083, 18618, 21137, 39180, 39475, 43504, 44632, 44663, 47766, 47792, 48523]\n",
            "CPU times: user 6.59 s, sys: 1.03 s, total: 7.62 s\n",
            "Wall time: 21.2 s\n"
          ],
          "name": "stdout"
        }
      ]
    },
    {
      "cell_type": "code",
      "metadata": {
        "colab": {
          "base_uri": "https://localhost:8080/"
        },
        "id": "Gdj-sib2w73R",
        "outputId": "7c49b856-adb4-49a8-92d4-90e24bef8f1a"
      },
      "source": [
        "%%time\n",
        "order_id=int(input('Enter the order_id:'))\n",
        "ev_set=input('Enter the eval set it belongs:')\n",
        "products=ip_to_op1(order_id,ev_set)\n",
        "print('products to be reordered for order_id {} are {}'.format(order_id,products))"
      ],
      "execution_count": null,
      "outputs": [
        {
          "output_type": "stream",
          "text": [
            "Enter the order_id:2774568\n",
            "Enter the eval set it belongs:test\n",
            "products to be reordered for order_id 2774568 are [17668, 18599, 21903, 22035, 39190, 43961, 47766]\n",
            "CPU times: user 5.81 s, sys: 415 ms, total: 6.22 s\n",
            "Wall time: 16 s\n"
          ],
          "name": "stdout"
        }
      ]
    },
    {
      "cell_type": "code",
      "metadata": {
        "colab": {
          "base_uri": "https://localhost:8080/"
        },
        "id": "erX_GHn9z_I_",
        "outputId": "060ae78f-a84f-4a30-8232-8e425dc2a802"
      },
      "source": [
        "%%time\n",
        "order_id=int(input('Enter the order_id:'))\n",
        "ev_set=input('Enter the eval set it belongs:')\n",
        "products=ip_to_op1(order_id,ev_set)\n",
        "print('products to be reordered for order_id {} are {}'.format(order_id,products))"
      ],
      "execution_count": null,
      "outputs": [
        {
          "output_type": "stream",
          "text": [
            "Enter the order_id:3406075\n",
            "Enter the eval set it belongs:test\n",
            "products to be reordered for order_id 3406075 are [49, 2361, 5212, 11090, 13249, 18727, 24852, 25005, 30639, 31869, 38984, 39275, 42585, 47766]\n",
            "CPU times: user 5.77 s, sys: 416 ms, total: 6.18 s\n",
            "Wall time: 15.9 s\n"
          ],
          "name": "stdout"
        }
      ]
    },
    {
      "cell_type": "code",
      "metadata": {
        "colab": {
          "base_uri": "https://localhost:8080/"
        },
        "id": "JrP-QoFx0I69",
        "outputId": "5b9ba273-7384-48ee-c520-fa596b9eb032"
      },
      "source": [
        "%%time\n",
        "order_id=int(input('Enter the order_id:'))\n",
        "ev_set=input('Enter the eval set it belongs:')\n",
        "products=ip_to_op1(order_id,ev_set)\n",
        "print('products to be reordered for order_id {} are {}'.format(order_id,products))"
      ],
      "execution_count": null,
      "outputs": [
        {
          "output_type": "stream",
          "text": [
            "Enter the order_id:0\n",
            "Enter the eval set it belongs:train\n",
            "Please enter valid order_id\n",
            "products to be reordered for order_id 0 are None\n",
            "CPU times: user 12.4 s, sys: 2.1 s, total: 14.5 s\n",
            "Wall time: 24.1 s\n"
          ],
          "name": "stdout"
        }
      ]
    },
    {
      "cell_type": "markdown",
      "metadata": {
        "id": "Ts3JNrNK2Cfr"
      },
      "source": [
        "function-2"
      ]
    },
    {
      "cell_type": "code",
      "metadata": {
        "id": "abtcJ3eZ19Jy"
      },
      "source": [
        "def ip_to_metric(order_id,eval_set):\n",
        "  '''\n",
        "  this function takes a orderid and returns f1 score of prediction\n",
        "  '''\n",
        "  #For train\n",
        "  if eval_set=='train':\n",
        "     #load data and droping cols+reseting index\n",
        "     df=pd.read_csv('/content/drive/MyDrive/Instacart/train_final.csv').drop(['Unnamed: 0','order_hour_of_day','days_since_prior_order'],axis=1)\n",
        "     #checking order_id valid or not\n",
        "     if order_id in list(df['order_id']): \n",
        "       #selecting all rows with given order_id\n",
        "       rows=df[df.order_id==order_id]\n",
        "       y_true=rows['reordered']\n",
        "       datapt=rows.drop(['order_id','reordered'],axis=1)\n",
        "       #resetting index\n",
        "       datapt=datapt.set_index(['user_id','product_id'])\n",
        "       #load model\n",
        "       model=pickle.load(open('/content/drive/MyDrive/Instacart/model.sav','rb'))\n",
        "       #predicting\n",
        "       pred=model.predict(datapt)\n",
        "       datapt['pred']=pred\n",
        "       datapt=datapt.reset_index()  \n",
        "       y_pred=datapt['pred']\n",
        "       \n",
        "       f1_tr=f1_score(y_pred,y_true)\n",
        "       print('f1 score is :{}'.format(f1_tr))\n",
        "  else:\n",
        "    #since we hv y_true or reordered for only train and not for test\n",
        "    print('Please enter valid order_id')\n",
        "    return\n",
        "  "
      ],
      "execution_count": null,
      "outputs": []
    },
    {
      "cell_type": "markdown",
      "metadata": {
        "id": "Chc0BmlH48Gw"
      },
      "source": [
        "checking function 2"
      ]
    },
    {
      "cell_type": "code",
      "metadata": {
        "colab": {
          "base_uri": "https://localhost:8080/"
        },
        "id": "gLE-G6FH5m8N",
        "outputId": "40f85c84-233a-4428-c992-172a9b158597"
      },
      "source": [
        "%%time\n",
        "order_id=int(input('Enter the order_id:'))\n",
        "ev_set=input('Enter the eval set it belongs:')\n",
        "ip_to_metric(order_id,ev_set)"
      ],
      "execution_count": null,
      "outputs": [
        {
          "output_type": "stream",
          "text": [
            "Enter the order_id:1187899\n",
            "Enter the eval set it belongs:train\n",
            "f1 score is :0.8000000000000002\n",
            "CPU times: user 12 s, sys: 1.1 s, total: 13.1 s\n",
            "Wall time: 23.5 s\n"
          ],
          "name": "stdout"
        }
      ]
    },
    {
      "cell_type": "code",
      "metadata": {
        "colab": {
          "base_uri": "https://localhost:8080/"
        },
        "id": "LPo126Dw5MDg",
        "outputId": "f3a0431b-0e4d-4a0f-83bb-9bfe368c0d32"
      },
      "source": [
        "%%time\n",
        "order_id=int(input('Enter the order_id:'))\n",
        "ev_set=input('Enter the eval set it belongs:')\n",
        "ip_to_metric(order_id,ev_set)"
      ],
      "execution_count": null,
      "outputs": [
        {
          "output_type": "stream",
          "text": [
            "Enter the order_id:272231\n",
            "Enter the eval set it belongs:train\n",
            "f1 score is :0.46153846153846156\n",
            "products to be reordered for order_id 272231 are None\n",
            "CPU times: user 12.4 s, sys: 1.09 s, total: 13.5 s\n",
            "Wall time: 23.6 s\n"
          ],
          "name": "stdout"
        }
      ]
    }
  ]
}