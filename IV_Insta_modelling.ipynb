{
 "cells": [
  {
   "cell_type": "code",
   "execution_count": null,
   "metadata": {
    "id": "MeN9G2oDM5kG"
   },
   "outputs": [],
   "source": [
    "import pandas as pd\n",
    "from sklearn.model_selection import train_test_split\n",
    "from sklearn.preprocessing import MinMaxScaler\n",
    "from sklearn.model_selection import RandomizedSearchCV\n",
    "import numpy as np\n",
    "import matplotlib.pyplot as plt\n",
    "from sklearn.metrics import f1_score"
   ]
  },
  {
   "cell_type": "code",
   "execution_count": null,
   "metadata": {
    "colab": {
     "base_uri": "https://localhost:8080/"
    },
    "id": "kEIwAT_KUnbx",
    "outputId": "cf5336aa-1103-4ada-a521-b174427a5db0"
   },
   "outputs": [
    {
     "name": "stdout",
     "output_type": "stream",
     "text": [
      "Mounted at /content/drive\n"
     ]
    }
   ],
   "source": [
    "from google.colab import drive\n",
    "drive.mount('/content/drive')"
   ]
  },
  {
   "cell_type": "markdown",
   "metadata": {
    "id": "eaza4kBpJxMo"
   },
   "source": [
    "<h3>Loading Data-Train and test csv files</h3>"
   ]
  },
  {
   "cell_type": "code",
   "execution_count": null,
   "metadata": {
    "colab": {
     "base_uri": "https://localhost:8080/",
     "height": 241
    },
    "id": "wywcDVniNS-x",
    "outputId": "6216a31b-670d-4982-a7db-099141f19161"
   },
   "outputs": [
    {
     "data": {
      "text/html": [
       "<div>\n",
       "<style scoped>\n",
       "    .dataframe tbody tr th:only-of-type {\n",
       "        vertical-align: middle;\n",
       "    }\n",
       "\n",
       "    .dataframe tbody tr th {\n",
       "        vertical-align: top;\n",
       "    }\n",
       "\n",
       "    .dataframe thead th {\n",
       "        text-align: right;\n",
       "    }\n",
       "</style>\n",
       "<table border=\"1\" class=\"dataframe\">\n",
       "  <thead>\n",
       "    <tr style=\"text-align: right;\">\n",
       "      <th></th>\n",
       "      <th>Unnamed: 0</th>\n",
       "      <th>user_id</th>\n",
       "      <th>order_hour_of_day</th>\n",
       "      <th>days_since_prior_order</th>\n",
       "      <th>Total orders</th>\n",
       "      <th>user_re_ratio</th>\n",
       "      <th>user_ntre_ratio</th>\n",
       "      <th>product_id</th>\n",
       "      <th>user_prd_re_ratio</th>\n",
       "      <th>times_cart_123</th>\n",
       "      <th>times_prd_last_5</th>\n",
       "      <th>prd_cart_last_5</th>\n",
       "      <th>prd_ntre_ratio</th>\n",
       "      <th>dow_re_ratio</th>\n",
       "      <th>dow_ntre_ratio</th>\n",
       "      <th>reordered</th>\n",
       "    </tr>\n",
       "  </thead>\n",
       "  <tbody>\n",
       "    <tr>\n",
       "      <th>0</th>\n",
       "      <td>0</td>\n",
       "      <td>1</td>\n",
       "      <td>8</td>\n",
       "      <td>14.0</td>\n",
       "      <td>10</td>\n",
       "      <td>0.694915</td>\n",
       "      <td>0.305085</td>\n",
       "      <td>196</td>\n",
       "      <td>1.000000</td>\n",
       "      <td>9.0</td>\n",
       "      <td>5.0</td>\n",
       "      <td>6.4</td>\n",
       "      <td>0.223520</td>\n",
       "      <td>0.727273</td>\n",
       "      <td>0.409021</td>\n",
       "      <td>1.0</td>\n",
       "    </tr>\n",
       "    <tr>\n",
       "      <th>1</th>\n",
       "      <td>1</td>\n",
       "      <td>1</td>\n",
       "      <td>8</td>\n",
       "      <td>14.0</td>\n",
       "      <td>10</td>\n",
       "      <td>0.694915</td>\n",
       "      <td>0.305085</td>\n",
       "      <td>10258</td>\n",
       "      <td>1.000000</td>\n",
       "      <td>7.0</td>\n",
       "      <td>5.0</td>\n",
       "      <td>4.4</td>\n",
       "      <td>0.286228</td>\n",
       "      <td>0.727273</td>\n",
       "      <td>0.409021</td>\n",
       "      <td>1.0</td>\n",
       "    </tr>\n",
       "    <tr>\n",
       "      <th>2</th>\n",
       "      <td>2</td>\n",
       "      <td>1</td>\n",
       "      <td>8</td>\n",
       "      <td>14.0</td>\n",
       "      <td>10</td>\n",
       "      <td>0.694915</td>\n",
       "      <td>0.305085</td>\n",
       "      <td>10326</td>\n",
       "      <td>0.166667</td>\n",
       "      <td>0.0</td>\n",
       "      <td>0.0</td>\n",
       "      <td>2.6</td>\n",
       "      <td>0.347991</td>\n",
       "      <td>0.727273</td>\n",
       "      <td>0.409021</td>\n",
       "      <td>0.0</td>\n",
       "    </tr>\n",
       "    <tr>\n",
       "      <th>3</th>\n",
       "      <td>3</td>\n",
       "      <td>1</td>\n",
       "      <td>8</td>\n",
       "      <td>14.0</td>\n",
       "      <td>10</td>\n",
       "      <td>0.694915</td>\n",
       "      <td>0.305085</td>\n",
       "      <td>12427</td>\n",
       "      <td>1.000000</td>\n",
       "      <td>8.0</td>\n",
       "      <td>5.0</td>\n",
       "      <td>2.6</td>\n",
       "      <td>0.259265</td>\n",
       "      <td>0.727273</td>\n",
       "      <td>0.409021</td>\n",
       "      <td>0.0</td>\n",
       "    </tr>\n",
       "    <tr>\n",
       "      <th>4</th>\n",
       "      <td>4</td>\n",
       "      <td>1</td>\n",
       "      <td>8</td>\n",
       "      <td>14.0</td>\n",
       "      <td>10</td>\n",
       "      <td>0.694915</td>\n",
       "      <td>0.305085</td>\n",
       "      <td>13032</td>\n",
       "      <td>0.333333</td>\n",
       "      <td>0.0</td>\n",
       "      <td>2.0</td>\n",
       "      <td>1.4</td>\n",
       "      <td>0.342842</td>\n",
       "      <td>0.727273</td>\n",
       "      <td>0.409021</td>\n",
       "      <td>1.0</td>\n",
       "    </tr>\n",
       "  </tbody>\n",
       "</table>\n",
       "</div>"
      ],
      "text/plain": [
       "   Unnamed: 0  user_id  ...  dow_ntre_ratio  reordered\n",
       "0           0        1  ...        0.409021        1.0\n",
       "1           1        1  ...        0.409021        1.0\n",
       "2           2        1  ...        0.409021        0.0\n",
       "3           3        1  ...        0.409021        0.0\n",
       "4           4        1  ...        0.409021        1.0\n",
       "\n",
       "[5 rows x 16 columns]"
      ]
     },
     "execution_count": 3,
     "metadata": {
      "tags": []
     },
     "output_type": "execute_result"
    }
   ],
   "source": [
    "train=pd.read_csv('/content/drive/MyDrive/Instacart/train.csv')  #train \n",
    "train.head()"
   ]
  },
  {
   "cell_type": "code",
   "execution_count": null,
   "metadata": {
    "colab": {
     "base_uri": "https://localhost:8080/",
     "height": 241
    },
    "id": "sJ481ZoOEUIV",
    "outputId": "c27750c6-413c-425d-a106-34355785e668"
   },
   "outputs": [
    {
     "data": {
      "text/html": [
       "<div>\n",
       "<style scoped>\n",
       "    .dataframe tbody tr th:only-of-type {\n",
       "        vertical-align: middle;\n",
       "    }\n",
       "\n",
       "    .dataframe tbody tr th {\n",
       "        vertical-align: top;\n",
       "    }\n",
       "\n",
       "    .dataframe thead th {\n",
       "        text-align: right;\n",
       "    }\n",
       "</style>\n",
       "<table border=\"1\" class=\"dataframe\">\n",
       "  <thead>\n",
       "    <tr style=\"text-align: right;\">\n",
       "      <th></th>\n",
       "      <th>Unnamed: 0</th>\n",
       "      <th>user_id</th>\n",
       "      <th>order_hour_of_day</th>\n",
       "      <th>days_since_prior_order</th>\n",
       "      <th>Total orders</th>\n",
       "      <th>user_re_ratio</th>\n",
       "      <th>user_ntre_ratio</th>\n",
       "      <th>product_id</th>\n",
       "      <th>user_prd_re_ratio</th>\n",
       "      <th>times_cart_123</th>\n",
       "      <th>times_prd_last_5</th>\n",
       "      <th>prd_cart_last_5</th>\n",
       "      <th>prd_ntre_ratio</th>\n",
       "      <th>dow_re_ratio</th>\n",
       "      <th>dow_ntre_ratio</th>\n",
       "    </tr>\n",
       "  </thead>\n",
       "  <tbody>\n",
       "    <tr>\n",
       "      <th>0</th>\n",
       "      <td>0</td>\n",
       "      <td>3</td>\n",
       "      <td>15</td>\n",
       "      <td>11.0</td>\n",
       "      <td>12</td>\n",
       "      <td>0.625</td>\n",
       "      <td>0.375</td>\n",
       "      <td>248</td>\n",
       "      <td>0.090909</td>\n",
       "      <td>1.0</td>\n",
       "      <td>0.0</td>\n",
       "      <td>9.2</td>\n",
       "      <td>0.599749</td>\n",
       "      <td>0.0</td>\n",
       "      <td>0.0</td>\n",
       "    </tr>\n",
       "    <tr>\n",
       "      <th>1</th>\n",
       "      <td>1</td>\n",
       "      <td>3</td>\n",
       "      <td>15</td>\n",
       "      <td>11.0</td>\n",
       "      <td>12</td>\n",
       "      <td>0.625</td>\n",
       "      <td>0.375</td>\n",
       "      <td>1005</td>\n",
       "      <td>0.333333</td>\n",
       "      <td>0.0</td>\n",
       "      <td>1.0</td>\n",
       "      <td>15.8</td>\n",
       "      <td>0.559395</td>\n",
       "      <td>0.0</td>\n",
       "      <td>0.0</td>\n",
       "    </tr>\n",
       "    <tr>\n",
       "      <th>2</th>\n",
       "      <td>2</td>\n",
       "      <td>3</td>\n",
       "      <td>15</td>\n",
       "      <td>11.0</td>\n",
       "      <td>12</td>\n",
       "      <td>0.625</td>\n",
       "      <td>0.375</td>\n",
       "      <td>1819</td>\n",
       "      <td>0.333333</td>\n",
       "      <td>2.0</td>\n",
       "      <td>0.0</td>\n",
       "      <td>8.4</td>\n",
       "      <td>0.507838</td>\n",
       "      <td>0.0</td>\n",
       "      <td>0.0</td>\n",
       "    </tr>\n",
       "    <tr>\n",
       "      <th>3</th>\n",
       "      <td>3</td>\n",
       "      <td>3</td>\n",
       "      <td>15</td>\n",
       "      <td>11.0</td>\n",
       "      <td>12</td>\n",
       "      <td>0.625</td>\n",
       "      <td>0.375</td>\n",
       "      <td>7503</td>\n",
       "      <td>0.100000</td>\n",
       "      <td>0.0</td>\n",
       "      <td>0.0</td>\n",
       "      <td>6.6</td>\n",
       "      <td>0.446449</td>\n",
       "      <td>0.0</td>\n",
       "      <td>0.0</td>\n",
       "    </tr>\n",
       "    <tr>\n",
       "      <th>4</th>\n",
       "      <td>4</td>\n",
       "      <td>3</td>\n",
       "      <td>15</td>\n",
       "      <td>11.0</td>\n",
       "      <td>12</td>\n",
       "      <td>0.625</td>\n",
       "      <td>0.375</td>\n",
       "      <td>8021</td>\n",
       "      <td>0.090909</td>\n",
       "      <td>0.0</td>\n",
       "      <td>0.0</td>\n",
       "      <td>5.4</td>\n",
       "      <td>0.408843</td>\n",
       "      <td>0.0</td>\n",
       "      <td>0.0</td>\n",
       "    </tr>\n",
       "  </tbody>\n",
       "</table>\n",
       "</div>"
      ],
      "text/plain": [
       "   Unnamed: 0  user_id  ...  dow_re_ratio  dow_ntre_ratio\n",
       "0           0        3  ...           0.0             0.0\n",
       "1           1        3  ...           0.0             0.0\n",
       "2           2        3  ...           0.0             0.0\n",
       "3           3        3  ...           0.0             0.0\n",
       "4           4        3  ...           0.0             0.0\n",
       "\n",
       "[5 rows x 15 columns]"
      ]
     },
     "execution_count": 4,
     "metadata": {
      "tags": []
     },
     "output_type": "execute_result"
    }
   ],
   "source": [
    "test=pd.read_csv('/content/drive/MyDrive/Instacart/test.csv')  #test\n",
    "test.head()"
   ]
  },
  {
   "cell_type": "markdown",
   "metadata": {
    "id": "7yXzvvCH9OHM"
   },
   "source": [
    "**Dropping not required features**"
   ]
  },
  {
   "cell_type": "code",
   "execution_count": null,
   "metadata": {
    "id": "H7kMjW4DNmZK"
   },
   "outputs": [],
   "source": [
    "train.drop(['Unnamed: 0','order_hour_of_day','days_since_prior_order'],axis=1,inplace=True)"
   ]
  },
  {
   "cell_type": "code",
   "execution_count": null,
   "metadata": {
    "id": "OZv795x2i0QK"
   },
   "outputs": [],
   "source": [
    "test.drop(['Unnamed: 0','order_hour_of_day','days_since_prior_order'],axis=1,inplace=True)"
   ]
  },
  {
   "cell_type": "code",
   "execution_count": null,
   "metadata": {
    "colab": {
     "base_uri": "https://localhost:8080/"
    },
    "id": "nHORB4eu9n6U",
    "outputId": "30d9d0fa-11ac-401b-adb4-3f10f99737cd"
   },
   "outputs": [
    {
     "data": {
      "text/plain": [
       "(8474661, 13)"
      ]
     },
     "execution_count": 7,
     "metadata": {
      "tags": []
     },
     "output_type": "execute_result"
    }
   ],
   "source": [
    "train.shape"
   ]
  },
  {
   "cell_type": "code",
   "execution_count": null,
   "metadata": {
    "colab": {
     "base_uri": "https://localhost:8080/"
    },
    "id": "kKoF6jlA9rcz",
    "outputId": "8fd2bcc6-80c9-4105-b0dc-0f6eab327440"
   },
   "outputs": [
    {
     "data": {
      "text/plain": [
       "(4833292, 12)"
      ]
     },
     "execution_count": 8,
     "metadata": {
      "tags": []
     },
     "output_type": "execute_result"
    }
   ],
   "source": [
    "test.shape"
   ]
  },
  {
   "cell_type": "markdown",
   "metadata": {
    "id": "YCZosNFf-dob"
   },
   "source": [
    "<h3>droping class label:reordered from train and saving as y"
   ]
  },
  {
   "cell_type": "code",
   "execution_count": null,
   "metadata": {
    "colab": {
     "base_uri": "https://localhost:8080/"
    },
    "id": "Pei-l0afNpXD",
    "outputId": "bd956837-8216-435e-a7cd-136697e32957"
   },
   "outputs": [
    {
     "data": {
      "text/plain": [
       "0    1.0\n",
       "1    1.0\n",
       "Name: reordered, dtype: float64"
      ]
     },
     "execution_count": 7,
     "metadata": {
      "tags": []
     },
     "output_type": "execute_result"
    }
   ],
   "source": [
    "y=train['reordered']     #class label for train data\n",
    "x=train.drop(['reordered'],axis=1)    #removing class labels from train data\n",
    "y.head(2)"
   ]
  },
  {
   "cell_type": "code",
   "execution_count": null,
   "metadata": {
    "colab": {
     "base_uri": "https://localhost:8080/"
    },
    "id": "k1vQjKJ3NuBi",
    "outputId": "f07dd0c0-1eb6-40b5-fba2-dd5cf253112e"
   },
   "outputs": [
    {
     "data": {
      "text/plain": [
       "0.0    7645837\n",
       "1.0     828824\n",
       "Name: reordered, dtype: int64"
      ]
     },
     "execution_count": 10,
     "metadata": {
      "tags": []
     },
     "output_type": "execute_result"
    }
   ],
   "source": [
    "y.value_counts()  #imbalance dataset"
   ]
  },
  {
   "cell_type": "markdown",
   "metadata": {
    "id": "dYHaO2_X4G4E"
   },
   "source": [
    "**=>IMBALANCE DATASET**"
   ]
  },
  {
   "cell_type": "markdown",
   "metadata": {
    "id": "WtVV13Fyb3dH"
   },
   "source": [
    "<h2> Splitting  Train data into Train and cross validation: Stratified Sampling</h2>"
   ]
  },
  {
   "cell_type": "code",
   "execution_count": null,
   "metadata": {
    "id": "gmynPyzrN_lk"
   },
   "outputs": [],
   "source": [
    "x_train,x_cv,y_train,y_cv=train_test_split(x,y,test_size=0.33, random_state=20,stratify=y)    #train, cv for random cv"
   ]
  },
  {
   "cell_type": "markdown",
   "metadata": {
    "id": "ZW4cghgkPeN8"
   },
   "source": [
    "Encoding numerical features for train,cv and test"
   ]
  },
  {
   "cell_type": "code",
   "execution_count": null,
   "metadata": {
    "id": "pp345k4QXXPn"
   },
   "outputs": [],
   "source": [
    "x_tr=x_train.copy()   #copy of train ,cv and test\n",
    "x_cv=x_cv.copy()\n",
    "te_df=test.copy()"
   ]
  },
  {
   "cell_type": "code",
   "execution_count": null,
   "metadata": {
    "id": "QdmdzBW0P1bt"
   },
   "outputs": [],
   "source": [
    "#Total orders\n",
    "scalar=MinMaxScaler()\n",
    "#reshape coz we want 2D vector\n",
    "#reshape(-1,1) coz we have single feature  => column vector\n",
    "#reshape(1,-1) if we have single sample,n-features  => row vector\n",
    "scalar.fit(x_train['Total orders'].values.reshape(-1,1))    #fitting train data to transform both  train,cv and test\n",
    "x_tr['Total orders']=scalar.transform(x_tr['Total orders'].values.reshape(-1,1))  \n",
    "x_cv['Total orders']=scalar.transform(x_cv['Total orders'].values.reshape(-1,1)) \n",
    "te_df['Total orders']=scalar.transform(te_df['Total orders'].values.reshape(-1,1)) "
   ]
  },
  {
   "cell_type": "code",
   "execution_count": null,
   "metadata": {
    "id": "mw4MJNEaRisB"
   },
   "outputs": [],
   "source": [
    "#times_cart_123\n",
    "scalar=MinMaxScaler()\n",
    "#reshape coz we want 2D vector\n",
    "#reshape(-1,1) coz we have single feature  => column vector\n",
    "#reshape(1,-1) if we have single sample,n-features  => row vector\n",
    "scalar.fit(x_train['times_cart_123'].values.reshape(-1,1))    #fitting train data to transform both test and train\n",
    "x_tr['times_cart_123']=scalar.transform(x_tr['times_cart_123'].values.reshape(-1,1))  \n",
    "x_cv['times_cart_123']=scalar.transform(x_cv['times_cart_123'].values.reshape(-1,1)) \n",
    "te_df['times_cart_123']=scalar.transform(te_df['times_cart_123'].values.reshape(-1,1)) "
   ]
  },
  {
   "cell_type": "code",
   "execution_count": null,
   "metadata": {
    "id": "T9ZXSWvwRyOi"
   },
   "outputs": [],
   "source": [
    "#times_prd_last_5\n",
    "scalar=MinMaxScaler()\n",
    "#reshape coz we want 2D vector\n",
    "#reshape(-1,1) coz we have single feature  => column vector\n",
    "#reshape(1,-1) if we have single sample,n-features  => row vector\n",
    "scalar.fit(x_train['times_prd_last_5'].values.reshape(-1,1))    #fitting train data to transform both test and train\n",
    "x_tr['times_prd_last_5']=scalar.transform(x_tr['times_prd_last_5'].values.reshape(-1,1))  \n",
    "x_cv['times_prd_last_5']=scalar.transform(x_cv['times_prd_last_5'].values.reshape(-1,1)) \n",
    "te_df['times_prd_last_5']=scalar.transform(te_df['times_prd_last_5'].values.reshape(-1,1)) "
   ]
  },
  {
   "cell_type": "code",
   "execution_count": null,
   "metadata": {
    "id": "xoLekgBjSGmi"
   },
   "outputs": [],
   "source": [
    "#prd_cart_last_5\n",
    "scalar=MinMaxScaler()\n",
    "#reshape coz we want 2D vector\n",
    "#reshape(-1,1) coz we have single feature  => column vector\n",
    "#reshape(1,-1) if we have single sample,n-features  => row vector\n",
    "scalar.fit(x_train['prd_cart_last_5'].values.reshape(-1,1))    #fitting train data to transform both test and train\n",
    "x_tr['prd_cart_last_5']=scalar.transform(x_tr['prd_cart_last_5'].values.reshape(-1,1))  \n",
    "x_cv['prd_cart_last_5']=scalar.transform(x_cv['prd_cart_last_5'].values.reshape(-1,1)) \n",
    "te_df['prd_cart_last_5']=scalar.transform(te_df['prd_cart_last_5'].values.reshape(-1,1)) "
   ]
  },
  {
   "cell_type": "markdown",
   "metadata": {
    "id": "4Y6sWThBnKOP"
   },
   "source": [
    "<h3>resetting index to user_id and product_id</h3>"
   ]
  },
  {
   "cell_type": "code",
   "execution_count": null,
   "metadata": {
    "colab": {
     "base_uri": "https://localhost:8080/",
     "height": 272
    },
    "id": "7WAWy0PDN1O_",
    "outputId": "3a795fe8-bf15-4241-81d3-7b64a415709a"
   },
   "outputs": [
    {
     "data": {
      "text/html": [
       "<div>\n",
       "<style scoped>\n",
       "    .dataframe tbody tr th:only-of-type {\n",
       "        vertical-align: middle;\n",
       "    }\n",
       "\n",
       "    .dataframe tbody tr th {\n",
       "        vertical-align: top;\n",
       "    }\n",
       "\n",
       "    .dataframe thead th {\n",
       "        text-align: right;\n",
       "    }\n",
       "</style>\n",
       "<table border=\"1\" class=\"dataframe\">\n",
       "  <thead>\n",
       "    <tr style=\"text-align: right;\">\n",
       "      <th></th>\n",
       "      <th></th>\n",
       "      <th>Total orders</th>\n",
       "      <th>user_re_ratio</th>\n",
       "      <th>user_ntre_ratio</th>\n",
       "      <th>user_prd_re_ratio</th>\n",
       "      <th>times_cart_123</th>\n",
       "      <th>times_prd_last_5</th>\n",
       "      <th>prd_cart_last_5</th>\n",
       "      <th>prd_ntre_ratio</th>\n",
       "      <th>dow_re_ratio</th>\n",
       "      <th>dow_ntre_ratio</th>\n",
       "    </tr>\n",
       "    <tr>\n",
       "      <th>user_id</th>\n",
       "      <th>product_id</th>\n",
       "      <th></th>\n",
       "      <th></th>\n",
       "      <th></th>\n",
       "      <th></th>\n",
       "      <th></th>\n",
       "      <th></th>\n",
       "      <th></th>\n",
       "      <th></th>\n",
       "      <th></th>\n",
       "      <th></th>\n",
       "    </tr>\n",
       "  </thead>\n",
       "  <tbody>\n",
       "    <tr>\n",
       "      <th>4427</th>\n",
       "      <th>14493</th>\n",
       "      <td>0.395833</td>\n",
       "      <td>0.586466</td>\n",
       "      <td>0.413534</td>\n",
       "      <td>0.285714</td>\n",
       "      <td>0.000000</td>\n",
       "      <td>0.2</td>\n",
       "      <td>0.215385</td>\n",
       "      <td>0.330286</td>\n",
       "      <td>0.529730</td>\n",
       "      <td>0.409021</td>\n",
       "    </tr>\n",
       "    <tr>\n",
       "      <th>94944</th>\n",
       "      <th>21301</th>\n",
       "      <td>0.114583</td>\n",
       "      <td>0.405405</td>\n",
       "      <td>0.594595</td>\n",
       "      <td>0.100000</td>\n",
       "      <td>0.000000</td>\n",
       "      <td>0.0</td>\n",
       "      <td>0.142308</td>\n",
       "      <td>0.407595</td>\n",
       "      <td>0.508772</td>\n",
       "      <td>0.409021</td>\n",
       "    </tr>\n",
       "    <tr>\n",
       "      <th>36941</th>\n",
       "      <th>13984</th>\n",
       "      <td>0.156250</td>\n",
       "      <td>0.747126</td>\n",
       "      <td>0.252874</td>\n",
       "      <td>0.200000</td>\n",
       "      <td>0.010417</td>\n",
       "      <td>0.2</td>\n",
       "      <td>0.238462</td>\n",
       "      <td>0.453178</td>\n",
       "      <td>0.761905</td>\n",
       "      <td>0.425631</td>\n",
       "    </tr>\n",
       "    <tr>\n",
       "      <th>122938</th>\n",
       "      <th>39408</th>\n",
       "      <td>0.166667</td>\n",
       "      <td>0.500000</td>\n",
       "      <td>0.500000</td>\n",
       "      <td>0.625000</td>\n",
       "      <td>0.020833</td>\n",
       "      <td>0.6</td>\n",
       "      <td>0.042308</td>\n",
       "      <td>0.375571</td>\n",
       "      <td>0.526316</td>\n",
       "      <td>0.410229</td>\n",
       "    </tr>\n",
       "    <tr>\n",
       "      <th>42168</th>\n",
       "      <th>14992</th>\n",
       "      <td>0.010417</td>\n",
       "      <td>0.357143</td>\n",
       "      <td>0.642857</td>\n",
       "      <td>0.500000</td>\n",
       "      <td>0.000000</td>\n",
       "      <td>0.2</td>\n",
       "      <td>0.111538</td>\n",
       "      <td>0.417180</td>\n",
       "      <td>0.000000</td>\n",
       "      <td>0.414724</td>\n",
       "    </tr>\n",
       "  </tbody>\n",
       "</table>\n",
       "</div>"
      ],
      "text/plain": [
       "                    Total orders  user_re_ratio  ...  dow_re_ratio  dow_ntre_ratio\n",
       "user_id product_id                               ...                              \n",
       "4427    14493           0.395833       0.586466  ...      0.529730        0.409021\n",
       "94944   21301           0.114583       0.405405  ...      0.508772        0.409021\n",
       "36941   13984           0.156250       0.747126  ...      0.761905        0.425631\n",
       "122938  39408           0.166667       0.500000  ...      0.526316        0.410229\n",
       "42168   14992           0.010417       0.357143  ...      0.000000        0.414724\n",
       "\n",
       "[5 rows x 10 columns]"
      ]
     },
     "execution_count": 14,
     "metadata": {
      "tags": []
     },
     "output_type": "execute_result"
    }
   ],
   "source": [
    "x_tr=x_tr.set_index(['user_id','product_id'])\n",
    "x_tr.head()"
   ]
  },
  {
   "cell_type": "code",
   "execution_count": null,
   "metadata": {
    "colab": {
     "base_uri": "https://localhost:8080/",
     "height": 272
    },
    "id": "2nIw-pANGWjg",
    "outputId": "ae95f3b3-7f3c-445d-864d-1c5ce8d68757"
   },
   "outputs": [
    {
     "data": {
      "text/html": [
       "<div>\n",
       "<style scoped>\n",
       "    .dataframe tbody tr th:only-of-type {\n",
       "        vertical-align: middle;\n",
       "    }\n",
       "\n",
       "    .dataframe tbody tr th {\n",
       "        vertical-align: top;\n",
       "    }\n",
       "\n",
       "    .dataframe thead th {\n",
       "        text-align: right;\n",
       "    }\n",
       "</style>\n",
       "<table border=\"1\" class=\"dataframe\">\n",
       "  <thead>\n",
       "    <tr style=\"text-align: right;\">\n",
       "      <th></th>\n",
       "      <th></th>\n",
       "      <th>Total orders</th>\n",
       "      <th>user_re_ratio</th>\n",
       "      <th>user_ntre_ratio</th>\n",
       "      <th>user_prd_re_ratio</th>\n",
       "      <th>times_cart_123</th>\n",
       "      <th>times_prd_last_5</th>\n",
       "      <th>prd_cart_last_5</th>\n",
       "      <th>prd_ntre_ratio</th>\n",
       "      <th>dow_re_ratio</th>\n",
       "      <th>dow_ntre_ratio</th>\n",
       "    </tr>\n",
       "    <tr>\n",
       "      <th>user_id</th>\n",
       "      <th>product_id</th>\n",
       "      <th></th>\n",
       "      <th></th>\n",
       "      <th></th>\n",
       "      <th></th>\n",
       "      <th></th>\n",
       "      <th></th>\n",
       "      <th></th>\n",
       "      <th></th>\n",
       "      <th></th>\n",
       "      <th></th>\n",
       "    </tr>\n",
       "  </thead>\n",
       "  <tbody>\n",
       "    <tr>\n",
       "      <th>57226</th>\n",
       "      <th>40759</th>\n",
       "      <td>0.458333</td>\n",
       "      <td>0.442997</td>\n",
       "      <td>0.557003</td>\n",
       "      <td>0.023256</td>\n",
       "      <td>0.000000</td>\n",
       "      <td>0.0</td>\n",
       "      <td>0.130769</td>\n",
       "      <td>0.512012</td>\n",
       "      <td>0.333333</td>\n",
       "      <td>0.414724</td>\n",
       "    </tr>\n",
       "    <tr>\n",
       "      <th>41944</th>\n",
       "      <th>25533</th>\n",
       "      <td>0.218750</td>\n",
       "      <td>0.747312</td>\n",
       "      <td>0.252688</td>\n",
       "      <td>0.363636</td>\n",
       "      <td>0.020833</td>\n",
       "      <td>0.2</td>\n",
       "      <td>0.034615</td>\n",
       "      <td>0.297915</td>\n",
       "      <td>0.888889</td>\n",
       "      <td>0.396157</td>\n",
       "    </tr>\n",
       "    <tr>\n",
       "      <th>165823</th>\n",
       "      <th>30489</th>\n",
       "      <td>0.125000</td>\n",
       "      <td>0.525180</td>\n",
       "      <td>0.474820</td>\n",
       "      <td>0.200000</td>\n",
       "      <td>0.010417</td>\n",
       "      <td>0.2</td>\n",
       "      <td>0.192308</td>\n",
       "      <td>0.275177</td>\n",
       "      <td>0.444444</td>\n",
       "      <td>0.414724</td>\n",
       "    </tr>\n",
       "    <tr>\n",
       "      <th>36400</th>\n",
       "      <th>25767</th>\n",
       "      <td>1.000000</td>\n",
       "      <td>0.626466</td>\n",
       "      <td>0.373534</td>\n",
       "      <td>0.018182</td>\n",
       "      <td>0.000000</td>\n",
       "      <td>0.0</td>\n",
       "      <td>0.138462</td>\n",
       "      <td>0.389831</td>\n",
       "      <td>0.780488</td>\n",
       "      <td>0.413728</td>\n",
       "    </tr>\n",
       "    <tr>\n",
       "      <th>146729</th>\n",
       "      <th>37825</th>\n",
       "      <td>0.020833</td>\n",
       "      <td>0.340909</td>\n",
       "      <td>0.659091</td>\n",
       "      <td>1.000000</td>\n",
       "      <td>0.000000</td>\n",
       "      <td>0.2</td>\n",
       "      <td>0.188462</td>\n",
       "      <td>0.473805</td>\n",
       "      <td>0.363636</td>\n",
       "      <td>0.414724</td>\n",
       "    </tr>\n",
       "  </tbody>\n",
       "</table>\n",
       "</div>"
      ],
      "text/plain": [
       "                    Total orders  user_re_ratio  ...  dow_re_ratio  dow_ntre_ratio\n",
       "user_id product_id                               ...                              \n",
       "57226   40759           0.458333       0.442997  ...      0.333333        0.414724\n",
       "41944   25533           0.218750       0.747312  ...      0.888889        0.396157\n",
       "165823  30489           0.125000       0.525180  ...      0.444444        0.414724\n",
       "36400   25767           1.000000       0.626466  ...      0.780488        0.413728\n",
       "146729  37825           0.020833       0.340909  ...      0.363636        0.414724\n",
       "\n",
       "[5 rows x 10 columns]"
      ]
     },
     "execution_count": 15,
     "metadata": {
      "tags": []
     },
     "output_type": "execute_result"
    }
   ],
   "source": [
    "x_cv=x_cv.set_index(['user_id','product_id'])\n",
    "x_cv.head()"
   ]
  },
  {
   "cell_type": "code",
   "execution_count": null,
   "metadata": {
    "colab": {
     "base_uri": "https://localhost:8080/",
     "height": 272
    },
    "id": "7uS-WN_N95Nw",
    "outputId": "cd3fdac4-9284-46c2-c977-cb16a52d2a8e"
   },
   "outputs": [
    {
     "data": {
      "text/html": [
       "<div>\n",
       "<style scoped>\n",
       "    .dataframe tbody tr th:only-of-type {\n",
       "        vertical-align: middle;\n",
       "    }\n",
       "\n",
       "    .dataframe tbody tr th {\n",
       "        vertical-align: top;\n",
       "    }\n",
       "\n",
       "    .dataframe thead th {\n",
       "        text-align: right;\n",
       "    }\n",
       "</style>\n",
       "<table border=\"1\" class=\"dataframe\">\n",
       "  <thead>\n",
       "    <tr style=\"text-align: right;\">\n",
       "      <th></th>\n",
       "      <th></th>\n",
       "      <th>Total orders</th>\n",
       "      <th>user_re_ratio</th>\n",
       "      <th>user_ntre_ratio</th>\n",
       "      <th>user_prd_re_ratio</th>\n",
       "      <th>times_cart_123</th>\n",
       "      <th>times_prd_last_5</th>\n",
       "      <th>prd_cart_last_5</th>\n",
       "      <th>prd_ntre_ratio</th>\n",
       "      <th>dow_re_ratio</th>\n",
       "      <th>dow_ntre_ratio</th>\n",
       "    </tr>\n",
       "    <tr>\n",
       "      <th>user_id</th>\n",
       "      <th>product_id</th>\n",
       "      <th></th>\n",
       "      <th></th>\n",
       "      <th></th>\n",
       "      <th></th>\n",
       "      <th></th>\n",
       "      <th></th>\n",
       "      <th></th>\n",
       "      <th></th>\n",
       "      <th></th>\n",
       "      <th></th>\n",
       "    </tr>\n",
       "  </thead>\n",
       "  <tbody>\n",
       "    <tr>\n",
       "      <th rowspan=\"5\" valign=\"top\">3</th>\n",
       "      <th>248</th>\n",
       "      <td>0.09375</td>\n",
       "      <td>0.625</td>\n",
       "      <td>0.375</td>\n",
       "      <td>0.090909</td>\n",
       "      <td>0.010417</td>\n",
       "      <td>0.0</td>\n",
       "      <td>0.157692</td>\n",
       "      <td>0.599749</td>\n",
       "      <td>0.0</td>\n",
       "      <td>0.0</td>\n",
       "    </tr>\n",
       "    <tr>\n",
       "      <th>1005</th>\n",
       "      <td>0.09375</td>\n",
       "      <td>0.625</td>\n",
       "      <td>0.375</td>\n",
       "      <td>0.333333</td>\n",
       "      <td>0.000000</td>\n",
       "      <td>0.2</td>\n",
       "      <td>0.284615</td>\n",
       "      <td>0.559395</td>\n",
       "      <td>0.0</td>\n",
       "      <td>0.0</td>\n",
       "    </tr>\n",
       "    <tr>\n",
       "      <th>1819</th>\n",
       "      <td>0.09375</td>\n",
       "      <td>0.625</td>\n",
       "      <td>0.375</td>\n",
       "      <td>0.333333</td>\n",
       "      <td>0.020833</td>\n",
       "      <td>0.0</td>\n",
       "      <td>0.142308</td>\n",
       "      <td>0.507838</td>\n",
       "      <td>0.0</td>\n",
       "      <td>0.0</td>\n",
       "    </tr>\n",
       "    <tr>\n",
       "      <th>7503</th>\n",
       "      <td>0.09375</td>\n",
       "      <td>0.625</td>\n",
       "      <td>0.375</td>\n",
       "      <td>0.100000</td>\n",
       "      <td>0.000000</td>\n",
       "      <td>0.0</td>\n",
       "      <td>0.107692</td>\n",
       "      <td>0.446449</td>\n",
       "      <td>0.0</td>\n",
       "      <td>0.0</td>\n",
       "    </tr>\n",
       "    <tr>\n",
       "      <th>8021</th>\n",
       "      <td>0.09375</td>\n",
       "      <td>0.625</td>\n",
       "      <td>0.375</td>\n",
       "      <td>0.090909</td>\n",
       "      <td>0.000000</td>\n",
       "      <td>0.0</td>\n",
       "      <td>0.084615</td>\n",
       "      <td>0.408843</td>\n",
       "      <td>0.0</td>\n",
       "      <td>0.0</td>\n",
       "    </tr>\n",
       "  </tbody>\n",
       "</table>\n",
       "</div>"
      ],
      "text/plain": [
       "                    Total orders  user_re_ratio  ...  dow_re_ratio  dow_ntre_ratio\n",
       "user_id product_id                               ...                              \n",
       "3       248              0.09375          0.625  ...           0.0             0.0\n",
       "        1005             0.09375          0.625  ...           0.0             0.0\n",
       "        1819             0.09375          0.625  ...           0.0             0.0\n",
       "        7503             0.09375          0.625  ...           0.0             0.0\n",
       "        8021             0.09375          0.625  ...           0.0             0.0\n",
       "\n",
       "[5 rows x 10 columns]"
      ]
     },
     "execution_count": 15,
     "metadata": {
      "tags": []
     },
     "output_type": "execute_result"
    }
   ],
   "source": [
    "te_df=te_df.set_index(['user_id','product_id'])\n",
    "te_df.head()"
   ]
  },
  {
   "cell_type": "markdown",
   "metadata": {
    "id": "I2anxjwC3Tct"
   },
   "source": [
    "**<H3>MODEL1 Logistic Regression**"
   ]
  },
  {
   "cell_type": "markdown",
   "metadata": {
    "id": "A6LMkE9j3Z3d"
   },
   "source": [
    "random search cv"
   ]
  },
  {
   "cell_type": "code",
   "execution_count": null,
   "metadata": {
    "colab": {
     "base_uri": "https://localhost:8080/"
    },
    "id": "314LgZgsEeFX",
    "outputId": "dbd5abee-3b6a-4601-84d0-fadee9aadeef"
   },
   "outputs": [
    {
     "data": {
      "text/plain": [
       "RandomizedSearchCV(cv=3, error_score=nan,\n",
       "                   estimator=LogisticRegression(C=1.0, class_weight=None,\n",
       "                                                dual=False, fit_intercept=True,\n",
       "                                                intercept_scaling=1,\n",
       "                                                l1_ratio=None, max_iter=100,\n",
       "                                                multi_class='auto', n_jobs=None,\n",
       "                                                penalty='l2', random_state=None,\n",
       "                                                solver='lbfgs', tol=0.0001,\n",
       "                                                verbose=0, warm_start=False),\n",
       "                   iid='deprecated', n_iter=10, n_jobs=None,\n",
       "                   param_distributions={'C': [0.1, 1, 10, 100],\n",
       "                                        'class_weight': ['balanced',\n",
       "                                                         {0: 1, 1: 5},\n",
       "                                                         {0: 1, 1: 10}]},\n",
       "                   pre_dispatch='2*n_jobs', random_state=None, refit=True,\n",
       "                   return_train_score=True, scoring='f1', verbose=0)"
      ]
     },
     "execution_count": 16,
     "metadata": {
      "tags": []
     },
     "output_type": "execute_result"
    }
   ],
   "source": [
    "from sklearn.linear_model import LogisticRegression\n",
    "param = {'C':[0.1,1,10,100],'class_weight':['balanced',{0:1,1:5},{0:1,1:10}]}   #class weight coz imbalance data\n",
    "#print(param_grid)\n",
    "model=LogisticRegression()\n",
    "clf = RandomizedSearchCV(model,param,cv=3, return_train_score=True, scoring='f1')   #3-fold cv\n",
    "clf.fit(x_tr, y_train)"
   ]
  },
  {
   "cell_type": "code",
   "execution_count": null,
   "metadata": {
    "colab": {
     "base_uri": "https://localhost:8080/"
    },
    "id": "xGgGMJayEoJm",
    "outputId": "cd04bb5e-fba3-4b7a-aa25-e0687b67826c"
   },
   "outputs": [
    {
     "data": {
      "text/plain": [
       "{'mean_fit_time': array([38.49133277, 33.62761847, 34.63166022, 35.04498855, 29.24404804,\n",
       "        29.05541658, 37.66754405, 37.79845913, 33.86085796, 37.43771108]),\n",
       " 'mean_score_time': array([1.16400679, 1.13530437, 1.11488144, 1.16141335, 1.12219771,\n",
       "        1.13893509, 1.13213825, 1.09222595, 1.13969906, 1.09086728]),\n",
       " 'mean_test_score': array([0.37078725, 0.3702431 , 0.41588301, 0.36218886, 0.41575099,\n",
       "        0.36126884, 0.36343947, 0.41674177, 0.36139068, 0.41800751]),\n",
       " 'mean_train_score': array([0.37078885, 0.37023326, 0.41590416, 0.3621877 , 0.41576228,\n",
       "        0.36124813, 0.36343033, 0.4167514 , 0.36136411, 0.4180155 ]),\n",
       " 'param_C': masked_array(data=[10, 1, 1, 10, 0.1, 0.1, 100, 10, 1, 100],\n",
       "              mask=[False, False, False, False, False, False, False, False,\n",
       "                    False, False],\n",
       "        fill_value='?',\n",
       "             dtype=object),\n",
       " 'param_class_weight': masked_array(data=['balanced', 'balanced', {0: 1, 1: 5}, {0: 1, 1: 10},\n",
       "                    {0: 1, 1: 5}, {0: 1, 1: 10}, {0: 1, 1: 10},\n",
       "                    {0: 1, 1: 5}, {0: 1, 1: 10}, {0: 1, 1: 5}],\n",
       "              mask=[False, False, False, False, False, False, False, False,\n",
       "                    False, False],\n",
       "        fill_value='?',\n",
       "             dtype=object),\n",
       " 'params': [{'C': 10, 'class_weight': 'balanced'},\n",
       "  {'C': 1, 'class_weight': 'balanced'},\n",
       "  {'C': 1, 'class_weight': {0: 1, 1: 5}},\n",
       "  {'C': 10, 'class_weight': {0: 1, 1: 10}},\n",
       "  {'C': 0.1, 'class_weight': {0: 1, 1: 5}},\n",
       "  {'C': 0.1, 'class_weight': {0: 1, 1: 10}},\n",
       "  {'C': 100, 'class_weight': {0: 1, 1: 10}},\n",
       "  {'C': 10, 'class_weight': {0: 1, 1: 5}},\n",
       "  {'C': 1, 'class_weight': {0: 1, 1: 10}},\n",
       "  {'C': 100, 'class_weight': {0: 1, 1: 5}}],\n",
       " 'rank_test_score': array([ 5,  6,  3,  8,  4, 10,  7,  2,  9,  1], dtype=int32),\n",
       " 'split0_test_score': array([0.3701315 , 0.36959182, 0.41532872, 0.36160199, 0.41516698,\n",
       "        0.36068958, 0.36273542, 0.41619872, 0.36077963, 0.41725238]),\n",
       " 'split0_train_score': array([0.37138828, 0.37082028, 0.41624758, 0.36279709, 0.41606283,\n",
       "        0.36186238, 0.36415459, 0.41704647, 0.36200753, 0.41846243]),\n",
       " 'split1_test_score': array([0.37115605, 0.37062482, 0.41579583, 0.36267365, 0.41568258,\n",
       "        0.3617353 , 0.36383815, 0.41663575, 0.36186155, 0.41789614]),\n",
       " 'split1_train_score': array([0.37062552, 0.37002178, 0.41587478, 0.361894  , 0.41574131,\n",
       "        0.36094588, 0.36316288, 0.41683469, 0.36107554, 0.41805603]),\n",
       " 'split2_test_score': array([0.37107419, 0.37051265, 0.41652448, 0.36229092, 0.41640341,\n",
       "        0.36138165, 0.36374483, 0.41739082, 0.36153087, 0.41887402]),\n",
       " 'split2_train_score': array([0.37035274, 0.36985771, 0.41559011, 0.361872  , 0.41548271,\n",
       "        0.36093612, 0.36297352, 0.41637303, 0.36100927, 0.41752805]),\n",
       " 'std_fit_time': array([3.17416406, 2.55974732, 1.34355045, 1.83284837, 1.8450771 ,\n",
       "        1.92632858, 3.10925973, 0.89230861, 3.63334015, 0.87239535]),\n",
       " 'std_score_time': array([0.01870468, 0.01303618, 0.01625164, 0.00857695, 0.01988657,\n",
       "        0.00777561, 0.01328481, 0.01531729, 0.0324987 , 0.01849251]),\n",
       " 'std_test_score': array([0.00046489, 0.0004628 , 0.00049204, 0.00044342, 0.00050708,\n",
       "        0.0004343 , 0.00049929, 0.00049241, 0.00045268, 0.0006667 ]),\n",
       " 'std_train_score': array([0.00043825, 0.00042046, 0.00026921, 0.000431  , 0.0002373 ,\n",
       "        0.00043436, 0.00051793, 0.00028117, 0.00045577, 0.00038254])}"
      ]
     },
     "execution_count": 17,
     "metadata": {
      "tags": []
     },
     "output_type": "execute_result"
    }
   ],
   "source": [
    "clf.cv_results_"
   ]
  },
  {
   "cell_type": "code",
   "execution_count": null,
   "metadata": {
    "colab": {
     "base_uri": "https://localhost:8080/"
    },
    "id": "8mpEcm5CEuIN",
    "outputId": "11cbd2ef-2a66-45af-817e-8514b47e8d70"
   },
   "outputs": [
    {
     "data": {
      "text/plain": [
       "LogisticRegression(C=100, class_weight={0: 1, 1: 5}, dual=False,\n",
       "                   fit_intercept=True, intercept_scaling=1, l1_ratio=None,\n",
       "                   max_iter=100, multi_class='auto', n_jobs=None, penalty='l2',\n",
       "                   random_state=None, solver='lbfgs', tol=0.0001, verbose=0,\n",
       "                   warm_start=False)"
      ]
     },
     "execution_count": 18,
     "metadata": {
      "tags": []
     },
     "output_type": "execute_result"
    }
   ],
   "source": [
    "clf.best_estimator_  #best params"
   ]
  },
  {
   "cell_type": "markdown",
   "metadata": {
    "id": "SWs5HgafE1gC"
   },
   "source": [
    "model with best params"
   ]
  },
  {
   "cell_type": "code",
   "execution_count": null,
   "metadata": {
    "id": "WKP44c-iE0nz"
   },
   "outputs": [],
   "source": [
    "model=LogisticRegression(C=100,class_weight={0: 1, 1: 5}) #model with best parms\n",
    "model.fit(x_tr,y_train)  #fitting\n",
    "y_tr_pred=model.predict(x_tr) #predicting\n",
    "y_cv_pred=model.predict(x_cv)"
   ]
  },
  {
   "cell_type": "code",
   "execution_count": null,
   "metadata": {
    "colab": {
     "base_uri": "https://localhost:8080/"
    },
    "id": "HpHpy72sE64-",
    "outputId": "e8cff353-4647-4011-f558-8f687a288cdd"
   },
   "outputs": [
    {
     "name": "stdout",
     "output_type": "stream",
     "text": [
      "train f1 score: 0.41813947038094595\n"
     ]
    }
   ],
   "source": [
    "from sklearn.metrics import f1_score\n",
    "f1_tr=f1_score(y_tr_pred,y_train)\n",
    "print('train f1 score:', f1_tr )"
   ]
  },
  {
   "cell_type": "code",
   "execution_count": null,
   "metadata": {
    "colab": {
     "base_uri": "https://localhost:8080/"
    },
    "id": "2DbhDrlRE_5L",
    "outputId": "9e066af7-6f6d-4cdf-8c08-214d0d9814b5"
   },
   "outputs": [
    {
     "name": "stdout",
     "output_type": "stream",
     "text": [
      "cv f1 score: 0.27154717375508164\n"
     ]
    }
   ],
   "source": [
    "f1_cv=f1_score(y_cv_pred,y_cv)\n",
    "print('cv f1 score:', f1_cv )"
   ]
  },
  {
   "cell_type": "markdown",
   "metadata": {
    "id": "YxVp5L1tDVNr"
   },
   "source": [
    "**<h3>MODEL2-Decision Tree**"
   ]
  },
  {
   "cell_type": "code",
   "execution_count": null,
   "metadata": {
    "colab": {
     "base_uri": "https://localhost:8080/"
    },
    "id": "lgfyCbWYDoYD",
    "outputId": "518de34f-de8c-404b-da7f-53c1266249de"
   },
   "outputs": [
    {
     "name": "stderr",
     "output_type": "stream",
     "text": [
      "/usr/local/lib/python3.7/dist-packages/sklearn/model_selection/_search.py:281: UserWarning: The total space of parameters 9 is smaller than n_iter=10. Running 9 iterations. For exhaustive searches, use GridSearchCV.\n",
      "  % (grid_size, self.n_iter, grid_size), UserWarning)\n"
     ]
    },
    {
     "data": {
      "text/plain": [
       "RandomizedSearchCV(cv=3, error_score=nan,\n",
       "                   estimator=DecisionTreeClassifier(ccp_alpha=0.0,\n",
       "                                                    class_weight={0: 1, 1: 5},\n",
       "                                                    criterion='gini',\n",
       "                                                    max_depth=None,\n",
       "                                                    max_features=None,\n",
       "                                                    max_leaf_nodes=None,\n",
       "                                                    min_impurity_decrease=0.0,\n",
       "                                                    min_impurity_split=None,\n",
       "                                                    min_samples_leaf=1,\n",
       "                                                    min_samples_split=2,\n",
       "                                                    min_weight_fraction_leaf=0.0,\n",
       "                                                    presort='deprecated',\n",
       "                                                    random_state=None,\n",
       "                                                    splitter='best'),\n",
       "                   iid='deprecated', n_iter=10, n_jobs=-1,\n",
       "                   param_distributions={'max_depth': [7, 10, 12],\n",
       "                                        'min_samples_split': [100, 300, 500]},\n",
       "                   pre_dispatch='2*n_jobs', random_state=None, refit=True,\n",
       "                   return_train_score=True, scoring='f1', verbose=0)"
      ]
     },
     "execution_count": 14,
     "metadata": {
      "tags": []
     },
     "output_type": "execute_result"
    }
   ],
   "source": [
    "from sklearn.tree import DecisionTreeClassifier\n",
    "from sklearn.model_selection import RandomizedSearchCV\n",
    "param = {'max_depth':[7,10,12],'min_samples_split':[100,300,500]}   #class weight coz imbalance data  \n",
    "#print(param_grid)\n",
    "model=DecisionTreeClassifier(class_weight={0:1,1:5})\n",
    "clf = RandomizedSearchCV(model,param,cv=3, return_train_score=True, scoring='f1',n_jobs=-1)   #3-fold cv\n",
    "clf.fit(x_tr, y_train)"
   ]
  },
  {
   "cell_type": "code",
   "execution_count": null,
   "metadata": {
    "colab": {
     "base_uri": "https://localhost:8080/"
    },
    "id": "bNpUtMXZDrCW",
    "outputId": "62629673-d0c7-45fe-de6d-4ac726edd245"
   },
   "outputs": [
    {
     "data": {
      "text/plain": [
       "{'mean_fit_time': array([52.59670973, 50.21844967, 49.9850107 , 68.57561286, 67.66211303,\n",
       "        67.58072249, 77.12388086, 77.07617927, 73.57236226]),\n",
       " 'mean_score_time': array([1.88356153, 1.84549658, 1.84151395, 1.93194008, 1.94478099,\n",
       "        1.91017882, 2.03315552, 2.0747029 , 1.94521411]),\n",
       " 'mean_test_score': array([0.41362972, 0.41362972, 0.41362972, 0.4167724 , 0.41681754,\n",
       "        0.41687354, 0.4150331 , 0.41556961, 0.41592015]),\n",
       " 'mean_train_score': array([0.41425392, 0.41425392, 0.41425392, 0.42024545, 0.42013386,\n",
       "        0.42007678, 0.42473347, 0.42405139, 0.42372428]),\n",
       " 'param_max_depth': masked_array(data=[7, 7, 7, 10, 10, 10, 12, 12, 12],\n",
       "              mask=[False, False, False, False, False, False, False, False,\n",
       "                    False],\n",
       "        fill_value='?',\n",
       "             dtype=object),\n",
       " 'param_min_samples_split': masked_array(data=[100, 300, 500, 100, 300, 500, 100, 300, 500],\n",
       "              mask=[False, False, False, False, False, False, False, False,\n",
       "                    False],\n",
       "        fill_value='?',\n",
       "             dtype=object),\n",
       " 'params': [{'max_depth': 7, 'min_samples_split': 100},\n",
       "  {'max_depth': 7, 'min_samples_split': 300},\n",
       "  {'max_depth': 7, 'min_samples_split': 500},\n",
       "  {'max_depth': 10, 'min_samples_split': 100},\n",
       "  {'max_depth': 10, 'min_samples_split': 300},\n",
       "  {'max_depth': 10, 'min_samples_split': 500},\n",
       "  {'max_depth': 12, 'min_samples_split': 100},\n",
       "  {'max_depth': 12, 'min_samples_split': 300},\n",
       "  {'max_depth': 12, 'min_samples_split': 500}],\n",
       " 'rank_test_score': array([7, 7, 7, 3, 2, 1, 6, 5, 4], dtype=int32),\n",
       " 'split0_test_score': array([0.41059527, 0.41059527, 0.41059527, 0.41712203, 0.41716095,\n",
       "        0.41724261, 0.41414207, 0.41461979, 0.41518634]),\n",
       " 'split0_train_score': array([0.41293898, 0.41293898, 0.41293898, 0.42250352, 0.42237585,\n",
       "        0.42231272, 0.42523819, 0.42466279, 0.42442336]),\n",
       " 'split1_test_score': array([0.41290486, 0.41290486, 0.41290486, 0.41648179, 0.41653744,\n",
       "        0.41656994, 0.41577992, 0.41635208, 0.41651122]),\n",
       " 'split1_train_score': array([0.41311693, 0.41311693, 0.41311693, 0.41935642, 0.41927077,\n",
       "        0.41923555, 0.42470268, 0.42396665, 0.42358666]),\n",
       " 'split2_test_score': array([0.41738904, 0.41738904, 0.41738904, 0.41671338, 0.41675423,\n",
       "        0.41680808, 0.41517732, 0.41573697, 0.4160629 ]),\n",
       " 'split2_train_score': array([0.41670585, 0.41670585, 0.41670585, 0.4188764 , 0.41875494,\n",
       "        0.41868208, 0.42425954, 0.42352475, 0.42316283]),\n",
       " 'std_fit_time': array([21.63160336, 21.02719206, 21.40566076, 29.18859405, 28.7283479 ,\n",
       "        28.65894632, 32.58477509, 32.31163177, 27.35389499]),\n",
       " 'std_score_time': array([0.21720021, 0.15404176, 0.15439842, 0.13100597, 0.11683028,\n",
       "        0.17420031, 0.16628364, 0.18188207, 0.36511939]),\n",
       " 'std_test_score': array([0.00282051, 0.00282051, 0.00282051, 0.00026469, 0.00025845,\n",
       "        0.00027849, 0.00067638, 0.00071704, 0.00055022]),\n",
       " 'std_train_score': array([0.0017353 , 0.0017353 , 0.0017353 , 0.00160868, 0.00159926,\n",
       "        0.00159711, 0.00040013, 0.00046845, 0.00052373])}"
      ]
     },
     "execution_count": 15,
     "metadata": {
      "tags": []
     },
     "output_type": "execute_result"
    }
   ],
   "source": [
    "clf.cv_results_"
   ]
  },
  {
   "cell_type": "code",
   "execution_count": null,
   "metadata": {
    "colab": {
     "base_uri": "https://localhost:8080/"
    },
    "id": "lMYjnIdMDuu1",
    "outputId": "47542612-4c14-4c0d-8dde-5dd860d941da"
   },
   "outputs": [
    {
     "data": {
      "text/plain": [
       "DecisionTreeClassifier(ccp_alpha=0.0, class_weight={0: 1, 1: 5},\n",
       "                       criterion='gini', max_depth=10, max_features=None,\n",
       "                       max_leaf_nodes=None, min_impurity_decrease=0.0,\n",
       "                       min_impurity_split=None, min_samples_leaf=1,\n",
       "                       min_samples_split=500, min_weight_fraction_leaf=0.0,\n",
       "                       presort='deprecated', random_state=None,\n",
       "                       splitter='best')"
      ]
     },
     "execution_count": 16,
     "metadata": {
      "tags": []
     },
     "output_type": "execute_result"
    }
   ],
   "source": [
    "clf.best_estimator_"
   ]
  },
  {
   "cell_type": "markdown",
   "metadata": {
    "id": "gzqK5_vsmJr-"
   },
   "source": [
    "model with best parameters"
   ]
  },
  {
   "cell_type": "code",
   "execution_count": null,
   "metadata": {
    "id": "keyVFLEqDxFp"
   },
   "outputs": [],
   "source": [
    "model=DecisionTreeClassifier(class_weight={0: 1, 1: 5},min_samples_split=500,max_depth=10,random_state=20) #model with best params\n",
    "model.fit(x_tr,y_train)\n",
    "y_tr_pred=model.predict(x_tr)\n",
    "y_cv_pred=model.predict(x_cv)"
   ]
  },
  {
   "cell_type": "code",
   "execution_count": null,
   "metadata": {
    "colab": {
     "base_uri": "https://localhost:8080/"
    },
    "id": "-XZiaYPiD29V",
    "outputId": "695825e1-008f-4fc8-f6ad-133565a5264d"
   },
   "outputs": [
    {
     "data": {
      "text/plain": [
       "0.4188730139929286"
      ]
     },
     "execution_count": 19,
     "metadata": {
      "tags": []
     },
     "output_type": "execute_result"
    }
   ],
   "source": [
    "from sklearn.metrics import f1_score\n",
    "f1_tr=f1_score(y_tr_pred,y_train)\n",
    "f1_tr"
   ]
  },
  {
   "cell_type": "code",
   "execution_count": null,
   "metadata": {
    "colab": {
     "base_uri": "https://localhost:8080/"
    },
    "id": "BTlS_Wp8D5yE",
    "outputId": "87742045-5b95-4fe0-aee2-de56296f9169"
   },
   "outputs": [
    {
     "data": {
      "text/plain": [
       "0.4170827358637251"
      ]
     },
     "execution_count": 20,
     "metadata": {
      "tags": []
     },
     "output_type": "execute_result"
    }
   ],
   "source": [
    "f1_cv=f1_score(y_cv_pred,y_cv)\n",
    "f1_cv"
   ]
  },
  {
   "cell_type": "code",
   "execution_count": null,
   "metadata": {
    "colab": {
     "base_uri": "https://localhost:8080/",
     "height": 393
    },
    "id": "vsEsz6p-DIlE",
    "outputId": "4d4a53a5-e514-445f-850a-e8a5e1dc22ff"
   },
   "outputs": [
    {
     "name": "stdout",
     "output_type": "stream",
     "text": [
      "[5.15156683e-03 5.83066626e-03 5.21819796e-03 1.93178411e-01\n",
      " 5.56911721e-03 7.23008010e-01 5.56148039e-04 6.07166351e-02\n",
      " 6.57286556e-04 1.13960777e-04]\n"
     ]
    },
    {
     "data": {
      "image/png": "[encoded data removed]",
      "text/plain": [
       "<Figure size 432x288 with 1 Axes>"
      ]
     },
     "metadata": {
      "needs_background": "light",
      "tags": []
     },
     "output_type": "display_data"
    }
   ],
   "source": [
    "#feature importance\n",
    "imp=model.feature_importances_\n",
    "print(imp)\n",
    "#sort feature importance in desc order\n",
    "indices=np.argsort(imp)[::-1]\n",
    "\n",
    "feature_names=x_train.columns\n",
    "#rearrange feature names to match importances\n",
    "name=[feature_names[i] for i in indices]\n",
    "#barplot\n",
    "plt.bar(range(10),imp[indices])\n",
    "plt.xticks(range(10),name)\n",
    "plt.xticks(rotation='vertical')\n",
    "plt.show()"
   ]
  },
  {
   "cell_type": "markdown",
   "metadata": {
    "id": "i-3wdBTY1H4T"
   },
   "source": [
    "**<h3>MODEL3-RANDOM FOREST**"
   ]
  },
  {
   "cell_type": "markdown",
   "metadata": {
    "id": "oB6zKCqe1nrI"
   },
   "source": [
    "random search cv"
   ]
  },
  {
   "cell_type": "code",
   "execution_count": null,
   "metadata": {
    "colab": {
     "base_uri": "https://localhost:8080/"
    },
    "id": "zCMRFcq31TCh",
    "outputId": "c762a119-71d9-493f-8610-35460b90e315"
   },
   "outputs": [
    {
     "data": {
      "text/plain": [
       "RandomizedSearchCV(cv=3, error_score=nan,\n",
       "                   estimator=RandomForestClassifier(bootstrap=True,\n",
       "                                                    ccp_alpha=0.0,\n",
       "                                                    class_weight=None,\n",
       "                                                    criterion='gini',\n",
       "                                                    max_depth=None,\n",
       "                                                    max_features='auto',\n",
       "                                                    max_leaf_nodes=None,\n",
       "                                                    max_samples=None,\n",
       "                                                    min_impurity_decrease=0.0,\n",
       "                                                    min_impurity_split=None,\n",
       "                                                    min_samples_leaf=1,\n",
       "                                                    min_samples_split=2,\n",
       "                                                    min_weight_fraction_leaf=0.0,\n",
       "                                                    n_estimators=100,\n",
       "                                                    n_jobs=None,\n",
       "                                                    oob_score=False,\n",
       "                                                    random_state=None,\n",
       "                                                    verbose=0,\n",
       "                                                    warm_start=False),\n",
       "                   iid='deprecated', n_iter=10, n_jobs=-1,\n",
       "                   param_distributions={'class_weight': ['balanced',\n",
       "                                                         {0: 1, 1: 5},\n",
       "                                                         {0: 1, 1: 10}],\n",
       "                                        'max_depth': [3, 5, 7],\n",
       "                                        'n_estimators': [100, 200, 300]},\n",
       "                   pre_dispatch='2*n_jobs', random_state=None, refit=True,\n",
       "                   return_train_score=True, scoring='f1', verbose=0)"
      ]
     },
     "execution_count": 8,
     "metadata": {
      "tags": []
     },
     "output_type": "execute_result"
    }
   ],
   "source": [
    "from sklearn.model_selection import RandomizedSearchCV\n",
    "param = {'max_depth':[3,5,7],'n_estimators':[100,200,300],'class_weight':['balanced',{0:1,1:5},{0:1,1:10}]}   #class weight coz imbalance data\n",
    "#print(param_grid)\n",
    "model=RandomForestClassifier()\n",
    "clf = RandomizedSearchCV(model,param,cv=3, return_train_score=True, scoring='f1',n_jobs=-1)   #3-fold cv\n",
    "clf.fit(x_tr, y_train)   #no need to normalize for RF but u can use normalize features too"
   ]
  },
  {
   "cell_type": "code",
   "execution_count": null,
   "metadata": {
    "colab": {
     "base_uri": "https://localhost:8080/"
    },
    "id": "5bWyDYqXNljv",
    "outputId": "1a56ae38-5273-41ec-db36-90462e22a0db"
   },
   "outputs": [
    {
     "data": {
      "text/plain": [
       "{'mean_fit_time': array([ 672.94282945,  854.07353115, 1274.61827421,  844.96158918,\n",
       "        1698.22018067,  641.23209643,  867.02099077, 2577.28997318,\n",
       "        2519.69872872,  803.27677719]),\n",
       " 'mean_score_time': array([22.2881039 , 33.74267435, 51.47834682, 34.64059536, 50.51568445,\n",
       "        22.41698186, 34.56763093, 76.0662055 , 61.52143908, 24.91836619]),\n",
       " 'mean_test_score': array([0.36044816, 0.41128257, 0.3492553 , 0.35951812, 0.41899865,\n",
       "        0.35190339, 0.3445786 , 0.36338643, 0.35134566, 0.35230652]),\n",
       " 'mean_train_score': array([0.36061166, 0.41117152, 0.34923284, 0.35950585, 0.41944194,\n",
       "        0.35193963, 0.3446129 , 0.36373342, 0.35170639, 0.35269719]),\n",
       " 'param_class_weight': masked_array(data=['balanced', {0: 1, 1: 5}, {0: 1, 1: 10}, 'balanced',\n",
       "                    {0: 1, 1: 5}, {0: 1, 1: 10}, {0: 1, 1: 10}, 'balanced',\n",
       "                    {0: 1, 1: 10}, {0: 1, 1: 10}],\n",
       "              mask=[False, False, False, False, False, False, False, False,\n",
       "                    False, False],\n",
       "        fill_value='?',\n",
       "             dtype=object),\n",
       " 'param_max_depth': masked_array(data=[5, 3, 3, 3, 7, 5, 3, 7, 7, 7],\n",
       "              mask=[False, False, False, False, False, False, False, False,\n",
       "                    False, False],\n",
       "        fill_value='?',\n",
       "             dtype=object),\n",
       " 'param_n_estimators': masked_array(data=[100, 200, 300, 200, 200, 100, 200, 300, 300, 100],\n",
       "              mask=[False, False, False, False, False, False, False, False,\n",
       "                    False, False],\n",
       "        fill_value='?',\n",
       "             dtype=object),\n",
       " 'params': [{'class_weight': 'balanced', 'max_depth': 5, 'n_estimators': 100},\n",
       "  {'class_weight': {0: 1, 1: 5}, 'max_depth': 3, 'n_estimators': 200},\n",
       "  {'class_weight': {0: 1, 1: 10}, 'max_depth': 3, 'n_estimators': 300},\n",
       "  {'class_weight': 'balanced', 'max_depth': 3, 'n_estimators': 200},\n",
       "  {'class_weight': {0: 1, 1: 5}, 'max_depth': 7, 'n_estimators': 200},\n",
       "  {'class_weight': {0: 1, 1: 10}, 'max_depth': 5, 'n_estimators': 100},\n",
       "  {'class_weight': {0: 1, 1: 10}, 'max_depth': 3, 'n_estimators': 200},\n",
       "  {'class_weight': 'balanced', 'max_depth': 7, 'n_estimators': 300},\n",
       "  {'class_weight': {0: 1, 1: 10}, 'max_depth': 7, 'n_estimators': 300},\n",
       "  {'class_weight': {0: 1, 1: 10}, 'max_depth': 7, 'n_estimators': 100}],\n",
       " 'rank_test_score': array([ 4,  2,  9,  5,  1,  7, 10,  3,  8,  6], dtype=int32),\n",
       " 'split0_test_score': array([0.35984821, 0.41007471, 0.3512052 , 0.35533988, 0.4170328 ,\n",
       "        0.35036778, 0.34653914, 0.36227335, 0.35021856, 0.35022508]),\n",
       " 'split0_train_score': array([0.36143471, 0.41175527, 0.352662  , 0.35669707, 0.41963888,\n",
       "        0.3516709 , 0.34799827, 0.36378173, 0.35179432, 0.35183607]),\n",
       " 'split1_test_score': array([0.36175313, 0.41092576, 0.3526132 , 0.36282602, 0.41946074,\n",
       "        0.35328243, 0.33992507, 0.36409329, 0.35322667, 0.35480877]),\n",
       " 'split1_train_score': array([0.36120625, 0.41053689, 0.35176361, 0.36197407, 0.41953004,\n",
       "        0.35261049, 0.33908519, 0.36396902, 0.35267809, 0.3542304 ]),\n",
       " 'split2_test_score': array([0.35974313, 0.41284723, 0.34394751, 0.36038848, 0.42050241,\n",
       "        0.35205995, 0.34727159, 0.36379264, 0.35059175, 0.3518857 ]),\n",
       " 'split2_train_score': array([0.35919402, 0.41122239, 0.34327292, 0.3598464 , 0.4191569 ,\n",
       "        0.3515375 , 0.34675525, 0.3634495 , 0.35064676, 0.35202511]),\n",
       " 'std_fit_time': array([ 5.54512579, 13.00282486,  5.7579406 ,  4.09875254, 12.84243761,\n",
       "         8.67055351, 33.51973007,  8.46595824, 93.53668375, 41.79902956]),\n",
       " 'std_score_time': array([0.23026507, 0.10481479, 0.17815477, 0.4692579 , 0.76407456,\n",
       "        0.13664256, 0.12677753, 1.19814998, 9.93679473, 2.19896507]),\n",
       " 'std_test_score': array([0.00092375, 0.00115965, 0.00379694, 0.00311755, 0.00145366,\n",
       "        0.00119504, 0.0033041 , 0.00079658, 0.00133877, 0.0018948 ]),\n",
       " 'std_train_score': array([0.00100675, 0.0004987 , 0.00423023, 0.00216774, 0.00020639,\n",
       "        0.00047749, 0.00394149, 0.00021482, 0.00083162, 0.00108688])}"
      ]
     },
     "execution_count": 9,
     "metadata": {
      "tags": []
     },
     "output_type": "execute_result"
    }
   ],
   "source": [
    "clf.cv_results_"
   ]
  },
  {
   "cell_type": "code",
   "execution_count": null,
   "metadata": {
    "colab": {
     "base_uri": "https://localhost:8080/"
    },
    "id": "gjKPg48xNrSF",
    "outputId": "a40005df-1107-4a2e-e2aa-0ad6c35e62da"
   },
   "outputs": [
    {
     "data": {
      "text/plain": [
       "RandomForestClassifier(bootstrap=True, ccp_alpha=0.0, class_weight={0: 1, 1: 5},\n",
       "                       criterion='gini', max_depth=7, max_features='auto',\n",
       "                       max_leaf_nodes=None, max_samples=None,\n",
       "                       min_impurity_decrease=0.0, min_impurity_split=None,\n",
       "                       min_samples_leaf=1, min_samples_split=2,\n",
       "                       min_weight_fraction_leaf=0.0, n_estimators=200,\n",
       "                       n_jobs=None, oob_score=False, random_state=None,\n",
       "                       verbose=0, warm_start=False)"
      ]
     },
     "execution_count": 10,
     "metadata": {
      "tags": []
     },
     "output_type": "execute_result"
    }
   ],
   "source": [
    "clf.best_estimator_  #best params"
   ]
  },
  {
   "cell_type": "markdown",
   "metadata": {
    "id": "QBMNg_Pw3OqA"
   },
   "source": [
    "model with best params"
   ]
  },
  {
   "cell_type": "code",
   "execution_count": null,
   "metadata": {
    "id": "X0Hwz4AFaHfy"
   },
   "outputs": [],
   "source": [
    "model=RandomForestClassifier(max_depth=7,n_estimators=200,class_weight={0: 1, 1: 5})  #model with best params\n",
    "model.fit(x_tr,y_train)  #fitting\n",
    "y_tr_pred=model.predict(x_tr)  #predicting\n",
    "y_cv_pred=model.predict(x_cv)"
   ]
  },
  {
   "cell_type": "code",
   "execution_count": null,
   "metadata": {
    "colab": {
     "base_uri": "https://localhost:8080/"
    },
    "id": "kyi5-GLXav-B",
    "outputId": "e92cfe48-0953-4852-c0a4-809151881208"
   },
   "outputs": [
    {
     "name": "stdout",
     "output_type": "stream",
     "text": [
      "train f1 score: 0.41895097319774954\n"
     ]
    }
   ],
   "source": [
    "from sklearn.metrics import f1_score\n",
    "f1_tr=f1_score(y_tr_pred,y_train)\n",
    "print('train f1 score:', f1_tr ) #train f1 score"
   ]
  },
  {
   "cell_type": "code",
   "execution_count": null,
   "metadata": {
    "colab": {
     "base_uri": "https://localhost:8080/"
    },
    "id": "dut75D6Ebp3Q",
    "outputId": "c6e2cfab-dddc-4856-a6fa-d05a48c4044b"
   },
   "outputs": [
    {
     "name": "stdout",
     "output_type": "stream",
     "text": [
      "cv f1 score: 0.41912509540982956\n"
     ]
    }
   ],
   "source": [
    "f1_cv=f1_score(y_cv_pred,y_cv)\n",
    "print('cv f1 score:', f1_cv )  #cv f1 score"
   ]
  },
  {
   "cell_type": "code",
   "execution_count": null,
   "metadata": {
    "colab": {
     "base_uri": "https://localhost:8080/",
     "height": 379
    },
    "id": "4cMXqL0n3LW5",
    "outputId": "e5e65251-b2cc-4422-9044-fea8440a61d1"
   },
   "outputs": [
    {
     "name": "stdout",
     "output_type": "stream",
     "text": [
      "[0.02427411 0.00679578 0.00741799 0.31887921 0.08595123 0.47700482\n",
      " 0.00427904 0.07223666 0.00230034 0.00086082]\n"
     ]
    },
    {
     "data": {
      "image/png": "[encoded data removed]",
      "text/plain": [
       "<Figure size 432x288 with 1 Axes>"
      ]
     },
     "metadata": {
      "needs_background": "light",
      "tags": []
     },
     "output_type": "display_data"
    }
   ],
   "source": [
    "#feature importance\n",
    "imp=model.feature_importances_\n",
    "print(imp)\n",
    "#sort feature importance in desc order\n",
    "indices=np.argsort(imp)[::-1]\n",
    "\n",
    "feature_names=x_train.columns\n",
    "#rearrange feature names to match importances\n",
    "name=[feature_names[i] for i in indices]\n",
    "#barplot\n",
    "plt.bar(range(10),imp[indices])\n",
    "plt.xticks(range(10),name)\n",
    "plt.xticks(rotation='vertical')\n",
    "plt.show()"
   ]
  },
  {
   "cell_type": "markdown",
   "metadata": {
    "id": "ZmMWHmZzWFfd"
   },
   "source": [
    "**<H3>MODEL4-XGBOOST**"
   ]
  },
  {
   "cell_type": "code",
   "execution_count": null,
   "metadata": {
    "colab": {
     "base_uri": "https://localhost:8080/"
    },
    "id": "WqE0x39OxUpH",
    "outputId": "7992c148-8289-4a2b-f65f-b058c104bef7"
   },
   "outputs": [
    {
     "name": "stdout",
     "output_type": "stream",
     "text": [
      "[10:04:28] WARNING: /workspace/src/learner.cc:686: Tree method is automatically selected to be 'approx' for faster speed. To use old behavior (exact greedy algorithm on single machine), set tree_method to 'exact'.\n"
     ]
    },
    {
     "data": {
      "text/plain": [
       "RandomizedSearchCV(cv=3, error_score=nan,\n",
       "                   estimator=XGBClassifier(base_score=0.5, booster='gbtree',\n",
       "                                           colsample_bylevel=1,\n",
       "                                           colsample_bynode=1,\n",
       "                                           colsample_bytree=1, gamma=0,\n",
       "                                           learning_rate=0.1, max_delta_step=0,\n",
       "                                           max_depth=3, min_child_weight=1,\n",
       "                                           missing=None, n_estimators=100,\n",
       "                                           n_jobs=1, nthread=None,\n",
       "                                           objective='binary:logistic',\n",
       "                                           random_state=0, reg_alpha=0,\n",
       "                                           reg_lambda=1, scale_pos_weight=1,\n",
       "                                           seed=None, silent=None, subsample=1,\n",
       "                                           verbosity=1),\n",
       "                   iid='deprecated', n_iter=10, n_jobs=None,\n",
       "                   param_distributions={'columnsample_bytree': [0.3, 0.4],\n",
       "                                        'max_depth': [5, 10],\n",
       "                                        'scale_pos_weights': [5, 10]},\n",
       "                   pre_dispatch='2*n_jobs', random_state=None, refit=True,\n",
       "                   return_train_score=True, scoring='f1', verbose=0)"
      ]
     },
     "execution_count": 19,
     "metadata": {
      "tags": []
     },
     "output_type": "execute_result"
    }
   ],
   "source": [
    "from xgboost import XGBClassifier\n",
    "param = {'max_depth':[5,10],'columnsample_bytree':[0.3,0.4],'scale_pos_weight':[5,10]}   # scale_pos_weight[=#negatv/#postive typically] for imbalance data\n",
    "#print(param_grid)\n",
    "model=XGBClassifier()\n",
    "clf = RandomizedSearchCV(model,param,cv=3, return_train_score=True, scoring='f1') #3-fold cv\n",
    "clf.fit(x_tr, y_train)"
   ]
  },
  {
   "cell_type": "code",
   "execution_count": null,
   "metadata": {
    "colab": {
     "base_uri": "https://localhost:8080/"
    },
    "id": "DH6Fn8UsxYPp",
    "outputId": "24f365c0-40ea-415d-cf7f-03e58e5beeaa"
   },
   "outputs": [
    {
     "data": {
      "text/plain": [
       "{'mean_fit_time': array([408.72351106, 407.60453057, 912.81498742, 917.45172636,\n",
       "        391.34418837, 386.82822633, 888.4146506 , 914.87764502]),\n",
       " 'mean_score_time': array([ 9.22137006,  9.19939192, 19.39472143, 19.5601999 ,  9.15172505,\n",
       "         9.16294177, 19.34151363, 19.30330427]),\n",
       " 'mean_test_score': array([0.26552771, 0.26552771, 0.26513089, 0.26513089, 0.26552771,\n",
       "        0.26552771, 0.26513089, 0.26513089]),\n",
       " 'mean_train_score': array([0.26627913, 0.26627913, 0.28069902, 0.28069902, 0.26627913,\n",
       "        0.26627913, 0.28069902, 0.28069902]),\n",
       " 'param_columnsample_bytree': masked_array(data=[0.3, 0.3, 0.3, 0.3, 0.4, 0.4, 0.4, 0.4],\n",
       "              mask=[False, False, False, False, False, False, False, False],\n",
       "        fill_value='?',\n",
       "             dtype=object),\n",
       " 'param_max_depth': masked_array(data=[5, 5, 10, 10, 5, 5, 10, 10],\n",
       "              mask=[False, False, False, False, False, False, False, False],\n",
       "        fill_value='?',\n",
       "             dtype=object),\n",
       " 'param_scale_pos_weights': masked_array(data=[5, 10, 5, 10, 5, 10, 5, 10],\n",
       "              mask=[False, False, False, False, False, False, False, False],\n",
       "        fill_value='?',\n",
       "             dtype=object),\n",
       " 'params': [{'columnsample_bytree': 0.3,\n",
       "   'max_depth': 5,\n",
       "   'scale_pos_weights': 5},\n",
       "  {'columnsample_bytree': 0.3, 'max_depth': 5, 'scale_pos_weights': 10},\n",
       "  {'columnsample_bytree': 0.3, 'max_depth': 10, 'scale_pos_weights': 5},\n",
       "  {'columnsample_bytree': 0.3, 'max_depth': 10, 'scale_pos_weights': 10},\n",
       "  {'columnsample_bytree': 0.4, 'max_depth': 5, 'scale_pos_weights': 5},\n",
       "  {'columnsample_bytree': 0.4, 'max_depth': 5, 'scale_pos_weights': 10},\n",
       "  {'columnsample_bytree': 0.4, 'max_depth': 10, 'scale_pos_weights': 5},\n",
       "  {'columnsample_bytree': 0.4, 'max_depth': 10, 'scale_pos_weights': 10}],\n",
       " 'rank_test_score': array([1, 1, 5, 5, 1, 1, 5, 5], dtype=int32),\n",
       " 'split0_test_score': array([0.26575249, 0.26575249, 0.26620556, 0.26620556, 0.26575249,\n",
       "        0.26575249, 0.26620556, 0.26620556]),\n",
       " 'split0_train_score': array([0.26566682, 0.26566682, 0.28197048, 0.28197048, 0.26566682,\n",
       "        0.26566682, 0.28197048, 0.28197048]),\n",
       " 'split1_test_score': array([0.26474462, 0.26474462, 0.26375878, 0.26375878, 0.26474462,\n",
       "        0.26474462, 0.26375878, 0.26375878]),\n",
       " 'split1_train_score': array([0.26615453, 0.26615453, 0.2797952 , 0.2797952 , 0.26615453,\n",
       "        0.26615453, 0.2797952 , 0.2797952 ]),\n",
       " 'split2_test_score': array([0.26608602, 0.26608602, 0.26542834, 0.26542834, 0.26608602,\n",
       "        0.26608602, 0.26542834, 0.26542834]),\n",
       " 'split2_train_score': array([0.26701604, 0.26701604, 0.28033139, 0.28033139, 0.26701604,\n",
       "        0.26701604, 0.28033139, 0.28033139]),\n",
       " 'std_fit_time': array([ 1.23718351,  0.44878954, 14.0331423 ,  6.72251474,  1.77682855,\n",
       "         0.03648203,  4.90338415,  9.20080394]),\n",
       " 'std_score_time': array([0.04387323, 0.03281329, 0.12087777, 0.18828381, 0.06898216,\n",
       "        0.03230631, 0.14098026, 0.13137554]),\n",
       " 'std_test_score': array([0.00057022, 0.00057022, 0.0010208 , 0.0010208 , 0.00057022,\n",
       "        0.00057022, 0.0010208 , 0.0010208 ]),\n",
       " 'std_train_score': array([0.00055782, 0.00055782, 0.00092532, 0.00092532, 0.00055782,\n",
       "        0.00055782, 0.00092532, 0.00092532])}"
      ]
     },
     "execution_count": 20,
     "metadata": {
      "tags": []
     },
     "output_type": "execute_result"
    }
   ],
   "source": [
    "clf.cv_results_"
   ]
  },
  {
   "cell_type": "code",
   "execution_count": null,
   "metadata": {
    "colab": {
     "base_uri": "https://localhost:8080/"
    },
    "id": "ULlt7JmIxhiS",
    "outputId": "af44249b-78e8-4f4a-e1cf-e52b6ef8698a"
   },
   "outputs": [
    {
     "data": {
      "text/plain": [
       "XGBClassifier(base_score=0.5, booster='gbtree', colsample_bylevel=1,\n",
       "              colsample_bynode=1, colsample_bytree=1, columnsample_bytree=0.3,\n",
       "              gamma=0, learning_rate=0.1, max_delta_step=0, max_depth=5,\n",
       "              min_child_weight=1, missing=None, n_estimators=100, n_jobs=1,\n",
       "              nthread=None, objective='binary:logistic', random_state=0,\n",
       "              reg_alpha=0, reg_lambda=1, scale_pos_weight=1,\n",
       "              scale_pos_weights=5, seed=None, silent=None, subsample=1,\n",
       "              verbosity=1)"
      ]
     },
     "execution_count": 21,
     "metadata": {
      "tags": []
     },
     "output_type": "execute_result"
    }
   ],
   "source": [
    "clf.best_estimator_"
   ]
  },
  {
   "cell_type": "code",
   "execution_count": null,
   "metadata": {
    "colab": {
     "base_uri": "https://localhost:8080/"
    },
    "id": "01otpfCrxmte",
    "outputId": "9870af9b-7e7c-4d3b-83b3-1bc2042f7af4"
   },
   "outputs": [
    {
     "name": "stdout",
     "output_type": "stream",
     "text": [
      "[08:49:10] WARNING: /workspace/src/learner.cc:686: Tree method is automatically selected to be 'approx' for faster speed. To use old behavior (exact greedy algorithm on single machine), set tree_method to 'exact'.\n"
     ]
    },
    {
     "data": {
      "text/plain": [
       "XGBClassifier(base_score=0.5, booster='gbtree', colsample_bylevel=1,\n",
       "              colsample_bynode=1, colsample_bytree=1, columnsample_bytree=0.3,\n",
       "              gamma=0, learning_rate=0.1, max_delta_step=0, max_depth=5,\n",
       "              min_child_weight=1, missing=None, n_estimators=100, n_jobs=1,\n",
       "              nthread=None, objective='binary:logistic', random_state=0,\n",
       "              reg_alpha=0, reg_lambda=1, scale_pos_weight=5, seed=None,\n",
       "              silent=None, subsample=1, verbosity=1)"
      ]
     },
     "execution_count": 19,
     "metadata": {
      "tags": []
     },
     "output_type": "execute_result"
    }
   ],
   "source": [
    "xgbc=XGBClassifier(columnsample_bytree=0.3,max_depth=5,scale_pos_weight=5) #model with best parms\n",
    "xgbc.fit(x_tr,y_train)  #fitting\n",
    "y_tr_pred=xgbc.predict(x_tr) #predicting\n",
    "y_cv_pred=xgbc.predict(x_cv)"
   ]
  },
  {
   "cell_type": "code",
   "execution_count": null,
   "metadata": {
    "colab": {
     "base_uri": "https://localhost:8080/"
    },
    "id": "mj3Lz7Ccxpi0",
    "outputId": "2c152003-e6f7-40a0-c25c-6974471a4f65"
   },
   "outputs": [
    {
     "name": "stdout",
     "output_type": "stream",
     "text": [
      "train f1 score: 0.4226661748570595\n"
     ]
    }
   ],
   "source": [
    "from sklearn.metrics import f1_score\n",
    "f1_tr=f1_score(y_tr_pred,y_train)\n",
    "print('train f1 score:', f1_tr )"
   ]
  },
  {
   "cell_type": "code",
   "execution_count": null,
   "metadata": {
    "colab": {
     "base_uri": "https://localhost:8080/"
    },
    "id": "fsPZEM7NxtUa",
    "outputId": "dfe128da-840e-4f7b-f79b-25df55236662"
   },
   "outputs": [
    {
     "name": "stdout",
     "output_type": "stream",
     "text": [
      "cv f1 score: 0.4226914564447804\n"
     ]
    }
   ],
   "source": [
    "f1_cv=f1_score(y_cv_pred,y_cv)\n",
    "print('cv f1 score:', f1_cv )"
   ]
  },
  {
   "cell_type": "code",
   "execution_count": null,
   "metadata": {
    "colab": {
     "base_uri": "https://localhost:8080/",
     "height": 342
    },
    "id": "4cOKjjaMwufS",
    "outputId": "d409a54b-b228-42ca-b76b-7f78689504ca"
   },
   "outputs": [
    {
     "data": {
      "image/png": "[encoded data removed]",
      "text/plain": [
       "<Figure size 432x288 with 1 Axes>"
      ]
     },
     "metadata": {
      "needs_background": "light",
      "tags": []
     },
     "output_type": "display_data"
    }
   ],
   "source": [
    "#feature importance\n",
    "imp=model.feature_importances_\n",
    "#sort feature importance in desc order\n",
    "indices=np.argsort(imp)[::-1]\n",
    "feature_names=x_tr.columns\n",
    "#rearrange feature names to match importances\n",
    "name=[feature_names[i] for i in indices]\n",
    "#barplot\n",
    "plt.bar(range(len(indices)),imp[indices])\n",
    "plt.xticks(range(len(indices)),name)\n",
    "plt.xticks(rotation='vertical')\n",
    "plt.show()"
   ]
  },
  {
   "cell_type": "markdown",
   "metadata": {
    "id": "A1FmOhjIxFxN"
   },
   "source": [
    "**<H3>MODEL 5-LGBM**"
   ]
  },
  {
   "cell_type": "code",
   "execution_count": null,
   "metadata": {
    "colab": {
     "base_uri": "https://localhost:8080/"
    },
    "id": "YU7QwvGUtBqi",
    "outputId": "45f7b6f1-9080-4d4b-b1be-abed3f2bd1e1"
   },
   "outputs": [
    {
     "name": "stdout",
     "output_type": "stream",
     "text": [
      "Cloning into 'LightGBM'...\n",
      "remote: Enumerating objects: 17, done.\u001b[K\n",
      "remote: Counting objects: 100% (17/17), done.\u001b[K\n",
      "remote: Compressing objects: 100% (17/17), done.\u001b[K\n",
      "remote: Total 21411 (delta 8), reused 0 (delta 0), pack-reused 21394\u001b[K\n",
      "Receiving objects: 100% (21411/21411), 16.89 MiB | 22.97 MiB/s, done.\n",
      "Resolving deltas: 100% (15670/15670), done.\n",
      "Submodule 'include/boost/compute' (https://github.com/boostorg/compute) registered for path 'external_libs/compute'\n",
      "Submodule 'eigen' (https://gitlab.com/libeigen/eigen.git) registered for path 'external_libs/eigen'\n",
      "Submodule 'external_libs/fast_double_parser' (https://github.com/lemire/fast_double_parser.git) registered for path 'external_libs/fast_double_parser'\n",
      "Submodule 'external_libs/fmt' (https://github.com/fmtlib/fmt.git) registered for path 'external_libs/fmt'\n",
      "Cloning into '/content/LightGBM/external_libs/compute'...\n",
      "remote: Enumerating objects: 21728, done.        \n",
      "remote: Total 21728 (delta 0), reused 0 (delta 0), pack-reused 21728        \n",
      "Receiving objects: 100% (21728/21728), 8.51 MiB | 27.57 MiB/s, done.\n",
      "Resolving deltas: 100% (17566/17566), done.\n",
      "Cloning into '/content/LightGBM/external_libs/eigen'...\n",
      "remote: Enumerating objects: 210, done.        \n",
      "remote: Counting objects: 100% (210/210), done.        \n",
      "remote: Compressing objects: 100% (123/123), done.        \n",
      "remote: Total 109326 (delta 127), reused 148 (delta 86), pack-reused 109116        \n",
      "Receiving objects: 100% (109326/109326), 101.54 MiB | 33.09 MiB/s, done.\n",
      "Resolving deltas: 100% (89848/89848), done.\n",
      "Cloning into '/content/LightGBM/external_libs/fast_double_parser'...\n",
      "remote: Enumerating objects: 163, done.        \n",
      "remote: Counting objects: 100% (163/163), done.        \n",
      "remote: Compressing objects: 100% (101/101), done.        \n",
      "remote: Total 663 (delta 80), reused 91 (delta 37), pack-reused 500        \n",
      "Receiving objects: 100% (663/663), 796.25 KiB | 8.29 MiB/s, done.\n",
      "Resolving deltas: 100% (334/334), done.\n",
      "Cloning into '/content/LightGBM/external_libs/fmt'...\n",
      "remote: Enumerating objects: 12, done.        \n",
      "remote: Counting objects: 100% (12/12), done.        \n",
      "remote: Compressing objects: 100% (7/7), done.        \n",
      "remote: Total 24781 (delta 3), reused 8 (delta 3), pack-reused 24769        \n",
      "Receiving objects: 100% (24781/24781), 12.27 MiB | 32.81 MiB/s, done.\n",
      "Resolving deltas: 100% (16778/16778), done.\n",
      "Submodule path 'external_libs/compute': checked out '36c89134d4013b2e5e45bc55656a18bd6141995a'\n",
      "Submodule path 'external_libs/eigen': checked out '8ba1b0f41a7950dc3e1d4ed75859e36c73311235'\n",
      "Submodule path 'external_libs/fast_double_parser': checked out 'ace60646c02dc54c57f19d644e49a61e7e7758ec'\n",
      "Submodule 'benchmark/dependencies/abseil-cpp' (https://github.com/abseil/abseil-cpp.git) registered for path 'external_libs/fast_double_parser/benchmarks/dependencies/abseil-cpp'\n",
      "Submodule 'benchmark/dependencies/double-conversion' (https://github.com/google/double-conversion.git) registered for path 'external_libs/fast_double_parser/benchmarks/dependencies/double-conversion'\n",
      "Cloning into '/content/LightGBM/external_libs/fast_double_parser/benchmarks/dependencies/abseil-cpp'...\n",
      "remote: Enumerating objects: 14065, done.        \n",
      "remote: Total 14065 (delta 0), reused 0 (delta 0), pack-reused 14065        \n",
      "Receiving objects: 100% (14065/14065), 9.02 MiB | 27.48 MiB/s, done.\n",
      "Resolving deltas: 100% (10741/10741), done.\n",
      "Cloning into '/content/LightGBM/external_libs/fast_double_parser/benchmarks/dependencies/double-conversion'...\n",
      "remote: Enumerating objects: 56, done.        \n",
      "remote: Counting objects: 100% (56/56), done.        \n",
      "remote: Compressing objects: 100% (38/38), done.        \n",
      "remote: Total 1212 (delta 30), reused 33 (delta 18), pack-reused 1156        \n",
      "Receiving objects: 100% (1212/1212), 7.07 MiB | 5.81 MiB/s, done.\n",
      "Resolving deltas: 100% (802/802), done.\n",
      "Submodule path 'external_libs/fast_double_parser/benchmarks/dependencies/abseil-cpp': checked out 'd936052d32a5b7ca08b0199a6724724aea432309'\n",
      "Submodule path 'external_libs/fast_double_parser/benchmarks/dependencies/double-conversion': checked out 'f4cb2384efa55dee0e6652f8674b05763441ab09'\n",
      "Submodule path 'external_libs/fmt': checked out 'cc09f1a6798c085c325569ef466bcdcffdc266d4'\n"
     ]
    }
   ],
   "source": [
    "!git clone --recursive https://github.com/Microsoft/LightGBM"
   ]
  },
  {
   "cell_type": "code",
   "execution_count": null,
   "metadata": {
    "colab": {
     "base_uri": "https://localhost:8080/"
    },
    "id": "wMf2t4-2bR8H",
    "outputId": "dddc1a88-7879-4164-de10-e652e01f3aab"
   },
   "outputs": [
    {
     "name": "stdout",
     "output_type": "stream",
     "text": [
      "-- The C compiler identification is GNU 7.5.0\n",
      "-- The CXX compiler identification is GNU 7.5.0\n",
      "-- Check for working C compiler: /usr/bin/cc\n",
      "-- Check for working C compiler: /usr/bin/cc -- works\n",
      "-- Detecting C compiler ABI info\n",
      "-- Detecting C compiler ABI info - done\n",
      "-- Detecting C compile features\n",
      "-- Detecting C compile features - done\n",
      "-- Check for working CXX compiler: /usr/bin/c++\n",
      "-- Check for working CXX compiler: /usr/bin/c++ -- works\n",
      "-- Detecting CXX compiler ABI info\n",
      "-- Detecting CXX compiler ABI info - done\n",
      "-- Detecting CXX compile features\n",
      "-- Detecting CXX compile features - done\n",
      "-- Found OpenMP_C: -fopenmp (found version \"4.5\") \n",
      "-- Found OpenMP_CXX: -fopenmp (found version \"4.5\") \n",
      "-- Found OpenMP: TRUE (found version \"4.5\")  \n",
      "-- Looking for CL_VERSION_2_2\n",
      "-- Looking for CL_VERSION_2_2 - found\n",
      "-- Found OpenCL: /usr/lib/x86_64-linux-gnu/libOpenCL.so (found version \"2.2\") \n",
      "-- OpenCL include directory: /usr/include\n",
      "-- Boost version: 1.65.1\n",
      "-- Found the following Boost libraries:\n",
      "--   filesystem\n",
      "--   system\n",
      "-- Performing Test MM_PREFETCH\n",
      "-- Performing Test MM_PREFETCH - Success\n",
      "-- Using _mm_prefetch\n",
      "-- Performing Test MM_MALLOC\n",
      "-- Performing Test MM_MALLOC - Success\n",
      "-- Using _mm_malloc\n",
      "-- Configuring done\n",
      "-- Generating done\n",
      "-- Build files have been written to: /content/LightGBM/build\n",
      "\u001b[35m\u001b[1mScanning dependencies of target _lightgbm\u001b[0m\n",
      "\u001b[35m\u001b[1mScanning dependencies of target lightgbm\u001b[0m\n",
      "[  4%] \u001b[32mBuilding CXX object CMakeFiles/lightgbm.dir/src/main.cpp.o\u001b[0m\n",
      "[  4%] \u001b[32mBuilding CXX object CMakeFiles/_lightgbm.dir/src/boosting/gbdt.cpp.o\u001b[0m\n",
      "[  4%] \u001b[32mBuilding CXX object CMakeFiles/lightgbm.dir/src/application/application.cpp.o\u001b[0m\n",
      "[  5%] \u001b[32mBuilding CXX object CMakeFiles/_lightgbm.dir/src/boosting/boosting.cpp.o\u001b[0m\n",
      "[  7%] \u001b[32mBuilding CXX object CMakeFiles/_lightgbm.dir/src/boosting/gbdt_model_text.cpp.o\u001b[0m\n",
      "[  8%] \u001b[32mBuilding CXX object CMakeFiles/lightgbm.dir/src/boosting/boosting.cpp.o\u001b[0m\n",
      "[ 10%] \u001b[32mBuilding CXX object CMakeFiles/_lightgbm.dir/src/boosting/gbdt_prediction.cpp.o\u001b[0m\n",
      "[ 11%] \u001b[32mBuilding CXX object CMakeFiles/_lightgbm.dir/src/boosting/prediction_early_stop.cpp.o\u001b[0m\n",
      "[ 13%] \u001b[32mBuilding CXX object CMakeFiles/_lightgbm.dir/src/io/bin.cpp.o\u001b[0m\n",
      "[ 14%] \u001b[32mBuilding CXX object CMakeFiles/_lightgbm.dir/src/io/config.cpp.o\u001b[0m\n",
      "[ 15%] \u001b[32mBuilding CXX object CMakeFiles/_lightgbm.dir/src/io/config_auto.cpp.o\u001b[0m\n",
      "[ 17%] \u001b[32mBuilding CXX object CMakeFiles/_lightgbm.dir/src/io/dataset.cpp.o\u001b[0m\n",
      "[ 18%] \u001b[32mBuilding CXX object CMakeFiles/lightgbm.dir/src/boosting/gbdt.cpp.o\u001b[0m\n",
      "[ 20%] \u001b[32mBuilding CXX object CMakeFiles/_lightgbm.dir/src/io/dataset_loader.cpp.o\u001b[0m\n",
      "[ 21%] \u001b[32mBuilding CXX object CMakeFiles/lightgbm.dir/src/boosting/gbdt_model_text.cpp.o\u001b[0m\n",
      "[ 23%] \u001b[32mBuilding CXX object CMakeFiles/_lightgbm.dir/src/io/file_io.cpp.o\u001b[0m\n",
      "[ 24%] \u001b[32mBuilding CXX object CMakeFiles/_lightgbm.dir/src/io/json11.cpp.o\u001b[0m\n",
      "[ 26%] \u001b[32mBuilding CXX object CMakeFiles/_lightgbm.dir/src/io/metadata.cpp.o\u001b[0m\n",
      "[ 27%] \u001b[32mBuilding CXX object CMakeFiles/_lightgbm.dir/src/io/parser.cpp.o\u001b[0m\n",
      "[ 28%] \u001b[32mBuilding CXX object CMakeFiles/_lightgbm.dir/src/io/train_share_states.cpp.o\u001b[0m\n",
      "[ 30%] \u001b[32mBuilding CXX object CMakeFiles/lightgbm.dir/src/boosting/gbdt_prediction.cpp.o\u001b[0m\n",
      "[ 31%] \u001b[32mBuilding CXX object CMakeFiles/_lightgbm.dir/src/io/tree.cpp.o\u001b[0m\n",
      "[ 33%] \u001b[32mBuilding CXX object CMakeFiles/_lightgbm.dir/src/metric/dcg_calculator.cpp.o\u001b[0m\n",
      "[ 34%] \u001b[32mBuilding CXX object CMakeFiles/_lightgbm.dir/src/metric/metric.cpp.o\u001b[0m\n",
      "[ 36%] \u001b[32mBuilding CXX object CMakeFiles/lightgbm.dir/src/boosting/prediction_early_stop.cpp.o\u001b[0m\n",
      "[ 37%] \u001b[32mBuilding CXX object CMakeFiles/lightgbm.dir/src/io/bin.cpp.o\u001b[0m\n",
      "[ 39%] \u001b[32mBuilding CXX object CMakeFiles/_lightgbm.dir/src/network/ifaddrs_patch.cpp.o\u001b[0m\n",
      "[ 40%] \u001b[32mBuilding CXX object CMakeFiles/_lightgbm.dir/src/network/linker_topo.cpp.o\u001b[0m\n",
      "[ 42%] \u001b[32mBuilding CXX object CMakeFiles/_lightgbm.dir/src/network/linkers_mpi.cpp.o\u001b[0m\n",
      "[ 43%] \u001b[32mBuilding CXX object CMakeFiles/_lightgbm.dir/src/network/linkers_socket.cpp.o\u001b[0m\n",
      "[ 44%] \u001b[32mBuilding CXX object CMakeFiles/_lightgbm.dir/src/network/network.cpp.o\u001b[0m\n",
      "[ 46%] \u001b[32mBuilding CXX object CMakeFiles/_lightgbm.dir/src/objective/objective_function.cpp.o\u001b[0m\n",
      "[ 47%] \u001b[32mBuilding CXX object CMakeFiles/_lightgbm.dir/src/treelearner/cuda_tree_learner.cpp.o\u001b[0m\n",
      "[ 49%] \u001b[32mBuilding CXX object CMakeFiles/_lightgbm.dir/src/treelearner/data_parallel_tree_learner.cpp.o\u001b[0m\n",
      "[ 50%] \u001b[32mBuilding CXX object CMakeFiles/lightgbm.dir/src/io/config.cpp.o\u001b[0m\n",
      "[ 52%] \u001b[32mBuilding CXX object CMakeFiles/lightgbm.dir/src/io/config_auto.cpp.o\u001b[0m\n",
      "[ 53%] \u001b[32mBuilding CXX object CMakeFiles/_lightgbm.dir/src/treelearner/feature_parallel_tree_learner.cpp.o\u001b[0m\n",
      "[ 55%] \u001b[32mBuilding CXX object CMakeFiles/lightgbm.dir/src/io/dataset.cpp.o\u001b[0m\n",
      "[ 56%] \u001b[32mBuilding CXX object CMakeFiles/lightgbm.dir/src/io/dataset_loader.cpp.o\u001b[0m\n",
      "[ 57%] \u001b[32mBuilding CXX object CMakeFiles/_lightgbm.dir/src/treelearner/gpu_tree_learner.cpp.o\u001b[0m\n",
      "[ 59%] \u001b[32mBuilding CXX object CMakeFiles/lightgbm.dir/src/io/file_io.cpp.o\u001b[0m\n",
      "[ 60%] \u001b[32mBuilding CXX object CMakeFiles/_lightgbm.dir/src/treelearner/linear_tree_learner.cpp.o\u001b[0m\n",
      "[ 62%] \u001b[32mBuilding CXX object CMakeFiles/lightgbm.dir/src/io/json11.cpp.o\u001b[0m\n",
      "[ 63%] \u001b[32mBuilding CXX object CMakeFiles/lightgbm.dir/src/io/metadata.cpp.o\u001b[0m\n",
      "[ 65%] \u001b[32mBuilding CXX object CMakeFiles/lightgbm.dir/src/io/parser.cpp.o\u001b[0m\n",
      "[ 66%] \u001b[32mBuilding CXX object CMakeFiles/lightgbm.dir/src/io/train_share_states.cpp.o\u001b[0m\n",
      "[ 68%] \u001b[32mBuilding CXX object CMakeFiles/lightgbm.dir/src/io/tree.cpp.o\u001b[0m\n",
      "[ 69%] \u001b[32mBuilding CXX object CMakeFiles/lightgbm.dir/src/metric/dcg_calculator.cpp.o\u001b[0m\n",
      "[ 71%] \u001b[32mBuilding CXX object CMakeFiles/lightgbm.dir/src/metric/metric.cpp.o\u001b[0m\n",
      "[ 72%] \u001b[32mBuilding CXX object CMakeFiles/_lightgbm.dir/src/treelearner/serial_tree_learner.cpp.o\u001b[0m\n",
      "[ 73%] \u001b[32mBuilding CXX object CMakeFiles/_lightgbm.dir/src/treelearner/tree_learner.cpp.o\u001b[0m\n",
      "[ 75%] \u001b[32mBuilding CXX object CMakeFiles/lightgbm.dir/src/network/ifaddrs_patch.cpp.o\u001b[0m\n",
      "[ 76%] \u001b[32mBuilding CXX object CMakeFiles/lightgbm.dir/src/network/linker_topo.cpp.o\u001b[0m\n",
      "[ 78%] \u001b[32mBuilding CXX object CMakeFiles/lightgbm.dir/src/network/linkers_mpi.cpp.o\u001b[0m\n",
      "[ 79%] \u001b[32mBuilding CXX object CMakeFiles/lightgbm.dir/src/network/linkers_socket.cpp.o\u001b[0m\n",
      "[ 81%] \u001b[32mBuilding CXX object CMakeFiles/lightgbm.dir/src/network/network.cpp.o\u001b[0m\n",
      "[ 82%] \u001b[32mBuilding CXX object CMakeFiles/lightgbm.dir/src/objective/objective_function.cpp.o\u001b[0m\n",
      "[ 84%] \u001b[32mBuilding CXX object CMakeFiles/lightgbm.dir/src/treelearner/cuda_tree_learner.cpp.o\u001b[0m\n",
      "[ 85%] \u001b[32mBuilding CXX object CMakeFiles/lightgbm.dir/src/treelearner/data_parallel_tree_learner.cpp.o\u001b[0m\n",
      "[ 86%] \u001b[32mBuilding CXX object CMakeFiles/_lightgbm.dir/src/treelearner/voting_parallel_tree_learner.cpp.o\u001b[0m\n",
      "[ 88%] \u001b[32mBuilding CXX object CMakeFiles/lightgbm.dir/src/treelearner/feature_parallel_tree_learner.cpp.o\u001b[0m\n",
      "[ 89%] \u001b[32mBuilding CXX object CMakeFiles/lightgbm.dir/src/treelearner/gpu_tree_learner.cpp.o\u001b[0m\n",
      "[ 91%] \u001b[32mBuilding CXX object CMakeFiles/lightgbm.dir/src/treelearner/linear_tree_learner.cpp.o\u001b[0m\n",
      "[ 92%] \u001b[32mBuilding CXX object CMakeFiles/_lightgbm.dir/src/c_api.cpp.o\u001b[0m\n",
      "[ 94%] \u001b[32mBuilding CXX object CMakeFiles/lightgbm.dir/src/treelearner/serial_tree_learner.cpp.o\u001b[0m\n",
      "[ 95%] \u001b[32mBuilding CXX object CMakeFiles/lightgbm.dir/src/treelearner/tree_learner.cpp.o\u001b[0m\n",
      "[ 97%] \u001b[32mBuilding CXX object CMakeFiles/lightgbm.dir/src/treelearner/voting_parallel_tree_learner.cpp.o\u001b[0m\n",
      "[ 98%] \u001b[32m\u001b[1mLinking CXX shared library ../lib_lightgbm.so\u001b[0m\n",
      "[ 98%] Built target _lightgbm\n",
      "[100%] \u001b[32m\u001b[1mLinking CXX executable ../lightgbm\u001b[0m\n",
      "[100%] Built target lightgbm\n",
      "running install\n",
      "running build\n",
      "running build_py\n",
      "INFO:root:Generating grammar tables from /usr/lib/python3.7/lib2to3/Grammar.txt\n",
      "INFO:root:Generating grammar tables from /usr/lib/python3.7/lib2to3/PatternGrammar.txt\n",
      "creating build\n",
      "creating build/lib\n",
      "creating build/lib/lightgbm\n",
      "copying lightgbm/libpath.py -> build/lib/lightgbm\n",
      "copying lightgbm/dask.py -> build/lib/lightgbm\n",
      "copying lightgbm/sklearn.py -> build/lib/lightgbm\n",
      "copying lightgbm/plotting.py -> build/lib/lightgbm\n",
      "copying lightgbm/basic.py -> build/lib/lightgbm\n",
      "copying lightgbm/compat.py -> build/lib/lightgbm\n",
      "copying lightgbm/engine.py -> build/lib/lightgbm\n",
      "copying lightgbm/__init__.py -> build/lib/lightgbm\n",
      "copying lightgbm/callback.py -> build/lib/lightgbm\n",
      "running egg_info\n",
      "creating lightgbm.egg-info\n",
      "writing lightgbm.egg-info/PKG-INFO\n",
      "writing dependency_links to lightgbm.egg-info/dependency_links.txt\n",
      "writing requirements to lightgbm.egg-info/requires.txt\n",
      "writing top-level names to lightgbm.egg-info/top_level.txt\n",
      "writing manifest file 'lightgbm.egg-info/SOURCES.txt'\n",
      "reading manifest template 'MANIFEST.in'\n",
      "no previously-included directories found matching 'build'\n",
      "warning: no files found matching 'LICENSE'\n",
      "warning: no files found matching '*.txt'\n",
      "warning: no files found matching '*.so' under directory 'lightgbm'\n",
      "warning: no files found matching 'compile/CMakeLists.txt'\n",
      "warning: no files found matching 'compile/cmake/IntegratedOpenCL.cmake'\n",
      "warning: no files found matching '*.so' under directory 'compile'\n",
      "warning: no files found matching '*.dll' under directory 'compile/Release'\n",
      "warning: no files found matching 'compile/external_libs/compute/CMakeLists.txt'\n",
      "warning: no files found matching '*' under directory 'compile/external_libs/compute/cmake'\n",
      "warning: no files found matching '*' under directory 'compile/external_libs/compute/include'\n",
      "warning: no files found matching '*' under directory 'compile/external_libs/compute/meta'\n",
      "warning: no files found matching 'compile/external_libs/eigen/CMakeLists.txt'\n",
      "warning: no files found matching 'compile/external_libs/eigen/Eigen/Cholesky'\n",
      "warning: no files found matching 'compile/external_libs/eigen/Eigen/Core'\n",
      "warning: no files found matching 'compile/external_libs/eigen/Eigen/Dense'\n",
      "warning: no files found matching 'compile/external_libs/eigen/Eigen/Eigenvalues'\n",
      "warning: no files found matching 'compile/external_libs/eigen/Eigen/Geometry'\n",
      "warning: no files found matching 'compile/external_libs/eigen/Eigen/Householder'\n",
      "warning: no files found matching 'compile/external_libs/eigen/Eigen/Jacobi'\n",
      "warning: no files found matching 'compile/external_libs/eigen/Eigen/LU'\n",
      "warning: no files found matching 'compile/external_libs/eigen/Eigen/QR'\n",
      "warning: no files found matching 'compile/external_libs/eigen/Eigen/SVD'\n",
      "warning: no files found matching '*' under directory 'compile/external_libs/eigen/Eigen/src/Cholesky'\n",
      "warning: no files found matching '*' under directory 'compile/external_libs/eigen/Eigen/src/Core'\n",
      "warning: no files found matching '*' under directory 'compile/external_libs/eigen/Eigen/src/Eigenvalues'\n",
      "warning: no files found matching '*' under directory 'compile/external_libs/eigen/Eigen/src/Geometry'\n",
      "warning: no files found matching '*' under directory 'compile/external_libs/eigen/Eigen/src/Householder'\n",
      "warning: no files found matching '*' under directory 'compile/external_libs/eigen/Eigen/src/Jacobi'\n",
      "warning: no files found matching '*' under directory 'compile/external_libs/eigen/Eigen/src/LU'\n",
      "warning: no files found matching '*' under directory 'compile/external_libs/eigen/Eigen/src/misc'\n",
      "warning: no files found matching '*' under directory 'compile/external_libs/eigen/Eigen/src/plugins'\n",
      "warning: no files found matching '*' under directory 'compile/external_libs/eigen/Eigen/src/QR'\n",
      "warning: no files found matching '*' under directory 'compile/external_libs/eigen/Eigen/src/SVD'\n",
      "warning: no files found matching 'compile/external_libs/fast_double_parser/CMakeLists.txt'\n",
      "warning: no files found matching 'compile/external_libs/fast_double_parser/LICENSE'\n",
      "warning: no files found matching 'compile/external_libs/fast_double_parser/LICENSE.BSL'\n",
      "warning: no files found matching '*' under directory 'compile/external_libs/fast_double_parser/include'\n",
      "warning: no files found matching 'compile/external_libs/fmt/CMakeLists.txt'\n",
      "warning: no files found matching 'compile/external_libs/fmt/LICENSE.rst'\n",
      "warning: no files found matching '*' under directory 'compile/external_libs/fmt/include'\n",
      "warning: no files found matching '*' under directory 'compile/include'\n",
      "warning: no files found matching '*' under directory 'compile/src'\n",
      "warning: no files found matching 'LightGBM.sln' under directory 'compile/windows'\n",
      "warning: no files found matching 'LightGBM.vcxproj' under directory 'compile/windows'\n",
      "warning: no files found matching '*.dll' under directory 'compile/windows/x64/DLL'\n",
      "warning: no previously-included files matching '*.py[co]' found anywhere in distribution\n",
      "warning: no previously-included files found matching 'compile/external_libs/compute/.git'\n",
      "writing manifest file 'lightgbm.egg-info/SOURCES.txt'\n",
      "copying lightgbm/VERSION.txt -> build/lib/lightgbm\n",
      "running install_lib\n",
      "copying build/lib/lightgbm/libpath.py -> /usr/local/lib/python3.7/dist-packages/lightgbm\n",
      "copying build/lib/lightgbm/dask.py -> /usr/local/lib/python3.7/dist-packages/lightgbm\n",
      "copying build/lib/lightgbm/sklearn.py -> /usr/local/lib/python3.7/dist-packages/lightgbm\n",
      "copying build/lib/lightgbm/plotting.py -> /usr/local/lib/python3.7/dist-packages/lightgbm\n",
      "copying build/lib/lightgbm/basic.py -> /usr/local/lib/python3.7/dist-packages/lightgbm\n",
      "copying build/lib/lightgbm/compat.py -> /usr/local/lib/python3.7/dist-packages/lightgbm\n",
      "copying build/lib/lightgbm/engine.py -> /usr/local/lib/python3.7/dist-packages/lightgbm\n",
      "copying build/lib/lightgbm/__init__.py -> /usr/local/lib/python3.7/dist-packages/lightgbm\n",
      "copying build/lib/lightgbm/callback.py -> /usr/local/lib/python3.7/dist-packages/lightgbm\n",
      "copying build/lib/lightgbm/VERSION.txt -> /usr/local/lib/python3.7/dist-packages/lightgbm\n",
      "INFO:LightGBM:Installing lib_lightgbm from: ['../lib_lightgbm.so']\n",
      "copying ../lib_lightgbm.so -> /usr/local/lib/python3.7/dist-packages/lightgbm\n",
      "byte-compiling /usr/local/lib/python3.7/dist-packages/lightgbm/libpath.py to libpath.cpython-37.pyc\n",
      "byte-compiling /usr/local/lib/python3.7/dist-packages/lightgbm/dask.py to dask.cpython-37.pyc\n",
      "byte-compiling /usr/local/lib/python3.7/dist-packages/lightgbm/sklearn.py to sklearn.cpython-37.pyc\n",
      "byte-compiling /usr/local/lib/python3.7/dist-packages/lightgbm/plotting.py to plotting.cpython-37.pyc\n",
      "byte-compiling /usr/local/lib/python3.7/dist-packages/lightgbm/basic.py to basic.cpython-37.pyc\n",
      "byte-compiling /usr/local/lib/python3.7/dist-packages/lightgbm/compat.py to compat.cpython-37.pyc\n",
      "byte-compiling /usr/local/lib/python3.7/dist-packages/lightgbm/engine.py to engine.cpython-37.pyc\n",
      "byte-compiling /usr/local/lib/python3.7/dist-packages/lightgbm/__init__.py to __init__.cpython-37.pyc\n",
      "byte-compiling /usr/local/lib/python3.7/dist-packages/lightgbm/callback.py to callback.cpython-37.pyc\n",
      "running install_egg_info\n",
      "Copying lightgbm.egg-info to /usr/local/lib/python3.7/dist-packages/lightgbm-3.2.0.99-py3.7.egg-info\n",
      "running install_scripts\n"
     ]
    }
   ],
   "source": [
    "! cd /content/LightGBM && rm -rf build && mkdir build && cd build && cmake -DUSE_GPU=1  ../../LightGBM && make -j4 && cd ../python-package && python3 setup.py install --precompile --gpu;"
   ]
  },
  {
   "cell_type": "markdown",
   "metadata": {
    "id": "tYJyzazy1YBu"
   },
   "source": [
    "Random search cv"
   ]
  },
  {
   "cell_type": "code",
   "execution_count": null,
   "metadata": {
    "colab": {
     "base_uri": "https://localhost:8080/"
    },
    "id": "UJBm21L9TleB",
    "outputId": "c4bd0269-c723-4a76-c5ea-ebd2c15d06e3"
   },
   "outputs": [
    {
     "data": {
      "text/plain": [
       "RandomizedSearchCV(cv=3, error_score=nan,\n",
       "                   estimator=LGBMClassifier(boosting_type='gbdt',\n",
       "                                            class_weight=None,\n",
       "                                            colsample_bytree=1.0,\n",
       "                                            device_type='gpu',\n",
       "                                            importance_type='split',\n",
       "                                            learning_rate=0.1, max_depth=-1,\n",
       "                                            min_child_samples=20,\n",
       "                                            min_child_weight=0.001,\n",
       "                                            min_split_gain=0.0,\n",
       "                                            n_estimators=100, n_jobs=-1,\n",
       "                                            num_leaves=31, objective=None,\n",
       "                                            random_state=None, reg_alpha=0.0,\n",
       "                                            r..., silent=True,\n",
       "                                            subsample=1.0,\n",
       "                                            subsample_for_bin=200000,\n",
       "                                            subsample_freq=0),\n",
       "                   iid='deprecated', n_iter=10, n_jobs=None,\n",
       "                   param_distributions={'class_weight': [{0: 1, 1: 5},\n",
       "                                                         {0: 1, 1: 10}],\n",
       "                                        'learning_rate': [0.1, 0.15, 0.2],\n",
       "                                        'max_depth': [5, 8, 10],\n",
       "                                        'n_estimators': [100, 150, 200]},\n",
       "                   pre_dispatch='2*n_jobs', random_state=None, refit=True,\n",
       "                   return_train_score=True, scoring='f1', verbose=0)"
      ]
     },
     "execution_count": 15,
     "metadata": {
      "tags": []
     },
     "output_type": "execute_result"
    }
   ],
   "source": [
    "from lightgbm import LGBMClassifier\n",
    "param = {'max_depth':[5,8,10],'learning_rate':[0.1,0.15,0.2],'n_estimators':[100,150,200],'class_weight':[{0:1,1:5},{0:1,1:10}] }  #\n",
    "#print(param_grid)\n",
    "model=LGBMClassifier(device_type='gpu')\n",
    "clf = RandomizedSearchCV(model,param,cv=3, return_train_score=True, scoring='f1')   #3-fold cv\n",
    "clf.fit(x_tr, y_train)"
   ]
  },
  {
   "cell_type": "code",
   "execution_count": null,
   "metadata": {
    "colab": {
     "base_uri": "https://localhost:8080/"
    },
    "id": "6P7Ru9Z9cRXv",
    "outputId": "1264aa8d-057f-472f-dade-bd93726becc6"
   },
   "outputs": [
    {
     "data": {
      "text/plain": [
       "{'mean_fit_time': array([16.38340298, 15.51516819, 20.36983673, 23.53687859, 17.29748344,\n",
       "        21.40092015, 15.77084804, 19.229937  , 27.83470146, 17.29399506]),\n",
       " 'mean_score_time': array([ 4.23818668,  4.84739542,  6.75891415,  7.97976494,  5.48701326,\n",
       "         7.90462788,  4.73615599,  6.40953779, 11.17211668,  5.58058612]),\n",
       " 'mean_test_score': array([0.42141187, 0.42217864, 0.36042694, 0.36086257, 0.42162983,\n",
       "        0.36042455, 0.35940204, 0.36042346, 0.42235603, 0.35954764]),\n",
       " 'mean_train_score': array([0.42260701, 0.42319276, 0.3617905 , 0.36316241, 0.42236215,\n",
       "        0.36165578, 0.36024123, 0.36194569, 0.4234159 , 0.36023938]),\n",
       " 'param_class_weight': masked_array(data=[{0: 1, 1: 5}, {0: 1, 1: 5}, {0: 1, 1: 10},\n",
       "                    {0: 1, 1: 10}, {0: 1, 1: 5}, {0: 1, 1: 10},\n",
       "                    {0: 1, 1: 10}, {0: 1, 1: 10}, {0: 1, 1: 5},\n",
       "                    {0: 1, 1: 10}],\n",
       "              mask=[False, False, False, False, False, False, False, False,\n",
       "                    False, False],\n",
       "        fill_value='?',\n",
       "             dtype=object),\n",
       " 'param_learning_rate': masked_array(data=[0.2, 0.2, 0.15, 0.2, 0.1, 0.15, 0.15, 0.2, 0.1, 0.1],\n",
       "              mask=[False, False, False, False, False, False, False, False,\n",
       "                    False, False],\n",
       "        fill_value='?',\n",
       "             dtype=object),\n",
       " 'param_max_depth': masked_array(data=[10, 5, 10, 10, 10, 5, 5, 8, 5, 10],\n",
       "              mask=[False, False, False, False, False, False, False, False,\n",
       "                    False, False],\n",
       "        fill_value='?',\n",
       "             dtype=object),\n",
       " 'param_n_estimators': masked_array(data=[100, 100, 150, 200, 100, 150, 100, 150, 200, 100],\n",
       "              mask=[False, False, False, False, False, False, False, False,\n",
       "                    False, False],\n",
       "        fill_value='?',\n",
       "             dtype=object),\n",
       " 'params': [{'class_weight': {0: 1, 1: 5},\n",
       "   'learning_rate': 0.2,\n",
       "   'max_depth': 10,\n",
       "   'n_estimators': 100},\n",
       "  {'class_weight': {0: 1, 1: 5},\n",
       "   'learning_rate': 0.2,\n",
       "   'max_depth': 5,\n",
       "   'n_estimators': 100},\n",
       "  {'class_weight': {0: 1, 1: 10},\n",
       "   'learning_rate': 0.15,\n",
       "   'max_depth': 10,\n",
       "   'n_estimators': 150},\n",
       "  {'class_weight': {0: 1, 1: 10},\n",
       "   'learning_rate': 0.2,\n",
       "   'max_depth': 10,\n",
       "   'n_estimators': 200},\n",
       "  {'class_weight': {0: 1, 1: 5},\n",
       "   'learning_rate': 0.1,\n",
       "   'max_depth': 10,\n",
       "   'n_estimators': 100},\n",
       "  {'class_weight': {0: 1, 1: 10},\n",
       "   'learning_rate': 0.15,\n",
       "   'max_depth': 5,\n",
       "   'n_estimators': 150},\n",
       "  {'class_weight': {0: 1, 1: 10},\n",
       "   'learning_rate': 0.15,\n",
       "   'max_depth': 5,\n",
       "   'n_estimators': 100},\n",
       "  {'class_weight': {0: 1, 1: 10},\n",
       "   'learning_rate': 0.2,\n",
       "   'max_depth': 8,\n",
       "   'n_estimators': 150},\n",
       "  {'class_weight': {0: 1, 1: 5},\n",
       "   'learning_rate': 0.1,\n",
       "   'max_depth': 5,\n",
       "   'n_estimators': 200},\n",
       "  {'class_weight': {0: 1, 1: 10},\n",
       "   'learning_rate': 0.1,\n",
       "   'max_depth': 10,\n",
       "   'n_estimators': 100}],\n",
       " 'rank_test_score': array([ 4,  2,  6,  5,  3,  7, 10,  8,  1,  9], dtype=int32),\n",
       " 'split0_test_score': array([0.42045013, 0.42064172, 0.3597364 , 0.36046857, 0.42060985,\n",
       "        0.3598979 , 0.35911058, 0.3598824 , 0.4208826 , 0.35905515]),\n",
       " 'split0_train_score': array([0.42314428, 0.42378834, 0.36230781, 0.36403526, 0.42306949,\n",
       "        0.36249747, 0.36120086, 0.36272519, 0.42379873, 0.36085033]),\n",
       " 'split1_test_score': array([0.42149412, 0.4228278 , 0.36129755, 0.3613693 , 0.42207874,\n",
       "        0.36127889, 0.36016167, 0.36104454, 0.42271937, 0.36044576]),\n",
       " 'split1_train_score': array([0.42230838, 0.42313899, 0.3616005 , 0.36253319, 0.42223022,\n",
       "        0.36126254, 0.35981328, 0.36157243, 0.42314491, 0.36009486]),\n",
       " 'split2_test_score': array([0.42229135, 0.42306639, 0.36024688, 0.36074985, 0.4222009 ,\n",
       "        0.36009686, 0.35893386, 0.36034343, 0.42346613, 0.35914201]),\n",
       " 'split2_train_score': array([0.42236837, 0.42265095, 0.36146318, 0.36291878, 0.42178674,\n",
       "        0.36120733, 0.35970955, 0.36153946, 0.42330408, 0.35977296]),\n",
       " 'std_fit_time': array([2.34766228, 0.06387285, 0.02007589, 0.12329641, 0.07456452,\n",
       "        0.10699253, 0.04378666, 0.05655298, 0.06612098, 0.08220779]),\n",
       " 'std_score_time': array([0.03634307, 0.11037905, 0.10269746, 0.0686311 , 0.0971487 ,\n",
       "        0.09169123, 0.13221787, 0.22384893, 0.11028151, 0.10452221]),\n",
       " 'std_test_score': array([0.00075392, 0.00109112, 0.00064993, 0.00037626, 0.00072296,\n",
       "        0.00060954, 0.00054197, 0.0004778 , 0.00108556, 0.00063605]),\n",
       " 'std_train_score': array([0.0003807 , 0.00046589, 0.00037007, 0.00063696, 0.00053193,\n",
       "        0.00059559, 0.00067988, 0.00055135, 0.00027839, 0.00045155])}"
      ]
     },
     "execution_count": 16,
     "metadata": {
      "tags": []
     },
     "output_type": "execute_result"
    }
   ],
   "source": [
    "clf.cv_results_"
   ]
  },
  {
   "cell_type": "code",
   "execution_count": null,
   "metadata": {
    "colab": {
     "base_uri": "https://localhost:8080/"
    },
    "id": "jyYSk_W1YG7n",
    "outputId": "c4c392c8-3ce8-4ad5-d698-68ec976ef83a"
   },
   "outputs": [
    {
     "data": {
      "text/plain": [
       "LGBMClassifier(boosting_type='gbdt', class_weight={0: 1, 1: 5},\n",
       "               colsample_bytree=1.0, device_type='gpu', importance_type='split',\n",
       "               learning_rate=0.1, max_depth=5, min_child_samples=20,\n",
       "               min_child_weight=0.001, min_split_gain=0.0, n_estimators=200,\n",
       "               n_jobs=-1, num_leaves=31, objective=None, random_state=None,\n",
       "               reg_alpha=0.0, reg_lambda=0.0, silent=True, subsample=1.0,\n",
       "               subsample_for_bin=200000, subsample_freq=0)"
      ]
     },
     "execution_count": 17,
     "metadata": {
      "tags": []
     },
     "output_type": "execute_result"
    }
   ],
   "source": [
    "clf.best_estimator_   #best params"
   ]
  },
  {
   "cell_type": "markdown",
   "metadata": {
    "id": "L0XEwg0M1cfi"
   },
   "source": [
    " model  with best params"
   ]
  },
  {
   "cell_type": "code",
   "execution_count": null,
   "metadata": {
    "id": "nbaXSkuu87IJ"
   },
   "outputs": [],
   "source": [
    "#fitting model with best param\n",
    "lgbm=LGBMClassifier(device_type='gpu',class_weight={0:1,1:5},learning_rate=0.1,max_depth=5,n_estimators=200)\n",
    "lgbm.fit(x_tr,y_train)"
   ]
  },
  {
   "cell_type": "code",
   "execution_count": null,
   "metadata": {
    "colab": {
     "base_uri": "https://localhost:8080/"
    },
    "id": "VwOD5lRxHRn3",
    "outputId": "47657f78-00df-44da-a081-5825ba611fb3"
   },
   "outputs": [
    {
     "name": "stdout",
     "output_type": "stream",
     "text": [
      "f1 score for train: 0.42323728563824353\n"
     ]
    }
   ],
   "source": [
    "from sklearn.metrics import f1_score\n",
    "y_tr_pred=lgbm.predict(x_tr)\n",
    "tr_f1=f1_score(y_tr_pred,y_train)\n",
    "print('f1 score for train:',tr_f1)"
   ]
  },
  {
   "cell_type": "code",
   "execution_count": null,
   "metadata": {
    "colab": {
     "base_uri": "https://localhost:8080/"
    },
    "id": "vv5pbIAkHmuO",
    "outputId": "0e7babc7-0099-4eee-a99d-a052c479b994"
   },
   "outputs": [
    {
     "name": "stdout",
     "output_type": "stream",
     "text": [
      "f1 score for cv: 0.4229607006439822\n"
     ]
    }
   ],
   "source": [
    "y_cv_pred=lgbm.predict(x_cv)\n",
    "cv_f1=f1_score(y_cv_pred,y_cv)\n",
    "print('f1 score for cv:',cv_f1)"
   ]
  },
  {
   "cell_type": "code",
   "execution_count": null,
   "metadata": {
    "colab": {
     "base_uri": "https://localhost:8080/",
     "height": 342
    },
    "id": "5RiZxvHGRMeU",
    "outputId": "2b536792-c081-4867-d044-7ada746a0f0b"
   },
   "outputs": [
    {
     "data": {
      "image/png": "[encoded data removed]",
      "text/plain": [
       "<Figure size 432x288 with 1 Axes>"
      ]
     },
     "metadata": {
      "needs_background": "light",
      "tags": []
     },
     "output_type": "display_data"
    }
   ],
   "source": [
    "#feature importance\n",
    "imp=lgbm.feature_importances_\n",
    "#sort feature importance in desc order\n",
    "indices=np.argsort(imp)[::-1]\n",
    "feature_names=x_tr.columns\n",
    "#rearrange feature names to match importances\n",
    "name=[feature_names[i] for i in indices]\n",
    "#barplot\n",
    "plt.bar(range(len(indices)),imp[indices])\n",
    "plt.xticks(range(len(indices)),name)\n",
    "plt.xticks(rotation='vertical')\n",
    "plt.show()"
   ]
  },
  {
   "cell_type": "markdown",
   "metadata": {
    "id": "oq7QL-rIDDzQ"
   },
   "source": [
    "**<h3>MODEL6- Catboost**"
   ]
  },
  {
   "cell_type": "code",
   "execution_count": null,
   "metadata": {
    "colab": {
     "base_uri": "https://localhost:8080/"
    },
    "id": "urDw9Trk9IOd",
    "outputId": "8d55142a-adaf-4fd4-dff7-a3db4085ab43"
   },
   "outputs": [
    {
     "name": "stdout",
     "output_type": "stream",
     "text": [
      "Requirement already satisfied: catboost in /usr/local/lib/python3.7/dist-packages (0.25.1)\n",
      "Requirement already satisfied: pandas>=0.24.0 in /usr/local/lib/python3.7/dist-packages (from catboost) (1.1.5)\n",
      "Requirement already satisfied: matplotlib in /usr/local/lib/python3.7/dist-packages (from catboost) (3.2.2)\n",
      "Requirement already satisfied: six in /usr/local/lib/python3.7/dist-packages (from catboost) (1.15.0)\n",
      "Requirement already satisfied: numpy>=1.16.0 in /usr/local/lib/python3.7/dist-packages (from catboost) (1.19.5)\n",
      "Requirement already satisfied: scipy in /usr/local/lib/python3.7/dist-packages (from catboost) (1.4.1)\n",
      "Requirement already satisfied: graphviz in /usr/local/lib/python3.7/dist-packages (from catboost) (0.10.1)\n",
      "Requirement already satisfied: plotly in /usr/local/lib/python3.7/dist-packages (from catboost) (4.4.1)\n",
      "Requirement already satisfied: python-dateutil>=2.7.3 in /usr/local/lib/python3.7/dist-packages (from pandas>=0.24.0->catboost) (2.8.1)\n",
      "Requirement already satisfied: pytz>=2017.2 in /usr/local/lib/python3.7/dist-packages (from pandas>=0.24.0->catboost) (2018.9)\n",
      "Requirement already satisfied: pyparsing!=2.0.4,!=2.1.2,!=2.1.6,>=2.0.1 in /usr/local/lib/python3.7/dist-packages (from matplotlib->catboost) (2.4.7)\n",
      "Requirement already satisfied: cycler>=0.10 in /usr/local/lib/python3.7/dist-packages (from matplotlib->catboost) (0.10.0)\n",
      "Requirement already satisfied: kiwisolver>=1.0.1 in /usr/local/lib/python3.7/dist-packages (from matplotlib->catboost) (1.3.1)\n",
      "Requirement already satisfied: retrying>=1.3.3 in /usr/local/lib/python3.7/dist-packages (from plotly->catboost) (1.3.3)\n"
     ]
    }
   ],
   "source": [
    "pip install catboost"
   ]
  },
  {
   "cell_type": "code",
   "execution_count": null,
   "metadata": {
    "colab": {
     "base_uri": "https://localhost:8080/"
    },
    "id": "qPXxUAshDbJ6",
    "outputId": "3361416a-8ee1-49de-a916-252dfb0f54c1"
   },
   "outputs": [
    {
     "data": {
      "text/plain": [
       "RandomizedSearchCV(cv=3, error_score=nan,\n",
       "                   estimator=<catboost.core.CatBoostClassifier object at 0x7fe251d46090>,\n",
       "                   iid='deprecated', n_iter=10, n_jobs=None,\n",
       "                   param_distributions={'learning_rate': [0.1, 0.15, 0.2],\n",
       "                                        'max_depth': [5, 8, 10],\n",
       "                                        'n_estimators': [100, 150, 200],\n",
       "                                        'scale_pos_weight': [5, 10]},\n",
       "                   pre_dispatch='2*n_jobs', random_state=None, refit=True,\n",
       "                   return_train_score=True, scoring='f1', verbose=0)"
      ]
     },
     "execution_count": 20,
     "metadata": {
      "tags": []
     },
     "output_type": "execute_result"
    }
   ],
   "source": [
    "from catboost import CatBoostClassifier\n",
    "param = {'max_depth':[5,8,10],'learning_rate':[0.1,0.15,0.2],'n_estimators':[100,150,200],'scale_pos_weight':[5,10] }  # scale_pos_weight[=#negatv/#postive typically] for imbalance data\n",
    "#print(param_grid)\n",
    "model=CatBoostClassifier(task_type='GPU',verbose=False)\n",
    "clf = RandomizedSearchCV(model,param,cv=3, return_train_score=True, scoring='f1')   #3-fold cv\n",
    "clf.fit(x_tr, y_train)"
   ]
  },
  {
   "cell_type": "code",
   "execution_count": null,
   "metadata": {
    "colab": {
     "base_uri": "https://localhost:8080/"
    },
    "id": "ln0i_JkjDeRA",
    "outputId": "1da92dc6-9ac8-47b1-8707-0716f5ad66fe"
   },
   "outputs": [
    {
     "data": {
      "text/plain": [
       "{'mean_fit_time': array([3.02341922, 3.78354049, 2.99499178, 7.6569438 , 4.59391292,\n",
       "        3.00415214, 7.63888804, 3.7715652 , 6.12028766, 3.00573977]),\n",
       " 'mean_score_time': array([1.67770537, 1.71356924, 1.6749955 , 1.80416512, 2.00308077,\n",
       "        1.6433843 , 1.80599141, 1.6725657 , 2.14727084, 1.71789408]),\n",
       " 'mean_test_score': array([0.35885428, 0.36092195, 0.35782846, 0.42192455, 0.36152846,\n",
       "        0.42177212, 0.42192691, 0.42177679, 0.36192584, 0.35664371]),\n",
       " 'mean_train_score': array([0.35915027, 0.36214699, 0.35818336, 0.42359064, 0.36487968,\n",
       "        0.42188106, 0.42453215, 0.42238477, 0.36593582, 0.3568193 ]),\n",
       " 'param_learning_rate': masked_array(data=[0.2, 0.2, 0.15, 0.1, 0.2, 0.1, 0.15, 0.1, 0.15, 0.1],\n",
       "              mask=[False, False, False, False, False, False, False, False,\n",
       "                    False, False],\n",
       "        fill_value='?',\n",
       "             dtype=object),\n",
       " 'param_max_depth': masked_array(data=[5, 8, 5, 8, 10, 5, 8, 8, 10, 5],\n",
       "              mask=[False, False, False, False, False, False, False, False,\n",
       "                    False, False],\n",
       "        fill_value='?',\n",
       "             dtype=object),\n",
       " 'param_n_estimators': masked_array(data=[100, 100, 100, 200, 100, 100, 200, 100, 150, 100],\n",
       "              mask=[False, False, False, False, False, False, False, False,\n",
       "                    False, False],\n",
       "        fill_value='?',\n",
       "             dtype=object),\n",
       " 'param_scale_pos_weight': masked_array(data=[10, 10, 10, 5, 10, 5, 5, 5, 10, 10],\n",
       "              mask=[False, False, False, False, False, False, False, False,\n",
       "                    False, False],\n",
       "        fill_value='?',\n",
       "             dtype=object),\n",
       " 'params': [{'learning_rate': 0.2,\n",
       "   'max_depth': 5,\n",
       "   'n_estimators': 100,\n",
       "   'scale_pos_weight': 10},\n",
       "  {'learning_rate': 0.2,\n",
       "   'max_depth': 8,\n",
       "   'n_estimators': 100,\n",
       "   'scale_pos_weight': 10},\n",
       "  {'learning_rate': 0.15,\n",
       "   'max_depth': 5,\n",
       "   'n_estimators': 100,\n",
       "   'scale_pos_weight': 10},\n",
       "  {'learning_rate': 0.1,\n",
       "   'max_depth': 8,\n",
       "   'n_estimators': 200,\n",
       "   'scale_pos_weight': 5},\n",
       "  {'learning_rate': 0.2,\n",
       "   'max_depth': 10,\n",
       "   'n_estimators': 100,\n",
       "   'scale_pos_weight': 10},\n",
       "  {'learning_rate': 0.1,\n",
       "   'max_depth': 5,\n",
       "   'n_estimators': 100,\n",
       "   'scale_pos_weight': 5},\n",
       "  {'learning_rate': 0.15,\n",
       "   'max_depth': 8,\n",
       "   'n_estimators': 200,\n",
       "   'scale_pos_weight': 5},\n",
       "  {'learning_rate': 0.1,\n",
       "   'max_depth': 8,\n",
       "   'n_estimators': 100,\n",
       "   'scale_pos_weight': 5},\n",
       "  {'learning_rate': 0.15,\n",
       "   'max_depth': 10,\n",
       "   'n_estimators': 150,\n",
       "   'scale_pos_weight': 10},\n",
       "  {'learning_rate': 0.1,\n",
       "   'max_depth': 5,\n",
       "   'n_estimators': 100,\n",
       "   'scale_pos_weight': 10}],\n",
       " 'rank_test_score': array([ 8,  7,  9,  2,  6,  4,  1,  3,  5, 10], dtype=int32),\n",
       " 'split0_test_score': array([0.35823958, 0.36075335, 0.35779945, 0.42067559, 0.36079471,\n",
       "        0.42065978, 0.42075396, 0.42075686, 0.36088136, 0.35614092]),\n",
       " 'split0_train_score': array([0.35966384, 0.36295362, 0.35916457, 0.42417286, 0.36526296,\n",
       "        0.42224756, 0.42499313, 0.42315186, 0.36622107, 0.35749459]),\n",
       " 'split1_test_score': array([0.36012374, 0.36145998, 0.35826224, 0.4221394 , 0.36235415,\n",
       "        0.42206531, 0.42220601, 0.42213903, 0.36300056, 0.35761988]),\n",
       " 'split1_train_score': array([0.35903046, 0.36141084, 0.35747563, 0.42330612, 0.36475186,\n",
       "        0.42191898, 0.4245113 , 0.42205146, 0.36570202, 0.3564578 ]),\n",
       " 'split2_test_score': array([0.35819953, 0.36055252, 0.35742368, 0.42295868, 0.36143651,\n",
       "        0.42259128, 0.42282077, 0.42243448, 0.3618956 , 0.35617034]),\n",
       " 'split2_train_score': array([0.35875652, 0.3620765 , 0.35790988, 0.42329293, 0.36462422,\n",
       "        0.42147664, 0.42409203, 0.42195099, 0.36588436, 0.35650552]),\n",
       " 'std_fit_time': array([0.01181541, 0.00980043, 0.01001894, 0.00798944, 0.01267384,\n",
       "        0.01692429, 0.00816677, 0.00399959, 0.01826994, 0.0099053 ]),\n",
       " 'std_score_time': array([0.02167929, 0.02249219, 0.02189713, 0.02839746, 0.04807052,\n",
       "        0.01293877, 0.01158141, 0.0222033 , 0.02857874, 0.01757045]),\n",
       " 'std_test_score': array([0.00089779, 0.00038918, 0.00034295, 0.00094437, 0.00063995,\n",
       "        0.00081533, 0.00086654, 0.00073122, 0.00086542, 0.00069036]),\n",
       " 'std_train_score': array([0.00037998, 0.00063181, 0.00071611, 0.00041173, 0.00027599,\n",
       "        0.00031587, 0.00036817, 0.00054396, 0.000215  , 0.0004779 ])}"
      ]
     },
     "execution_count": 21,
     "metadata": {
      "tags": []
     },
     "output_type": "execute_result"
    }
   ],
   "source": [
    "clf.cv_results_"
   ]
  },
  {
   "cell_type": "code",
   "execution_count": null,
   "metadata": {
    "colab": {
     "base_uri": "https://localhost:8080/"
    },
    "id": "6ulo_M6cAf3f",
    "outputId": "50aabf44-d756-4a9b-d1e7-636236b5175a"
   },
   "outputs": [
    {
     "data": {
      "text/plain": [
       "{'learning_rate': 0.15,\n",
       " 'max_depth': 8,\n",
       " 'n_estimators': 200,\n",
       " 'scale_pos_weight': 5}"
      ]
     },
     "execution_count": 24,
     "metadata": {
      "tags": []
     },
     "output_type": "execute_result"
    }
   ],
   "source": [
    "clf.best_params_"
   ]
  },
  {
   "cell_type": "code",
   "execution_count": null,
   "metadata": {
    "id": "ytsfm3A6DnFc"
   },
   "outputs": [],
   "source": [
    "cat=CatBoostClassifier(learning_rate= 0.15,max_depth= 8,n_estimators= 200,scale_pos_weight= 5,verbose=False) #model with best parms\n",
    "cat.fit(x_tr,y_train)  #fitting\n",
    "y_tr_pred=cat.predict(x_tr) #predicting\n",
    "y_cv_pred=cat.predict(x_cv)"
   ]
  },
  {
   "cell_type": "code",
   "execution_count": null,
   "metadata": {
    "colab": {
     "base_uri": "https://localhost:8080/"
    },
    "id": "SpEkzCm7x-R2",
    "outputId": "d90b4078-2694-4c90-833b-6ee44ba6ee7f"
   },
   "outputs": [
    {
     "name": "stdout",
     "output_type": "stream",
     "text": [
      "train f1 score: 0.42326660501729363\n"
     ]
    }
   ],
   "source": [
    "from sklearn.metrics import f1_score  \n",
    "f1_tr=f1_score(y_tr_pred,y_train)\n",
    "print('train f1 score:', f1_tr )"
   ]
  },
  {
   "cell_type": "code",
   "execution_count": null,
   "metadata": {
    "colab": {
     "base_uri": "https://localhost:8080/"
    },
    "id": "iEqwig_qyCNa",
    "outputId": "2a692c7c-2cb2-4cf6-fb16-94f5e2e30b64"
   },
   "outputs": [
    {
     "name": "stdout",
     "output_type": "stream",
     "text": [
      "cv f1 score: 0.4225307318037922\n"
     ]
    }
   ],
   "source": [
    "f1_cv=f1_score(y_cv_pred,y_cv)  \n",
    "print('cv f1 score:', f1_cv )"
   ]
  },
  {
   "cell_type": "code",
   "execution_count": null,
   "metadata": {
    "colab": {
     "base_uri": "https://localhost:8080/",
     "height": 342
    },
    "id": "2KQ5RGxDD4qA",
    "outputId": "da207538-3d68-4f84-9b81-b40e2c6937ab"
   },
   "outputs": [
    {
     "data": {
      "image/png": "[encoded data removed]",
      "text/plain": [
       "<Figure size 432x288 with 1 Axes>"
      ]
     },
     "metadata": {
      "needs_background": "light",
      "tags": []
     },
     "output_type": "display_data"
    }
   ],
   "source": [
    "#feature importance\n",
    "imp=cat.feature_importances_\n",
    "#sort feature importance in desc order\n",
    "indices=np.argsort(imp)[::-1]\n",
    "feature_names=x_tr.columns\n",
    "#rearrange feature names to match importances\n",
    "name=[feature_names[i] for i in indices]\n",
    "#barplot\n",
    "plt.bar(range(len(indices)),imp[indices])\n",
    "plt.xticks(range(len(indices)),name)\n",
    "plt.xticks(rotation='vertical')\n",
    "plt.show()"
   ]
  },
  {
   "cell_type": "markdown",
   "metadata": {
    "id": "TZIFDs4lMarC"
   },
   "source": [
    "**RESULT Summary**"
   ]
  },
  {
   "cell_type": "code",
   "execution_count": null,
   "metadata": {
    "colab": {
     "base_uri": "https://localhost:8080/"
    },
    "id": "WjPWUkJhMwc6",
    "outputId": "f79a174d-e8e8-4415-c36c-a336df83a244"
   },
   "outputs": [
    {
     "name": "stdout",
     "output_type": "stream",
     "text": [
      "Requirement already up-to-date: prettytable in /usr/local/lib/python3.7/dist-packages (2.1.0)\n",
      "Requirement already satisfied, skipping upgrade: importlib-metadata; python_version < \"3.8\" in /usr/local/lib/python3.7/dist-packages (from prettytable) (3.7.2)\n",
      "Requirement already satisfied, skipping upgrade: wcwidth in /usr/local/lib/python3.7/dist-packages (from prettytable) (0.2.5)\n",
      "Requirement already satisfied, skipping upgrade: zipp>=0.5 in /usr/local/lib/python3.7/dist-packages (from importlib-metadata; python_version < \"3.8\"->prettytable) (3.4.1)\n",
      "Requirement already satisfied, skipping upgrade: typing-extensions>=3.6.4; python_version < \"3.8\" in /usr/local/lib/python3.7/dist-packages (from importlib-metadata; python_version < \"3.8\"->prettytable) (3.7.4.3)\n"
     ]
    }
   ],
   "source": [
    "! pip install -U prettytable"
   ]
  },
  {
   "cell_type": "code",
   "execution_count": null,
   "metadata": {
    "colab": {
     "base_uri": "https://localhost:8080/"
    },
    "id": "lYZvoyz0M1ZD",
    "outputId": "0670fd75-f735-464f-e8f6-06b8d1379f96"
   },
   "outputs": [
    {
     "name": "stdout",
     "output_type": "stream",
     "text": [
      "+---------------------+---------------------+---------------------+\n",
      "|        Model        |    Train F1 score   |     CV f1 score     |\n",
      "+---------------------+---------------------+---------------------+\n",
      "| Logistic Regression | 0.41813947038094595 | 0.27154717375508164 |\n",
      "|    Decision Tree    |  0.4188730139929286 |  0.4170827358637251 |\n",
      "|    Random Forest    | 0.41895097319774954 | 0.41912509540982956 |\n",
      "|       XGBOOST       |  0.4226661748570595 |  0.4226914564447804 |\n",
      "|         LGBM        | 0.42323728563824353 |  0.4229607006439822 |\n",
      "|       CatBoost      | 0.42326660501729363 |  0.4225307318037922 |\n",
      "+---------------------+---------------------+---------------------+\n"
     ]
    }
   ],
   "source": [
    "#ref:https://pypi.org/project/prettytable/\n",
    "from prettytable import PrettyTable\n",
    "table=PrettyTable()\n",
    "table.field_names=[\"Model\",\"Train F1 score\",\"CV f1 score\"]\n",
    "table.add_row([\"Logistic Regression\",0.41813947038094595,0.27154717375508164])\n",
    "table.add_row([\"Decision Tree\",0.4188730139929286,0.4170827358637251])\n",
    "table.add_row([\"Random Forest\",0.41895097319774954,0.41912509540982956])\n",
    "table.add_row([\"XGBOOST\",0.4226661748570595,0.4226914564447804])\n",
    "table.add_row([\"LGBM\", 0.42323728563824353,0.4229607006439822])\n",
    "table.add_row([\"CatBoost\", 0.42326660501729363,0.4225307318037922])\n",
    "print(table)"
   ]
  },
  {
   "cell_type": "markdown",
   "metadata": {
    "id": "ZT-yroiQOOK7"
   },
   "source": [
    "Since **XGBOOST,LGBM and Catboost** gave approx same result.I'm trying all three on test data and checking kaggle score."
   ]
  },
  {
   "cell_type": "markdown",
   "metadata": {
    "id": "lreULg1LMXg1"
   },
   "source": [
    "In order to submit on kaggle ,we want order_id corresponding to all test users and not their user_id."
   ]
  },
  {
   "cell_type": "code",
   "execution_count": null,
   "metadata": {
    "colab": {
     "base_uri": "https://localhost:8080/",
     "height": 204
    },
    "id": "8qJhyVjyMa05",
    "outputId": "7326495e-e9d5-40c7-f666-51ff340ecc83"
   },
   "outputs": [
    {
     "data": {
      "text/html": [
       "<div>\n",
       "<style scoped>\n",
       "    .dataframe tbody tr th:only-of-type {\n",
       "        vertical-align: middle;\n",
       "    }\n",
       "\n",
       "    .dataframe tbody tr th {\n",
       "        vertical-align: top;\n",
       "    }\n",
       "\n",
       "    .dataframe thead th {\n",
       "        text-align: right;\n",
       "    }\n",
       "</style>\n",
       "<table border=\"1\" class=\"dataframe\">\n",
       "  <thead>\n",
       "    <tr style=\"text-align: right;\">\n",
       "      <th></th>\n",
       "      <th>user_id</th>\n",
       "      <th>order_id</th>\n",
       "      <th>product_id</th>\n",
       "    </tr>\n",
       "  </thead>\n",
       "  <tbody>\n",
       "    <tr>\n",
       "      <th>0</th>\n",
       "      <td>3</td>\n",
       "      <td>2774568</td>\n",
       "      <td>248</td>\n",
       "    </tr>\n",
       "    <tr>\n",
       "      <th>1</th>\n",
       "      <td>3</td>\n",
       "      <td>2774568</td>\n",
       "      <td>1005</td>\n",
       "    </tr>\n",
       "    <tr>\n",
       "      <th>2</th>\n",
       "      <td>3</td>\n",
       "      <td>2774568</td>\n",
       "      <td>1819</td>\n",
       "    </tr>\n",
       "    <tr>\n",
       "      <th>3</th>\n",
       "      <td>3</td>\n",
       "      <td>2774568</td>\n",
       "      <td>7503</td>\n",
       "    </tr>\n",
       "    <tr>\n",
       "      <th>4</th>\n",
       "      <td>3</td>\n",
       "      <td>2774568</td>\n",
       "      <td>8021</td>\n",
       "    </tr>\n",
       "  </tbody>\n",
       "</table>\n",
       "</div>"
      ],
      "text/plain": [
       "   user_id  order_id  product_id\n",
       "0        3   2774568         248\n",
       "1        3   2774568        1005\n",
       "2        3   2774568        1819\n",
       "3        3   2774568        7503\n",
       "4        3   2774568        8021"
      ]
     },
     "execution_count": 7,
     "metadata": {
      "tags": []
     },
     "output_type": "execute_result"
    }
   ],
   "source": [
    "ord_id=pd.read_csv('/content/drive/MyDrive/Instacart/test_final.csv')[['user_id','order_id','product_id']]\n",
    "ord_id.head()"
   ]
  },
  {
   "cell_type": "markdown",
   "metadata": {
    "id": "P-FFX3GQxY4M"
   },
   "source": [
    "<h3> 1.predicting y(reordered or not) for test using model4 i.e. XGBOOST"
   ]
  },
  {
   "cell_type": "code",
   "execution_count": null,
   "metadata": {
    "id": "iquntfu9xfQD"
   },
   "outputs": [],
   "source": [
    "te_df['pred_xgbc']=xgbc.predict(te_df)"
   ]
  },
  {
   "cell_type": "code",
   "execution_count": null,
   "metadata": {
    "colab": {
     "base_uri": "https://localhost:8080/",
     "height": 272
    },
    "id": "hetK1T6cxssI",
    "outputId": "a0db5c63-ec26-42ac-8fbd-0a931551f47b"
   },
   "outputs": [
    {
     "data": {
      "text/html": [
       "<div>\n",
       "<style scoped>\n",
       "    .dataframe tbody tr th:only-of-type {\n",
       "        vertical-align: middle;\n",
       "    }\n",
       "\n",
       "    .dataframe tbody tr th {\n",
       "        vertical-align: top;\n",
       "    }\n",
       "\n",
       "    .dataframe thead th {\n",
       "        text-align: right;\n",
       "    }\n",
       "</style>\n",
       "<table border=\"1\" class=\"dataframe\">\n",
       "  <thead>\n",
       "    <tr style=\"text-align: right;\">\n",
       "      <th></th>\n",
       "      <th></th>\n",
       "      <th>Total orders</th>\n",
       "      <th>user_re_ratio</th>\n",
       "      <th>user_ntre_ratio</th>\n",
       "      <th>user_prd_re_ratio</th>\n",
       "      <th>times_cart_123</th>\n",
       "      <th>times_prd_last_5</th>\n",
       "      <th>prd_cart_last_5</th>\n",
       "      <th>prd_ntre_ratio</th>\n",
       "      <th>dow_re_ratio</th>\n",
       "      <th>dow_ntre_ratio</th>\n",
       "      <th>pred_xgbc</th>\n",
       "    </tr>\n",
       "    <tr>\n",
       "      <th>user_id</th>\n",
       "      <th>product_id</th>\n",
       "      <th></th>\n",
       "      <th></th>\n",
       "      <th></th>\n",
       "      <th></th>\n",
       "      <th></th>\n",
       "      <th></th>\n",
       "      <th></th>\n",
       "      <th></th>\n",
       "      <th></th>\n",
       "      <th></th>\n",
       "      <th></th>\n",
       "    </tr>\n",
       "  </thead>\n",
       "  <tbody>\n",
       "    <tr>\n",
       "      <th rowspan=\"5\" valign=\"top\">3</th>\n",
       "      <th>248</th>\n",
       "      <td>0.09375</td>\n",
       "      <td>0.625</td>\n",
       "      <td>0.375</td>\n",
       "      <td>0.090909</td>\n",
       "      <td>0.010417</td>\n",
       "      <td>0.0</td>\n",
       "      <td>0.157692</td>\n",
       "      <td>0.599749</td>\n",
       "      <td>0.0</td>\n",
       "      <td>0.0</td>\n",
       "      <td>0.0</td>\n",
       "    </tr>\n",
       "    <tr>\n",
       "      <th>1005</th>\n",
       "      <td>0.09375</td>\n",
       "      <td>0.625</td>\n",
       "      <td>0.375</td>\n",
       "      <td>0.333333</td>\n",
       "      <td>0.000000</td>\n",
       "      <td>0.2</td>\n",
       "      <td>0.284615</td>\n",
       "      <td>0.559395</td>\n",
       "      <td>0.0</td>\n",
       "      <td>0.0</td>\n",
       "      <td>0.0</td>\n",
       "    </tr>\n",
       "    <tr>\n",
       "      <th>1819</th>\n",
       "      <td>0.09375</td>\n",
       "      <td>0.625</td>\n",
       "      <td>0.375</td>\n",
       "      <td>0.333333</td>\n",
       "      <td>0.020833</td>\n",
       "      <td>0.0</td>\n",
       "      <td>0.142308</td>\n",
       "      <td>0.507838</td>\n",
       "      <td>0.0</td>\n",
       "      <td>0.0</td>\n",
       "      <td>0.0</td>\n",
       "    </tr>\n",
       "    <tr>\n",
       "      <th>7503</th>\n",
       "      <td>0.09375</td>\n",
       "      <td>0.625</td>\n",
       "      <td>0.375</td>\n",
       "      <td>0.100000</td>\n",
       "      <td>0.000000</td>\n",
       "      <td>0.0</td>\n",
       "      <td>0.107692</td>\n",
       "      <td>0.446449</td>\n",
       "      <td>0.0</td>\n",
       "      <td>0.0</td>\n",
       "      <td>0.0</td>\n",
       "    </tr>\n",
       "    <tr>\n",
       "      <th>8021</th>\n",
       "      <td>0.09375</td>\n",
       "      <td>0.625</td>\n",
       "      <td>0.375</td>\n",
       "      <td>0.090909</td>\n",
       "      <td>0.000000</td>\n",
       "      <td>0.0</td>\n",
       "      <td>0.084615</td>\n",
       "      <td>0.408843</td>\n",
       "      <td>0.0</td>\n",
       "      <td>0.0</td>\n",
       "      <td>0.0</td>\n",
       "    </tr>\n",
       "  </tbody>\n",
       "</table>\n",
       "</div>"
      ],
      "text/plain": [
       "                    Total orders  user_re_ratio  ...  dow_ntre_ratio  pred_xgbc\n",
       "user_id product_id                               ...                           \n",
       "3       248              0.09375          0.625  ...             0.0        0.0\n",
       "        1005             0.09375          0.625  ...             0.0        0.0\n",
       "        1819             0.09375          0.625  ...             0.0        0.0\n",
       "        7503             0.09375          0.625  ...             0.0        0.0\n",
       "        8021             0.09375          0.625  ...             0.0        0.0\n",
       "\n",
       "[5 rows x 11 columns]"
      ]
     },
     "execution_count": 21,
     "metadata": {
      "tags": []
     },
     "output_type": "execute_result"
    }
   ],
   "source": [
    "te_df.head()"
   ]
  },
  {
   "cell_type": "code",
   "execution_count": null,
   "metadata": {
    "colab": {
     "base_uri": "https://localhost:8080/",
     "height": 204
    },
    "id": "BV_BVABPxwPQ",
    "outputId": "3596d4c5-8085-4b2e-eaab-698c4472f748"
   },
   "outputs": [
    {
     "data": {
      "text/html": [
       "<div>\n",
       "<style scoped>\n",
       "    .dataframe tbody tr th:only-of-type {\n",
       "        vertical-align: middle;\n",
       "    }\n",
       "\n",
       "    .dataframe tbody tr th {\n",
       "        vertical-align: top;\n",
       "    }\n",
       "\n",
       "    .dataframe thead th {\n",
       "        text-align: right;\n",
       "    }\n",
       "</style>\n",
       "<table border=\"1\" class=\"dataframe\">\n",
       "  <thead>\n",
       "    <tr style=\"text-align: right;\">\n",
       "      <th></th>\n",
       "      <th>user_id</th>\n",
       "      <th>product_id</th>\n",
       "      <th>pred_xgbc</th>\n",
       "    </tr>\n",
       "  </thead>\n",
       "  <tbody>\n",
       "    <tr>\n",
       "      <th>0</th>\n",
       "      <td>3</td>\n",
       "      <td>248</td>\n",
       "      <td>0.0</td>\n",
       "    </tr>\n",
       "    <tr>\n",
       "      <th>1</th>\n",
       "      <td>3</td>\n",
       "      <td>1005</td>\n",
       "      <td>0.0</td>\n",
       "    </tr>\n",
       "    <tr>\n",
       "      <th>2</th>\n",
       "      <td>3</td>\n",
       "      <td>1819</td>\n",
       "      <td>0.0</td>\n",
       "    </tr>\n",
       "    <tr>\n",
       "      <th>3</th>\n",
       "      <td>3</td>\n",
       "      <td>7503</td>\n",
       "      <td>0.0</td>\n",
       "    </tr>\n",
       "    <tr>\n",
       "      <th>4</th>\n",
       "      <td>3</td>\n",
       "      <td>8021</td>\n",
       "      <td>0.0</td>\n",
       "    </tr>\n",
       "  </tbody>\n",
       "</table>\n",
       "</div>"
      ],
      "text/plain": [
       "   user_id  product_id  pred_xgbc\n",
       "0        3         248        0.0\n",
       "1        3        1005        0.0\n",
       "2        3        1819        0.0\n",
       "3        3        7503        0.0\n",
       "4        3        8021        0.0"
      ]
     },
     "execution_count": 23,
     "metadata": {
      "tags": []
     },
     "output_type": "execute_result"
    }
   ],
   "source": [
    "te_df=te_df.reset_index()  #resetting index\n",
    "final_xgbc=te_df[['user_id','product_id','pred_xgbc']]  #selecting only required cols\n",
    "final_xgbc.head()  "
   ]
  },
  {
   "cell_type": "code",
   "execution_count": null,
   "metadata": {
    "id": "bFiX-fDQx9x4"
   },
   "outputs": [],
   "source": [
    "final_xgbc.to_csv('/content/drive/MyDrive/Instacart/final_xgbc.csv')"
   ]
  },
  {
   "cell_type": "markdown",
   "metadata": {
    "id": "Qv9PCy_dDMG5"
   },
   "source": [
    "merging ord_id with final_xgbc on user_id and product_id"
   ]
  },
  {
   "cell_type": "code",
   "execution_count": null,
   "metadata": {
    "colab": {
     "base_uri": "https://localhost:8080/",
     "height": 204
    },
    "id": "mB8kfAbMDXCV",
    "outputId": "daf5b59d-d84a-41c2-c476-0037ea69491a"
   },
   "outputs": [
    {
     "data": {
      "text/html": [
       "<div>\n",
       "<style scoped>\n",
       "    .dataframe tbody tr th:only-of-type {\n",
       "        vertical-align: middle;\n",
       "    }\n",
       "\n",
       "    .dataframe tbody tr th {\n",
       "        vertical-align: top;\n",
       "    }\n",
       "\n",
       "    .dataframe thead th {\n",
       "        text-align: right;\n",
       "    }\n",
       "</style>\n",
       "<table border=\"1\" class=\"dataframe\">\n",
       "  <thead>\n",
       "    <tr style=\"text-align: right;\">\n",
       "      <th></th>\n",
       "      <th>product_id</th>\n",
       "      <th>pred_xgbc</th>\n",
       "      <th>order_id</th>\n",
       "    </tr>\n",
       "  </thead>\n",
       "  <tbody>\n",
       "    <tr>\n",
       "      <th>0</th>\n",
       "      <td>248</td>\n",
       "      <td>0.0</td>\n",
       "      <td>2774568</td>\n",
       "    </tr>\n",
       "    <tr>\n",
       "      <th>1</th>\n",
       "      <td>1005</td>\n",
       "      <td>0.0</td>\n",
       "      <td>2774568</td>\n",
       "    </tr>\n",
       "    <tr>\n",
       "      <th>2</th>\n",
       "      <td>1819</td>\n",
       "      <td>0.0</td>\n",
       "      <td>2774568</td>\n",
       "    </tr>\n",
       "    <tr>\n",
       "      <th>3</th>\n",
       "      <td>7503</td>\n",
       "      <td>0.0</td>\n",
       "      <td>2774568</td>\n",
       "    </tr>\n",
       "    <tr>\n",
       "      <th>4</th>\n",
       "      <td>8021</td>\n",
       "      <td>0.0</td>\n",
       "      <td>2774568</td>\n",
       "    </tr>\n",
       "  </tbody>\n",
       "</table>\n",
       "</div>"
      ],
      "text/plain": [
       "   product_id  pred_xgbc  order_id\n",
       "0         248        0.0   2774568\n",
       "1        1005        0.0   2774568\n",
       "2        1819        0.0   2774568\n",
       "3        7503        0.0   2774568\n",
       "4        8021        0.0   2774568"
      ]
     },
     "execution_count": 10,
     "metadata": {
      "tags": []
     },
     "output_type": "execute_result"
    }
   ],
   "source": [
    "final_df=final_xgbc.merge(ord_id,on=['user_id','product_id'],how='left')\n",
    "final_df.drop('user_id',axis=1,inplace=True)  #removing user_id as not req\n",
    "final_df.head()"
   ]
  },
  {
   "cell_type": "markdown",
   "metadata": {
    "id": "Aa7wYQg5wJgI"
   },
   "source": [
    "Submission file for xgboost:-"
   ]
  },
  {
   "cell_type": "code",
   "execution_count": null,
   "metadata": {
    "id": "jdTBit8PDlll"
   },
   "outputs": [],
   "source": [
    "final_df['product_id']=final_df['product_id'].astype(int)"
   ]
  },
  {
   "cell_type": "code",
   "execution_count": null,
   "metadata": {
    "id": "FqmTko7hDq0X"
   },
   "outputs": [],
   "source": [
    "#creating dict with order_id as key as values as prod_id to be reordered\n",
    "dct=dict()\n",
    "for row in final_df.itertuples():   #for each row\n",
    "  if row.pred_xgbc==1:      #if pred=1 means reorder\n",
    "    if row.order_id in dct:    #if order_id in dct\n",
    "      dct[row.order_id] = dct[row.order_id]+' '+str(row.product_id)  #add product_id\n",
    "    else:                               #if order_id not in dct\n",
    "      dct[row.order_id]=str(row.product_id)  #add prd_id as first value\n",
    "\n",
    "#if no product is ordered by any order_id we hv to substitute None as value\n",
    "for order_id in final_df.order_id:\n",
    "  if order_id not in  dct:\n",
    "    dct[order_id] ='None'\n"
   ]
  },
  {
   "cell_type": "code",
   "execution_count": null,
   "metadata": {
    "colab": {
     "base_uri": "https://localhost:8080/",
     "height": 204
    },
    "id": "R3gB6hE-EK1D",
    "outputId": "ccef55fc-054a-49a1-9097-04c303a43133"
   },
   "outputs": [
    {
     "data": {
      "text/html": [
       "<div>\n",
       "<style scoped>\n",
       "    .dataframe tbody tr th:only-of-type {\n",
       "        vertical-align: middle;\n",
       "    }\n",
       "\n",
       "    .dataframe tbody tr th {\n",
       "        vertical-align: top;\n",
       "    }\n",
       "\n",
       "    .dataframe thead th {\n",
       "        text-align: right;\n",
       "    }\n",
       "</style>\n",
       "<table border=\"1\" class=\"dataframe\">\n",
       "  <thead>\n",
       "    <tr style=\"text-align: right;\">\n",
       "      <th></th>\n",
       "      <th>0</th>\n",
       "    </tr>\n",
       "  </thead>\n",
       "  <tbody>\n",
       "    <tr>\n",
       "      <th>2774568</th>\n",
       "      <td>17668 18599 21903 22035 39190 43961 47766 48523</td>\n",
       "    </tr>\n",
       "    <tr>\n",
       "      <th>1528013</th>\n",
       "      <td>8424 21903 38293</td>\n",
       "    </tr>\n",
       "    <tr>\n",
       "      <th>1376945</th>\n",
       "      <td>8309 13176 14947 17706 20383 24799 27959 28465...</td>\n",
       "    </tr>\n",
       "    <tr>\n",
       "      <th>1356845</th>\n",
       "      <td>5746 7076 10863 11520 13176 14992 22959 30489</td>\n",
       "    </tr>\n",
       "    <tr>\n",
       "      <th>2161313</th>\n",
       "      <td>196 1747 10441 11266 12427 14715 27839 37710 4...</td>\n",
       "    </tr>\n",
       "  </tbody>\n",
       "</table>\n",
       "</div>"
      ],
      "text/plain": [
       "                                                         0\n",
       "2774568    17668 18599 21903 22035 39190 43961 47766 48523\n",
       "1528013                                   8424 21903 38293\n",
       "1376945  8309 13176 14947 17706 20383 24799 27959 28465...\n",
       "1356845      5746 7076 10863 11520 13176 14992 22959 30489\n",
       "2161313  196 1747 10441 11266 12427 14715 27839 37710 4..."
      ]
     },
     "execution_count": 14,
     "metadata": {
      "tags": []
     },
     "output_type": "execute_result"
    }
   ],
   "source": [
    "#convert dct into df\n",
    "sub_df=pd.DataFrame.from_dict(dct,orient='index')\n",
    "sub_df.head()"
   ]
  },
  {
   "cell_type": "code",
   "execution_count": null,
   "metadata": {
    "colab": {
     "base_uri": "https://localhost:8080/"
    },
    "id": "0vjl0QQ0EfUZ",
    "outputId": "93d13ab0-a33a-4f7d-a09f-4d43bdc91d8b"
   },
   "outputs": [
    {
     "data": {
      "text/plain": [
       "75000"
      ]
     },
     "execution_count": 16,
     "metadata": {
      "tags": []
     },
     "output_type": "execute_result"
    }
   ],
   "source": [
    "sub_df.shape[0]"
   ]
  },
  {
   "cell_type": "code",
   "execution_count": null,
   "metadata": {
    "id": "nAJVpgJvEedI"
   },
   "outputs": [],
   "source": [
    "#convert to csv\n",
    "sub_df.to_csv('/content/drive/MyDrive/Instacart/sub_xgbc.csv',index=False)"
   ]
  },
  {
   "cell_type": "markdown",
   "metadata": {
    "id": "PYUseyn0H9dC"
   },
   "source": [
    "![sub_xgbc.JPG](data:image/jpeg;base64,/9j/4AAQSkZJRgABAQEAYABgAAD/4RDgRXhpZgAATU0AKgAAAAgABAE7AAIAAAAHAAAISodpAAQAAAABAAAIUpydAAEAAAAOAAAQyuocAAcAAAgMAAAAPgAAAAAc6gAAAAgAAAAAAAAAAAAAAAAAAAAAAAAAAAAAAAAAAAAAAAAAAAAAAAAAAAAAAAAAAAAAAAAAAAAAAAAAAAAAAAAAAAAAAAAAAAAAAAAAAAAAAAAAAAAAAAAAAAAAAAAAAAAAAAAAAAAAAAAAAAAAAAAAAAAAAAAAAAAAAAAAAAAAAAAAAAAAAAAAAAAAAAAAAAAAAAAAAAAAAAAAAAAAAAAAAAAAAAAAAAAAAAAAAAAAAAAAAAAAAAAAAAAAAAAAAAAAAAAAAAAAAAAAAAAAAAAAAAAAAAAAAAAAAAAAAAAAAAAAAAAAAAAAAAAAAAAAAAAAAAAAAAAAAAAAAAAAAAAAAAAAAAAAAAAAAAAAAAAAAAAAAAAAAAAAAAAAAAAAAAAAAAAAAAAAAAAAAAAAAAAAAAAAAAAAAAAAAAAAAAAAAAAAAAAAAAAAAAAAAAAAAAAAAAAAAAAAAAAAAAAAAAAAAAAAAAAAAAAAAAAAAAAAAAAAAAAAAAAAAAAAAAAAAAAAAAAAAAAAAAAAAAAAAAAAAAAAAAAAAAAAAAAAAAAAAAAAAAAAAAAAAAAAAAAAAAAAAAAAAAAAAAAAAAAAAAAAAAAAAAAAAAAAAAAAAAAAAAAAAAAAAAAAAAAAAAAAAAAAAAAAAAAAAAAAAAAAAAAAAAAAAAAAAAAAAAAAAAAAAAAAAAAAAAAAAAAAAAAAAAAAAAAAAAAAAAAAAAAAAAAAAAAAAAAAAAAAAAAAAAAAAAAAAAAAAAAAAAAAAAAAAAAAAAAAAAAAAAAAAAAAAAAAAAAAAAAAAAAAAAAAAAAAAAAAAAAAAAAAAAAAAAAAAAAAAAAAAAAAAAAAAAAAAAAAAAAAAAAAAAAAAAAAAAAAAAAAAAAAAAAAAAAAAAAAAAAAAAAAAAAAAAAAAAAAAAAAAAAAAAAAAAAAAAAAAAAAAAAAAAAAAAAAAAAAAAAAAAAAAAAAAAAAAAAAAAAAAAAAAAAAAAAAAAAAAAAAAAAAAAAAAAAAAAAAAAAAAAAAAAAAAAAAAAAAAAAAAAAAAAAAAAAAAAAAAAAAAAAAAAAAAAAAAAAAAAAAAAAAAAAAAAAAAAAAAAAAAAAAAAAAAAAAAAAAAAAAAAAAAAAAAAAAAAAAAAAAAAAAAAAAAAAAAAAAAAAAAAAAAAAAAAAAAAAAAAAAAAAAAAAAAAAAAAAAAAAAAAAAAAAAAAAAAAAAAAAAAAAAAAAAAAAAAAAAAAAAAAAAAAAAAAAAAAAAAAAAAAAAAAAAAAAAAAAAAAAAAAAAAAAAAAAAAAAAAAAAAAAAAAAAAAAAAAAAAAAAAAAAAAAAAAAAAAAAAAAAAAAAAAAAAAAAAAAAAAAAAAAAAAAAAAAAAAAAAAAAAAAAAAAAAAAAAAAAAAAAAAAAAAAAAAAAAAAAAAAAAAAAAAAAAAAAAAAAAAAAAAAAAAAAAAAAAAAAAAAAAAAAAAAAAAAAAAAAAAAAAAAAAAAAAAAAAAAAAAAAAAAAAAAAAAAAAAAAAAAAAAAAAAAAAAAAAAAAAAAAAAAAAAAAAAAAAAAAAAAAAAAAAAAAAAAAAAAAAAAAAAAAAAAAAAAAAAAAAAAAAAAAAAAAAAAAAAAAAAAAAAAAAAAAAAAAAAAAAAAAAAAAAAAAAAAAAAAAAAAAAAAAAAAAAAAAAAAAAAAAAAAAAAAAAAAAAAAAAAAAAAAAAAAAAAAAAAAAAAAAAAAAAAAAAAAAAAAAAAAAAAAAAAAAAAAAAAAAAAAAAAAAAAAAAAAAAAAAAAAAAAAAAAAAAAAAAAAAAAAAAAAAAAAAAAAAAAAAAAAAAAAAAAAAAAAAAAAAAAAAAAAAAAAAAAAAAAAAAAAAAAAAAAAAAAAAAAAAAAAAAAAAAAAAAAAAAAAAAAAAAAAAAAAAAAAAAAAAAAAAAAAAAAAAAAAAAAAAAAAAAAAAAAAAAAAAAAAAAAAAAAAAAAAAAAAAAAAAAAAAAAAAAAAAAAAAAAAAAAAAAAAAAAAAAAAAAAAAAAAAAAAAAAAAAAAAAAAAAAAAAAAAAAAAAAAAAAAAAAAAAAAAAAAAAAAAAAAAAAAAAAAAAAAAAAAAAAAAAAAAAAAAAAAAAAAAAAAAAAAAAAAAAAAAAAAAAAAAAAAAAAAAAAAAAAAAAAAAAAAAAAAAAAAAAAAAAAAAAAAAAAAAAAAAAAAAAAAAAAAAAAAAAAAAAAAAAAAAAAAAAAAAAAAAAAAAAAAAAAAAAAAAAAAAAAAAAAAAAAAAAAAAAAAAAAAAAAAAAAAAAAAAAAAAAAAAAAAAAAAAAAAAAAAAAAAAAAAAAAAAAAAAAAAAAAAAAAAAAAAAAAAAAAAAAAAAAAAAAAAAAAAAAAAAAAAAAAAAAAAAAAAAAAAAAAAAAAAAAAAAAAAAAAAAAAAAAAAAAAAAAAAAAAAAAAAAAAAAAAAAAAAAAAAAAAAAAAAAAAAAAAAAAAAAAAAAAAAAAAAAAAAAAAAAAAAAAAAAAAAAAAAAAAAAAAAAAAAAAAAAAAAAAAAAAAAAAAAAAAAAAAAAAAAAAAAAAAAAAAAAAAAAAAAAAAAAAAAAAAAAAAAAAAAAAAAAAAAAAAAAAAAAAAAAAAAAAAAAAAAAAAAAAAAAAAAAAAAAAAAAAAAAAAAAAAAAAAAAAAAAAAAAAAAAAAAAAAAAAAAAAAAAAAAAAAAAAAAAAAAAAAAAAAAAAAAAAAAAAAAAAAAAAAAAAAAAAAAAAAAAAAAAAFBhbmthagAAAAWQAwACAAAAFAAAEKCQBAACAAAAFAAAELSSkQACAAAAAzc4AACSkgACAAAAAzc4AADqHAAHAAAIDAAACJQAAAAAHOoAAAAIAAAAAAAAAAAAAAAAAAAAAAAAAAAAAAAAAAAAAAAAAAAAAAAAAAAAAAAAAAAAAAAAAAAAAAAAAAAAAAAAAAAAAAAAAAAAAAAAAAAAAAAAAAAAAAAAAAAAAAAAAAAAAAAAAAAAAAAAAAAAAAAAAAAAAAAAAAAAAAAAAAAAAAAAAAAAAAAAAAAAAAAAAAAAAAAAAAAAAAAAAAAAAAAAAAAAAAAAAAAAAAAAAAAAAAAAAAAAAAAAAAAAAAAAAAAAAAAAAAAAAAAAAAAAAAAAAAAAAAAAAAAAAAAAAAAAAAAAAAAAAAAAAAAAAAAAAAAAAAAAAAAAAAAAAAAAAAAAAAAAAAAAAAAAAAAAAAAAAAAAAAAAAAAAAAAAAAAAAAAAAAAAAAAAAAAAAAAAAAAAAAAAAAAAAAAAAAAAAAAAAAAAAAAAAAAAAAAAAAAAAAAAAAAAAAAAAAAAAAAAAAAAAAAAAAAAAAAAAAAAAAAAAAAAAAAAAAAAAAAAAAAAAAAAAAAAAAAAAAAAAAAAAAAAAAAAAAAAAAAAAAAAAAAAAAAAAAAAAAAAAAAAAAAAAAAAAAAAAAAAAAAAAAAAAAAAAAAAAAAAAAAAAAAAAAAAAAAAAAAAAAAAAAAAAAAAAAAAAAAAAAAAAAAAAAAAAAAAAAAAAAAAAAAAAAAAAAAAAAAAAAAAAAAAAAAAAAAAAAAAAAAAAAAAAAAAAAAAAAAAAAAAAAAAAAAAAAAAAAAAAAAAAAAAAAAAAAAAAAAAAAAAAAAAAAAAAAAAAAAAAAAAAAAAAAAAAAAAAAAAAAAAAAAAAAAAAAAAAAAAAAAAAAAAAAAAAAAAAAAAAAAAAAAAAAAAAAAAAAAAAAAAAAAAAAAAAAAAAAAAAAAAAAAAAAAAAAAAAAAAAAAAAAAAAAAAAAAAAAAAAAAAAAAAAAAAAAAAAAAAAAAAAAAAAAAAAAAAAAAAAAAAAAAAAAAAAAAAAAAAAAAAAAAAAAAAAAAAAAAAAAAAAAAAAAAAAAAAAAAAAAAAAAAAAAAAAAAAAAAAAAAAAAAAAAAAAAAAAAAAAAAAAAAAAAAAAAAAAAAAAAAAAAAAAAAAAAAAAAAAAAAAAAAAAAAAAAAAAAAAAAAAAAAAAAAAAAAAAAAAAAAAAAAAAAAAAAAAAAAAAAAAAAAAAAAAAAAAAAAAAAAAAAAAAAAAAAAAAAAAAAAAAAAAAAAAAAAAAAAAAAAAAAAAAAAAAAAAAAAAAAAAAAAAAAAAAAAAAAAAAAAAAAAAAAAAAAAAAAAAAAAAAAAAAAAAAAAAAAAAAAAAAAAAAAAAAAAAAAAAAAAAAAAAAAAAAAAAAAAAAAAAAAAAAAAAAAAAAAAAAAAAAAAAAAAAAAAAAAAAAAAAAAAAAAAAAAAAAAAAAAAAAAAAAAAAAAAAAAAAAAAAAAAAAAAAAAAAAAAAAAAAAAAAAAAAAAAAAAAAAAAAAAAAAAAAAAAAAAAAAAAAAAAAAAAAAAAAAAAAAAAAAAAAAAAAAAAAAAAAAAAAAAAAAAAAAAAAAAAAAAAAAAAAAAAAAAAAAAAAAAAAAAAAAAAAAAAAAAAAAAAAAAAAAAAAAAAAAAAAAAAAAAAAAAAAAAAAAAAAAAAAAAAAAAAAAAAAAAAAAAAAAAAAAAAAAAAAAAAAAAAAAAAAAAAAAAAAAAAAAAAAAAAAAAAAAAAAAAAAAAAAAAAAAAAAAAAAAAAAAAAAAAAAAAAAAAAAAAAAAAAAAAAAAAAAAAAAAAAAAAAAAAAAAAAAAAAAAAAAAAAAAAAAAAAAAAAAAAAAAAAAAAAAAAAAAAAAAAAAAAAAAAAAAAAAAAAAAAAAAAAAAAAAAAAAAAAAAAAAAAAAAAAAAAAAAAAAAAAAAAAAAAAAAAAAAAAAAAAAAAAAAAAAAAAAAAAAAAAAAAAAAAAAAAAAAAAAAAAAAAAAAAAAAAAAAAAAAAAAAAAAAAAAAAAAAAAAAAAAAAAAAAAAAAAAAAAAAAAAAAAAAAAAAAAAAAAAAAAAAAAAAAAAAAAAAAAAAAAAAAAAAAAAAAAAAAAAAAAAAAAAAAAAAAAAAAAAAAAAAAAAAAAAAAAAAAAAAAAAAAAAAAAAAAAAAAAAAAAAAAAAAAAAAAAAAAAAAAAAAAAAAAAAAAAAAAAAAAAAAAAAAAAAAAAAAAAAAAAAAAAAAAAAAAAAAAAAAAAAAAAAAAAAAAAAAAAAAAAAAAAAAAAAAAAAAAAAAAAAAAAAAAAAAAAAAAAAAAAAAAAAAAAAAAAAAAAAAAAAAAAAAAAAAAAAAAAAAAAAAAAAAAAAAAAAAAAAAAAAAAAAAAAAAAAAAAAAAAAAAAAAAAAAAAAAAAAAAAAAAAAAAAAAAAAAAAAAAAAAAAAAAAAAAAAAAAAAAAAAAAAAAAAAAAAAAAAAAAAAAAAAAAAAAAAAAAAAAAAAAAAAAAAAAAAAAAAAAAAAAAAAAAAAAAAAAAAAAAAAAAAAAAAAAAAAAAAAAAAAAAAAAAAAAAAAAAAAAAAAAAAAAAAAAAAAAAAAAAAAAAAAAAAAAAAAAAAAAAAAAAAAAAAAAAAAAAAAAAAAAAAAAAAAAAAAAAAAAAAAAAAAAAAAAAAAAAAAAAAAAAAAAAAAAAAAAAAAAAAAAAAAAAAAAAAAAAAAAAAAAAAAAAAAAAAAAAAAAAAAAAAAAAAAAAAAAAAAAAAAAAAAAAAAAAAAAAAAAAAAAAAAAAAAAAAAAAAAAAAyMDIxOjA0OjA5IDExOjA0OjQyADIwMjE6MDQ6MDkgMTE6MDQ6NDIAAABQAGEAbgBrAGEAagAAAP/hCxlodHRwOi8vbnMuYWRvYmUuY29tL3hhcC8xLjAvADw/eHBhY2tldCBiZWdpbj0n77u/JyBpZD0nVzVNME1wQ2VoaUh6cmVTek5UY3prYzlkJz8+DQo8eDp4bXBtZXRhIHhtbG5zOng9ImFkb2JlOm5zOm1ldGEvIj48cmRmOlJERiB4bWxuczpyZGY9Imh0dHA6Ly93d3cudzMub3JnLzE5OTkvMDIvMjItcmRmLXN5bnRheC1ucyMiPjxyZGY6RGVzY3JpcHRpb24gcmRmOmFib3V0PSJ1dWlkOmZhZjViZGQ1LWJhM2QtMTFkYS1hZDMxLWQzM2Q3NTE4MmYxYiIgeG1sbnM6ZGM9Imh0dHA6Ly9wdXJsLm9yZy9kYy9lbGVtZW50cy8xLjEvIi8+PHJkZjpEZXNjcmlwdGlvbiByZGY6YWJvdXQ9InV1aWQ6ZmFmNWJkZDUtYmEzZC0xMWRhLWFkMzEtZDMzZDc1MTgyZjFiIiB4bWxuczp4bXA9Imh0dHA6Ly9ucy5hZG9iZS5jb20veGFwLzEuMC8iPjx4bXA6Q3JlYXRlRGF0ZT4yMDIxLTA0LTA5VDExOjA0OjQyLjc4NDwveG1wOkNyZWF0ZURhdGU+PC9yZGY6RGVzY3JpcHRpb24+PHJkZjpEZXNjcmlwdGlvbiByZGY6YWJvdXQ9InV1aWQ6ZmFmNWJkZDUtYmEzZC0xMWRhLWFkMzEtZDMzZDc1MTgyZjFiIiB4bWxuczpkYz0iaHR0cDovL3B1cmwub3JnL2RjL2VsZW1lbnRzLzEuMS8iPjxkYzpjcmVhdG9yPjxyZGY6U2VxIHhtbG5zOnJkZj0iaHR0cDovL3d3dy53My5vcmcvMTk5OS8wMi8yMi1yZGYtc3ludGF4LW5zIyI+PHJkZjpsaT5QYW5rYWo8L3JkZjpsaT48L3JkZjpTZXE+DQoJCQk8L2RjOmNyZWF0b3I+PC9yZGY6RGVzY3JpcHRpb24+PC9yZGY6UkRGPjwveDp4bXBtZXRhPg0KICAgICAgICAgICAgICAgICAgICAgICAgICAgICAgICAgICAgICAgICAgICAgICAgICAgICAgICAgICAgICAgICAgICAgICAgICAgICAgICAgICAgICAgICAgICAgICAgICAgIAogICAgICAgICAgICAgICAgICAgICAgICAgICAgICAgICAgICAgICAgICAgICAgICAgICAgICAgICAgICAgICAgICAgICAgICAgICAgICAgICAgICAgICAgICAgICAgICAgICAgCiAgICAgICAgICAgICAgICAgICAgICAgICAgICAgICAgICAgICAgICAgICAgICAgICAgICAgICAgICAgICAgICAgICAgICAgICAgICAgICAgICAgICAgICAgICAgICAgICAgICAKICAgICAgICAgICAgICAgICAgICAgICAgICAgICAgICAgICAgICAgICAgICAgICAgICAgICAgICAgICAgICAgICAgICAgICAgICAgICAgICAgICAgICAgICAgICAgICAgICAgIAogICAgICAgICAgICAgICAgICAgICAgICAgICAgICAgICAgICAgICAgICAgICAgICAgICAgICAgICAgICAgICAgICAgICAgICAgICAgICAgICAgICAgICAgICAgICAgICAgICAgCiAgICAgICAgICAgICAgICAgICAgICAgICAgICAgICAgICAgICAgICAgICAgICAgICAgICAgICAgICAgICAgICAgICAgICAgICAgICAgICAgICAgICAgICAgICAgICAgICAgICAKICAgICAgICAgICAgICAgICAgICAgICAgICAgICAgICAgICAgICAgICAgICAgICAgICAgICAgICAgICAgICAgICAgICAgICAgICAgICAgICAgICAgICAgICAgICAgICAgICAgIAogICAgICAgICAgICAgICAgICAgICAgICAgICAgICAgICAgICAgICAgICAgICAgICAgICAgICAgICAgICAgICAgICAgICAgICAgICAgICAgICAgICAgICAgICAgICAgICAgICAgCiAgICAgICAgICAgICAgICAgICAgICAgICAgICAgICAgICAgICAgICAgICAgICAgICAgICAgICAgICAgICAgICAgICAgICAgICAgICAgICAgICAgICAgICAgICAgICAgICAgICAKICAgICAgICAgICAgICAgICAgICAgICAgICAgICAgICAgICAgICAgICAgICAgICAgICAgICAgICAgICAgICAgICAgICAgICAgICAgICAgICAgICAgICAgICAgICAgICAgICAgIAogICAgICAgICAgICAgICAgICAgICAgICAgICAgICAgICAgICAgICAgICAgICAgICAgICAgICAgICAgICAgICAgICAgICAgICAgICAgICAgICAgICAgICAgICAgICAgICAgICAgCiAgICAgICAgICAgICAgICAgICAgICAgICAgICAgICAgICAgICAgICAgICAgICAgICAgICAgICAgICAgICAgICAgICAgICAgICAgICAgICAgICAgICAgICAgICAgICAgICAgICAKICAgICAgICAgICAgICAgICAgICAgICAgICAgICAgICAgICAgICAgICAgICAgICAgICAgICAgICAgICAgICAgICAgICAgICAgICAgICAgICAgICAgICAgICAgICAgICAgICAgIAogICAgICAgICAgICAgICAgICAgICAgICAgICAgICAgICAgICAgICAgICAgICAgICAgICAgICAgICAgICAgICAgICAgICAgICAgICAgICAgICAgICAgICAgICAgICAgICAgICAgCiAgICAgICAgICAgICAgICAgICAgICAgICAgICAgICAgICAgICAgICAgICAgICAgICAgICAgICAgICAgICAgICAgICAgICAgICAgICAgICAgICAgICAgICAgICAgICAgICAgICAKICAgICAgICAgICAgICAgICAgICAgICAgICAgICAgICAgICAgICAgICAgICAgICAgICAgICAgICAgICAgICAgICAgICAgICAgICAgICAgICAgICAgICAgICAgICAgICAgICAgIAogICAgICAgICAgICAgICAgICAgICAgICAgICAgICAgICAgICAgICAgICAgICAgICAgICAgICAgICAgICAgICAgICAgICAgICAgICAgICAgICAgICAgICAgICAgICAgICAgICAgCiAgICAgICAgICAgICAgICAgICAgICAgICAgICAgICAgICAgICAgICAgICAgICAgICAgICAgICAgICAgICAgICAgICAgICAgICAgICAgICAgICAgICAgICAgICAgICAgICAgICAKICAgICAgICAgICAgICAgICAgICAgICAgICAgICAgICAgICAgICAgICAgICAgICAgICAgICAgICAgICAgICAgICAgICAgICAgICAgICAgICAgICAgICAgICAgICAgICAgICAgIAogICAgICAgICAgICAgICAgICAgICAgICAgICAgICAgICAgICAgICAgICAgICAgICAgICAgICAgICAgICAgICAgICAgICAgICAgICAgICAgICAgICAgICAgICAgICAgICAgICAgCiAgICAgICAgICAgICAgICAgICAgICAgICAgICA8P3hwYWNrZXQgZW5kPSd3Jz8+/9sAQwAHBQUGBQQHBgUGCAcHCAoRCwoJCQoVDxAMERgVGhkYFRgXGx4nIRsdJR0XGCIuIiUoKSssKxogLzMvKjInKisq/9sAQwEHCAgKCQoUCwsUKhwYHCoqKioqKioqKioqKioqKioqKioqKioqKioqKioqKioqKioqKioqKioqKioqKioqKioq/8AAEQgA4AO+AwEiAAIRAQMRAf/EAB8AAAEFAQEBAQEBAAAAAAAAAAABAgMEBQYHCAkKC//EALUQAAIBAwMCBAMFBQQEAAABfQECAwAEEQUSITFBBhNRYQcicRQygZGhCCNCscEVUtHwJDNicoIJChYXGBkaJSYnKCkqNDU2Nzg5OkNERUZHSElKU1RVVldYWVpjZGVmZ2hpanN0dXZ3eHl6g4SFhoeIiYqSk5SVlpeYmZqio6Slpqeoqaqys7S1tre4ubrCw8TFxsfIycrS09TV1tfY2drh4uPk5ebn6Onq8fLz9PX29/j5+v/EAB8BAAMBAQEBAQEBAQEAAAAAAAABAgMEBQYHCAkKC//EALURAAIBAgQEAwQHBQQEAAECdwABAgMRBAUhMQYSQVEHYXETIjKBCBRCkaGxwQkjM1LwFWJy0QoWJDThJfEXGBkaJicoKSo1Njc4OTpDREVGR0hJSlNUVVZXWFlaY2RlZmdoaWpzdHV2d3h5eoKDhIWGh4iJipKTlJWWl5iZmqKjpKWmp6ipqrKztLW2t7i5usLDxMXGx8jJytLT1NXW19jZ2uLj5OXm5+jp6vLz9PX29/j5+v/aAAwDAQACEQMRAD8A+jaKKKACiiigAooooAKKKKACiiigAooooAKKKKACiiigAooooAKKKKACiiigAooooAKKKKACiiigAooooAKKKKACiiigAooooAKKKKACiiigAooooAKKKKACiiigAooooAKKKKACiiigAooooAKKKKACiiigAooooAKKKKACiiigAooooAKKKKACiiigAooooAKKKKACiiigAooooAKKKKACiiigAooooAKKKKACiiigAooooAKKKKACiiigAooooAKKKKACiiigAooooAKKKKACiiigAooooAKKKKACiiigAooooAKKKKACiiigBLb/AFP/AANv/QjUtRW3+pP++3/oRqWgCOiiigCve273VnJFFK0MhGUkQ4KsOh+ntWNHqdxLHJqFxG8aWY8kQB8CWYkKfwBwB9Sa6GqY0y3+x3Fs2547h2d8nkFjngjpz0oGU59VurFZ0vIoTKts9xGYmO1tvVTn6jmpL3VXtWULGrZs5Ljk9128frUiaRF+9N1NNdtLEYS0xGQh6gbQPz61ENBhIPm3V1MfIe3BkcHCNj268dfzzR/X5/8AABWv/Xl/wS5YyXE1sst0saFwGVYyTgEdye9Zker38i20gt7fZcytCnznKsN3J46fKeK2Y0EUSRrkhFCjPtVSPSoI4raNWkxbSmVMkck7uvHT5jQ9xLbUqR6tdSKlusMX2xp3hJ3HyxsGS3r6cUsmsTx20m+BBNDOIZWGWRARkPwM4wR/j3qw+kQsCUlmjk85p1lQjcjEYOMjGMdiDSrpSJblIrm4SVpPNadWG92xjJ42njjGMUAUrjULySHT5LWW1Pm3Pls0bllcYOPp05Har+p3kljapJDGsjvMkYVjgfMwHX8aj/saH7MIxNMJBN5/ngrv3+vTHTjGMVZurRLyONJWYBJEkBUjkqQR/KgDNn1e5hnkt8WvmwIGk3MwDk5IVfTjufXpUo1O5u5RHp0EYZYEmfzyRjdnC4Hfg89qsXGmia4aeK5ntndQshhK/OB0zkHB56jBps+lJLIJIrm4t5PLETPEwJdR0B3A+p5689aAK1zrEyXX2eNIYZUhWSQTuepzhRj6HmkXVby6mSOyt4kLWq3B89iNpJI24H0q1LpSM6vb3NxbOIxEzxsCXUdAdwPqeevNSxWEUVz56vIz+SIfnbdkAk5yeSeeuaAM2HUbu81DTHh2RwXNu0rxtyeNuefbPFXdUvpLFYiiqFkYhppASkfGcnHr07UkekQwrZCKWZDZrsRgRllOMhuO+B0xVi6tWuQhS5mt3Q5DREc/UEEH8RQBWg1J5bmziIhYXETyF4n3L8pA4PcHNUTqF3d3Vk1sqqxmuIypYhCEJAJ9enSro0SBI4BDNPDJAWIlRhubcctnIxyeen0xSLoUEccKxT3EbQvI8cgcFgXOT1HPXv8ArQBD/bFziOEQRfaftRtpBvO0HYW3A4z0xTBq96i75oINkV0LaXa5ySSAGXjp8w4PvV2LSIIhD+8ld45jOXYjMjkEZbj0PbHQUr6VA8cqFpMSXC3BwR94EHHTp8ooW+v9bf8ABB+X9b/8AotqT2ouDFEqA3jRvLIzMifKDuI7emOBUk+ryx2ltKPswWbduuA5eFcdOR6++MVZbS1HmGC6uIHeYzFo2HUjBGCCCOO4NIukLFbxx213cwMjMxdGUlyxySQQVPPtx2pdA6lWXVEhuI7mZFbFjJMWhlLKQCvA7HOeuKlXULyGWNL6GFfPjZ4zExO0qM7Tnrx3HpUkei2kYRcOyJA8BVjkMrEFiffIpYdIjikDS3NxcFIzHH5rD92p64wBk8dTk03tp/W4Fex1W7mewa5hhWK+j3J5bEsh27uc9sVsVTi0yGJbJVaQiyXbHkjkbdvPHp9KuU3a+glcKKKKQwooooAKKKKACiiigAooooAKKKKACiiigAooooAKKKKACiiigAooooAKKKKACiiigAooooAKKKKACiiigAooooAKKKKACiiigAooooAKKKKACiiigAooooAKKKKACiiigAooooAKKKKACiiigAooooAKKKKACiiigAooooAKKKKACiiigAooooAKKKKACiiigAooooAKKKKACiiigAooooAKKKKACiiigAooooAKKKKAEtv9Sf8Afb/0I1LUVt/qT/vt/wChGpaAI6KT5v8Anm35j/Gj5v8Anm35j/GgBaKT5v8Anm35j/Gj5v8Anm35j/GgBaKT5v8Anm35j/Gj5v8Anm35j/GgBaKT5v8Anm35j/Gj5v8Anm35j/GgBaKT5v8Anm35j/Gj5v8Anm35j/GgBaKT5v8Anm35j/Gj5v8Anm35j/GgBaKT5v8Anm35j/Gj5v8Anm35j/GgBaKT5v8Anm35j/Gj5v8Anm35j/GgBaKT5v8Anm35j/Gj5v8Anm35j/GgBaKT5v8Anm35j/Gj5v8Anm35j/GgBaKT5v8Anm35j/Gj5v8Anm35j/GgBaKT5v8Anm35j/Gj5v8Anm35j/GgBaKT5v8Anm35j/Gj5v8Anm35j/GgBaKT5v8Anm35j/Gj5v8Anm35j/GgBaKT5v8Anm35j/Gj5v8Anm35j/GgBaKT5v8Anm35j/Gj5v8Anm35j/GgBaKT5v8Anm35j/Gj5v8Anm35j/GgBaKT5v8Anm35j/Gj5v8Anm35j/GgBaKT5v8Anm35j/Gj5v8Anm35j/GgBaKT5v8Anm35j/Gj5v8Anm35j/GgBaKT5v8Anm35j/Gj5v8Anm35j/GgBaKT5v8Anm35j/Gj5v8Anm35j/GgBaKT5v8Anm35j/Gj5v8Anm35j/GgBaKT5v8Anm35j/Gj5v8Anm35j/GgBaKT5v8Anm35j/Gj5v8Anm35j/GgBaKT5v8Anm35j/Gj5v8Anm35j/GgBaKT5v8Anm35j/Gj5v8Anm35j/GgBaKT5v8Anm35j/Gj5v8Anm35j/GgBaKT5v8Anm35j/Gj5v8Anm35j/GgBaKT5v8Anm35j/Gj5v8Anm35j/GgBaKT5v8Anm35j/Gj5v8Anm35j/GgBaKT5v8Anm35j/Gj5v8Anm35j/GgBaKT5v8Anm35j/Gj5v8Anm35j/GgBaKT5v8Anm35j/Gj5v8Anm35j/GgBaKT5v8Anm35j/Gj5v8Anm35j/GgBaKT5v8Anm35j/Gj5v8Anm35j/GgBaKT5v8Anm35j/Gj5v8Anm35j/GgBaKT5v8Anm35j/Gj5v8Anm35j/GgBaKT5v8Anm35j/Gj5v8Anm35j/GgBaKT5v8Anm35j/Gj5v8Anm35j/GgBaKT5v8Anm35j/Gj5v8Anm35j/GgBaKT5v8Anm35j/Gj5v8Anm35j/GgBaKT5v8Anm35j/Gj5v8Anm35j/GgBaKT5v8Anm35j/Gj5v8Anm35j/GgBaKT5v8Anm35j/Gj5v8Anm35j/GgBaKT5v8Anm35j/Gj5v8Anm35j/GgBaKT5v8Anm35j/Gj5v8Anm35j/GgBaKT5v8Anm35j/Gj5v8Anm35j/GgBaKT5v8Anm35j/Gj5v8Anm35j/GgBaKT5v8Anm35j/Gj5v8Anm35j/GgBaKT5v8Anm35j/Gj5v8Anm35j/GgBaKT5v8Anm35j/Gj5v8Anm35j/GgBaKT5v8Anm35j/Gj5v8Anm35j/GgBaKT5v8Anm35j/Gj5v8Anm35j/GgBaKT5v8Anm35j/Gj5v8Anm35j/GgBaKT5v8Anm35j/Gj5v8Anm35j/GgBaKT5v8Anm35j/Gj5v8Anm35j/GgBaKT5v8Anm35j/Gj5v8Anm35j/GgBaKT5v8Anm35j/Gj5v8Anm35j/GgAtv9Sf8Afb/0I1LUVt/qf+Bt/wChGpaACiiigAooooAKKKKACiiigAooooAKKKKACiiigAooooAKKKKACiiigAooooAKKKKACiiigAooooAKKKKACiiigAooooAKKKKACiiigAooooAKKKKACiiigAooooAKKKKACiiigAooooAKKKKACiiigAooooAKKKKACiiigAooooAKKKKACiiigAooooAKKKKACiiigAooooAKKKKACiiigAooooAKKKKACiiigAooooAKKKKACiiigAooooAKKKKACiiigAooooAKKKKACiiigAooooAKKKKACiiigAooooAKKKKACiiigAooooAjt/8AVn/ff/0I1JUdv/qz/vv/AOhGpKACiiigAoqlq93LY6TPcWyq0qAbQ/QkkD+tQf2s0i2JiQI01wYZo3HzRkKxI+uR+VAGpRVIapAbpYWSZN7mNJHjIVmGeAfwPse1QjX7QsoCXGHdo1byThnBIKj34NAGnRVBdYtmtfO2yhvMMXkmM+Zv/u4+nPpirFrdx3iMYwysjbXR1wyHrgj8RQBPRRRQAUUUUAFFFFABRRRQAUUUUAFFFFABRRRQAUUUUAFFFFABRRRQAUUUUAFFFFABRRRQAUUUUAFFFQX1w9pp89xFEZnjjLLGOrEDpQBPRWVp99czfvmurO8tihZntgVMZ9PvHPf0NW01GCRbRkLYvF3RcdRt3c+nFGwFqisjTNdS7tbQ3KOklwMCQRkRl+flB/CpBr9oWUBLjDu0at5JwzgkFR78GgDTorNOqxzJbvC7QlrnyXjki+bOCSp546ZzzVc+IGGl3d39jlzbytGFI64OP/10AbVFUZdViiZVMU7yFPMaNIyWRfU+n060Pq9srRCLzJzLGJR5KFsIf4j7frQBeoqnpN41/pcNzJt3SAn5Rx1Iq5QAUUUUAFFFFABRRRQAUUUUAFFFFABRRRQAUUUUAFFFFABRRVKe8kg1a3gYL5E8b4buHXBx+WfyoAu0VgQa9czaTcTeVGtx5qrbrg4ZZCNhPPoefpWkdUhW5WF0mUNJ5QlMZCF/TP8AXp70AXaKx21pofIGx7rzrqSHcke3bt3cYycnj8etWtU1E6bDE4gebzJkjwo6ZIH9aNwL1FZ0mqR201y1xI3lxCL92IjuQvwOc85PtxTH1+1jWUyRXK+Sf3oMJ/dj+8fagDUoqjcavbW8rowlcRANK6RlljB55P054q8CGAIOQehoAKKKKACiiigAooooAKKKKACisOx1O5u7g79QsI8XDx/ZzGfMIVyOu/qQPStAanbmbyvm83zvJ8vb82cZz9Mc5oAuUVRj1e2knVFEux3MaTGMhGYdgfwPtQmr20lwI1Eu1nMazeWfLLjtn8MelAF6iqa6nbtbxzgtskm8lfl/i3Ff5iqf9stLbXbbHtfs84iDvHuByVHTI55/CjrYDYoqhNrFrBM6OJSsRCyyrGSkZOOCfxH070241u1tpp0dJm+z485kjLKgIzkn0xQBo0VT1TUP7P0qa8SMzeWm4KO//wBaopNTWGYvMzRxLatO0TRfMAD1zn9MUAaNFZv9u2+5lEF0XCCQIIDll/vD2qRtYttsRhEtx5sYlUQxliEP8R9P50AXqKZBNHcQJNCweORQysO4NPoAKKKKACiiigAooooAKKKKACiiigAooooAKKKKACisvVNQltryC2jngtFlVm+0XCllJGPlHIGec9alGoPbWsRv0DXEjFUS3Bbzcc5A7cc89PWgC/RVE6vbC3SRVlZpHKLCIz5hYdRjtj8qa2tWqwRy4lPmSmEIIzvDgE7SPwoA0KKz31q3jJ3xzgRqDM3lkiHIzhj6464zitAHIyOlABRRRQBHb/6s/wC+/wD6EakqO3/1Z/33/wDQjUlABRRRQBU1S1e902W3iKh3xgseOCD/AEqrd6Q8utWt9bSKipJvnjP8ZCkBh784+n0rVooAwU0e9N5bSTmFzBc+aZ2mdmkXDcbSML1HAOOKmi0meO1s4y8eYLx7hsE8qS5wOOvzCtWWaKBQ00ixhmCAscZYnAH1JOKfR0AxJ9FmcvKpjaRbxriNC7KGBXbgkDIP0zV/TbWS2jkM0UMTyPuKxMzdgBlm6nj0FXKKForAFFMeaKOSON5FV5CQik4LEDJx68c0+gAooooAKKKKACiiigAooooAKKKKACiiigAooooAKKKKACiiigAooooAKKKKACiiigAooooAKiuUlktpFtpRFKV+Ryu4A/SpaiubmGztnuLqVYYYxud3OAo9zQBmR6bdT6it1dxWtuVjZGNuxZpdwxySBwOuOaZZ6ZqET6ctw1t5VirIDGzFnG3aDyOD7frW3RQBh2ulaglrY2Vy1v5Fs6yNIjNuYryFxjjnvn8Kki0meO1s4y8eYLx7hsE8qS5wOOvzCtcMCSAQSOCM9KWgDI/smfzw++PAv/tPU/d2Yx060jaVctp+o2e6ILcSNJE+45yxzhhjjB9Ca2KKOlv6/rQP6/r7zGuNNu3vPtiRW7yyxLHLG07qqlc4IYLyOehApyadd2VzHLYi2O6BYZEYsirtJIZev948H25rXooAp6TaSWOlw207K8iA7mXockn+tXKKKACiiigAooooAKKKKACiiigAooooAKKKKACiiigAooooAKzta0+bUbJUtZFinRwyO2cDIKt/46TWjVTUNV0/SYVl1S+t7KN22q9xKsYJ64BJ68UAVJdHY6vZzwsq20KASR92KghPy3H9Krto97JdRtMYZPLuhMJ3mcsV3Z2hcYXAwOD2rXs7211G1S6sLmK5t3zslhcOrYODgjjqKno6h0Mb+yrqOCIxGFpYb17kKzEKysW4zjg4b0q5qtpLeWarblBLHLHKockKSrA4JA46elXaKNg3Me60q4uZbmQNEpma3YDceNjZbt+X9KfeaXPcLqoRox9sgWOPJPBAI54961aKAMObR7gXNw0EdvKlzgsZpXXYQoU/Kv3hgdMitpFCRqgwAoAGKSSaOHZ5sipvYIu443MegHvT6ACiiigAooooAKKKKACiiigDEsdPv7OYqbWwkjNw8nmmRvMCs5PTZ1APrUo0u5GsnUy8XmlvLKc48n0zj72ef096tNq+nLqI09r+2F4eluZV3njONuc9OauUAYlno01tJDCYrd4IX3LK0jliAcgbOgPvn8KnsrTULLZaobf7Ijs3mEkuVJJ27cYB565/CtSigDDTSb9Fjtw1v9nivPtCvlt7KXLYIxgEZ9Tn2p82lXUkN9Aph2T3CToxY5GGUkEY/wBng5rZoo/r+vuDrcxrjTL1kvbWAwfZr1yzSMxDx7gAwC4w3tyOtPl0qZodWjRk/wBMQLFknj92F549R71rUxZo3leNJFZ48b1B5XPIyO1LpYadncq31k15os1krBXkh8sMegOKqXmmXd6JHfyY5JLF7cqHJAcn1x0rYopvUS0KAsZf7QSfcm1bUwkZOd2Qfy4rOi0O5tY7Zo1gnkS1SCRXmeNQVzhgQDnqeCK6Cij+v6+8CG0g+zWcUJCAouCIwQufbJNTUUUAFFFFABRRRQAUUUUAFFFFABRRRQAUUUUAFFU7vV9OsLiKC+v7a3ll/wBXHLKqs3OOAT68Vbd1jjZ5GCIoyzMcAD1JoAp30d60qm1W3nhKlZIJztBPqGAP5YqjBo91Zw20tuYDPDJI3k5KxhX6opwSAMDHH4VoWGq6fqiu2m3tvdBDhjDIH2/XFJaavp19cyW9lf21xNFnfHFKrMvODkA+vFAFeW01B2trsm3a7gZ8x5YIVb+HdgnIwOcfhUcek3HnQ3Erxeabw3MyqTtA2FAF457cnHerlrrGm311JbWWoW1xPHnfHFKrMuDg8A9jxQNY006ibAX9sbwHHkeau/OM4xnOcc4oAoXOjzm7umgjt5Y7ptzGaVxsO0KflHDDj1FbSrtUKOgGOKqS6xpsGoJYzX9tHdvjbA0qhznpxnPPb1q5R0AKKKKAI7f/AFZ/33/9CNSVHb/6s/77/wDoRqSgAooooAz9da4XR5vsVzFbTsUVJJXCAksBtDEHBI4BweSKwDqM1vFHAkt9BJDqdvHPHdyrIUR8cBwTuU+5zz24rrJ4IrmB4LmJJopBteORQysPQg9arR6PpkWnyWMenWqWkhJe3WBRG+euVxg0dQeqscvr9800epJ9uEcdvqtlGsmQRDloifYHJzz+NbWmmS08Q3WnLdzXUC28c37597ROzMMbuuCBnB6YPar8ek6dDbfZ4rC1SHKnylhULlfu8YxxgY9MVD/YOmpYNZ2tt9igZ95WxdrYk+uYyp/WhaKwdblfxNeXGnWEN5YlpLmOZVjtAf8Aj6zwY/rjJB7beeM1nQzSXsmk2s2qzeRdW0ly88T+WZpMr8gPVQNzfL14GehrbstFs7Bg0QnmdW3K91cyXDIcYO0yMxXI9MZqHVNFN3arDY/YoUEjSNDc2SzxOxOSxXKndnJyD3Oc0BucxDcPqEmjrPqsjhtVu4VuVIVpFCuFUHoCQMZH4Y4q99su1uG0oX832b+0xa/bNwMgTyfM8vdjru+Xd15xnPNbVpoFnFpv2W+iivtzvI7TQqQWckthegHOMenrVoaXp403+zxY232IjBtvJXy8dcbcYoWn4foHV/Mi0/yrRJLc6ibrbN5a+bIGeM7QfLJ6k9+ecGsvSWkuYrfU7nV5Y55rh0a3Zx5fDMPJCeox1HzZHpxWzFpWnwW8MEFjbRxQP5kUaQqFjbn5lGODyeR60i6TpyaidQSwtlvWGDciFRIe33sZo6h0OfsLm4i1aFdRubmQ30s0cNxb3CyW8oG5lXb1RgqnkDqpyxqXRtQu77ULawlnYyaaji+PeRwdkef94Bn/ACrbh0nTre+e9t7C1iupM750hUO2euWAyc1PHbwxTSyxQxpJMQZHVQC5AwMnvxxQgZJRRRQAUUUUAFFFFABRRRQAUUUUAFFFFABRRRQAUUUUAFFFFABRRRQAUUUUAFZPii5ms/C2oXFrI0U0cJZHXqprWqlq+nf2rpslk0vlRzYWQ7ckpnkD0J9eaAOfv9VubbT/ABW73Zje1dRbEsBsBhQjH1Yn8ak1G6uLXV57u4ubh7KGWJFaynT/AEbO3KyxH72Sc5+Y4YYA61u3Gj6bd3QubvTrSecIYxLLArNtPVckZxz0pZtJ064vkvZ7C1kuo8bJ3hUuuOmGIyMZo7AZWg2wi8R+InEsrE3aDa0hIGYIz0/T6VVvzd3Wpa8E1C6txYwRy24hcAK5RjkjHIyOh4rpBZ2y3rXi20IumQRtOIxvKjnaW649qU2sBaVjBHumAWU7BmQAYAb14J61Mk3GyHf3rnOJPNq1xcm61KaxW2tIZoxC4QDchJlbP3hkYwePlPFUG1XVbq2tbQ3DWt5rVpBJbso5hcDM2AemFwfqa6u60fTL7yftunWtx5H+p82BW8v/AHcjjoOnpVhoIXmjleJGkiz5blQWTPXB7Zqn/X9f1sJaLzMXw3qM+sSXN67sIlSKARZ+VZVXdIfrubb/AMAreqOG3htkKW8SRKWLlUUKCxOSeO5JJJqSm9QCiiikAUUUUAFFFFABRRRQAUUUUAFFFFABRRRQAUUUUAFFFFABWRq9t9p1bTvK1FbO4QSmJGiDmT5QCRk4BAPvwTWvVa+06y1S3+z6lZwXcOd3lzxB1z64NJgVtBv59Q00yXRjeSKaSEyxDCS7HK7gMnGcdMnnNYVtqF3Y3Aku5bm6muVnNvJDOsttclQWVQo5QgDsMcEFicV1kUMdvCkUEaxRoNqoigKo9AB0qvBpOnWt5Jd21hbQ3Mmd80cKq7Z65YDJoauBzekXWp+Zp915s0yXcLPKJ7qNlm+TcDGg6HOOBxgnPrVjTpZk0e11U6rLcXdzbNKbZ3GyZ9hbYifw7SO3OAc561t22kabZ3cl1aafawXEufMmihVXfnPJAyeeaWDSdOtb2W8trC2hups+ZPHCqu/1YDJpvVO2gLQwLee4tjotxDqc162pA+eruCjDymfzFGPlAYAccfNzk4qto91fR2Phm/kvrm5l1JNlxHKwKt+4dwQMcHKDkdcnOa6i20nTrO5muLSwtYJ5/wDWyxQqrSc55IGTzUqWVrHHAkdtCqW3+oVYwBFwR8o7cEjjsad1r/XcFtY45Xeez8OahcanNJPfXkTSQuw2FtrEqq/w7Txx6c5PNXrS6uINcje/ubiVLm7lhhntrhHt2HzbY2TqrADBIB5U5btW4mjaZFdvdR6daJcSNveZYFDs3qTjOfenR6Tp0WoNfxWFql42d1wsKiQ56/NjPYflSWj/AK8v8gev9ev+ZbooooAKKKKACiiigAooooA4azkuoNGS6upbWVf7VKSWZiyzObjGd2c+YDhhxjAA966XXzdHT0SxnWKWSZF2mYRNKuclFYg4YgHH9Oos/wBk6cdS/tE2Fr9uxt+0+SvmY9N2M1NdWtve27W95BHcQv8AejlQMp+oNLpYOpyT6ncSx2un2x1BS13LBOssyLMpVNwjEmSDkHOQS2BjOc1NHc6i0drYXN28McuoNAZlmR5VjEZYRl14DFhjPXHuc10B0jTTp32A6fa/Y/8An38lfL65+7jHXml/srTv7N/s/wCwW32LGPs3kr5eM5+7jHWmBjTl0urPSo9XmeCa4kSSUSDzVKpuEO8c55zn72B1qg97fNfW+nJfzmBdYa1+0Kw3yR/ZmcqWxyQ3Gevy9c81050jTTpo086fa/Yh0tvJXy+ufu4x15qSLTrKCGCKGzgjjtjmBEiAERwRlRjjgkcepoW+oHLrd3aXD6S19cCAasLT7SzZkEZtxKF3+pY7c9cHrnmmILiGbxBBp+pqZkuLaJJZ5Qrchcx7yD8xBIBIJyR35rq5tPsriGeKe0gljuDumR4gRKcAZYEcnAA59BUaaRpsdnJaJp9qttIoV4RCoRx6EYwRQ9f6/r+vxfUqeH7gSR3ds32xZbaUK8V3IsjR5UEAOCdwIOeSTzziteoLOxtNPt/IsLWG1iyW8uGMIuT1OB3qegQUUUUAFFFFABRRRQAUUUUAFFFFABRRRQAUUUUAFFFFAHMhrZbrxV/ahQLhS3mY/wCPfyRj8N3mfjmrlpNbL4TtU154/ltIftSzc4JAHzD6+tX7rStOvriGe+sLa5mgOYpJoVdoz/skjj8Klaztmmlla3iMkyCORygy6jOFJ7jk8e5o6fd+APV/15HKak+oQ32sKxilvZNJka0a1BUKqk4DA5O4lhg5wcHgY5ktt0cmkQyXFrPDdWkiw/Z4drWy+XnchBOUxhTnuV+ldFp+k6dpMbppdha2SSHc628Kxhj6nA5otNJ06wuJp7Gwtbaac5lkhhVGk+pA5pWVrf11/wA/6uF3e/8AXT/I5W0F4zeFYIlshBA/7ue2lLmeIQsNwG0bVIIJ5PJA96tapLEsNlcWLWr6UuoR+ZFCpWYzmbBIPQ4c5ZcAnDc10FrpOnWN1Nc2VhbW885zLLFCqtJ9SBk00aNpi6mdRXTrQXx63IgXzD/wLGaq+t33uFla3yOV1tLqHRfEcFiLOZZpWbzmlIkjlZV2oU28tnbtOe6+nPaxhhGoflsDP1qtJpOnTagl/LYWz3kYwlw0KmRR7NjIq3SW1g6hRRRQBHb/AOrP++//AKEakqO3/wBWf99//QjUlABRRRQAUVxvxO/5Fm3/AOvxf/QHryuvMxOP9hU5OW/z/wCAc1TEezly2Poaivnmiuf+1v7n4/8AAMvrfkfQ1FfPNFH9rf3Px/4AfW/I+hqK+eaKP7W/ufj/AMAPrfkfQ1FfPNFH9rf3Px/4AfW/I+hqK+eaKP7W/ufj/wAAPrfkfQ1FfPNFH9rf3Px/4AfW/I+hqK+eaKP7W/ufj/wA+t+R9DUV880Uf2t/c/H/AIAfW/I+hqK+eaKP7W/ufj/wA+t+R9DUV880Uf2t/c/H/gB9b8j6Gor55oo/tb+5+P8AwA+t+R9DUV880Uf2t/c/H/gB9b8j6Gor55oo/tb+5+P/AAA+t+R9DUV880Uf2t/c/H/gB9b8j6Gor55oo/tb+5+P/AD635H0NRXzzRR/a39z8f8AgB9b8j6Gor55oo/tb+5+P/AD635H0NRXzzRR/a39z8f+AH1vyPoaivnmij+1v7n4/wDAD635H0NRXzzRR/a39z8f+AH1vyPoaivnmij+1v7n4/8AAD635H0NRXzzRR/a39z8f+AH1vyPoaivnmij+1v7n4/8APrfkfQ1FfPNFH9rf3Px/wCAH1vyPoaivnmij+1v7n4/8APrfkfQ1FfPNFH9rf3Px/4AfW/I+hqK+eaKP7W/ufj/AMAPrfkfQ1FfPNFH9rf3Px/4AfW/I+hqK+eaKP7W/ufj/wAAPrfkfQ1FfPNFH9rf3Px/4AfW/I+hqK+eaKP7W/ufj/wA+t+R9DUV880Uf2t/c/H/AIAfW/I+hqK+eaKP7W/ufj/wA+t+R9DUV880Uf2t/c/H/gB9b8j6Gor55oo/tb+5+P8AwA+t+R9DUV880Uf2t/c/H/gB9b8j6Gor55oo/tb+5+P/AAA+t+R9DUV880Uf2t/c/H/gB9b8j6Gor55oo/tb+5+P/AD635H0NRXzzRR/a39z8f8AgB9b8j6Gor55oo/tb+5+P/AD635H0NRXzzRR/a39z8f+AH1vyPoaivnmij+1v7n4/wDAD635H0NRXzzRR/a39z8f+AH1vyPoaivnmij+1v7n4/8AAD635H0NRXzzRR/a39z8f+AH1vyPoaivnmij+1v7n4/8APrfkfQ1FfPNFH9rf3Px/wCAH1vyPoaivnmij+1v7n4/8APrfkfQ1FfPNFH9rf3Px/4AfW/I+hqK+eaKP7W/ufj/AMAPrfkfQ1FfPNFH9rf3Px/4AfW/I+hqK+eaKP7W/ufj/wAAPrfkfQ1FfPNFH9rf3Px/4AfW/I+hqK+eaKP7W/ufj/wA+t+R9DUV8817r4f/AORZ0v8A684v/QBXZhcZ9Yk1y2t5m1Kt7RtWNGiiiu86CO3/ANWf99//AEI1JUdv/qz/AL7/APoRqSgAooooA434nf8AIs2//X4v/oD15XXqnxO/5Fm3/wCvxf8A0B68rr5nMv8AePkjzMT/ABDLW51C9knewe3ihhkaNRLGWMrLweQRtGeO/Sp21IQxwrPby/aZE3mCIb2X15HGMmoBa6hZyTrp5t3hmkMg85mBiZuTwAdwzz26057O9guorq3eK5m8gQy+cTHuwchgVBxyTxiuT3WZO1yR9YtgsBjEsxnRnjWOMkkLjPHY896SDWbW5lhSMSgT5EbtGQrMBkrk9+D+RqGz0mW1ubSQyIwiSbzCMjLSMG4HpnNEWlzxx6epaPNtcPK+CeQwcDHHX5hQ1T/r5/8AAC0SW31q1ufJMazCOc4jlaMhWb0z68U2DVs27POhaQ3EkMccKkltrEdPoOT0rP0m0vLrR9Oil8lbaIrKWBO87TkLtxgc45z+FTnRp1VJF8qSWOeaQI0jKrLI2cbgMg9Oxq3Gmm0U1FO39df+AWLjW0jW2aGCWUTT+Sw2kMhAOQR68dKml1a3hmdGEpWNgskqoSkZPYn8R9O9Vm0y4+ywGNLdJ4rnz9gdtrcEYLEE5weuO3So5dImNxcBIreWG4k3sZZHGzOMjaOG/Mdam1Mm0TaooorAzCiiigYUUUUAFFFFABRRRQAUUUUAFFFFABRRRQAUUUUAFFFFABRRRQAUUUUAFFFFABRRRQAUUUUAFFFFABRRRQAUUUUAFFFFABRRRQAUUUUAFFFFABRRRQAUUUUAFFFFABRRRQAUUUUAFFFFABRRRQAUUUUAFFFFABRRRQAUUUUAFFFFABRRRQAUUUUAFFFFABRRRQAUUUUAFFFFABRRRQAUUUUAFFFFABRRRQAUUUUAFFFFABRRRQAUUUUAFFFFABRRRQAUUUUAFe6+H/8AkWdL/wCvOL/0AV4VXuvh/wD5FnS/+vOL/wBAFexlXxy9DswvxM0aKKK987yO3/1Z/wB9/wD0I1JUdv8A6s/77/8AoRqSgAooooA434nf8izb/wDX4v8A6A9eV19DUV5mJwHt6nPzW+X/AATmqYf2kua5880V9DUVz/2T/f8Aw/4Jl9U/vHzzRX0NRR/ZP9/8P+CH1T+8fPNFfQ1FH9k/3/w/4IfVP7x880V9DUUf2T/f/D/gh9U/vHzzRX0NRR/ZP9/8P+CH1T+8fPNFfQ1FH9k/3/w/4IfVP7x880V9DUUf2T/f/D/gh9U/vHzzRX0NRR/ZP9/8P+CH1T+8fPNFfQ1FH9k/3/w/4IfVP7x880V9DUUf2T/f/D/gh9U/vHzzRX0NRR/ZP9/8P+CH1T+8fPNFfQ1FH9k/3/w/4IfVP7x880V9DUUf2T/f/D/gh9U/vHzzRX0NRR/ZP9/8P+CH1T+8fPNFfQ1FH9k/3/w/4IfVP7x880V9DUUf2T/f/D/gh9U/vHzzRX0NRR/ZP9/8P+CH1T+8fPNFfQ1FH9k/3/w/4IfVP7x880V9DUUf2T/f/D/gh9U/vHzzRX0NRR/ZP9/8P+CH1T+8fPNFfQ1FH9k/3/w/4IfVP7x880V9DUUf2T/f/D/gh9U/vHzzRX0NRR/ZP9/8P+CH1T+8fPNFfQ1FH9k/3/w/4IfVP7x880V9DUUf2T/f/D/gh9U/vHzzRX0NRR/ZP9/8P+CH1T+8fPNFfQ1FH9k/3/w/4IfVP7x880V9DUUf2T/f/D/gh9U/vHzzRX0NRR/ZP9/8P+CH1T+8fPNFfQ1FH9k/3/w/4IfVP7x880V9DUUf2T/f/D/gh9U/vHzzRX0NRR/ZP9/8P+CH1T+8fPNFfQ1FH9k/3/w/4IfVP7x880V9DUUf2T/f/D/gh9U/vHzzRX0NRR/ZP9/8P+CH1T+8fPNFfQ1FH9k/3/w/4IfVP7x880V9DUUf2T/f/D/gh9U/vHzzRX0NRR/ZP9/8P+CH1T+8fPNFfQ1FH9k/3/w/4IfVP7x880V9DUUf2T/f/D/gh9U/vHzzRX0NRR/ZP9/8P+CH1T+8fPNFfQ1FH9k/3/w/4IfVP7x880V9DUUf2T/f/D/gh9U/vHzzRX0NRR/ZP9/8P+CH1T+8fPNFfQ1FH9k/3/w/4IfVP7x880V9DUUf2T/f/D/gh9U/vHzzRX0NRR/ZP9/8P+CH1T+8fPNFfQ1FH9k/3/w/4IfVP7x880V9DUUf2T/f/D/gh9U/vHzzRX0NRR/ZP9/8P+CH1T+8fPNFfQ1FH9k/3/w/4IfVP7x880V9DUUf2T/f/D/gh9U/vHzzRX0NRR/ZP9/8P+CH1T+8fPNFfQ1FH9k/3/w/4IfVP7x880V9DUUf2T/f/D/gh9U/vHzzXuvh/wD5FnS/+vOL/wBAFaNFdmFwf1eTfNe/kbUqPs23cKKKK7zoI7f/AFZ/33/9CNSVHb/6s/77/wDoRqSgAooooAKqR6lA95c25PltbuiMzkAMWGQB+dPv7trK0adbeW4CkbkhXc2M4JA6nHXA5rlbyOe+jvdSt7S68n+0LSdEaBlkkSIpuIQgN644ycVrThzb/wBaoyqVORab6v8ABnXNcQoWDyxqVIDAsBgnpn61Eup2LqjJe27CRzGhEqncw/hHPJ9q5S/im1T+1ZY7C6MM9xZbFlt2UyKrjcdpGcDvkVLqeio6+JjFpwJltU8jZD95gh+7gcnOOntVKnHq/wCtP8/wJ9rJv3V/Wv8Al+J1El9aQyrHNdQxuzbArSAEtjOMevtRe3kGn2Ut3duI4YVLMx9B/WuRmezGs+II73TJ7yWZYkQpbNLuJiHyZAOznnJwPfityexun8EPZXI+0Xn2Dy3775PLx/OplBRSb8vxHCo5Oy8/6fqaB1GyFml293ClvJjbK0gCn8asb12b9w24zuzxj1rliYEvNOv7qwuZLFbNokT7FIxhl3DOYtu4ZAxux2961PDltJb6Gsc0LQo0krRwOOY42clVI7fKRx26dqJwUVcIVHJ2f9aI0/OixGfMTEv+rO4fPxnj145pkd5bTPKkVzC7Q8SKrglPr6VydhY3c9zd6emVGjQywWkh6FpRlCD/ALKEL+NLb2qXTaXBpumz2ctrC6XTSW7RBVMRXZuIAclyp4JHGap01rr/AF/X5iVV3V11t+V/1+464TxEIRKhEgymGHzDGcj14psN3b3LMtvPFKVALBHDYB6Zx61yWlGeRfD1r9hvI3sLZ4rhpbZ0VGEW3AJGDkjgjI962fCdkLHwvYxtbfZ5fJXzVKbW3d8jrn60p01G+v8AWv8Al+IU6rnbT+tP8/wNIX1obhYBdQmZs7YxINxwcHA68YpzXdulylu9xEs7jKxFwGYew6muGgSG50u/s7XT5jqUupSmG4FsxVWExIk8wDChcdCQeOnIzb1C1/0bV7J9OuJdTu7hntp1t2ZTnHlt5oGEC8dSMbfeq9kr2/rp/Xy+6fbOzf8AXX/L8fv617u2juUt5LiJZ5BlImcBm+g6mqb65aW5QXzrbNLcNBGHkU7iM88Hgcd+R0NYWoxSQa7M9razXE808LPBcWBkjkxtG9Jl4TAH8R4IPHPKG0eGFJ7mymdItbmlYC3Z28s7wGCgEkZI6D3pRprS/Ucqr1t0/wCCdNHfIVumnCwR28hQu8i4IwDu4Py9ehwakF5bNbpOLiIwv9yQONrd+D36H8q5J7KdL+6ubqzmlso9aM8sQhLmRPIVVcLjLAPg8A9PahrA3l4k0Gnyrp82qxSLDJbleBEwaQoRlQTjqB0z3p+yXft+gvbO7Vur/C/4af116+C4huoVmtpUmib7rxsGU/iKRru3S5S3e4iWdxlYi4DMPYdTWdo9p9k1PV1SAwwSXCPGAm1WzEmSPxH51haha/6Nq9k+nXEup3dwz20627Mpzjy280DCBeOpGNvvURgpSt/X9IuVRxjd/wBb/mdY19aLOsLXMIlZiqxmQbiR1AHrTNR1G20qwlvL6QRwxDLMf6etcpd6TK+keKJPsLPdvdl7d/JJd8Rx7SnGT8wOMd81veKrWS98K6hBBCZpWgbYgGST7e9PkinHXf8A4H+ZPtJNSstr2+9r9CZ9dsIr428s8ca+Qswmd1EbBmKgA568Vcnu7e1iEl1cRQxkgBpHCgn6msOOygvvFBunsS1sdNRIzNbFQp3tlcMBg4xx1rFSyuraDSJLqKWOCPTxCAbBrkxPnlSg5XIwM4/hxTVOL/r1/wAgdSSu+n/Df5nbzzrb2slw2WSNC529wBniq0OrWcmm2l7LMlvHdxo8QncKTuAIHXrzVCws3t/BZtlWdm+zyBEljCOAdxVdoJxgEAD0xXPJY3VstjJfRSrC2k28CL/ZrXRRgp3oVAyhOV6jBx7URpxd1fZ/5hKrJcrtun8tv8zt7i8trUoLq4ihMhwnmOF3H0GetLPdW9sUFzPHEZG2p5jhdx9Bnqa4u6t7iK3is5bSXaunJFFKdOM80xO7MZYZWPHy9fXOeKmsojatbS65p9xdLNpVvDH/AKK0pRwD5iMADtJJXk4HHJ4pukrXv/wRe3d0rf8AA23+86W31e0m0uK/llW2gl+6Z2C98Y647VYlvLaDHnXEUe4Aje4GcnA/UiuIgsbu2s9GluoZoYYrN4irWLXJhkLZwUHIyON2O3vV3RtIKa1pTTWs0kENjcFHuLcL5TNMpVcchTtzgZyAO3NOVKKe/f8AC/8Al+IvbStt2/G3+f4fd0VrrFndyNEJVjmEskSxSOAzlGKkgZ5HFWHu7aO4S3kuIkmkGUjZwGb6Dqa4ua13afqtkmlXK6ndX0r20/2ViM78pJ5mMKF68kdOOozY1C1xDrVpPp1xcahezFrWZIGYMCqiM+YBhNpHcjGM96Xsk/69P8/w+5+2av8A13/y/H7+skvLaK4SCW4iSaT7kbOAzfQdTQbu2FwIDcRecxIEe8biQMkY69Oa4nxHHezLqsQs3FzhRCbbTmke42qpDmbBAwcjHBGPcVoz6VczjxS1tblLu4+W3mZdpYeSowremcj60vZKybf9af5/gHtm5NJf1r/l+JujWLN7+G1glWd5t43RMGCFACQcHg81erlbNbafxLpc2m6TcWsUFvLHK72jQhOF2ocgZxzyMj0NN8Y+ALHxZJDceYbS7jIVplXO9M8gj19DRyQ5kpOy/wCCwdSo4OUFd9Fe342OsoqnpOk2eiaXDYadF5cEQwB1JPck9yauVi7X0N43aXNuFFFFIoKKKKACiiigAooooAKKKKACiiigAooooAKKKKACiiigAooooAKKKKACiiigAooooAKKKKACiiigAooooAKKKKACiiigAooooAKKKKACiiigAooooAKKKKACiiigAooooAKKKKACiiigAooooAKKKKACiiigAooooAKKKKACiiigAooooAKKKKACiiigAooooAKKKKACiiigCO3/ANWf99//AEI1JUdv/qz/AL7/APoRqSgAooooAr3un2epQiHUbSC7iVtwSeIOoPTOCOvJ/OqP/CK+Hv8AoA6Z/wCAcf8AhWtRVKckrJmcqcJO8kmZP/CK+Hv+gDpn/gHH/hR/wivh7/oA6Z/4Bx/4VrUU/aT7sXsaX8q+4zm8P6RJG8cum2skTFGMUkQZAVXauFPAwvHA6VF/wivh7/oA6Z/4Bx/4VrUUe0muo3SpveK+4yf+EV8Pf9AHTP8AwDj/AMKmtvD+jWVwtxZaTY28yZ2yw2yIy5GDggZHBIrQoodSbVmxKjTTuor7jMPhvRnhWOfTLa5VWZwbmMTNubGTl8nJwPyHpTP+EV8Pf9AHTP8AwDj/AMK1qKPaT7sHRpt3cV9xk/8ACK+Hv+gDpn/gHH/hT4vDWhQTJNBounRyxsGR0tEDKRyCCBwa06KPaT7sPY0v5V9xlv4Z0OVi0+k2c7FmbdPAsjfMxY8sCcZJOOnNN/4RXw9/0AdM/wDAOP8AwrWoo9pPuwdGm3dxX3GT/wAIr4e/6AOmf+Acf+FH/CK+Hv8AoA6Z/wCAcf8AhWtRR7Sfdh7Gl/KvuMn/AIRXw9/0AdM/8A4/8KP+EV8Pf9AHTP8AwDj/AMK1qKPaT7sPY0v5V9xk/wDCK+Hv+gDpn/gHH/hR/wAIr4e/6AOmf+Acf+Fa1FHtJ92HsaX8q+4yf+EV8Pf9AHTP/AOP/Cj/AIRXw9/0AdM/8A4/8K1qKPaT7sPY0v5V9xk/8Ir4e/6AOmf+Acf+FH/CK+Hv+gDpn/gHH/hWtRR7Sfdh7Gl/KvuMn/hFfD3/AEAdM/8AAOP/AAo/4RXw9/0AdM/8A4/8K1qKPaT7sPY0v5V9xk/8Ir4e/wCgDpn/AIBx/wCFH/CK+Hv+gDpn/gHH/hWtRR7Sfdh7Gl/KvuMn/hFfD3/QB0z/AMA4/wDCj/hFfD3/AEAdM/8AAOP/AArWoo9pPuw9jS/lX3GT/wAIr4e/6AOmf+Acf+FH/CK+Hv8AoA6Z/wCAcf8AhWtRR7Sfdh7Gl/KvuMn/AIRXw9/0AdM/8A4/8KP+EV8Pf9AHTP8AwDj/AMK1qKPaT7sPY0v5V9xlDwt4fHTQtNHbizj/AMKv2lnbWFuILG2htoVJIjhjCKM9eBxU1FJzk92VGnCLvFJBRRRUlhRRRQAUUUUAFFFFABRRRQAUUUUAFFFFABRRRQAUUUUAFFFFABRRRQAUUUUAFFFFABRRRQAUUUUAFFFFABRRRQAUUUUAFFFFABRRRQAUUUUAFFFFABRRRQAUUUUAFFFFABRRRQAUUUUAFFFFABRRRQAUUUUAFFFFABRRRQAUUUUAFFFFABRRRQAUUUUAFFFFABRRRQAUUUUAFFFFAEdv/qz/AL7/APoRqSo7f/Vn/ff/ANCNSUAFFR7p/wDnnH/38P8AhRun/wCecf8A38P+FAElFR7p/wDnnH/38P8AhRun/wCecf8A38P+FAElFR7p/wDnnH/38P8AhRun/wCecf8A38P+FAElFR7p/wDnnH/38P8AhRun/wCecf8A38P+FAElFR7p/wDnnH/38P8AhRun/wCecf8A38P+FAElFR7p/wDnnH/38P8AhRun/wCecf8A38P+FAElFR7p/wDnnH/38P8AhRun/wCecf8A38P+FAElFR7p/wDnnH/38P8AhRun/wCecf8A38P+FAElFR7p/wDnnH/38P8AhRun/wCecf8A38P+FAElFR7p/wDnnH/38P8AhRun/wCecf8A38P+FAElFR7p/wDnnH/38P8AhRun/wCecf8A38P+FAElFR7p/wDnnH/38P8AhRun/wCecf8A38P+FAElFR7p/wDnnH/38P8AhRun/wCecf8A38P+FAElFR7p/wDnnH/38P8AhRun/wCecf8A38P+FAElFR7p/wDnnH/38P8AhRun/wCecf8A38P+FAElFR7p/wDnnH/38P8AhRun/wCecf8A38P+FAElFR7p/wDnnH/38P8AhRun/wCecf8A38P+FAElFR7p/wDnnH/38P8AhRun/wCecf8A38P+FAElFR7p/wDnnH/38P8AhRun/wCecf8A38P+FAElFR7p/wDnnH/38P8AhRun/wCecf8A38P+FAElFR7p/wDnnH/38P8AhRun/wCecf8A38P+FAElFR7p/wDnnH/38P8AhRun/wCecf8A38P+FAElFR7p/wDnnH/38P8AhRun/wCecf8A38P+FAElFR7p/wDnnH/38P8AhRun/wCecf8A38P+FAElFR7p/wDnnH/38P8AhRun/wCecf8A38P+FAElFR7p/wDnnH/38P8AhRun/wCecf8A38P+FAElFR7p/wDnnH/38P8AhRun/wCecf8A38P+FAElFR7p/wDnnH/38P8AhRun/wCecf8A38P+FAElFR7p/wDnnH/38P8AhRun/wCecf8A38P+FAElFR7p/wDnnH/38P8AhRun/wCecf8A38P+FAElFR7p/wDnnH/38P8AhRun/wCecf8A38P+FAElFR7p/wDnnH/38P8AhRun/wCecf8A38P+FAElFR7p/wDnnH/38P8AhRun/wCecf8A38P+FAElFR7p/wDnnH/38P8AhRun/wCecf8A38P+FAElFR7p/wDnnH/38P8AhRun/wCecf8A38P+FAElFR7p/wDnnH/38P8AhRun/wCecf8A38P+FAElFR7p/wDnnH/38P8AhRun/wCecf8A38P+FAElFR7p/wDnnH/38P8AhRun/wCecf8A38P+FAElFR7p/wDnnH/38P8AhRun/wCecf8A38P+FAElFR7p/wDnnH/38P8AhRun/wCecf8A38P+FAElFR7p/wDnnH/38P8AhRun/wCecf8A38P+FAElFR7p/wDnnH/38P8AhRun/wCecf8A38P+FAElFR7p/wDnnH/38P8AhRun/wCecf8A38P+FAElFR7p/wDnnH/38P8AhRun/wCecf8A38P+FAElFR7p/wDnnH/38P8AhRun/wCecf8A38P+FAElFR7p/wDnnH/38P8AhRun/wCecf8A38P+FAElFR7p/wDnnH/38P8AhRun/wCecf8A38P+FAElFR7p/wDnnH/38P8AhRun/wCecf8A38P+FAElFR7p/wDnnH/38P8AhRun/wCecf8A38P+FAElFR7p/wDnnH/38P8AhRun/wCecf8A38P+FAElFR7p/wDnnH/38P8AhRun/wCecf8A38P+FAElFR7p/wDnnH/38P8AhRun/wCecf8A38P+FAElFR7p/wDnnH/38P8AhRun/wCecf8A38P+FAElFR7p/wDnnH/38P8AhRun/wCecf8A38P+FAElFR7p/wDnnH/38P8AhRun/wCecf8A38P+FAElFR7p/wDnnH/38P8AhRun/wCecf8A38P+FAElFR7p/wDnnH/38P8AhRun/wCecf8A38P+FAElFR7p/wDnnH/38P8AhRun/wCecf8A38P+FAElFR7p/wDnnH/38P8AhRun/wCecf8A32f8KAC3/wBWf99//QjUlNiTy4wpOTkkn1JOadQAUUUUAFFFFABRRRQAUUUUAFFFFABRRRQAUUUUAFFFFABRRRQAUUUUAFFFFABRRRQAUUUUAFFFFABRRRQAUUUUAFFFFABRRRQAUUUUAFFFFABRRRQAUUUUAFFFFABRRRQAUUUUAFFFFABRRRQAUUUUAFFFFABRRRQAUUUUAFFFFABRRRQAUUUUAFFFFABRRRQAUUUUAFFFFABRRRQAUUUUAFFFFABRRRQAUUUUAFFFFABRRRQAUUUUAFFFFABRRRQAUUUUAFFFFABRRRQAUUUUAFFFFABRRRQAUUUUAFFFFABRRRQAUUUUAFFFFABRRRQB/9k=)"
   ]
  },
  {
   "cell_type": "markdown",
   "metadata": {
    "id": "RRRDp5D3EJbC"
   },
   "source": [
    "<h3> 2.predicting y(reordered or not) for test using model5 i.e. LGBM"
   ]
  },
  {
   "cell_type": "code",
   "execution_count": null,
   "metadata": {
    "id": "CCpHYKgEFd80"
   },
   "outputs": [],
   "source": [
    "te_df['pred']=lgbm.predict(te_df)"
   ]
  },
  {
   "cell_type": "code",
   "execution_count": null,
   "metadata": {
    "colab": {
     "base_uri": "https://localhost:8080/",
     "height": 204
    },
    "id": "eQWWZojQFsXn",
    "outputId": "fc1b16a2-572a-4460-d407-d6ad0ebfae99"
   },
   "outputs": [
    {
     "data": {
      "text/html": [
       "<div>\n",
       "<style scoped>\n",
       "    .dataframe tbody tr th:only-of-type {\n",
       "        vertical-align: middle;\n",
       "    }\n",
       "\n",
       "    .dataframe tbody tr th {\n",
       "        vertical-align: top;\n",
       "    }\n",
       "\n",
       "    .dataframe thead th {\n",
       "        text-align: right;\n",
       "    }\n",
       "</style>\n",
       "<table border=\"1\" class=\"dataframe\">\n",
       "  <thead>\n",
       "    <tr style=\"text-align: right;\">\n",
       "      <th></th>\n",
       "      <th>user_id</th>\n",
       "      <th>product_id</th>\n",
       "      <th>pred</th>\n",
       "    </tr>\n",
       "  </thead>\n",
       "  <tbody>\n",
       "    <tr>\n",
       "      <th>0</th>\n",
       "      <td>3</td>\n",
       "      <td>248</td>\n",
       "      <td>0.0</td>\n",
       "    </tr>\n",
       "    <tr>\n",
       "      <th>1</th>\n",
       "      <td>3</td>\n",
       "      <td>1005</td>\n",
       "      <td>0.0</td>\n",
       "    </tr>\n",
       "    <tr>\n",
       "      <th>2</th>\n",
       "      <td>3</td>\n",
       "      <td>1819</td>\n",
       "      <td>0.0</td>\n",
       "    </tr>\n",
       "    <tr>\n",
       "      <th>3</th>\n",
       "      <td>3</td>\n",
       "      <td>7503</td>\n",
       "      <td>0.0</td>\n",
       "    </tr>\n",
       "    <tr>\n",
       "      <th>4</th>\n",
       "      <td>3</td>\n",
       "      <td>8021</td>\n",
       "      <td>0.0</td>\n",
       "    </tr>\n",
       "  </tbody>\n",
       "</table>\n",
       "</div>"
      ],
      "text/plain": [
       "   user_id  product_id  pred\n",
       "0        3         248   0.0\n",
       "1        3        1005   0.0\n",
       "2        3        1819   0.0\n",
       "3        3        7503   0.0\n",
       "4        3        8021   0.0"
      ]
     },
     "execution_count": 79,
     "metadata": {
      "tags": []
     },
     "output_type": "execute_result"
    }
   ],
   "source": [
    "te_df=te_df.reset_index()  #resetting index\n",
    "final=te_df[['user_id','product_id','pred']]  #selecting only required cols\n",
    "final.head()  "
   ]
  },
  {
   "cell_type": "code",
   "execution_count": null,
   "metadata": {
    "id": "K83ZnMi9J0_e"
   },
   "outputs": [],
   "source": [
    "final.to_csv('/content/drive/MyDrive/Instacart/final_lgbm.csv')"
   ]
  },
  {
   "cell_type": "markdown",
   "metadata": {
    "id": "KVx54cq5M4ci"
   },
   "source": [
    "merging ord_id with final_lgbm on user_id and product_id"
   ]
  },
  {
   "cell_type": "code",
   "execution_count": null,
   "metadata": {
    "colab": {
     "base_uri": "https://localhost:8080/",
     "height": 204
    },
    "id": "bJeLraD7M-u3",
    "outputId": "2d6faa4c-e3ed-4268-8c0e-45fb31e686e7"
   },
   "outputs": [
    {
     "data": {
      "text/html": [
       "<div>\n",
       "<style scoped>\n",
       "    .dataframe tbody tr th:only-of-type {\n",
       "        vertical-align: middle;\n",
       "    }\n",
       "\n",
       "    .dataframe tbody tr th {\n",
       "        vertical-align: top;\n",
       "    }\n",
       "\n",
       "    .dataframe thead th {\n",
       "        text-align: right;\n",
       "    }\n",
       "</style>\n",
       "<table border=\"1\" class=\"dataframe\">\n",
       "  <thead>\n",
       "    <tr style=\"text-align: right;\">\n",
       "      <th></th>\n",
       "      <th>product_id</th>\n",
       "      <th>pred</th>\n",
       "      <th>order_id</th>\n",
       "    </tr>\n",
       "  </thead>\n",
       "  <tbody>\n",
       "    <tr>\n",
       "      <th>0</th>\n",
       "      <td>248</td>\n",
       "      <td>0.0</td>\n",
       "      <td>2774568</td>\n",
       "    </tr>\n",
       "    <tr>\n",
       "      <th>1</th>\n",
       "      <td>1005</td>\n",
       "      <td>0.0</td>\n",
       "      <td>2774568</td>\n",
       "    </tr>\n",
       "    <tr>\n",
       "      <th>2</th>\n",
       "      <td>1819</td>\n",
       "      <td>0.0</td>\n",
       "      <td>2774568</td>\n",
       "    </tr>\n",
       "    <tr>\n",
       "      <th>3</th>\n",
       "      <td>7503</td>\n",
       "      <td>0.0</td>\n",
       "      <td>2774568</td>\n",
       "    </tr>\n",
       "    <tr>\n",
       "      <th>4</th>\n",
       "      <td>8021</td>\n",
       "      <td>0.0</td>\n",
       "      <td>2774568</td>\n",
       "    </tr>\n",
       "  </tbody>\n",
       "</table>\n",
       "</div>"
      ],
      "text/plain": [
       "   product_id  pred  order_id\n",
       "0         248   0.0   2774568\n",
       "1        1005   0.0   2774568\n",
       "2        1819   0.0   2774568\n",
       "3        7503   0.0   2774568\n",
       "4        8021   0.0   2774568"
      ]
     },
     "execution_count": 14,
     "metadata": {
      "tags": []
     },
     "output_type": "execute_result"
    }
   ],
   "source": [
    "final_df=final_lgbm.merge(ord_id,on=['user_id','product_id'],how='left')\n",
    "final_df.drop('user_id',axis=1,inplace=True)  #removing user_id as not req\n",
    "final_df.head()"
   ]
  },
  {
   "cell_type": "code",
   "execution_count": null,
   "metadata": {
    "id": "xy1yj7lWTRnm"
   },
   "outputs": [],
   "source": [
    "final_df['product_id']=final_df['product_id'].astype(int)"
   ]
  },
  {
   "cell_type": "code",
   "execution_count": null,
   "metadata": {
    "id": "wgebxV2UONdJ"
   },
   "outputs": [],
   "source": [
    "#creating dict with order_id as key as values as prod_id to be reordered\n",
    "dct=dict()\n",
    "for row in final_df.itertuples():   #for each row\n",
    "  if row.pred==1:      #if pred=1 means reorder\n",
    "    if row.order_id in dct:    #if order_id in dct\n",
    "      dct[row.order_id] = dct[row.order_id]+' '+str(row.product_id)  #add product_id\n",
    "    else:                               #if order_id not in dct\n",
    "      dct[row.order_id]=str(row.product_id)  #add prd_id as first value\n",
    "\n",
    "#if no product is ordered by any order_id we hv to substitute None as value\n",
    "for order_id in final_df.order_id:\n",
    "  if order_id not in  dct:\n",
    "    dct[order_id] ='None'\n"
   ]
  },
  {
   "cell_type": "code",
   "execution_count": null,
   "metadata": {
    "colab": {
     "base_uri": "https://localhost:8080/",
     "height": 204
    },
    "id": "FZ-AJ4xhSfQZ",
    "outputId": "f33a616a-e50a-4d5f-b3c3-59e2cdb92966"
   },
   "outputs": [
    {
     "data": {
      "text/html": [
       "<div>\n",
       "<style scoped>\n",
       "    .dataframe tbody tr th:only-of-type {\n",
       "        vertical-align: middle;\n",
       "    }\n",
       "\n",
       "    .dataframe tbody tr th {\n",
       "        vertical-align: top;\n",
       "    }\n",
       "\n",
       "    .dataframe thead th {\n",
       "        text-align: right;\n",
       "    }\n",
       "</style>\n",
       "<table border=\"1\" class=\"dataframe\">\n",
       "  <thead>\n",
       "    <tr style=\"text-align: right;\">\n",
       "      <th></th>\n",
       "      <th>0</th>\n",
       "    </tr>\n",
       "  </thead>\n",
       "  <tbody>\n",
       "    <tr>\n",
       "      <th>2774568</th>\n",
       "      <td>17668 18599 21903 22035 39190 43961 47766</td>\n",
       "    </tr>\n",
       "    <tr>\n",
       "      <th>1528013</th>\n",
       "      <td>8424 21903 38293</td>\n",
       "    </tr>\n",
       "    <tr>\n",
       "      <th>1376945</th>\n",
       "      <td>8309 13176 14947 17706 20383 24799 27959 28465...</td>\n",
       "    </tr>\n",
       "    <tr>\n",
       "      <th>1356845</th>\n",
       "      <td>5746 7076 10863 11520 13176 14992 22959 30489</td>\n",
       "    </tr>\n",
       "    <tr>\n",
       "      <th>2161313</th>\n",
       "      <td>196 1747 10441 11266 12427 14715 27839 37710 4...</td>\n",
       "    </tr>\n",
       "  </tbody>\n",
       "</table>\n",
       "</div>"
      ],
      "text/plain": [
       "                                                         0\n",
       "2774568          17668 18599 21903 22035 39190 43961 47766\n",
       "1528013                                   8424 21903 38293\n",
       "1376945  8309 13176 14947 17706 20383 24799 27959 28465...\n",
       "1356845      5746 7076 10863 11520 13176 14992 22959 30489\n",
       "2161313  196 1747 10441 11266 12427 14715 27839 37710 4..."
      ]
     },
     "execution_count": 67,
     "metadata": {
      "tags": []
     },
     "output_type": "execute_result"
    }
   ],
   "source": [
    "#conver dct into df\n",
    "sub_df=pd.DataFrame.from_dict(dct,orient='index')\n",
    "sub_df.head()"
   ]
  },
  {
   "cell_type": "code",
   "execution_count": null,
   "metadata": {
    "colab": {
     "base_uri": "https://localhost:8080/",
     "height": 204
    },
    "id": "n7i_OS8zS9d5",
    "outputId": "78aa536b-a44f-4b97-e51c-c7be0a4fef3a"
   },
   "outputs": [
    {
     "data": {
      "text/html": [
       "<div>\n",
       "<style scoped>\n",
       "    .dataframe tbody tr th:only-of-type {\n",
       "        vertical-align: middle;\n",
       "    }\n",
       "\n",
       "    .dataframe tbody tr th {\n",
       "        vertical-align: top;\n",
       "    }\n",
       "\n",
       "    .dataframe thead th {\n",
       "        text-align: right;\n",
       "    }\n",
       "</style>\n",
       "<table border=\"1\" class=\"dataframe\">\n",
       "  <thead>\n",
       "    <tr style=\"text-align: right;\">\n",
       "      <th></th>\n",
       "      <th>order_id</th>\n",
       "      <th>products</th>\n",
       "    </tr>\n",
       "  </thead>\n",
       "  <tbody>\n",
       "    <tr>\n",
       "      <th>0</th>\n",
       "      <td>2774568</td>\n",
       "      <td>17668 18599 21903 22035 39190 43961 47766</td>\n",
       "    </tr>\n",
       "    <tr>\n",
       "      <th>1</th>\n",
       "      <td>1528013</td>\n",
       "      <td>8424 21903 38293</td>\n",
       "    </tr>\n",
       "    <tr>\n",
       "      <th>2</th>\n",
       "      <td>1376945</td>\n",
       "      <td>8309 13176 14947 17706 20383 24799 27959 28465...</td>\n",
       "    </tr>\n",
       "    <tr>\n",
       "      <th>3</th>\n",
       "      <td>1356845</td>\n",
       "      <td>5746 7076 10863 11520 13176 14992 22959 30489</td>\n",
       "    </tr>\n",
       "    <tr>\n",
       "      <th>4</th>\n",
       "      <td>2161313</td>\n",
       "      <td>196 1747 10441 11266 12427 14715 27839 37710 4...</td>\n",
       "    </tr>\n",
       "  </tbody>\n",
       "</table>\n",
       "</div>"
      ],
      "text/plain": [
       "   order_id                                           products\n",
       "0   2774568          17668 18599 21903 22035 39190 43961 47766\n",
       "1   1528013                                   8424 21903 38293\n",
       "2   1376945  8309 13176 14947 17706 20383 24799 27959 28465...\n",
       "3   1356845      5746 7076 10863 11520 13176 14992 22959 30489\n",
       "4   2161313  196 1747 10441 11266 12427 14715 27839 37710 4..."
      ]
     },
     "execution_count": 68,
     "metadata": {
      "tags": []
     },
     "output_type": "execute_result"
    }
   ],
   "source": [
    "#set index\n",
    "sub_df.reset_index(inplace=True)\n",
    "#set cols names\n",
    "sub_df.columns=['order_id','products']\n",
    "sub_df.head()"
   ]
  },
  {
   "cell_type": "code",
   "execution_count": null,
   "metadata": {
    "colab": {
     "base_uri": "https://localhost:8080/"
    },
    "id": "d_ndGLGofZN9",
    "outputId": "578795d0-4b46-4c16-a678-e02c86183bd9"
   },
   "outputs": [
    {
     "data": {
      "text/plain": [
       "order_id     int64\n",
       "products    object\n",
       "dtype: object"
      ]
     },
     "execution_count": 69,
     "metadata": {
      "tags": []
     },
     "output_type": "execute_result"
    }
   ],
   "source": [
    "sub_df.dtypes"
   ]
  },
  {
   "cell_type": "code",
   "execution_count": null,
   "metadata": {
    "colab": {
     "base_uri": "https://localhost:8080/"
    },
    "id": "eG-mCCecWSq7",
    "outputId": "2881a8c8-ba1b-44cf-8337-3d7691eca86c"
   },
   "outputs": [
    {
     "data": {
      "text/plain": [
       "75000"
      ]
     },
     "execution_count": 72,
     "metadata": {
      "tags": []
     },
     "output_type": "execute_result"
    }
   ],
   "source": [
    "sub_df.shape[0]"
   ]
  },
  {
   "cell_type": "code",
   "execution_count": null,
   "metadata": {
    "id": "0DHn_IL-WZGj"
   },
   "outputs": [],
   "source": [
    "#convert to csv\n",
    "sub_df.to_csv('/content/drive/MyDrive/Instacart/sub_lgbm.csv',index=False)"
   ]
  },
  {
   "cell_type": "markdown",
   "metadata": {
    "id": "6SEdFTC_I0G3"
   },
   "source": [
    "![sub_lgbm.JPG](data:image/jpeg;base64,/9j/4AAQSkZJRgABAQEAYABgAAD/4RDgRXhpZgAATU0AKgAAAAgABAE7AAIAAAAHAAAISodpAAQAAAABAAAIUpydAAEAAAAOAAAQyuocAAcAAAgMAAAAPgAAAAAc6gAAAAgAAAAAAAAAAAAAAAAAAAAAAAAAAAAAAAAAAAAAAAAAAAAAAAAAAAAAAAAAAAAAAAAAAAAAAAAAAAAAAAAAAAAAAAAAAAAAAAAAAAAAAAAAAAAAAAAAAAAAAAAAAAAAAAAAAAAAAAAAAAAAAAAAAAAAAAAAAAAAAAAAAAAAAAAAAAAAAAAAAAAAAAAAAAAAAAAAAAAAAAAAAAAAAAAAAAAAAAAAAAAAAAAAAAAAAAAAAAAAAAAAAAAAAAAAAAAAAAAAAAAAAAAAAAAAAAAAAAAAAAAAAAAAAAAAAAAAAAAAAAAAAAAAAAAAAAAAAAAAAAAAAAAAAAAAAAAAAAAAAAAAAAAAAAAAAAAAAAAAAAAAAAAAAAAAAAAAAAAAAAAAAAAAAAAAAAAAAAAAAAAAAAAAAAAAAAAAAAAAAAAAAAAAAAAAAAAAAAAAAAAAAAAAAAAAAAAAAAAAAAAAAAAAAAAAAAAAAAAAAAAAAAAAAAAAAAAAAAAAAAAAAAAAAAAAAAAAAAAAAAAAAAAAAAAAAAAAAAAAAAAAAAAAAAAAAAAAAAAAAAAAAAAAAAAAAAAAAAAAAAAAAAAAAAAAAAAAAAAAAAAAAAAAAAAAAAAAAAAAAAAAAAAAAAAAAAAAAAAAAAAAAAAAAAAAAAAAAAAAAAAAAAAAAAAAAAAAAAAAAAAAAAAAAAAAAAAAAAAAAAAAAAAAAAAAAAAAAAAAAAAAAAAAAAAAAAAAAAAAAAAAAAAAAAAAAAAAAAAAAAAAAAAAAAAAAAAAAAAAAAAAAAAAAAAAAAAAAAAAAAAAAAAAAAAAAAAAAAAAAAAAAAAAAAAAAAAAAAAAAAAAAAAAAAAAAAAAAAAAAAAAAAAAAAAAAAAAAAAAAAAAAAAAAAAAAAAAAAAAAAAAAAAAAAAAAAAAAAAAAAAAAAAAAAAAAAAAAAAAAAAAAAAAAAAAAAAAAAAAAAAAAAAAAAAAAAAAAAAAAAAAAAAAAAAAAAAAAAAAAAAAAAAAAAAAAAAAAAAAAAAAAAAAAAAAAAAAAAAAAAAAAAAAAAAAAAAAAAAAAAAAAAAAAAAAAAAAAAAAAAAAAAAAAAAAAAAAAAAAAAAAAAAAAAAAAAAAAAAAAAAAAAAAAAAAAAAAAAAAAAAAAAAAAAAAAAAAAAAAAAAAAAAAAAAAAAAAAAAAAAAAAAAAAAAAAAAAAAAAAAAAAAAAAAAAAAAAAAAAAAAAAAAAAAAAAAAAAAAAAAAAAAAAAAAAAAAAAAAAAAAAAAAAAAAAAAAAAAAAAAAAAAAAAAAAAAAAAAAAAAAAAAAAAAAAAAAAAAAAAAAAAAAAAAAAAAAAAAAAAAAAAAAAAAAAAAAAAAAAAAAAAAAAAAAAAAAAAAAAAAAAAAAAAAAAAAAAAAAAAAAAAAAAAAAAAAAAAAAAAAAAAAAAAAAAAAAAAAAAAAAAAAAAAAAAAAAAAAAAAAAAAAAAAAAAAAAAAAAAAAAAAAAAAAAAAAAAAAAAAAAAAAAAAAAAAAAAAAAAAAAAAAAAAAAAAAAAAAAAAAAAAAAAAAAAAAAAAAAAAAAAAAAAAAAAAAAAAAAAAAAAAAAAAAAAAAAAAAAAAAAAAAAAAAAAAAAAAAAAAAAAAAAAAAAAAAAAAAAAAAAAAAAAAAAAAAAAAAAAAAAAAAAAAAAAAAAAAAAAAAAAAAAAAAAAAAAAAAAAAAAAAAAAAAAAAAAAAAAAAAAAAAAAAAAAAAAAAAAAAAAAAAAAAAAAAAAAAAAAAAAAAAAAAAAAAAAAAAAAAAAAAAAAAAAAAAAAAAAAAAAAAAAAAAAAAAAAAAAAAAAAAAAAAAAAAAAAAAAAAAAAAAAAAAAAAAAAAAAAAAAAAAAAAAAAAAAAAAAAAAAAAAAAAAAAAAAAAAAAAAAAAAAAAAAAAAAAAAAAAAAAAAAAAAAAAAAAAAAAAAAAAAAAAAAAAAAAAAAAAAAAAAAAAAAAAAAAAAAAAAAAAAAAAAAAAAAAAAAAAAAAAAAAAAAAAAAAAAAAAAAAAAAAAAAAAAAAAAAAAAAAAAAAAAAAAAAAAAAAAAAAAAAAAAAAAAAAAAAAAAAAAAAAAAAAAAAAAAAAAAAAAAAAAAAAAAAAAAAAAAAAAAAAAAAAAAAAAAAAAAAAAAAAAAAAAAAAAAAAAAAAAAAAAAAAAAAAAAAAAAAAAAAAAAAAAAAAAAAAAAAAAAAAAAAAAAAAAAAAAAAAAAAAAAAAAAAAAAAAAAAAAAAAAAAAAAAAAAAAAAAAAAAAAAAAAAAAAAAAAAAAAAAAAAAAAAAAAAAAAAAAAAAAAAAAAAAAAAAAAAAAAAAAAAAAAAAAAAAAAAAAAAAAAAAAAAAAAAAAAAAAAAAAAAAAAAAAAAAAAAAAAAAAAAAAAAAAAAAAAAAAAAAAAAAAAAAAAAAAAAAAAAAAAAAAAAAAAAAAAAAAAAAAAAAAAAAAAAAAAAAAAAAAAAAAAAAAAAAAAAAAAAAAAAAAAAAAAAAAAAAAAAAAAAAAAAAAAAAAAAAAAAAAAAAAAAAAAAAAAAAAAAAAAAAAAAAAAAAAAAAAAAAAAAAAAAAAAAAAAAAAAAAAAAAAAAAAAAAAAAAAAAAAAAAAAAAAAAAAAAAAAAAAAAAAAAAAAAAAAAAAAAAAAAAAAAAAAAAAAAAAAAAAAAAAAAAAAAAAAAAAAAAAAAAAAAAAAAAAAAAAAAAAAAAAAAAAAAAAAAAAAAAAAAAAAAAAAAAAAFBhbmthagAAAAWQAwACAAAAFAAAEKCQBAACAAAAFAAAELSSkQACAAAAAzIxAACSkgACAAAAAzIxAADqHAAHAAAIDAAACJQAAAAAHOoAAAAIAAAAAAAAAAAAAAAAAAAAAAAAAAAAAAAAAAAAAAAAAAAAAAAAAAAAAAAAAAAAAAAAAAAAAAAAAAAAAAAAAAAAAAAAAAAAAAAAAAAAAAAAAAAAAAAAAAAAAAAAAAAAAAAAAAAAAAAAAAAAAAAAAAAAAAAAAAAAAAAAAAAAAAAAAAAAAAAAAAAAAAAAAAAAAAAAAAAAAAAAAAAAAAAAAAAAAAAAAAAAAAAAAAAAAAAAAAAAAAAAAAAAAAAAAAAAAAAAAAAAAAAAAAAAAAAAAAAAAAAAAAAAAAAAAAAAAAAAAAAAAAAAAAAAAAAAAAAAAAAAAAAAAAAAAAAAAAAAAAAAAAAAAAAAAAAAAAAAAAAAAAAAAAAAAAAAAAAAAAAAAAAAAAAAAAAAAAAAAAAAAAAAAAAAAAAAAAAAAAAAAAAAAAAAAAAAAAAAAAAAAAAAAAAAAAAAAAAAAAAAAAAAAAAAAAAAAAAAAAAAAAAAAAAAAAAAAAAAAAAAAAAAAAAAAAAAAAAAAAAAAAAAAAAAAAAAAAAAAAAAAAAAAAAAAAAAAAAAAAAAAAAAAAAAAAAAAAAAAAAAAAAAAAAAAAAAAAAAAAAAAAAAAAAAAAAAAAAAAAAAAAAAAAAAAAAAAAAAAAAAAAAAAAAAAAAAAAAAAAAAAAAAAAAAAAAAAAAAAAAAAAAAAAAAAAAAAAAAAAAAAAAAAAAAAAAAAAAAAAAAAAAAAAAAAAAAAAAAAAAAAAAAAAAAAAAAAAAAAAAAAAAAAAAAAAAAAAAAAAAAAAAAAAAAAAAAAAAAAAAAAAAAAAAAAAAAAAAAAAAAAAAAAAAAAAAAAAAAAAAAAAAAAAAAAAAAAAAAAAAAAAAAAAAAAAAAAAAAAAAAAAAAAAAAAAAAAAAAAAAAAAAAAAAAAAAAAAAAAAAAAAAAAAAAAAAAAAAAAAAAAAAAAAAAAAAAAAAAAAAAAAAAAAAAAAAAAAAAAAAAAAAAAAAAAAAAAAAAAAAAAAAAAAAAAAAAAAAAAAAAAAAAAAAAAAAAAAAAAAAAAAAAAAAAAAAAAAAAAAAAAAAAAAAAAAAAAAAAAAAAAAAAAAAAAAAAAAAAAAAAAAAAAAAAAAAAAAAAAAAAAAAAAAAAAAAAAAAAAAAAAAAAAAAAAAAAAAAAAAAAAAAAAAAAAAAAAAAAAAAAAAAAAAAAAAAAAAAAAAAAAAAAAAAAAAAAAAAAAAAAAAAAAAAAAAAAAAAAAAAAAAAAAAAAAAAAAAAAAAAAAAAAAAAAAAAAAAAAAAAAAAAAAAAAAAAAAAAAAAAAAAAAAAAAAAAAAAAAAAAAAAAAAAAAAAAAAAAAAAAAAAAAAAAAAAAAAAAAAAAAAAAAAAAAAAAAAAAAAAAAAAAAAAAAAAAAAAAAAAAAAAAAAAAAAAAAAAAAAAAAAAAAAAAAAAAAAAAAAAAAAAAAAAAAAAAAAAAAAAAAAAAAAAAAAAAAAAAAAAAAAAAAAAAAAAAAAAAAAAAAAAAAAAAAAAAAAAAAAAAAAAAAAAAAAAAAAAAAAAAAAAAAAAAAAAAAAAAAAAAAAAAAAAAAAAAAAAAAAAAAAAAAAAAAAAAAAAAAAAAAAAAAAAAAAAAAAAAAAAAAAAAAAAAAAAAAAAAAAAAAAAAAAAAAAAAAAAAAAAAAAAAAAAAAAAAAAAAAAAAAAAAAAAAAAAAAAAAAAAAAAAAAAAAAAAAAAAAAAAAAAAAAAAAAAAAAAAAAAAAAAAAAAAAAAAAAAAAAAAAAAAAAAAAAAAAAAAAAAAAAAAAAAAAAAAAAAAAAAAAAAAAAAAAAAAAAAAAAAAAAAAAAAAAAAAAAAAAAAAAAAAAAAAAAAAAAAAAAAAAAAAAAAAAAAAAAAAAAAAAAAAAAAAAAAAAAAAAAAAAAAAAAAAAAAAAAAAAAAAAAAAAAAAAAAAAAAAAAAAAAAAAAAAAAAAAAAAAAAAAAAAAAAAAAAAAAAAAAAAAAAAAAAAAAAAAAAAAAAAAAAAAAAAAAAAAAAAAAAAAAAAAAAAAAAAAAAAAAAAAAAAAAAAAAAAAAAAAAAAAAAAAAAAAAAAAAAAAAAAAAAAAAAAAAAAAAAAAAAAAAAAAAAAAAAAAAAAAAAAAAAAAAAAAAAAAAAAAAAAAAAAAAAAAAAAAAAAAAAAAAAAAAAAAAAAAAAAAAAAAAAAAAAAAAAAAAAAAAAAAAAAAAAAAAAAAAAAAAAAAAAAAAAAAAAAAAAAAAAAAAAAAAAAAAAAAAAAAAAAAAAAAAAAAAAAAAAAAAAAAAAAAAAAAAAAAAAAAAAAAAAAAAAAAAAAAAAAAAAAAAAAAAAAAAAAAAAAAAAAAAAAAAAAAAAAAAAAAAAAAAAAAAAAAAAAAAAAAAAAAAAAAAAAAAAAAAAAAAAAAAAAAAAAAAAAAAAAAAAAAAAAAAAAAAAAAAAAAAAAAAAAAAAAAAAAAAAAAAAAAAAAAAAAAAAAAAAAAAAAAAAAAAAAAAAAAAAAAAAAAAAAAAAAAAAAAAAAAAAAAAAAAAAAAAAAAAAAAAAAAAAAAAAAAAAAAAAAAAAAAAAAAAAAAAAAAAAAAAAAAAAAAAAAAAAAAAAAAAAAAAAAAAAAAAAAAAAAAAAAAAAAAAAAAAAAAAAAAAAAAAAAAAAAAAAAAAAAAAAAAAAAAAAAAAAAAAAAAAAAAAAAAAAAAAAAAAAAAAAAAAAAAAAAAAAAAAAAAAAAAAAAAAAAAAAAAAAAAAAAAyMDIxOjA0OjA5IDExOjA3OjQ0ADIwMjE6MDQ6MDkgMTE6MDc6NDQAAABQAGEAbgBrAGEAagAAAP/hCxlodHRwOi8vbnMuYWRvYmUuY29tL3hhcC8xLjAvADw/eHBhY2tldCBiZWdpbj0n77u/JyBpZD0nVzVNME1wQ2VoaUh6cmVTek5UY3prYzlkJz8+DQo8eDp4bXBtZXRhIHhtbG5zOng9ImFkb2JlOm5zOm1ldGEvIj48cmRmOlJERiB4bWxuczpyZGY9Imh0dHA6Ly93d3cudzMub3JnLzE5OTkvMDIvMjItcmRmLXN5bnRheC1ucyMiPjxyZGY6RGVzY3JpcHRpb24gcmRmOmFib3V0PSJ1dWlkOmZhZjViZGQ1LWJhM2QtMTFkYS1hZDMxLWQzM2Q3NTE4MmYxYiIgeG1sbnM6ZGM9Imh0dHA6Ly9wdXJsLm9yZy9kYy9lbGVtZW50cy8xLjEvIi8+PHJkZjpEZXNjcmlwdGlvbiByZGY6YWJvdXQ9InV1aWQ6ZmFmNWJkZDUtYmEzZC0xMWRhLWFkMzEtZDMzZDc1MTgyZjFiIiB4bWxuczp4bXA9Imh0dHA6Ly9ucy5hZG9iZS5jb20veGFwLzEuMC8iPjx4bXA6Q3JlYXRlRGF0ZT4yMDIxLTA0LTA5VDExOjA3OjQ0LjIwODwveG1wOkNyZWF0ZURhdGU+PC9yZGY6RGVzY3JpcHRpb24+PHJkZjpEZXNjcmlwdGlvbiByZGY6YWJvdXQ9InV1aWQ6ZmFmNWJkZDUtYmEzZC0xMWRhLWFkMzEtZDMzZDc1MTgyZjFiIiB4bWxuczpkYz0iaHR0cDovL3B1cmwub3JnL2RjL2VsZW1lbnRzLzEuMS8iPjxkYzpjcmVhdG9yPjxyZGY6U2VxIHhtbG5zOnJkZj0iaHR0cDovL3d3dy53My5vcmcvMTk5OS8wMi8yMi1yZGYtc3ludGF4LW5zIyI+PHJkZjpsaT5QYW5rYWo8L3JkZjpsaT48L3JkZjpTZXE+DQoJCQk8L2RjOmNyZWF0b3I+PC9yZGY6RGVzY3JpcHRpb24+PC9yZGY6UkRGPjwveDp4bXBtZXRhPg0KICAgICAgICAgICAgICAgICAgICAgICAgICAgICAgICAgICAgICAgICAgICAgICAgICAgICAgICAgICAgICAgICAgICAgICAgICAgICAgICAgICAgICAgICAgICAgICAgICAgIAogICAgICAgICAgICAgICAgICAgICAgICAgICAgICAgICAgICAgICAgICAgICAgICAgICAgICAgICAgICAgICAgICAgICAgICAgICAgICAgICAgICAgICAgICAgICAgICAgICAgCiAgICAgICAgICAgICAgICAgICAgICAgICAgICAgICAgICAgICAgICAgICAgICAgICAgICAgICAgICAgICAgICAgICAgICAgICAgICAgICAgICAgICAgICAgICAgICAgICAgICAKICAgICAgICAgICAgICAgICAgICAgICAgICAgICAgICAgICAgICAgICAgICAgICAgICAgICAgICAgICAgICAgICAgICAgICAgICAgICAgICAgICAgICAgICAgICAgICAgICAgIAogICAgICAgICAgICAgICAgICAgICAgICAgICAgICAgICAgICAgICAgICAgICAgICAgICAgICAgICAgICAgICAgICAgICAgICAgICAgICAgICAgICAgICAgICAgICAgICAgICAgCiAgICAgICAgICAgICAgICAgICAgICAgICAgICAgICAgICAgICAgICAgICAgICAgICAgICAgICAgICAgICAgICAgICAgICAgICAgICAgICAgICAgICAgICAgICAgICAgICAgICAKICAgICAgICAgICAgICAgICAgICAgICAgICAgICAgICAgICAgICAgICAgICAgICAgICAgICAgICAgICAgICAgICAgICAgICAgICAgICAgICAgICAgICAgICAgICAgICAgICAgIAogICAgICAgICAgICAgICAgICAgICAgICAgICAgICAgICAgICAgICAgICAgICAgICAgICAgICAgICAgICAgICAgICAgICAgICAgICAgICAgICAgICAgICAgICAgICAgICAgICAgCiAgICAgICAgICAgICAgICAgICAgICAgICAgICAgICAgICAgICAgICAgICAgICAgICAgICAgICAgICAgICAgICAgICAgICAgICAgICAgICAgICAgICAgICAgICAgICAgICAgICAKICAgICAgICAgICAgICAgICAgICAgICAgICAgICAgICAgICAgICAgICAgICAgICAgICAgICAgICAgICAgICAgICAgICAgICAgICAgICAgICAgICAgICAgICAgICAgICAgICAgIAogICAgICAgICAgICAgICAgICAgICAgICAgICAgICAgICAgICAgICAgICAgICAgICAgICAgICAgICAgICAgICAgICAgICAgICAgICAgICAgICAgICAgICAgICAgICAgICAgICAgCiAgICAgICAgICAgICAgICAgICAgICAgICAgICAgICAgICAgICAgICAgICAgICAgICAgICAgICAgICAgICAgICAgICAgICAgICAgICAgICAgICAgICAgICAgICAgICAgICAgICAKICAgICAgICAgICAgICAgICAgICAgICAgICAgICAgICAgICAgICAgICAgICAgICAgICAgICAgICAgICAgICAgICAgICAgICAgICAgICAgICAgICAgICAgICAgICAgICAgICAgIAogICAgICAgICAgICAgICAgICAgICAgICAgICAgICAgICAgICAgICAgICAgICAgICAgICAgICAgICAgICAgICAgICAgICAgICAgICAgICAgICAgICAgICAgICAgICAgICAgICAgCiAgICAgICAgICAgICAgICAgICAgICAgICAgICAgICAgICAgICAgICAgICAgICAgICAgICAgICAgICAgICAgICAgICAgICAgICAgICAgICAgICAgICAgICAgICAgICAgICAgICAKICAgICAgICAgICAgICAgICAgICAgICAgICAgICAgICAgICAgICAgICAgICAgICAgICAgICAgICAgICAgICAgICAgICAgICAgICAgICAgICAgICAgICAgICAgICAgICAgICAgIAogICAgICAgICAgICAgICAgICAgICAgICAgICAgICAgICAgICAgICAgICAgICAgICAgICAgICAgICAgICAgICAgICAgICAgICAgICAgICAgICAgICAgICAgICAgICAgICAgICAgCiAgICAgICAgICAgICAgICAgICAgICAgICAgICAgICAgICAgICAgICAgICAgICAgICAgICAgICAgICAgICAgICAgICAgICAgICAgICAgICAgICAgICAgICAgICAgICAgICAgICAKICAgICAgICAgICAgICAgICAgICAgICAgICAgICAgICAgICAgICAgICAgICAgICAgICAgICAgICAgICAgICAgICAgICAgICAgICAgICAgICAgICAgICAgICAgICAgICAgICAgIAogICAgICAgICAgICAgICAgICAgICAgICAgICAgICAgICAgICAgICAgICAgICAgICAgICAgICAgICAgICAgICAgICAgICAgICAgICAgICAgICAgICAgICAgICAgICAgICAgICAgCiAgICAgICAgICAgICAgICAgICAgICAgICAgICA8P3hwYWNrZXQgZW5kPSd3Jz8+/9sAQwAHBQUGBQQHBgUGCAcHCAoRCwoJCQoVDxAMERgVGhkYFRgXGx4nIRsdJR0XGCIuIiUoKSssKxogLzMvKjInKisq/9sAQwEHCAgKCQoUCwsUKhwYHCoqKioqKioqKioqKioqKioqKioqKioqKioqKioqKioqKioqKioqKioqKioqKioqKioq/8AAEQgAygO/AwEiAAIRAQMRAf/EAB8AAAEFAQEBAQEBAAAAAAAAAAABAgMEBQYHCAkKC//EALUQAAIBAwMCBAMFBQQEAAABfQECAwAEEQUSITFBBhNRYQcicRQygZGhCCNCscEVUtHwJDNicoIJChYXGBkaJSYnKCkqNDU2Nzg5OkNERUZHSElKU1RVVldYWVpjZGVmZ2hpanN0dXZ3eHl6g4SFhoeIiYqSk5SVlpeYmZqio6Slpqeoqaqys7S1tre4ubrCw8TFxsfIycrS09TV1tfY2drh4uPk5ebn6Onq8fLz9PX29/j5+v/EAB8BAAMBAQEBAQEBAQEAAAAAAAABAgMEBQYHCAkKC//EALURAAIBAgQEAwQHBQQEAAECdwABAgMRBAUhMQYSQVEHYXETIjKBCBRCkaGxwQkjM1LwFWJy0QoWJDThJfEXGBkaJicoKSo1Njc4OTpDREVGR0hJSlNUVVZXWFlaY2RlZmdoaWpzdHV2d3h5eoKDhIWGh4iJipKTlJWWl5iZmqKjpKWmp6ipqrKztLW2t7i5usLDxMXGx8jJytLT1NXW19jZ2uLj5OXm5+jp6vLz9PX29/j5+v/aAAwDAQACEQMRAD8A+h4182NZHd8sM8OQB+VO8lf70n/fxv8AGi3/AOPaL/cH8qkoAj8lf70n/fxv8aPJX+9J/wB/G/xqSigCPyV/vSf9/G/xo8lf70n/AH8b/GpKKAI/JX+9J/38b/GjyV/vSf8Afxv8akooAj8lf70n/fxv8aPJX+9J/wB/G/xqSigCPyV/vSf9/G/xo8lf70n/AH8b/GpKKAI/JX+9J/38b/GjyV/vSf8Afxv8akooAj8lf70n/fxv8aPJX+9J/wB/G/xqSigCPyV/vSf9/G/xo8lf70n/AH8b/GpKKAI/JX+9J/38b/GjyV/vSf8Afxv8akooAj8lf70n/fxv8aPJX+9J/wB/G/xqSigCPyV/vSf9/G/xo8lf70n/AH8b/GpKKAI/JX+9J/38b/GjyV/vSf8Afxv8akooAj8lf70n/fxv8aPJX+9J/wB/G/xqSigCPyV/vSf9/G/xo8lf70n/AH8b/GpKKAI/JX+9J/38b/GjyV/vSf8Afxv8akooAj8lf70n/fxv8aPJX+9J/wB/G/xqSigCPyV/vSf9/G/xo8lf70n/AH8b/GpKKAI/JX+9J/38b/GjyV/vSf8Afxv8akooAj8lf70n/fxv8aPJX+9J/wB/G/xqSigCPyV/vSf9/G/xo8lf70n/AH8b/GpKKAI/JX+9J/38b/GjyV/vSf8Afxv8akooAj8lf70n/fxv8aPJX+9J/wB/G/xqSigCPyV/vSf9/G/xo8lf70n/AH8b/GpKKAI/JX+9J/38b/GjyV/vSf8Afxv8akooAj8lf70n/fxv8aPJX+9J/wB/G/xqSigCPyV/vSf9/G/xo8lf70n/AH8b/GpKKAI/JX+9J/38b/GjyV/vSf8Afxv8akooAj8lf70n/fxv8aPJX+9J/wB/G/xqSigCPyV/vSf9/G/xo8lf70n/AH8b/GpKKAI/JX+9J/38b/GjyV/vSf8Afxv8akooAj8lf70n/fxv8aPJX+9J/wB/G/xqSigCPyV/vSf9/G/xo8lf70n/AH8b/GpKKAI/JX+9J/38b/GjyV/vSf8Afxv8akooAj8lf70n/fxv8aPJX+9J/wB/G/xqSigCPyV/vSf9/G/xo8lf70n/AH8b/GpKKAI/JX+9J/38b/GjyV/vSf8Afxv8akooAj8lf70n/fxv8aPJX+9J/wB/G/xqSigCPyV/vSf9/G/xo8lf70n/AH8b/GpKKAI/JX+9J/38b/GjyV/vSf8Afxv8akooAj8lf70n/fxv8aPJX+9J/wB/G/xqSigCPyV/vSf9/G/xo8lf70n/AH8b/GpKKAI/JX+9J/38b/GjyV/vSf8Afxv8akooAj8lf70n/fxv8aPJX+9J/wB/G/xqSigCPyV/vSf9/G/xo8lf70n/AH8b/GpKKAI/JX+9J/38b/GjyV/vSf8Afxv8akooAj8lf70n/fxv8aPJX+9J/wB/G/xqSigCPyV/vSf9/G/xo8lf70n/AH8b/GpKKAI/JX+9J/38b/GjyV/vSf8Afxv8akooAj8lf70n/fxv8aPJX+9J/wB/G/xqSigCPyV/vSf9/G/xo8lf70n/AH8b/GpKKAI/JX+9J/38b/GjyV/vSf8Afxv8akooAj8lf70n/fxv8aPJX+9J/wB/G/xqSigCPyV/vSf9/G/xo8lf70n/AH8b/GpKKAI/JX+9J/38b/GjyV/vSf8Afxv8akooAj8lf70n/fxv8aPJX+9J/wB/G/xqSigCPyV/vSf9/G/xo8lf70n/AH8b/GpKKAI/JX+9J/38b/GjyV/vSf8Afxv8akooAj8lf70n/fxv8aPJX+9J/wB/G/xqSigCNQY5owrMQxIIZiexPf6VYqBv9dD/AL5/9BNT0AV7f/j2i/3B/KpKjt/+PaL/AHB/KpKACqEmqR211cRXi+SsUXnI+c+Ynf8AEHjHuPWr9ZurWBvZbAiISCG5DvkjhcH8+ccUAOXV4IoYjqDJazSLvMTNkoD0yccfU8VbFxEZWiEgLqgcgdlPQ/oazLiG6t729eGzN0l4ihSHUbCFxhskfL34z1PFRRWV7p80flQ/aw1kluXEgXay55Oexz2yeOlAzR/tWx3RL9pQtMoaMDksDwCPapbm9t7Pb9plWPfkLnvj0rL0bT7m0nt2uItmywjhJ3A4cEkjj8Ku3dvJLqdhKiZSFnLnI+XKkCh+QhYtXsJ5I44rqN2l+4Aevt9fbrTxqdm139mFwhmzt257+memfbrWbHp1yttEnlYK6i05G4cIXY5/IjjrTEsbz7LFpxtiqx3IlN1vXaVD78gZ3bj06fjQtQe5q/2jafavs/nr5uduPf0z0z7dabp+pwakspt937qQocj0OM/pVBba9i1MfZYJYI2nLy5lR4WU9SAfmDH0AAzVvS4ZrZruKaIqrXDypJuBDhjn1yCPcUIGTf2lZ/aHg+0J5ked65+5gZOfTj1pbfUbS6D+ROrbBubtgevPb3rOk0y4ms9XiwEa6m3xEkfMNqjn05BFRvp9xfw3IkhuIJHtmhV7iZW5PYBc8cdT+VAGpb6lZ3ZcW9wj7BubnHHrz29+lJFqllMkjxXKMsa72Pov973HuKozQ3Wp2U9vJYizZrdolld1J3HsNufl+uPpUD2V1dQT77S4SUWkkSGaZDlmHRQvbgcnH0oY1ruacerWMvmCK5RzGm9gP7vqPUfSn6dfxalYx3MGQrjOGHI9qqiymF9YOI8JDavG5yPlJ2YH6GpdFimt9Jgt7mExSQr5ZywIbHcYPT680C6Eseo2ktwYY50aQZ4HfHXB6HHtT1vLd0gdZVK3BxEf7/GePwBrKtLW9ivkSGCa3tgzmVJJEkjwc42fxA5PfA61FaWd+q6Vby2mxLGQ75fMUhhsZQQM5xyOvNAF+w1u1vViVpEjnkyBFuzyCeM+vGcVIdY09ZfLa7jDAlSCcYI6j6+1ZlvZXxsrOwks/K8mcTPPvUqAH3YGDnJ6dMc9alXTrkWaIYvmGomcjcPueYTn8vxo/r8g6F46lDLBHLZywurTLExdiMHPI6dfY1JHqNpLc/Z450aTJAA7kdQD0JHpWbJp901zOwi+V9QimU7hygVQT19jRbW17DqCLBbywW4kdpUklR4iDnlP4gST6AdaP6/BAaCanaTM8cE8byKpIBJwcdcHuB3xmm/2rbRWtvJdzxI00YcBCWBGOSOM4564rPtLW+ilEUVvNb2wjcNFLKjoCRwIz9788DHaksrW900W0v2NrgmyjgeNHUGNlz6kDBz2Pajp/XmBqT6nZW4QzXCDzE3pg53L6jHXrU8M0dxCksDrJG4yrKcgisnTtMuLS8smlVSsNrIjsp4VmdSFHfGAfyq5pFvJa6YkU67HDOSMg9WJHT2NAF6iiigAooooAKKKKACiiigAooooAKKKKACiiigAooooAKKKKACiiigAooooAKKKKACiiigAooooAKKKKACiiigAooooAKKKKACiiigAooooAKKKKACiiigAooooAKKKKACiiigAooooAKKKKACiiigAooooAKKKKACiiigAooooAKKKKACiiigAooooAKKKKACiiigAooooAKKKKACiiigAooooAKKKKACiiigAooooAKKKKAGN/rof98/+gmp6gb/XQ/75/wDQTU9AFe3/AOPaL/cH8qkqO3/49ov9wfyqSgAooooAKKKKACiiigAooooAKKKKACiiigAooooAKKKKACiiigAooooAKKKKACiiigAooooAKKKKACiiigAooooAKKKKACiiigAooooAKKKKACiiigAooooAKKKKACiiigAooooAKKKKACiiigAooooAKKKKACiiigAooooAKKKKACiiigAooooAKKKKACiiigAooooAKKKKACiiigAooooAKKKKACiiigAooooAKKKKACiiigAooooAKKKKACiiigAooooAKKKKACiiigAooooAKKKKACiiigAooooAKKKKACiiigAooooAY3+uh/3z/wCgmp6gb/XQ/wC+f/QTU9AEFvGhtYiUUkoMnHtUvlR/3F/Km23/AB6xf7g/lUlADfKj/uL+VHlR/wBxfyp1FADfKj/uL+VHlR/3F/KnUUAN8qP+4v5UeVH/AHF/KnUUAN8qP+4v5UeVH/cX8qdRQA3yo/7i/lR5Uf8AcX8qdRQA3yo/7i/lR5Uf9xfyp1FADfKj/uL+VHlR/wBxfyp1FADfKj/uL+VHlR/3F/KnUUAN8qP+4v5UeVH/AHF/KnUUAN8qP+4v5UeVH/cX8qdRQA3yo/7i/lR5Uf8AcX8qdRQA3yo/7i/lR5Uf9xfyp1FADfKj/uL+VHlR/wBxfyp1FADfKj/uL+VHlR/3F/KnUUAN8qP+4v5UeVH/AHF/KnUUAN8qP+4v5UeVH/cX8qdRQA3yo/7i/lR5Uf8AcX8qdRQA3yo/7i/lR5Uf9xfyp1FADfKj/uL+VHlR/wBxfyp1FADfKj/uL+VHlR/3F/KnUUAN8qP+4v5UeVH/AHF/KnUUAN8qP+4v5UeVH/cX8qdRQA3yo/7i/lR5Uf8AcX8qdRQA3yo/7i/lR5Uf9xfyp1FADfKj/uL+VHlR/wBxfyp1FADfKj/uL+VHlR/3F/KnUUAN8qP+4v5UeVH/AHF/KnUUAN8qP+4v5UeVH/cX8qdRQA3yo/7i/lR5Uf8AcX8qdRQA3yo/7i/lR5Uf9xfyp1FADfKj/uL+VHlR/wBxfyp1FADfKj/uL+VHlR/3F/KnUUAN8qP+4v5UeVH/AHF/KnUUAN8qP+4v5UeVH/cX8qdRQA3yo/7i/lR5Uf8AcX8qdRQA3yo/7i/lR5Uf9xfyp1FADfKj/uL+VHlR/wBxfyp1FADfKj/uL+VHlR/3F/KnUUAN8qP+4v5UeVH/AHF/KnUUAN8qP+4v5UeVH/cX8qdRQA3yo/7i/lR5Uf8AcX8qdRQA3yo/7i/lR5Uf9xfyp1FADfKj/uL+VHlR/wBxfyp1FADfKj/uL+VHlR/3F/KnUUAN8qP+4v5UeVH/AHF/KnUUAN8qP+4v5UeVH/cX8qdRQA3yo/7i/lR5Uf8AcX8qdRQA3yo/7i/lR5Uf9xfyp1FADfKj/uL+VHlR/wBxfyp1FADfKj/uL+VHlR/3F/KnUUAN8qP+4v5UeVH/AHF/KnUUAN8qP+4v5UeVH/cX8qdRQA3yo/7i/lR5Uf8AcX8qdRQA3yo/7i/lR5Uf9xfyp1FADfKj/uL+VHlR/wBxfyp1FADfKj/uL+VHlR/3F/KnUUAN8qP+4v5UeVH/AHF/KnUUAN8qP+4v5UeVH/cX8qdRQBC6KssJVQPnPQf7Jqao5f8AWQ/75/8AQTUlAEdt/wAesX+4P5VJUdt/x6xf7g/lUlABRRUCXtvJey2iSAzxKGdMcgHoaAJ6KiguYrlGeBtyq7ITgjkHBH5ipaACiiigAooooAKKKKACiiigAooooAKKKKACiiigAooooAKKKKACiiigAooooAKKKKACiiigAooooAKKKKACiiigAoqpdapbWcoilMjybdxSKJpCq+pCg4FWIZo7iFJoHDxuNysOhFAD6Kie5ijuYrd2xLKGKLg8gYz/ADFS0AFFFQLeRHG8tHmUxKJFK7mHpnr0oAnopiyxtK8auC6AFlB5GelPoAKKje4ijuIoXbEk2dgx1wMmpKACiiigAooooAKKKKACiiigAooooAKKKKACiiigAooooAKKKR3EcbO3RRk4GaAFoqo2p2axWsjTDbdsFgOD85IyPpUyXMUlzLbo2ZIgpcYPGenP4UAS0VHLMImjUq7eY20FUJA4zk+g460sU0cylonVwGKkg5wQcEUAPoqB7uJYpnUtL5J2usSlmB44wO/IqegAooooAKKKKACiiigAooooAKKKKACiq15fwWCxm4L/ALxtiBI2cscE4woJ6A0+2uo7uMvEsqgHGJYmjP5MAaAJqKKKACiimSSxwhTK4TcwVcnqT0FAD6KjSYSSyRhXBjIBLIQDkZ4PepKACiiozcRB5EDbniUMyLywBzjj3waAJKKbFIJYkkAZQyggMuCPqO1OoAKKKKACiiigAooooAKKKKACiiigAooooAKKKKACiiigAooJABJOAOpNUbfWbK5mSOJ5Myf6tniZVk/3WIwfwoAvUUUUAFFFFABRRRQBHL/rIf8AfP8A6CakqOX/AFkP++f/AEE1JQBHbf8AHrF/uD+VSVHbf8esX+4P5VJQAVgSWkkutahc2mBd25iaMn+IbeUPsf54Pat+igDk4LyJtIiNxGI4572Yn7RKYkT5mOHx1+h4zS2hNyunwyyM8X26ePCuwBUK+B1zj611dFC0B6nLQwrDFFMjSeZFqZgRjIxxHvI29emKSNy16RPcxxah9rOAZHMhXfwAg/hK/h3rqqKFp/XoD/r8QooooAKKKKACiiigAooooAKKKKACiiigAooooAKKKKACiiigAooooAKKKKACiiigAooooAKKKKACiiigDD1Ka1ttUkk/tBtNuTEoLyKpjmUZwMHqRk9CDzUUGoeVeadc34FpHNayLjBVC+5SBjsSMkA810NFC0A5GKS3kXSX1CRlgK3O9nYqMbhjcew+vtUsIFxJYxB5Hs3vZVhJdvnj8tiBnqVznHtXU0ULQOhy0MKwxRTI0nmRamYEYyMcR7yNvXpimzpFJDHNeH93Fq0gd3YgIuWHJ7DOK6uihaf16f5fiP8Ar8/8zm7lBBqWrmz+W9e1V7cAnc3ByVHfnFRQOfLnOj3MbSi0cmOF3kJfjaWzwGznryc+1dTRQI5mzawbWNL/ALOlaT5JPM+cthto+9no36101FFAkFFFFAwooooAKKKKACiiigAooooAKKKKACiiigAooooAKOvWiigDko7SS5+1WgU50tHEORxuLb0/JVA/GpFuopNNF9OgVNRuy26WUxoihcLvI7EL07k11NFAHLWUrt9lj8zdGupui7Sdu3yycDPOOa0PDscEMd5DFhZUuZBIm7lRuO3I+lbNFC/r8P8AIP6/P/M5WRIba219Yj5c4lDBdx3bCqYP0znmnX8QddZuC8glt5UMTLIw2HYnQA+9dRRQBzF6ktnPqUNgZFTyoJHAdjgF2DsD1B2jqPSr2iGJrqc2dxDJBsXKQOzorZPO48ZI6j6Vs0UAFFFFABRRRQAUUUUAFFFFAGJ4jlWF9Nke6FoBcnMzAEL+7f14plxdJNowe21AX1yJwtvJGAMycYUhe2Ovtmt6igDlnlJs7T7TIBGZZBfGZyqiXsGI6L1x2+7T96C1tftN1v0xrh97q7bAu35VLHquc89OgrpqKAOde4tbYadcW9xJ9gS6cNLIx2KCjAcn+HPQ9KrXDQXVpNcTktBHqgJdiQFT5cn2FdXRR1v/AF0/yB/1+P8Amc3dSsJtR2yOLYXMAlZGPyxbFzgjoPX2zUNy8f2S/XTJmNjmAI8chKhzIAwU59MZx3rqqKBmTYwraeILq3g3LEbeOTYXLDcWYE8/QVVkjgh8QamThJpLRWjyxBbh9xHr2roKKT1Vg6nLRwrdhhO0jBNLidcSMMN83zcHrxQBPCIJLFpDc3OmSSNly2+QBMHnvya6min1f9d/8/wF2/rt/kc9ozQtfxfZLmJv3R86OOR5Cx4wXz0bPrz1roaKKACiiigAooooAKKKKACiiigAooooAKKKKACiiigBk2Ps8m5C67TlF6sMdBXPWV7GlxZW+n3ovYWbabaVAZbdQDySORjp83PvXSUUAc7pj2bTQfaJ5RqxkbzUVyWzzkMvZMdO3TFQW8iH7MUlY6wbkCePed23d8wK/wBwL04x0rqaKAZy5icaRd3cRkMxvHR33tlYvN+YDHQYHar+iGJri4NpcQyW+1fkgdnRW5yQx4yRjIHp71s0ULRA9QooooAjl/1kP++f/QTUlRy/6yH/AHz/AOgmpKAI7b/j1i/3B/KpKjtv+PWL/cH8qkoAKyG1x21qbT7WzM5tmQTnzlVxuAIZVP3lAPJyOhAyRWvWFq3h+41W8DS3dv8AZxIkib7QNNDtwcRyhhtyR1IJGTz0wdQ6E51+MWd7ceQ2LS7FqRu+8dyjP0+f9KoJ4gvYLvWS9nJdWthc4eRWVTHH5SMQo/jIySenXgnpUlz4bupprtINSSGyurlLp4fs25w4KkjfuxtOzptzz17Us3h6+M2pC21VYrbU5d80bW250BRUIjbcACQvUg9enqlf8Px0/wCCH+f4am9G6yxq8Z3KwBUjuDXOaXr93LYW0QgN9fzyXDYLCNVjjlK5Jx7qBgEn8zV9n1u3mEFlpmnNZx4VHfUJEfaP9kQkA+278ay59NbQIbOWCa5M0bTqZ4bFrhSskm/a0aHf1xhh6HPXFPT5C1HyeJbq4m01rKzmVprye2ktnKgsUVurdAAVzkfrVl/E5jWKJ7CT7a14LN7cSL8rmMyA7uhUqAc+/TIxVHTNBv5bG1uVu5LS5hvbi6Q3MIYyCQsBvUEYBDZwMEdOKvJ4bkae3urq9El0l8LyZ1h2q5ERjCKu47QAR3PQ+tCvpfy/S/6jVrv52/QanieYLvudLkhjiultLh/OVvLkZlVSP7y/MvPB56Vp6nqP9nxwhIWuJ7iURQwqQNzYJ5J6AAEk+3fpVOfQPOtLuH7Tt+030d5u8v7u1o229ec+X19+nFSXulXd2fNF8iXEFx59m5gysQ2bSjDcN4ILdx1HpR0X9dv+CH/B/wCARXXiCSytITd2DQXM1wLZI5JlWMsVLA+Z/dwDzjOeMVZXVXSWxjvLR7drxnjGXDBXUEgZHUEBiD7dBUMum6pPp5jm1K3lnaXc4ksg0DJjGzZu3Y7535z7cVWHhhk8MHTIbwQTiUzxXEMO1YJN24bI88KOm3PTPNAGrpt+NStTcRxskfmOiFj98KxXd9DjI9sVbqGztYrGxgtLcbYoI1jQewGKmpsAooopAFFFFABRRRQAUUUUAFFFFABRRRQAUUUUAFFFFABRRRQAUUUUAFFFFAGDd66mnapfCQTyiM2kfl7l2KZXKArxnryck9BjFT6h4hh01r4TRORZxwuSGADeYxUcngAFeSeAOaoz6NJq2p6yTvt0kFsIJnj/AOWkTF9wBxuUEr9eeasxaJqKyXtzLqsbXl3HEm9LQCNNhY42FiSp3YIznrgjjB0Aj1PW9StdD+1w2EazfaoYsGcOjq7qu5WHX72OQMHnnvpanqQ0rRpb+4hLeUoZ40OTyQMA/jWVH4UddMvYPtNvFNdTx3Cm2tfLhjeNlZT5e45yVG75gT7Vp6rpr6toUthNOqSSooaVY+Mggkhc9OOmaHsHQqt4i+yteLqljJbPbwidVVxJ5qEkADH8WRjHuOTTJ/Eclisw1PT3t5I4Dcqqyhw8akBzkdCoYEj34JqxqOhpqVzNJLOyCW18gBF+ZCH3BwfUHHGO1Mg0a5mvGudbu4bxxA9vGsNuYkVHxvJBZsk7R3AwOlJX6/1vb9B6X/ryI7jxRb291qUP2eRzYwiRSCMTsQPkX3G5B/wIVtqSVBYYOOR6VzkHg9YrTTIpL95XspzLNI0YzcgsG2nnj5ljP/APeukquggooopAFFFFABRRRQAUUUUAFFFFABRRRQAUUUUAFFFFABRRRQAUjZ2nbjOOM0tFAGHoU+oNqmrW2pXgumgki2FYgipuQEhR1xn1JPvUs+uOutPp1rafaJIVR5R5yo21icFFP3sY56D3J4q1aad9l1S/vPN3fbGQ7NuNm1dvXPNZ+t+H59ZkKPd24tm2kCS0Dywkd4pAw2n3IOD+VC6B0C88UR2s9wRbb7S0fy7ifzlUqeMlUPLAZ56dDgGppdbmN5cRWWnS3cNq4SeVHAIYgNhFP3sBgT09Bk8VVm8MP9umktJ7RILiXzZRNYrLKpON2xy2ADjPzK2CT+FmTSL+O9uH0zUY7WC6kEkyNbeY6tgKSjbgFyFHVW55oWyv/X/A3BjLrxEbc3cyWMktjZMUubgOAVIALFVP3goPPTocA1HdeKDbvqLpp8kttpsgW5mEijClFfco74DcjjpxnpS3fh65n+2WsGoJFp187NcQmDdJ8ww4R9wChvdTjJ9sPm8OCWy123W52DV84Pl/6n90sfTPzfdz264px21/rb/gj0vqM1TXriKHURp1lJOtlGfOnVlGx9m4BVP3iAVJ6deMnikXxDKslrZw2v2u6NnHcygyrGWVsj5AfvNkHjgDjnmlvPD93I1+lhqS2tvqC/6QrW+91bYE3I24BcgDgg9KZqnhu41CyjsvtlqbZYFhK3FkJWQgY3xncNrY9d2CAR3zK3+79bi7f12/4J0I5HpRTY08uJEDM21QMsck/WnUwCiiigAooooAKKKKAKepW93cxxx2l4bNd+ZpUVS+zB4XcCAc45IPGe/NVfDt1Pd6fJJLO11CJ2W3uXUK00Y6McADrkAgAEAHvTtf0y81awW2sr2K1UuDMJYGlWVP7hCuhAPfnkcd6tadDewW2zUZ7adwflNtbNCqrjgbS7/nn8KF1B9ClZ649/qU0FvZ7oIZ2gkl85d6Muckp1C8cHOTkHGOagg8URzXEBNtts7mXyYZ/OUsWyQCU6hSRweTyMgUsnh64uNbgvbq7t5Et5jLGy2gW4xziMyhsFOcY25IAyepMdh4YfT7qFYZrMWUDlkQWK+fjqFMhYjAz1Cg4A56ki6XB9bFu01qe8mR4dNlNjJIY0uQ4JOCRuKdQhI4PXkHGOaih8RmQwTtYyJp9xKIYboyDJYttUlOoUnAByTyMgU+y0m/sZo4YtSjGmxOzJALb97gkkIZN2Noz2UHAHPrDD4duEFvZyX8b6XazLLFbi3xJ8rbkUvuwVU46KDwOeuRdLg+oW3iZ5zbytp0kdncXDWwn8xSRIGZRleu0lcZ65PTHNV9T8RXf2GSews5FthdJbrdblJJ84Ix2f3c5GevfGOauw+H/J0q2svtOfIvPtW/y/vfvTJtxnjrjNVZ/DN3JbvYw6msWnG5Fysf2fMinzRIU37sbc5425wetLp/Xl/wRa3/AK8/+AXIdca51i4sra08xLWUQzP5yh1JUNu2ddvI5yD6A1r1g3/h6fUNVhuJ7u3MMM6zxn7IPtEe052LKGGFPQ/LkgkZ5rep9B9QooooAKKKKACiiigAooooAKKKKACiiigAooooAKKKKACuUW+1L+zU1430nlvdBfsWxPL8ky+WOdu7dg7s568dK6usAeHLgOLU36f2SLj7SLYQHzN2/ft8zdjZu5xtzjjOKOoGlqqXD2eYLx7NEO+aWOMPJsAJIUEEZ6djxnAzXOL4gnh0CZxfySrJfraW108QMwUgZzGFHzg7wAVyflyDnndubHU5YyYNUWKdJzJETb5j2EYEbruBYDOcgqc4qqPDsslrcPc3wbUJ7iO5+0RQ7ER0AC4Qk8YGCCxJyeRxhf1+Q2Z7areWmkakYr65llgMWft0CrNbKzYaQ7QFZQuWBx/CwJOMBo1yezn1C10zUW110097uEtsYrIvGzMYAIO5TjqPoRWrDol4ftlzeakDqFzGkYntoPKSJUJKgIWY9WOcnnPan2ejXKmeXUL2N7mSEwo9nB5CwrknKgsx3E4JJPYcU/6/D+v8w/r8jK0/WCmsWVpa69/bH263djvEZEThdytmMDAPzDac9OOhrQ8O3N/Jeaxb6ldi6e1u1RGEQjABiRiAB2yx6kn3NS6fpN3FfLdaneQXLxKywiC28kDdjLN8zbmOAMjA68c1ZsNM+w32o3Pm7/t06zbduNmI1TGc8/dz260+v9dxLbUvUUUUgI5f9ZD/AL5/9BNSVHL/AKyH/fP/AKCakoAjtv8Aj1i/3B/KpKjtv+PWL/cH8qkoAKKK821T4i6tY6xeWkVvZGOCd41LI+SFYgZ+brxWFbEQoJOfUznUjBXkek0V5Z/ws7Wf+faw/wC/b/8AxdH/AAs7Wf8An2sP+/b/APxdcv8AaWH8/uMvrNM9Toryz/hZ2s/8+1h/37f/AOLo/wCFnaz/AM+1h/37f/4uj+0sP5/cH1mmep0V5Z/ws7Wf+faw/wC/b/8AxdH/AAs7Wf8An2sP+/b/APxdH9pYfz+4PrNM9Toryz/hZ2s/8+1h/wB+3/8Ai6P+Fnaz/wA+1h/37f8A+Lo/tLD+f3B9ZpnqdFeWf8LO1n/n2sP+/b//ABdH/CztZ/59rD/v2/8A8XR/aWH8/uD6zTPU6K8s/wCFnaz/AM+1h/37f/4uj/hZ2s/8+1h/37f/AOLo/tLD+f3B9ZpnqdFeWf8ACztZ/wCfaw/79v8A/F0f8LO1n/n2sP8Av2//AMXR/aWH8/uD6zTPU6K8s/4WdrP/AD7WH/ft/wD4uj/hZ2s/8+1h/wB+3/8Ai6P7Sw/n9wfWaZ6nRXln/CztZ/59rD/v2/8A8XR/ws7Wf+faw/79v/8AF0f2lh/P7g+s0z1OivLP+Fnaz/z7WH/ft/8A4uj/AIWdrP8Az7WH/ft//i6P7Sw/n9wfWaZ6nRXln/CztZ/59rD/AL9v/wDF0f8ACztZ/wCfaw/79v8A/F0f2lh/P7g+s0z1OivLP+Fnaz/z7WH/AH7f/wCLo/4WdrP/AD7WH/ft/wD4uj+0sP5/cH1mmep0V5Z/ws7Wf+faw/79v/8AF0f8LO1n/n2sP+/b/wDxdH9pYfz+4PrNM9Toryz/AIWdrP8Az7WH/ft//i6P+Fnaz/z7WH/ft/8A4uj+0sP5/cH1mmep0V5Z/wALO1n/AJ9rD/v2/wD8XR/ws7Wf+faw/wC/b/8AxdH9pYfz+4PrNM9Toryz/hZ2s/8APtYf9+3/APi6P+Fnaz/z7WH/AH7f/wCLo/tLD+f3B9ZpnqdFeWf8LO1n/n2sP+/b/wDxdH/CztZ/59rD/v2//wAXR/aWH8/uD6zTPU6K8s/4WdrP/PtYf9+3/wDi6P8AhZ2s/wDPtYf9+3/+Lo/tLD+f3B9ZpnqdFeWf8LO1n/n2sP8Av2//AMXR/wALO1n/AJ9rD/v2/wD8XR/aWH8/uD6zTPU6K8s/4WdrP/PtYf8Aft//AIuj/hZ2s/8APtYf9+3/APi6P7Sw/n9wfWaZ6nRXln/CztZ/59rD/v2//wAXR/ws7Wf+faw/79v/APF0f2lh/P7g+s0z1OivLP8AhZ2s/wDPtYf9+3/+Lo/4WdrP/PtYf9+3/wDi6P7Sw/n9wfWaZ6nRXln/AAs7Wf8An2sP+/b/APxdH/CztZ/59rD/AL9v/wDF0f2lh/P7g+s0z1OivLP+Fnaz/wA+1h/37f8A+Lo/4WdrP/PtYf8Aft//AIuj+0sP5/cH1mmep0V5Z/ws7Wf+faw/79v/APF0f8LO1n/n2sP+/b//ABdH9pYfz+4PrNM9Toryz/hZ2s/8+1h/37f/AOLo/wCFnaz/AM+1h/37f/4uj+0sP5/cH1mmep0V5Z/ws7Wf+faw/wC/b/8AxdH/AAs7Wf8An2sP+/b/APxdH9pYfz+4PrNM9Toryz/hZ2s/8+1h/wB+3/8Ai6P+Fnaz/wA+1h/37f8A+Lo/tLD+f3B9ZpnqdFeWf8LO1n/n2sP+/b//ABdH/CztZ/59rD/v2/8A8XR/aWH8/uD6zTPU6K8s/wCFnaz/AM+1h/37f/4uj/hZ2s/8+1h/37f/AOLo/tLD+f3B9ZpnqdFeWf8ACztZ/wCfaw/79v8A/F0f8LO1n/n2sP8Av2//AMXR/aWH8/uD6zTPU6K8s/4WdrP/AD7WH/ft/wD4uj/hZ2s/8+1h/wB+3/8Ai6P7Sw/n9wfWaZ6nRXln/CztZ/59rD/v2/8A8XR/ws7Wf+faw/79v/8AF0f2lh/P7g+s0z1OivLP+Fnaz/z7WH/ft/8A4uj/AIWdrP8Az7WH/ft//i6P7Sw/n9wfWaZ6nRXln/CztZ/59rD/AL9v/wDF0f8ACztZ/wCfaw/79v8A/F0f2lh/P7g+s0z1OivLP+Fnaz/z7WH/AH7f/wCLo/4WdrP/AD7WH/ft/wD4uj+0sP5/cH1mmep0V5Z/ws7Wf+faw/79v/8AF0f8LO1n/n2sP+/b/wDxdH9pYfz+4PrNM9Toryz/AIWdrP8Az7WH/ft//i6P+Fnaz/z7WH/ft/8A4uj+0sP5/cH1mmep0V5Z/wALO1n/AJ9rD/v2/wD8XR/ws7Wf+faw/wC/b/8AxdH9pYfz+4PrNM9Toryz/hZ2s/8APtYf9+3/APi6P+Fnaz/z7WH/AH7f/wCLo/tLD+f3B9ZpnqdFeWf8LO1n/n2sP+/b/wDxdH/CztZ/59rD/v2//wAXR/aWH8/uD6zTPU6K8s/4WdrP/PtYf9+3/wDi6P8AhZ2s/wDPtYf9+3/+Lo/tLD+f3B9ZpnqdFeWf8LO1n/n2sP8Av2//AMXR/wALO1n/AJ9rD/v2/wD8XR/aWH8/uD6zTPU6K8s/4WdrP/PtYf8Aft//AIuj/hZ2s/8APtYf9+3/APi6P7Sw/n9wfWaZ6nRXln/CztZ/59rD/v2//wAXR/ws7Wf+faw/79v/APF0f2lh/P7g+s0z1OivLP8AhZ2s/wDPtYf9+3/+Lo/4WdrP/PtYf9+3/wDi6P7Sw/n9wfWaZ6nRXln/AAs7Wf8An2sP+/b/APxdH/CztZ/59rD/AL9v/wDF0f2lh/P7g+s0z1OivLP+Fnaz/wA+1h/37f8A+Lo/4WdrP/PtYf8Aft//AIuj+0sP5/cH1mmep0V5Z/ws7Wf+faw/79v/APF0f8LO1n/n2sP+/b//ABdH9pYfz+4PrNM9Toryz/hZ2s/8+1h/37f/AOLo/wCFnaz/AM+1h/37f/4uj+0sP5/cH1mmep0V5Z/ws7Wf+faw/wC/b/8AxdH/AAs7Wf8An2sP+/b/APxdH9pYfz+4PrNM9Toryz/hZ2s/8+1h/wB+3/8Ai6P+Fnaz/wA+1h/37f8A+Lo/tLD+f3B9ZpnqdFeWf8LO1n/n2sP+/b//ABdH/CztZ/59rD/v2/8A8XR/aWH8/uD6zTPU6K8s/wCFnaz/AM+1h/37f/4uj/hZ2s/8+1h/37f/AOLo/tLD+f3B9ZpnqdFeWf8ACztZ/wCfaw/79v8A/F0f8LO1n/n2sP8Av2//AMXR/aWH8/uD6zTPU6K8s/4WdrP/AD7WH/ft/wD4ut/wd4x1DxDrEtpew2yRpAZAYlYHIZR3Y8cmrp46jUkoR3ZUa8JOyO0oooruNyOX/WQ/75/9BNSVHL/rIf8AfP8A6CakoAjtv+PWL/cH8qkqO2/49Yv9wfyqSgArwrxB/wAjNqn/AF+S/wDoZr3WvCvEH/Izap/1+S/+hmvHzX4I+px4r4UZVxcRWkDTXDhI16sahtdSt7uRo4jIsijd5csTRsR6gMBkVX1kFY7ScqzxW9yskoUZwuCM474JB/CmvqNvemT+ywtzcRwOUnQBlQkcLu9SccD05rxVFONzjUbo1KK52xktzdWX9mzNJKyN9sBcsQNnVwejbsdfeorC0jeDRmdpWNzEwmzK37wbMgHn1qnStu/61/yDlOnqOW4igeJZW2tM+xBgnJwTj8ga5eKSIPYR30zrbK92h3OQu1XAUMfQDjmrEDbjY+WzNbDUWFuzEnKeW3QntnOPbFP2Nh8lvx/X/I6SmxyxzBjE4cKxU4PQjqK5qwcvcwebcRpqHnHzk8xzIRk5Ur2XHQ9BxTVVLawvY7c+Wy3x+0KHIKxFzgnHIBHf0zS9l0uHIdTRWVopQyXJtp4pLfK7VhZnRG5zhjx6cDp+NatZSjyuxm9GFFFFSAUUUUAFFFFABRRRQAUUUUAFFFFABRRRQAUUUUAFFFFABRRRQAUUUUAFFFFABRRRQAUUUUAFFFFABRRRQAUUUUAFFFFABRRRQAUUUUAFFFFABRRRQAUUUUAFFFFABRRRQAUUUUAFFFFABRRRQAUUUUAFFFFABRRRQAUUUUAFFFFABRRRQAUUUUAFFFFABRRRQAUUUUAFFFFABRRRQAUUUUAFFFFABRRRQAUUUUAFFFFABRRRQAUUUUAFFFFABRRRQAUUUUAFdn8Mf+RmuP8Arzb/ANDSuMrs/hj/AMjNcf8AXm3/AKGldWD/AN4j6mtH+Ij1OiiivrT1iOX/AFkP++f/AEE1JUcv+sh/3z/6CakoAjtv+PWL/cH8qkqO2/49Yv8AcH8qkoAK8K8Qf8jNqn/X5L/6Ga91rk7z4daTfX093LcXoknkaRgrpgFjk4+XpzXn47DzrxSh0OevTlNJI8lor1T/AIVjo3/Pzf8A/fxP/iKP+FY6N/z83/8A38T/AOIryf7NxHl95yfVqh5XRXqn/CsdG/5+b/8A7+J/8RR/wrHRv+fm/wD+/if/ABFH9m4jy+8Pq1Q8lktY5byG5bdvhVlXB4w2M5/IVNXqn/CsdG/5+b//AL+J/wDEUf8ACsdG/wCfm/8A+/if/EU/7OxHl94/q9Q8ror1T/hWOjf8/N//AN/E/wDiKP8AhWOjf8/N/wD9/E/+Ipf2biPL7xfVqh5XRXqn/CsdG/5+b/8A7+J/8RR/wrHRv+fm/wD+/if/ABFH9m4jy+8Pq1Q8ror1T/hWOjf8/N//AN/E/wDiKP8AhWOjf8/N/wD9/E/+Io/s3EeX3h9WqHldFeqf8Kx0b/n5v/8Av4n/AMRR/wAKx0b/AJ+b/wD7+J/8RR/ZuI8vvD6tUPK6K9U/4Vjo3/Pzf/8AfxP/AIij/hWOjf8APzf/APfxP/iKP7NxHl94fVqh5XRXqn/CsdG/5+b/AP7+J/8AEUf8Kx0b/n5v/wDv4n/xFH9m4jy+8Pq1Q8ror1T/AIVjo3/Pzf8A/fxP/iKP+FY6N/z83/8A38T/AOIo/s3EeX3h9WqHldFeqf8ACsdG/wCfm/8A+/if/EUf8Kx0b/n5v/8Av4n/AMRR/ZuI8vvD6tUPK6K9U/4Vjo3/AD83/wD38T/4ij/hWOjf8/N//wB/E/8AiKP7NxHl94fVqh5XRXqn/CsdG/5+b/8A7+J/8RR/wrHRv+fm/wD+/if/ABFH9m4jy+8Pq1Q8ror1T/hWOjf8/N//AN/E/wDiKP8AhWOjf8/N/wD9/E/+Io/s3EeX3h9WqHldFeqf8Kx0b/n5v/8Av4n/AMRR/wAKx0b/AJ+b/wD7+J/8RR/ZuI8vvD6tUPK6K9U/4Vjo3/Pzf/8AfxP/AIij/hWOjf8APzf/APfxP/iKP7NxHl94fVqh5XRXqn/CsdG/5+b/AP7+J/8AEUf8Kx0b/n5v/wDv4n/xFH9m4jy+8Pq1Q8ror1T/AIVjo3/Pzf8A/fxP/iKP+FY6N/z83/8A38T/AOIo/s3EeX3h9WqHldFeqf8ACsdG/wCfm/8A+/if/EUf8Kx0b/n5v/8Av4n/AMRR/ZuI8vvD6tUPK6K9U/4Vjo3/AD83/wD38T/4ij/hWOjf8/N//wB/E/8AiKP7NxHl94fVqh5XRXqn/CsdG/5+b/8A7+J/8RR/wrHRv+fm/wD+/if/ABFH9m4jy+8Pq1Q8ror1T/hWOjf8/N//AN/E/wDiKP8AhWOjf8/N/wD9/E/+Io/s3EeX3h9WqHldFeqf8Kx0b/n5v/8Av4n/AMRR/wAKx0b/AJ+b/wD7+J/8RR/ZuI8vvD6tUPK6K9U/4Vjo3/Pzf/8AfxP/AIij/hWOjf8APzf/APfxP/iKP7NxHl94fVqh5XRXqn/CsdG/5+b/AP7+J/8AEUf8Kx0b/n5v/wDv4n/xFH9m4jy+8Pq1Q8ror1T/AIVjo3/Pzf8A/fxP/iKP+FY6N/z83/8A38T/AOIo/s3EeX3h9WqHldFeqf8ACsdG/wCfm/8A+/if/EUf8Kx0b/n5v/8Av4n/AMRR/ZuI8vvD6tUPK6K9U/4Vjo3/AD83/wD38T/4ij/hWOjf8/N//wB/E/8AiKP7NxHl94fVqh5XRXqn/CsdG/5+b/8A7+J/8RR/wrHRv+fm/wD+/if/ABFH9m4jy+8Pq1Q8ror1T/hWOjf8/N//AN/E/wDiKP8AhWOjf8/N/wD9/E/+Io/s3EeX3h9WqHldFeqf8Kx0b/n5v/8Av4n/AMRR/wAKx0b/AJ+b/wD7+J/8RR/ZuI8vvD6tUPK6K9U/4Vjo3/Pzf/8AfxP/AIij/hWOjf8APzf/APfxP/iKP7NxHl94fVqh5XRXqn/CsdG/5+b/AP7+J/8AEUf8Kx0b/n5v/wDv4n/xFH9m4jy+8Pq1Q8ror1T/AIVjo3/Pzf8A/fxP/iKP+FY6N/z83/8A38T/AOIo/s3EeX3h9WqHldFeqf8ACsdG/wCfm/8A+/if/EUf8Kx0b/n5v/8Av4n/AMRR/ZuI8vvD6tUPK6K9U/4Vjo3/AD83/wD38T/4ij/hWOjf8/N//wB/E/8AiKP7NxHl94fVqh5XRXqn/CsdG/5+b/8A7+J/8RR/wrHRv+fm/wD+/if/ABFH9m4jy+8Pq1Q8ror1T/hWOjf8/N//AN/E/wDiKP8AhWOjf8/N/wD9/E/+Io/s3EeX3h9WqHldFeqf8Kx0b/n5v/8Av4n/AMRR/wAKx0b/AJ+b/wD7+J/8RR/ZuI8vvD6tUPK6K9U/4Vjo3/Pzf/8AfxP/AIij/hWOjf8APzf/APfxP/iKP7NxHl94fVqh5XRXqn/CsdG/5+b/AP7+J/8AEUf8Kx0b/n5v/wDv4n/xFH9m4jy+8Pq1Q8ror1T/AIVjo3/Pzf8A/fxP/iKP+FY6N/z83/8A38T/AOIo/s3EeX3h9WqHldFeqf8ACsdG/wCfm/8A+/if/EUf8Kx0b/n5v/8Av4n/AMRR/ZuI8vvD6tUPK6K9U/4Vjo3/AD83/wD38T/4ij/hWOjf8/N//wB/E/8AiKP7NxHl94fVqh5XRXqn/CsdG/5+b/8A7+J/8RR/wrHRv+fm/wD+/if/ABFH9m4jy+8Pq1Q8ror1T/hWOjf8/N//AN/E/wDiKP8AhWOjf8/N/wD9/E/+Io/s3EeX3h9WqHldFeqf8Kx0b/n5v/8Av4n/AMRR/wAKx0b/AJ+b/wD7+J/8RR/ZuI8vvD6tUPK6K9U/4Vjo3/Pzf/8AfxP/AIij/hWOjf8APzf/APfxP/iKP7NxHl94fVqh5XRXqn/CsdG/5+b/AP7+J/8AEUf8Kx0b/n5v/wDv4n/xFH9m4jy+8Pq1Q8ror1T/AIVjo3/Pzf8A/fxP/iKP+FY6N/z83/8A38T/AOIo/s3EeX3h9WqHldFeqf8ACsdG/wCfm/8A+/if/EUf8Kx0b/n5v/8Av4n/AMRR/ZuI8vvD6tUPK6K9U/4Vjo3/AD83/wD38T/4ij/hWOjf8/N//wB/E/8AiKP7NxHl94fVqh5XRXqn/CsdG/5+b/8A7+J/8RR/wrHRv+fm/wD+/if/ABFH9m4jy+8Pq1Q8ror1T/hWOjf8/N//AN/E/wDiKP8AhWOjf8/N/wD9/E/+Io/s3EeX3h9WqHldFeqf8Kx0b/n5v/8Av4n/AMRR/wAKx0b/AJ+b/wD7+J/8RR/ZuI8vvD6tUPK67P4Y/wDIzXH/AF5t/wChpXQ/8Kx0b/n5v/8Av4n/AMRWnoXg7T/D1893ZTXLyPGYyJWUjBIPZRzwK3w+BrU6sZy2RpToTjNNm/RRRXvneRy/6yH/AHz/AOgmpKjl/wBZD/vn/wBBNSUAR23/AB6xf7g/lUlR23/HrF/uD+VSUAFBOOtFY/id1bw9cbWB2yRA4PQ+YtVFc0khSdk2bFFc1NrV6mm69MGUPY3nlQnaOF2xnn1+8ag1HVdWjfWLi1u4449NnjVIWhDCQFEJDHOcfMemD/KrVKT/AK9P8zJ1oq/9bX/yZ1lFcrf6pqumJqUBu47iWFbaSGV4guPMkKFSBxj5evXmtGyuL6114abfXQvFmtmuEk8oIUKsFKkDjB3DHfg9aXs3a9/6tcftV2/q9jZornppbm28V305upHt4dPWX7OFGDy/H6ZzSWd9qcL6VPeXUVxHqZAaFIwBCTGXGwjkgYwc59eOlHs21e4Ook7Nf1p/mdFRWVqmpPpmoWkkzgWMqyRykj7jhdynPphWH1IrPtLzV9RktbU3S2Uklr9skcQhmAZzsjAPHA6nrnHSkoNq/wDX9aDdRJ2/rp/mdLRXN6Prl5f6vaW8/lhWtrgy7F4aSKZY9w9AeTj3qC11TVNRk0qCO7W3N1FcPLIIQx+SQAYzwOD71Xspf18/8ifbRe39Xt/mjq6KyNeu7yCXTYLCZIXurryXd03YXYx4HrxxWe+q6lazy6U1xHNci5hijvGiAwsgJyyjgsNjegOV49VGm5K6KlUUXZnT0hZVxuIG44GT1Nc5JfaxbjUrCB1vru2jhljlEahyjsQ2VyFLAKxHQHj8YBqTzfYY5Lj7VKupJG32qz8uWIGNiMqR19GUDj8aapNkuqjqmZVxuIGTgZPelrjElurfSt9zOt7u1xYlE8StsH2jaSOOD3Hp2q2dW1I6fLrQuEFtHctF9i8ocosvln5uu/gkdugxT9k+j8vyF7ZXtbpf8X/kdRRXK/2nqwin1D7XH5NvqJtjbeSMPH5oTluu4A8duOc1sa1eXFrBbx2bIk11cJAsjjIjzklsdzgHA9cVPI9PMtVFr5f1+hpUVyd9q+q6dLJp4uo5p0uLRUuXiGSkzlSGUYGRtPTHWtXSLm8Gqahp19cC6NsIpEm8sIxVw3BA44Knn3pum1Hm/rp/mJVYuXL1/wCH/wAma/TrRXIagLn+0PFQkvJHgTTVKwlRtG5ZOn5fj36VNb32oaQlsbq5W7gk0+ScRCEIYzGqkBSOSCCeuT70ez03/q1xKrd7d/zsdTRnnHeuY0bVNWnvrT7QJ54LpC0paz8pIDtyCrd17c5PIOaj1zUDpXiia/VPMNvok0gX1IkSn7J83KDrJQ5/T8bf5nV0Vy1tq+o2rSvfyym2Fs8r3FzZGJIHGMYwfmU5PHXjrzVf/hJL/TjefaTNdLHp73aNcWvkHcpAwF67TuHUZGOpo9jJ6ITrRSuzsc0Vylyb7Ttd0+bULxb0LbXEuFiCEEKpIGOq+mefc0yw1rWJBBPIs80VzCzybrPy47c7CylW/iGQBznOQeOlL2TtdP8ArX/IpVVe1v60/wAzrs0VxrS6neaH4fvJ72Nrm8uYZFJhASLdC2cDv17nr+VWpdX1KyuLjS2njnuRNbxxXbxhdqylhllHBYbGx0zlabou9rkqvFpSto1f83+h1FFc3Nql5prX1leX6M8ccLw3Rti7ZkYrtMafebK8Y656cc0W1/VIrbUIRI/nW8tr5U11bhGKyvtIZB9D6Hn8aSpSe39bf5jdaMd/63/yOyoBz0rnxJqk+qS6bDqQRrOBJZJnt1JnZ2fAI4AUBcccnPWneHvtTeCLU2bQrdGEmMyAtHuyeuCDj8aThZXv/TKVS7skb1FcZ4Z1jxpqetzQa1p1jZWdqxWWQRODIewQlyD2OemK7OipTdN2bT9CaNVVY8yTXqrBRRRWZsFFFFABRRRQAUUUUAFFFFABRRRQAUUUUAFFFFABRRRQAUUUUAFFFFABRRRQAUUUUAFFFFABRRRQAUUUUAFFFFABRRRQAUUUUAFFFFABRRRQAUUUUAFFFFABRRRQAUUUUAFFFFABRRRQAUUUUAFFFFABRRRQAUUUUAFFFFABRRRQAUUUUAFFFFABRRRQAUUUUAFFFFABRRRQBHL/AKyH/fP/AKCakqOX/WQ/75/9BNSUAR23/HrF/uD+VSVHbf8AHrF/uD+VSUAFc1d+GLu51Z71buxXdKJBG1rMVJX7pdRcBHYADkr2rpaKuM5Qd4mdSnGorSOVu/Cd7fXMs9zeaczTEGRRZzqjkdCUFztJGBzjNWJNA1SVLtJL3TCt4wecfYJvnIAA/wCXjjhR0roqKv20+/5Gf1envb8X/mc1qHh3UNRt7tby60+ZrlIo32WskWVSQNgkyOMYL8Y5yOeKlttB1Gwu55rC/s1804DXNrNPIEBO1d7T9BnsAO+K6Cil7WdrD9hTvf8AVmBJo2sS6gl62o6d9oRDGGWxmUMvPDKLjDDk4yDjtVe08MajY3Sz299p4eMERB7Od1iB6hFa4IT8APSunoo9tNK36IPq9Nu/6v8AzMXVNJvNX02Cwv2tJo2kV7qVY2TIVgwCIS3UDBJb39qrX2gatqLRvcalYLJGCqyQWc8TgHGRuS4BwcDj2ro6KSqSjsOVGEt/zZy83he/mhtojeadGtqpWLybKeIqp6jK3AJBxyD171La+HtSsmtja3mlx/ZUdIcafL8isQWH/Hx6gV0dFV7ae1/yJ+r073t+L/zOf1TQtQ1a1tI727tJJILkzB44HiUDYwXgSEkhiDkMvtg81AnhjUEsZLT7bpzxyuJHaSynaRnGMNvNxuyMDBzxgYrp6KSqzSshuhTk7v8ANnLr4X1BbOW2N9p7rMweR5LOd5GYfdPmG43ZGBjnjtSw+GdRg27b/T3dZhP5ktnO7lwNoJZrgk4Bxg8V09FP21Tv+Qvq1Lt+L/zOZPhrUS8jG+08+ZOtyV+xz7RIrbgwX7Rgc8nAGe+aa3hfUHvvtTX2nl/MEpj+xz+UZB/H5f2jbu75xnPNdRRR7aff8geGpPdfi/8APzZzv9g6p9mlt/t2meVLN57r/Z8vL7g2f+Pj1AOOlS3mla1qFsYLvUNMkjJBx/Z0oIIOQQRPkEHnI5rdope1l/SRXsIef3v/ADOXj8L6hHD5f27T5P3yTl5bOd3Z0IKksbgk4wOCcVcj0vWorya7j1HTBPOqrI39nS/MFzt48/HG41uUUOtN7/kiVh6a2/N/5+Zzk/h/VLm5mnmv9OMk8PkS7bKZRInPBAuMHqcHqM8VL/Y+seZA5v8ASy1vG0UedOl+VTjIx5/P3R1reoo9rP8ApIfsIb6/e/8AM5iz8MajYXCTW1/YBo1KxK9pO6xA9QitcEL+AHHFWJdF1ae8N1NfaW8xga3JbTpSDGSCVx5+OoFb9FDrTbu/yQLD00rL83/mcrF4TvolkX7bYSrJEYSJ7S4lCxnqq7rk7R04GOg9Kdb+FtQtpnmF/YSyPC0DPcWlxMTGcZX57k8cD9fU11FFP29R9Sfq1JdPxf8AmctaeFb+yuY7iG+sGljUpG0tpcSbFPVRuuThfbpRB4Uv7aYSR31h8qsqI9pcMkQYYIRTc4TjjgDjiupoo9vUe7GsNSWy/F/5nNS+G9Rn062sZLzTDb2m3yEFhMDHtGFIIuM5A759+tNTwzqCWU1r9u06RJ2DyNJZTu7MMYO83BbIwMHPGOK6eij20+/5B9Wpdvxf+Zy6+FtQFpNbm/sHEzK8kklpO0jMv3T5hudwxjjB47U2PwnfRrMPtunuZ2jaV5LS4dnMbbkJY3JPBP8ATpXVUUe3qd/yF9Vpdvxf+Zzd94d1TUJ1mudRsBIq7N0VnPGWX+6224G5fY5FXdL03UtNjt7Zbuw+xwjb5MVlIpxzwGMzY/I1r0VLqya5enyLVCClzLf1f+YUUUVmbBRRRQAUUUUAFFFFABRRRQAUUUUAFFFFABRRRQAUUUUAFFFFABRRRQAUUUUAFFFFABRRRQAUUUUAFFFFABRRRQAUUUUAFFFFABRRRQAUUUUAFFFFABRRRQAUUUUAFFFFABRRRQAUUUUAFFFFABRRRQAUUUUAFFFFABRRRQAUUUUAFFFFABRRRQAUUUUAFFFFABRRRQAUUUUAFFFFAEcv+sh/3z/6CakqOX/WQ/75/wDQTUlAEdt/x6xf7g/lUlR23/HrF/uD+VSUAFFFFABRRRQAUUUUAFFFFABRRRQAUUUUAFFFFABRRRQAUUUUAFFFFABRRRQAUUUUAFFFFABRRRQAUUUUAFFFFABRRRQAUUUUAFFFFABRRRQAUUUUAFFFFABRRRQAUUUUAFFFFABRRRQAUUUUAFFFFABRRRQAUUUUAFFFFABRRRQAUUUUAFFFFABRRRQAUUUUAFFFFABRRRQAUUUUAFFFFABRRRQAUUUUAFFFFABRRRQAUUUUAFFFFABRRRQAUUUUAFFFFABRRRQAUUUUAFFFFABRRRQAUUUUAFFFFABRRRQAUUUUAFFFFAEcv+sh/wB8/wDoJqSo5f8AWQ/75/8AQTUlAH//2Q==)"
   ]
  },
  {
   "cell_type": "markdown",
   "metadata": {
    "id": "OYfufzhD1Dh0"
   },
   "source": [
    "<h3> 3. predicting y(reordered or not) for test using model6 i.e. CATBOOST"
   ]
  },
  {
   "cell_type": "code",
   "execution_count": null,
   "metadata": {
    "id": "30XCZH6X1Lgf"
   },
   "outputs": [],
   "source": [
    "te_df['pred_cat']=cat.predict(te_df)"
   ]
  },
  {
   "cell_type": "code",
   "execution_count": null,
   "metadata": {
    "colab": {
     "base_uri": "https://localhost:8080/",
     "height": 204
    },
    "id": "yjAfJCow14sN",
    "outputId": "e0447065-a0d7-4a80-8e96-34dce69c2d28"
   },
   "outputs": [
    {
     "data": {
      "text/html": [
       "<div>\n",
       "<style scoped>\n",
       "    .dataframe tbody tr th:only-of-type {\n",
       "        vertical-align: middle;\n",
       "    }\n",
       "\n",
       "    .dataframe tbody tr th {\n",
       "        vertical-align: top;\n",
       "    }\n",
       "\n",
       "    .dataframe thead th {\n",
       "        text-align: right;\n",
       "    }\n",
       "</style>\n",
       "<table border=\"1\" class=\"dataframe\">\n",
       "  <thead>\n",
       "    <tr style=\"text-align: right;\">\n",
       "      <th></th>\n",
       "      <th>user_id</th>\n",
       "      <th>product_id</th>\n",
       "      <th>pred_cat</th>\n",
       "    </tr>\n",
       "  </thead>\n",
       "  <tbody>\n",
       "    <tr>\n",
       "      <th>0</th>\n",
       "      <td>3</td>\n",
       "      <td>248</td>\n",
       "      <td>0.0</td>\n",
       "    </tr>\n",
       "    <tr>\n",
       "      <th>1</th>\n",
       "      <td>3</td>\n",
       "      <td>1005</td>\n",
       "      <td>0.0</td>\n",
       "    </tr>\n",
       "    <tr>\n",
       "      <th>2</th>\n",
       "      <td>3</td>\n",
       "      <td>1819</td>\n",
       "      <td>0.0</td>\n",
       "    </tr>\n",
       "    <tr>\n",
       "      <th>3</th>\n",
       "      <td>3</td>\n",
       "      <td>7503</td>\n",
       "      <td>0.0</td>\n",
       "    </tr>\n",
       "    <tr>\n",
       "      <th>4</th>\n",
       "      <td>3</td>\n",
       "      <td>8021</td>\n",
       "      <td>0.0</td>\n",
       "    </tr>\n",
       "  </tbody>\n",
       "</table>\n",
       "</div>"
      ],
      "text/plain": [
       "   user_id  product_id  pred_cat\n",
       "0        3         248       0.0\n",
       "1        3        1005       0.0\n",
       "2        3        1819       0.0\n",
       "3        3        7503       0.0\n",
       "4        3        8021       0.0"
      ]
     },
     "execution_count": 21,
     "metadata": {
      "tags": []
     },
     "output_type": "execute_result"
    }
   ],
   "source": [
    "te_df=te_df.reset_index()  #resetting index\n",
    "final_cat=te_df[['user_id','product_id','pred_cat']]  #selecting only required cols\n",
    "final_cat.head()  "
   ]
  },
  {
   "cell_type": "code",
   "execution_count": null,
   "metadata": {
    "id": "H0yqHMgp49QF"
   },
   "outputs": [],
   "source": [
    "final_cat.to_csv('/content/drive/MyDrive/Instacart/final_cat.csv')"
   ]
  },
  {
   "cell_type": "markdown",
   "metadata": {
    "id": "JgX0-czHFkz0"
   },
   "source": [
    "merging ord_id with final_cat on user_id and product_id"
   ]
  },
  {
   "cell_type": "code",
   "execution_count": null,
   "metadata": {
    "colab": {
     "base_uri": "https://localhost:8080/",
     "height": 204
    },
    "id": "qr7VfKNcFxyU",
    "outputId": "c4b37279-c19f-48d6-e6a6-88d69ac54b49"
   },
   "outputs": [
    {
     "data": {
      "text/html": [
       "<div>\n",
       "<style scoped>\n",
       "    .dataframe tbody tr th:only-of-type {\n",
       "        vertical-align: middle;\n",
       "    }\n",
       "\n",
       "    .dataframe tbody tr th {\n",
       "        vertical-align: top;\n",
       "    }\n",
       "\n",
       "    .dataframe thead th {\n",
       "        text-align: right;\n",
       "    }\n",
       "</style>\n",
       "<table border=\"1\" class=\"dataframe\">\n",
       "  <thead>\n",
       "    <tr style=\"text-align: right;\">\n",
       "      <th></th>\n",
       "      <th>product_id</th>\n",
       "      <th>pred_cat</th>\n",
       "      <th>order_id</th>\n",
       "    </tr>\n",
       "  </thead>\n",
       "  <tbody>\n",
       "    <tr>\n",
       "      <th>0</th>\n",
       "      <td>248</td>\n",
       "      <td>0.0</td>\n",
       "      <td>2774568</td>\n",
       "    </tr>\n",
       "    <tr>\n",
       "      <th>1</th>\n",
       "      <td>1005</td>\n",
       "      <td>0.0</td>\n",
       "      <td>2774568</td>\n",
       "    </tr>\n",
       "    <tr>\n",
       "      <th>2</th>\n",
       "      <td>1819</td>\n",
       "      <td>0.0</td>\n",
       "      <td>2774568</td>\n",
       "    </tr>\n",
       "    <tr>\n",
       "      <th>3</th>\n",
       "      <td>7503</td>\n",
       "      <td>0.0</td>\n",
       "      <td>2774568</td>\n",
       "    </tr>\n",
       "    <tr>\n",
       "      <th>4</th>\n",
       "      <td>8021</td>\n",
       "      <td>0.0</td>\n",
       "      <td>2774568</td>\n",
       "    </tr>\n",
       "  </tbody>\n",
       "</table>\n",
       "</div>"
      ],
      "text/plain": [
       "   product_id  pred_cat  order_id\n",
       "0         248       0.0   2774568\n",
       "1        1005       0.0   2774568\n",
       "2        1819       0.0   2774568\n",
       "3        7503       0.0   2774568\n",
       "4        8021       0.0   2774568"
      ]
     },
     "execution_count": 20,
     "metadata": {
      "tags": []
     },
     "output_type": "execute_result"
    }
   ],
   "source": [
    "final_df=final_cat.merge(ord_id,on=['user_id','product_id'],how='left')\n",
    "final_df.drop('user_id',axis=1,inplace=True)  #removing user_id as not req\n",
    "final_df.head()"
   ]
  },
  {
   "cell_type": "code",
   "execution_count": null,
   "metadata": {
    "id": "pKZXslxbF4nV"
   },
   "outputs": [],
   "source": [
    "final_df['product_id']=final_df['product_id'].astype(int)"
   ]
  },
  {
   "cell_type": "code",
   "execution_count": null,
   "metadata": {
    "id": "-TBOvbRMF9si"
   },
   "outputs": [],
   "source": [
    "#creating dict with order_id as key as values as prod_id to be reordered\n",
    "dct=dict()\n",
    "for row in final_df.itertuples():   #for each row\n",
    "  if row.pred_cat==1:      #if pred=1 means reorder\n",
    "    if row.order_id in dct:    #if order_id in dct\n",
    "      dct[row.order_id] = dct[row.order_id]+' '+str(row.product_id)  #add product_id\n",
    "    else:                               #if order_id not in dct\n",
    "      dct[row.order_id]=str(row.product_id)  #add prd_id as first value\n",
    "\n",
    "#if no product is ordered by any order_id we hv to substitute None as value\n",
    "for order_id in final_df.order_id:\n",
    "  if order_id not in  dct:\n",
    "    dct[order_id] ='None'\n"
   ]
  },
  {
   "cell_type": "code",
   "execution_count": null,
   "metadata": {
    "colab": {
     "base_uri": "https://localhost:8080/",
     "height": 204
    },
    "id": "8eXbijwIGE-y",
    "outputId": "837a13c8-df4b-4c28-bc99-2644a3a6e0e4"
   },
   "outputs": [
    {
     "data": {
      "text/html": [
       "<div>\n",
       "<style scoped>\n",
       "    .dataframe tbody tr th:only-of-type {\n",
       "        vertical-align: middle;\n",
       "    }\n",
       "\n",
       "    .dataframe tbody tr th {\n",
       "        vertical-align: top;\n",
       "    }\n",
       "\n",
       "    .dataframe thead th {\n",
       "        text-align: right;\n",
       "    }\n",
       "</style>\n",
       "<table border=\"1\" class=\"dataframe\">\n",
       "  <thead>\n",
       "    <tr style=\"text-align: right;\">\n",
       "      <th></th>\n",
       "      <th>0</th>\n",
       "    </tr>\n",
       "  </thead>\n",
       "  <tbody>\n",
       "    <tr>\n",
       "      <th>2774568</th>\n",
       "      <td>17668 18599 21903 22035 39190 43961 47766</td>\n",
       "    </tr>\n",
       "    <tr>\n",
       "      <th>1528013</th>\n",
       "      <td>8424 21903 38293</td>\n",
       "    </tr>\n",
       "    <tr>\n",
       "      <th>1376945</th>\n",
       "      <td>8309 13176 14947 17706 20383 24799 27959 28465...</td>\n",
       "    </tr>\n",
       "    <tr>\n",
       "      <th>1356845</th>\n",
       "      <td>5746 7076 10863 11520 13176 14992 21616 22959 ...</td>\n",
       "    </tr>\n",
       "    <tr>\n",
       "      <th>2161313</th>\n",
       "      <td>196 1747 10441 11266 12427 14715 27839 37710 4...</td>\n",
       "    </tr>\n",
       "  </tbody>\n",
       "</table>\n",
       "</div>"
      ],
      "text/plain": [
       "                                                         0\n",
       "2774568          17668 18599 21903 22035 39190 43961 47766\n",
       "1528013                                   8424 21903 38293\n",
       "1376945  8309 13176 14947 17706 20383 24799 27959 28465...\n",
       "1356845  5746 7076 10863 11520 13176 14992 21616 22959 ...\n",
       "2161313  196 1747 10441 11266 12427 14715 27839 37710 4..."
      ]
     },
     "execution_count": 23,
     "metadata": {
      "tags": []
     },
     "output_type": "execute_result"
    }
   ],
   "source": [
    "#convert dct into df\n",
    "sub_df=pd.DataFrame.from_dict(dct,orient='index')\n",
    "sub_df.head()"
   ]
  },
  {
   "cell_type": "code",
   "execution_count": null,
   "metadata": {
    "colab": {
     "base_uri": "https://localhost:8080/",
     "height": 204
    },
    "id": "EOZvlatpGOfJ",
    "outputId": "39740643-6b4c-4ea3-c984-e30026a225ac"
   },
   "outputs": [
    {
     "data": {
      "text/html": [
       "<div>\n",
       "<style scoped>\n",
       "    .dataframe tbody tr th:only-of-type {\n",
       "        vertical-align: middle;\n",
       "    }\n",
       "\n",
       "    .dataframe tbody tr th {\n",
       "        vertical-align: top;\n",
       "    }\n",
       "\n",
       "    .dataframe thead th {\n",
       "        text-align: right;\n",
       "    }\n",
       "</style>\n",
       "<table border=\"1\" class=\"dataframe\">\n",
       "  <thead>\n",
       "    <tr style=\"text-align: right;\">\n",
       "      <th></th>\n",
       "      <th>order_id</th>\n",
       "      <th>products</th>\n",
       "    </tr>\n",
       "  </thead>\n",
       "  <tbody>\n",
       "    <tr>\n",
       "      <th>0</th>\n",
       "      <td>2774568</td>\n",
       "      <td>17668 18599 21903 22035 39190 43961 47766</td>\n",
       "    </tr>\n",
       "    <tr>\n",
       "      <th>1</th>\n",
       "      <td>1528013</td>\n",
       "      <td>8424 21903 38293</td>\n",
       "    </tr>\n",
       "    <tr>\n",
       "      <th>2</th>\n",
       "      <td>1376945</td>\n",
       "      <td>8309 13176 14947 17706 20383 24799 27959 28465...</td>\n",
       "    </tr>\n",
       "    <tr>\n",
       "      <th>3</th>\n",
       "      <td>1356845</td>\n",
       "      <td>5746 7076 10863 11520 13176 14992 21616 22959 ...</td>\n",
       "    </tr>\n",
       "    <tr>\n",
       "      <th>4</th>\n",
       "      <td>2161313</td>\n",
       "      <td>196 1747 10441 11266 12427 14715 27839 37710 4...</td>\n",
       "    </tr>\n",
       "  </tbody>\n",
       "</table>\n",
       "</div>"
      ],
      "text/plain": [
       "   order_id                                           products\n",
       "0   2774568          17668 18599 21903 22035 39190 43961 47766\n",
       "1   1528013                                   8424 21903 38293\n",
       "2   1376945  8309 13176 14947 17706 20383 24799 27959 28465...\n",
       "3   1356845  5746 7076 10863 11520 13176 14992 21616 22959 ...\n",
       "4   2161313  196 1747 10441 11266 12427 14715 27839 37710 4..."
      ]
     },
     "execution_count": 24,
     "metadata": {
      "tags": []
     },
     "output_type": "execute_result"
    }
   ],
   "source": [
    "#set index\n",
    "sub_df.reset_index(inplace=True)\n",
    "#set cols names\n",
    "sub_df.columns=['order_id','products']\n",
    "sub_df.head()"
   ]
  },
  {
   "cell_type": "code",
   "execution_count": null,
   "metadata": {
    "colab": {
     "base_uri": "https://localhost:8080/"
    },
    "id": "1__pSJRvGXYW",
    "outputId": "65c74fac-8c1d-499f-ef14-56776a80c9d3"
   },
   "outputs": [
    {
     "data": {
      "text/plain": [
       "75000"
      ]
     },
     "execution_count": 26,
     "metadata": {
      "tags": []
     },
     "output_type": "execute_result"
    }
   ],
   "source": [
    "sub_df.shape[0]"
   ]
  },
  {
   "cell_type": "code",
   "execution_count": null,
   "metadata": {
    "id": "tg5kbXmoGWZR"
   },
   "outputs": [],
   "source": [
    "#convert to csv\n",
    "sub_df.to_csv('/content/drive/MyDrive/Instacart/sub_cat.csv',index=False)"
   ]
  },
  {
   "cell_type": "markdown",
   "metadata": {
    "id": "4KmTPq6GJaUJ"
   },
   "source": [
    "![sub_cat.JPG](data:image/jpeg;base64,/9j/4AAQSkZJRgABAQEAYABgAAD/4RDgRXhpZgAATU0AKgAAAAgABAE7AAIAAAAHAAAISodpAAQAAAABAAAIUpydAAEAAAAOAAAQyuocAAcAAAgMAAAAPgAAAAAc6gAAAAgAAAAAAAAAAAAAAAAAAAAAAAAAAAAAAAAAAAAAAAAAAAAAAAAAAAAAAAAAAAAAAAAAAAAAAAAAAAAAAAAAAAAAAAAAAAAAAAAAAAAAAAAAAAAAAAAAAAAAAAAAAAAAAAAAAAAAAAAAAAAAAAAAAAAAAAAAAAAAAAAAAAAAAAAAAAAAAAAAAAAAAAAAAAAAAAAAAAAAAAAAAAAAAAAAAAAAAAAAAAAAAAAAAAAAAAAAAAAAAAAAAAAAAAAAAAAAAAAAAAAAAAAAAAAAAAAAAAAAAAAAAAAAAAAAAAAAAAAAAAAAAAAAAAAAAAAAAAAAAAAAAAAAAAAAAAAAAAAAAAAAAAAAAAAAAAAAAAAAAAAAAAAAAAAAAAAAAAAAAAAAAAAAAAAAAAAAAAAAAAAAAAAAAAAAAAAAAAAAAAAAAAAAAAAAAAAAAAAAAAAAAAAAAAAAAAAAAAAAAAAAAAAAAAAAAAAAAAAAAAAAAAAAAAAAAAAAAAAAAAAAAAAAAAAAAAAAAAAAAAAAAAAAAAAAAAAAAAAAAAAAAAAAAAAAAAAAAAAAAAAAAAAAAAAAAAAAAAAAAAAAAAAAAAAAAAAAAAAAAAAAAAAAAAAAAAAAAAAAAAAAAAAAAAAAAAAAAAAAAAAAAAAAAAAAAAAAAAAAAAAAAAAAAAAAAAAAAAAAAAAAAAAAAAAAAAAAAAAAAAAAAAAAAAAAAAAAAAAAAAAAAAAAAAAAAAAAAAAAAAAAAAAAAAAAAAAAAAAAAAAAAAAAAAAAAAAAAAAAAAAAAAAAAAAAAAAAAAAAAAAAAAAAAAAAAAAAAAAAAAAAAAAAAAAAAAAAAAAAAAAAAAAAAAAAAAAAAAAAAAAAAAAAAAAAAAAAAAAAAAAAAAAAAAAAAAAAAAAAAAAAAAAAAAAAAAAAAAAAAAAAAAAAAAAAAAAAAAAAAAAAAAAAAAAAAAAAAAAAAAAAAAAAAAAAAAAAAAAAAAAAAAAAAAAAAAAAAAAAAAAAAAAAAAAAAAAAAAAAAAAAAAAAAAAAAAAAAAAAAAAAAAAAAAAAAAAAAAAAAAAAAAAAAAAAAAAAAAAAAAAAAAAAAAAAAAAAAAAAAAAAAAAAAAAAAAAAAAAAAAAAAAAAAAAAAAAAAAAAAAAAAAAAAAAAAAAAAAAAAAAAAAAAAAAAAAAAAAAAAAAAAAAAAAAAAAAAAAAAAAAAAAAAAAAAAAAAAAAAAAAAAAAAAAAAAAAAAAAAAAAAAAAAAAAAAAAAAAAAAAAAAAAAAAAAAAAAAAAAAAAAAAAAAAAAAAAAAAAAAAAAAAAAAAAAAAAAAAAAAAAAAAAAAAAAAAAAAAAAAAAAAAAAAAAAAAAAAAAAAAAAAAAAAAAAAAAAAAAAAAAAAAAAAAAAAAAAAAAAAAAAAAAAAAAAAAAAAAAAAAAAAAAAAAAAAAAAAAAAAAAAAAAAAAAAAAAAAAAAAAAAAAAAAAAAAAAAAAAAAAAAAAAAAAAAAAAAAAAAAAAAAAAAAAAAAAAAAAAAAAAAAAAAAAAAAAAAAAAAAAAAAAAAAAAAAAAAAAAAAAAAAAAAAAAAAAAAAAAAAAAAAAAAAAAAAAAAAAAAAAAAAAAAAAAAAAAAAAAAAAAAAAAAAAAAAAAAAAAAAAAAAAAAAAAAAAAAAAAAAAAAAAAAAAAAAAAAAAAAAAAAAAAAAAAAAAAAAAAAAAAAAAAAAAAAAAAAAAAAAAAAAAAAAAAAAAAAAAAAAAAAAAAAAAAAAAAAAAAAAAAAAAAAAAAAAAAAAAAAAAAAAAAAAAAAAAAAAAAAAAAAAAAAAAAAAAAAAAAAAAAAAAAAAAAAAAAAAAAAAAAAAAAAAAAAAAAAAAAAAAAAAAAAAAAAAAAAAAAAAAAAAAAAAAAAAAAAAAAAAAAAAAAAAAAAAAAAAAAAAAAAAAAAAAAAAAAAAAAAAAAAAAAAAAAAAAAAAAAAAAAAAAAAAAAAAAAAAAAAAAAAAAAAAAAAAAAAAAAAAAAAAAAAAAAAAAAAAAAAAAAAAAAAAAAAAAAAAAAAAAAAAAAAAAAAAAAAAAAAAAAAAAAAAAAAAAAAAAAAAAAAAAAAAAAAAAAAAAAAAAAAAAAAAAAAAAAAAAAAAAAAAAAAAAAAAAAAAAAAAAAAAAAAAAAAAAAAAAAAAAAAAAAAAAAAAAAAAAAAAAAAAAAAAAAAAAAAAAAAAAAAAAAAAAAAAAAAAAAAAAAAAAAAAAAAAAAAAAAAAAAAAAAAAAAAAAAAAAAAAAAAAAAAAAAAAAAAAAAAAAAAAAAAAAAAAAAAAAAAAAAAAAAAAAAAAAAAAAAAAAAAAAAAAAAAAAAAAAAAAAAAAAAAAAAAAAAAAAAAAAAAAAAAAAAAAAAAAAAAAAAAAAAAAAAAAAAAAAAAAAAAAAAAAAAAAAAAAAAAAAAAAAAAAAAAAAAAAAAAAAAAAAAAAAAAAAAAAAAAAAAAAAAAAAAAAAAAAAAAAAAAAAAAAAAAAAAAAAAAAAAAAAAAAAAAAAAAAAAAAAAAAAAAAAAAAAAAAAAAAAAAAAAAAAAAAAAAAAAAAAAAAAAAAAAAAAAAAAAAAAAAAAAAAAAAAAAAAAAAAAAAAAAAAAAAAAAAAAAAAAAAAAAAAAAAAAAAAAAAAAAAAAAAAAAAAAAAAAAAAAAAAAAAAAAAAAAAAAAAAAAAAAAAAAAAAAAAAAAAAAAAAAAAAAAAAAAAAAAAAAAAAAAAAAAAAAAAAAAAAFBhbmthagAAAAWQAwACAAAAFAAAEKCQBAACAAAAFAAAELSSkQACAAAAAzA1AACSkgACAAAAAzA1AADqHAAHAAAIDAAACJQAAAAAHOoAAAAIAAAAAAAAAAAAAAAAAAAAAAAAAAAAAAAAAAAAAAAAAAAAAAAAAAAAAAAAAAAAAAAAAAAAAAAAAAAAAAAAAAAAAAAAAAAAAAAAAAAAAAAAAAAAAAAAAAAAAAAAAAAAAAAAAAAAAAAAAAAAAAAAAAAAAAAAAAAAAAAAAAAAAAAAAAAAAAAAAAAAAAAAAAAAAAAAAAAAAAAAAAAAAAAAAAAAAAAAAAAAAAAAAAAAAAAAAAAAAAAAAAAAAAAAAAAAAAAAAAAAAAAAAAAAAAAAAAAAAAAAAAAAAAAAAAAAAAAAAAAAAAAAAAAAAAAAAAAAAAAAAAAAAAAAAAAAAAAAAAAAAAAAAAAAAAAAAAAAAAAAAAAAAAAAAAAAAAAAAAAAAAAAAAAAAAAAAAAAAAAAAAAAAAAAAAAAAAAAAAAAAAAAAAAAAAAAAAAAAAAAAAAAAAAAAAAAAAAAAAAAAAAAAAAAAAAAAAAAAAAAAAAAAAAAAAAAAAAAAAAAAAAAAAAAAAAAAAAAAAAAAAAAAAAAAAAAAAAAAAAAAAAAAAAAAAAAAAAAAAAAAAAAAAAAAAAAAAAAAAAAAAAAAAAAAAAAAAAAAAAAAAAAAAAAAAAAAAAAAAAAAAAAAAAAAAAAAAAAAAAAAAAAAAAAAAAAAAAAAAAAAAAAAAAAAAAAAAAAAAAAAAAAAAAAAAAAAAAAAAAAAAAAAAAAAAAAAAAAAAAAAAAAAAAAAAAAAAAAAAAAAAAAAAAAAAAAAAAAAAAAAAAAAAAAAAAAAAAAAAAAAAAAAAAAAAAAAAAAAAAAAAAAAAAAAAAAAAAAAAAAAAAAAAAAAAAAAAAAAAAAAAAAAAAAAAAAAAAAAAAAAAAAAAAAAAAAAAAAAAAAAAAAAAAAAAAAAAAAAAAAAAAAAAAAAAAAAAAAAAAAAAAAAAAAAAAAAAAAAAAAAAAAAAAAAAAAAAAAAAAAAAAAAAAAAAAAAAAAAAAAAAAAAAAAAAAAAAAAAAAAAAAAAAAAAAAAAAAAAAAAAAAAAAAAAAAAAAAAAAAAAAAAAAAAAAAAAAAAAAAAAAAAAAAAAAAAAAAAAAAAAAAAAAAAAAAAAAAAAAAAAAAAAAAAAAAAAAAAAAAAAAAAAAAAAAAAAAAAAAAAAAAAAAAAAAAAAAAAAAAAAAAAAAAAAAAAAAAAAAAAAAAAAAAAAAAAAAAAAAAAAAAAAAAAAAAAAAAAAAAAAAAAAAAAAAAAAAAAAAAAAAAAAAAAAAAAAAAAAAAAAAAAAAAAAAAAAAAAAAAAAAAAAAAAAAAAAAAAAAAAAAAAAAAAAAAAAAAAAAAAAAAAAAAAAAAAAAAAAAAAAAAAAAAAAAAAAAAAAAAAAAAAAAAAAAAAAAAAAAAAAAAAAAAAAAAAAAAAAAAAAAAAAAAAAAAAAAAAAAAAAAAAAAAAAAAAAAAAAAAAAAAAAAAAAAAAAAAAAAAAAAAAAAAAAAAAAAAAAAAAAAAAAAAAAAAAAAAAAAAAAAAAAAAAAAAAAAAAAAAAAAAAAAAAAAAAAAAAAAAAAAAAAAAAAAAAAAAAAAAAAAAAAAAAAAAAAAAAAAAAAAAAAAAAAAAAAAAAAAAAAAAAAAAAAAAAAAAAAAAAAAAAAAAAAAAAAAAAAAAAAAAAAAAAAAAAAAAAAAAAAAAAAAAAAAAAAAAAAAAAAAAAAAAAAAAAAAAAAAAAAAAAAAAAAAAAAAAAAAAAAAAAAAAAAAAAAAAAAAAAAAAAAAAAAAAAAAAAAAAAAAAAAAAAAAAAAAAAAAAAAAAAAAAAAAAAAAAAAAAAAAAAAAAAAAAAAAAAAAAAAAAAAAAAAAAAAAAAAAAAAAAAAAAAAAAAAAAAAAAAAAAAAAAAAAAAAAAAAAAAAAAAAAAAAAAAAAAAAAAAAAAAAAAAAAAAAAAAAAAAAAAAAAAAAAAAAAAAAAAAAAAAAAAAAAAAAAAAAAAAAAAAAAAAAAAAAAAAAAAAAAAAAAAAAAAAAAAAAAAAAAAAAAAAAAAAAAAAAAAAAAAAAAAAAAAAAAAAAAAAAAAAAAAAAAAAAAAAAAAAAAAAAAAAAAAAAAAAAAAAAAAAAAAAAAAAAAAAAAAAAAAAAAAAAAAAAAAAAAAAAAAAAAAAAAAAAAAAAAAAAAAAAAAAAAAAAAAAAAAAAAAAAAAAAAAAAAAAAAAAAAAAAAAAAAAAAAAAAAAAAAAAAAAAAAAAAAAAAAAAAAAAAAAAAAAAAAAAAAAAAAAAAAAAAAAAAAAAAAAAAAAAAAAAAAAAAAAAAAAAAAAAAAAAAAAAAAAAAAAAAAAAAAAAAAAAAAAAAAAAAAAAAAAAAAAAAAAAAAAAAAAAAAAAAAAAAAAAAAAAAAAAAAAAAAAAAAAAAAAAAAAAAAAAAAAAAAAAAAAAAAAAAAAAAAAAAAAAAAAAAAAAAAAAAAAAAAAAAAAAAAAAAAAAAAAAAAAAAAAAAAAAAAAAAAAAAAAAAAAAAAAAAAAAAAAAAAAAAAAAAAAAAAAAAAAAAAAAAAAAAAAAAAAAAAAAAAAAAAAAAAAAAAAAAAAAAAAAAAAAAAAAAAAAAAAAAAAAAAAAAAAAAAAAAAAAAAAAAAAAAAAAAAAAAAAAAAAAAAAAAAAAAAAAAAAAAAAAAAAAAAAAAAAAAAAAAAAAAAAAAAAAAAAAAAAAAAAAAAAAAAAAAAAAAAAAAAAAAAAAAAAAAAAAAAAAAAAAAAAAAAAAAAAAAAAAAAAAAAAyMDIxOjA0OjA5IDExOjEwOjI0ADIwMjE6MDQ6MDkgMTE6MTA6MjQAAABQAGEAbgBrAGEAagAAAP/hCxlodHRwOi8vbnMuYWRvYmUuY29tL3hhcC8xLjAvADw/eHBhY2tldCBiZWdpbj0n77u/JyBpZD0nVzVNME1wQ2VoaUh6cmVTek5UY3prYzlkJz8+DQo8eDp4bXBtZXRhIHhtbG5zOng9ImFkb2JlOm5zOm1ldGEvIj48cmRmOlJERiB4bWxuczpyZGY9Imh0dHA6Ly93d3cudzMub3JnLzE5OTkvMDIvMjItcmRmLXN5bnRheC1ucyMiPjxyZGY6RGVzY3JpcHRpb24gcmRmOmFib3V0PSJ1dWlkOmZhZjViZGQ1LWJhM2QtMTFkYS1hZDMxLWQzM2Q3NTE4MmYxYiIgeG1sbnM6ZGM9Imh0dHA6Ly9wdXJsLm9yZy9kYy9lbGVtZW50cy8xLjEvIi8+PHJkZjpEZXNjcmlwdGlvbiByZGY6YWJvdXQ9InV1aWQ6ZmFmNWJkZDUtYmEzZC0xMWRhLWFkMzEtZDMzZDc1MTgyZjFiIiB4bWxuczp4bXA9Imh0dHA6Ly9ucy5hZG9iZS5jb20veGFwLzEuMC8iPjx4bXA6Q3JlYXRlRGF0ZT4yMDIxLTA0LTA5VDExOjEwOjI0LjA0NTwveG1wOkNyZWF0ZURhdGU+PC9yZGY6RGVzY3JpcHRpb24+PHJkZjpEZXNjcmlwdGlvbiByZGY6YWJvdXQ9InV1aWQ6ZmFmNWJkZDUtYmEzZC0xMWRhLWFkMzEtZDMzZDc1MTgyZjFiIiB4bWxuczpkYz0iaHR0cDovL3B1cmwub3JnL2RjL2VsZW1lbnRzLzEuMS8iPjxkYzpjcmVhdG9yPjxyZGY6U2VxIHhtbG5zOnJkZj0iaHR0cDovL3d3dy53My5vcmcvMTk5OS8wMi8yMi1yZGYtc3ludGF4LW5zIyI+PHJkZjpsaT5QYW5rYWo8L3JkZjpsaT48L3JkZjpTZXE+DQoJCQk8L2RjOmNyZWF0b3I+PC9yZGY6RGVzY3JpcHRpb24+PC9yZGY6UkRGPjwveDp4bXBtZXRhPg0KICAgICAgICAgICAgICAgICAgICAgICAgICAgICAgICAgICAgICAgICAgICAgICAgICAgICAgICAgICAgICAgICAgICAgICAgICAgICAgICAgICAgICAgICAgICAgICAgICAgIAogICAgICAgICAgICAgICAgICAgICAgICAgICAgICAgICAgICAgICAgICAgICAgICAgICAgICAgICAgICAgICAgICAgICAgICAgICAgICAgICAgICAgICAgICAgICAgICAgICAgCiAgICAgICAgICAgICAgICAgICAgICAgICAgICAgICAgICAgICAgICAgICAgICAgICAgICAgICAgICAgICAgICAgICAgICAgICAgICAgICAgICAgICAgICAgICAgICAgICAgICAKICAgICAgICAgICAgICAgICAgICAgICAgICAgICAgICAgICAgICAgICAgICAgICAgICAgICAgICAgICAgICAgICAgICAgICAgICAgICAgICAgICAgICAgICAgICAgICAgICAgIAogICAgICAgICAgICAgICAgICAgICAgICAgICAgICAgICAgICAgICAgICAgICAgICAgICAgICAgICAgICAgICAgICAgICAgICAgICAgICAgICAgICAgICAgICAgICAgICAgICAgCiAgICAgICAgICAgICAgICAgICAgICAgICAgICAgICAgICAgICAgICAgICAgICAgICAgICAgICAgICAgICAgICAgICAgICAgICAgICAgICAgICAgICAgICAgICAgICAgICAgICAKICAgICAgICAgICAgICAgICAgICAgICAgICAgICAgICAgICAgICAgICAgICAgICAgICAgICAgICAgICAgICAgICAgICAgICAgICAgICAgICAgICAgICAgICAgICAgICAgICAgIAogICAgICAgICAgICAgICAgICAgICAgICAgICAgICAgICAgICAgICAgICAgICAgICAgICAgICAgICAgICAgICAgICAgICAgICAgICAgICAgICAgICAgICAgICAgICAgICAgICAgCiAgICAgICAgICAgICAgICAgICAgICAgICAgICAgICAgICAgICAgICAgICAgICAgICAgICAgICAgICAgICAgICAgICAgICAgICAgICAgICAgICAgICAgICAgICAgICAgICAgICAKICAgICAgICAgICAgICAgICAgICAgICAgICAgICAgICAgICAgICAgICAgICAgICAgICAgICAgICAgICAgICAgICAgICAgICAgICAgICAgICAgICAgICAgICAgICAgICAgICAgIAogICAgICAgICAgICAgICAgICAgICAgICAgICAgICAgICAgICAgICAgICAgICAgICAgICAgICAgICAgICAgICAgICAgICAgICAgICAgICAgICAgICAgICAgICAgICAgICAgICAgCiAgICAgICAgICAgICAgICAgICAgICAgICAgICAgICAgICAgICAgICAgICAgICAgICAgICAgICAgICAgICAgICAgICAgICAgICAgICAgICAgICAgICAgICAgICAgICAgICAgICAKICAgICAgICAgICAgICAgICAgICAgICAgICAgICAgICAgICAgICAgICAgICAgICAgICAgICAgICAgICAgICAgICAgICAgICAgICAgICAgICAgICAgICAgICAgICAgICAgICAgIAogICAgICAgICAgICAgICAgICAgICAgICAgICAgICAgICAgICAgICAgICAgICAgICAgICAgICAgICAgICAgICAgICAgICAgICAgICAgICAgICAgICAgICAgICAgICAgICAgICAgCiAgICAgICAgICAgICAgICAgICAgICAgICAgICAgICAgICAgICAgICAgICAgICAgICAgICAgICAgICAgICAgICAgICAgICAgICAgICAgICAgICAgICAgICAgICAgICAgICAgICAKICAgICAgICAgICAgICAgICAgICAgICAgICAgICAgICAgICAgICAgICAgICAgICAgICAgICAgICAgICAgICAgICAgICAgICAgICAgICAgICAgICAgICAgICAgICAgICAgICAgIAogICAgICAgICAgICAgICAgICAgICAgICAgICAgICAgICAgICAgICAgICAgICAgICAgICAgICAgICAgICAgICAgICAgICAgICAgICAgICAgICAgICAgICAgICAgICAgICAgICAgCiAgICAgICAgICAgICAgICAgICAgICAgICAgICAgICAgICAgICAgICAgICAgICAgICAgICAgICAgICAgICAgICAgICAgICAgICAgICAgICAgICAgICAgICAgICAgICAgICAgICAKICAgICAgICAgICAgICAgICAgICAgICAgICAgICAgICAgICAgICAgICAgICAgICAgICAgICAgICAgICAgICAgICAgICAgICAgICAgICAgICAgICAgICAgICAgICAgICAgICAgIAogICAgICAgICAgICAgICAgICAgICAgICAgICAgICAgICAgICAgICAgICAgICAgICAgICAgICAgICAgICAgICAgICAgICAgICAgICAgICAgICAgICAgICAgICAgICAgICAgICAgCiAgICAgICAgICAgICAgICAgICAgICAgICAgICA8P3hwYWNrZXQgZW5kPSd3Jz8+/9sAQwAHBQUGBQQHBgUGCAcHCAoRCwoJCQoVDxAMERgVGhkYFRgXGx4nIRsdJR0XGCIuIiUoKSssKxogLzMvKjInKisq/9sAQwEHCAgKCQoUCwsUKhwYHCoqKioqKioqKioqKioqKioqKioqKioqKioqKioqKioqKioqKioqKioqKioqKioqKioq/8AAEQgA1wPAAwEiAAIRAQMRAf/EAB8AAAEFAQEBAQEBAAAAAAAAAAABAgMEBQYHCAkKC//EALUQAAIBAwMCBAMFBQQEAAABfQECAwAEEQUSITFBBhNRYQcicRQygZGhCCNCscEVUtHwJDNicoIJChYXGBkaJSYnKCkqNDU2Nzg5OkNERUZHSElKU1RVVldYWVpjZGVmZ2hpanN0dXZ3eHl6g4SFhoeIiYqSk5SVlpeYmZqio6Slpqeoqaqys7S1tre4ubrCw8TFxsfIycrS09TV1tfY2drh4uPk5ebn6Onq8fLz9PX29/j5+v/EAB8BAAMBAQEBAQEBAQEAAAAAAAABAgMEBQYHCAkKC//EALURAAIBAgQEAwQHBQQEAAECdwABAgMRBAUhMQYSQVEHYXETIjKBCBRCkaGxwQkjM1LwFWJy0QoWJDThJfEXGBkaJicoKSo1Njc4OTpDREVGR0hJSlNUVVZXWFlaY2RlZmdoaWpzdHV2d3h5eoKDhIWGh4iJipKTlJWWl5iZmqKjpKWmp6ipqrKztLW2t7i5usLDxMXGx8jJytLT1NXW19jZ2uLj5OXm5+jp6vLz9PX29/j5+v/aAAwDAQACEQMRAD8A+ivMldm8soqgkDcpOcfiKMz/AN+P/vg/40kX3W/32/8AQjUlADMz/wB+P/vg/wCNGZ/78f8A3wf8afRQAzM/9+P/AL4P+NGZ/wC/H/3wf8afRQAzM/8Afj/74P8AjRmf+/H/AN8H/Gn0UAMzP/fj/wC+D/jRmf8Avx/98H/Gn0UAMzP/AH4/++D/AI0Zn/vx/wDfB/xp9FADMz/34/8Avg/40Zn/AL8f/fB/xp9FADMz/wB+P/vg/wCNGZ/78f8A3wf8afRQAzM/9+P/AL4P+NGZ/wC/H/3wf8afRQAzM/8Afj/74P8AjRmf+/H/AN8H/Gn0UAMzP/fj/wC+D/jRmf8Avx/98H/Gn0UAMzP/AH4/++D/AI0Zn/vx/wDfB/xp9FADMz/34/8Avg/40Zn/AL8f/fB/xp9FADMz/wB+P/vg/wCNGZ/78f8A3wf8afRQAzM/9+P/AL4P+NGZ/wC/H/3wf8afRQAzM/8Afj/74P8AjRmf+/H/AN8H/Gn0UAMzP/fj/wC+D/jRmf8Avx/98H/Gn0UAMzP/AH4/++D/AI0Zn/vx/wDfB/xp9FADMz/34/8Avg/40Zn/AL8f/fB/xp9FADMz/wB+P/vg/wCNGZ/78f8A3wf8afRQAzM/9+P/AL4P+NGZ/wC/H/3wf8afRQAzM/8Afj/74P8AjRmf+/H/AN8H/Gn0UAMzP/fj/wC+D/jRmf8Avx/98H/Gn0UAMzP/AH4/++D/AI0Zn/vx/wDfB/xp9FADMz/34/8Avg/40Zn/AL8f/fB/xp9FADMz/wB+P/vg/wCNGZ/78f8A3wf8afRQAzM/9+P/AL4P+NGZ/wC/H/3wf8afRQAzM/8Afj/74P8AjRmf+/H/AN8H/Gn0UAMzP/fj/wC+D/jRmf8Avx/98H/Gn0UAMzP/AH4/++D/AI0Zn/vx/wDfB/xp9FADMz/34/8Avg/40Zn/AL8f/fB/xp9FADMz/wB+P/vg/wCNGZ/78f8A3wf8afRQAzM/9+P/AL4P+NGZ/wC/H/3wf8afRQAzM/8Afj/74P8AjRmf+/H/AN8H/Gn0UAMzP/fj/wC+D/jRmf8Avx/98H/Gn0UAMzP/AH4/++D/AI0Zn/vx/wDfB/xp9FADMz/34/8Avg/40Zn/AL8f/fB/xp9FADMz/wB+P/vg/wCNGZ/78f8A3wf8afRQAzM/9+P/AL4P+NGZ/wC/H/3wf8afRQAzM/8Afj/74P8AjRmf+/H/AN8H/Gn0UAMzP/fj/wC+D/jRmf8Avx/98H/Gn0UAMzP/AH4/++D/AI0Zn/vx/wDfB/xp9FADMz/34/8Avg/40Zn/AL8f/fB/xp9FADMz/wB+P/vg/wCNGZ/78f8A3wf8afRQAzM/9+P/AL4P+NGZ/wC/H/3wf8afRQAzM/8Afj/74P8AjRmf+/H/AN8H/Gn0UAMzP/fj/wC+D/jRmf8Avx/98H/Gn0UAMzP/AH4/++D/AI0Zn/vx/wDfB/xp9FADMz/34/8Avg/40Zn/AL8f/fB/xp9FADMz/wB+P/vg/wCNGZ/78f8A3wf8afRQAzM/9+P/AL4P+NGZ/wC/H/3wf8afRQAzM/8Afj/74P8AjRmf+/H/AN8H/Gn0UAMzP/fj/wC+D/jRmf8Avx/98H/Gn0UAMzP/AH4/++D/AI0Zn/vx/wDfB/xp9FADMz/34/8Avg/40Zn/AL8f/fB/xp9FADMz/wB+P/vg/wCNGZ/78f8A3wf8afRQAzM/9+P/AL4P+NGZ/wC/H/3wf8afRQAzM/8Afj/74P8AjRmf+/H/AN8H/Gn0UAMzP/fj/wC+D/jRmf8Avx/98H/Gn0UAM8yVGXzCjKSAdqkYz+Jqeq8v3V/31/8AQhVigCvF91v99v8A0I1JUcX3W/32/wDQjUlABUP2qL7Z9l3Ym2eYFIPK5xkHvU1ZHiKMjT1uYZDFcQuoSReoDkKR+R/MCgDRt7mK6V2gbeqOUJwcZHBx61NWBdw2VneW9tfuIdPjt8Rb5CqFwecn1xjGfeora7a1k0yfUJXjhZJkWSUkZG4eXuz3KjvQB0lFcrZKt/cWKTNI0TyXZKliu4B+AR/StfW1zbWsYLKrXUSnaxBxnpkUAadFcrcWyQQ6m0RkU2lxH5H7xv3eQhOOfUmnX0kYfUDPM66msh+xoHIYjA2bB3BPX8c0AdRTEmjeR0R1Z4yA6g8rkZ5/Cuc1CaODVHeWRJ5cx4tzK0cqHj/V9mB68e4Jq7p0UEPiLUxwszlXVS3LKVGSB6ZoA2aKxJITPr1+w3PJDbxNCpY7Q/z4OOmeBVPSnDz2xt7mP7T5bGeMSO7sdv8AGD90hsdfoKAOnornNJe0YWxSeU6oYz56byTvxyJB2GenTtiodJffcWf+kxre8m5QO7SMdp3B16Lz0J44wOtAHU0yKWOZS0ThwGKkg9CDgiua0+ER2mi3KtJ508hSVjITvUoxweenAq/4ejghjvIosLKlzJvTdyo3HbkfSjqNqxs0VzUs8UGunMiXMrXKgIJGSaMHAwF6Mg69hj1pkl8qWclo0zC6XUhmPJ3BTMCD9CD16dqFrb+uwnodHDcRXHmeU27y3MbcYww6ipa5GdrZE1ArK66j9rc2qhyGLZGNo7jPX9anv4t66xcM8gmt5UMTLIw2HYnTB96OlwOjnmEELSsrsFGdsalmP0A60+uZvk+xtq0NuzpH9mikA3k4YswJ57nAp1xNFBrZJkS5la4QCPzXSaMHAwq9GTueg69aOtgOlqOGYTx71V1GSMOhU8HHQ1z6TRRa6B5iXUr3JGBIyTRg9indB+AxzzUUMiNBaf2lKVsTLch2dyqlxIdoY+mM4zxR0uB1NFcxGDcNp8TPK1q95KIiXILxbGI56kentitTRV8uO8gUt5cN0yRgsTtXAOOe3NAGnRRRQAUUUUAFFFFABRRRQAUUUUAFFFFABRRRQAUUUUAFFFFABRRRQAUUUUAFFFFABRRRQAUUUUAFFFFABRRRQAUUUUAFFFFABRRRQAUUUUAFFFFABRRRQAUUUUAFFFFABRRRQAUUUUAFFFFABRRRQAUUUUAFFFFABRRRQAUUUUAFFFFABRRRQAUUUUAFFFFABRRRQAUUUUAFFFFABRRRQAUUUUAFFFFABRRRQAUUUUAFFFFAEcv3V/31/wDQhViq8v3V/wB9f/QhVigCvF91v99v/QjUlRxfdb/fb/0I1JQAUUUUAJS0UUAFFFFABSUtFACUtFFABSUtFACUUtFABRRRQAlLRRQAlLRRQAUlLRQAlFLRQAUUUUAFFFFABRRRQAUUUUAFFFFABRRRQAUUUUAFFFFABRRRQAUUUUAFFFFABRRRQAUUUUAFFFFABRRRQAUUUUAFFFFABRRRQAUUUUAFFFFABRRRQAUUUUAFFFFABRRRQAUUUUAFFFFABRRRQAUUUUAFFFFABRRRQAUUUUAFFFFABRRRQAUUUUAFFFFABRRRQAUUUUAFFFFABRRRQAUUUUAFFFFABRRRQAUUUUAFFFFABRRRQAUUUUARy/dX/fX/ANCFWKry/dX/AH1/9CFWKAIIY9yMdzD524GP7xp/lf7bfp/hRb/6s/77/wDoRqSgCPyv9tv0/wAKPK/22/T/AAqSigCPyv8Abb9P8KPK/wBtv0/wqSigCPyv9tv0/wAKPK/22/T/AAqSigCPyv8Abb9P8KPK/wBtv0/wqSigCPyv9tv0/wAKPK/22/T/AAqSigCPyv8Abb9P8KPK/wBtv0/wqSigCPyv9tv0/wAKPK/22/T/AAqSigCPyv8Abb9P8KPK/wBtv0/wqSigCPyv9tv0/wAKPK/22/T/AAqSigCPyv8Abb9P8KPK/wBtv0/wqSigCPyv9tv0/wAKPK/22/T/AAqSigCPyv8Abb9P8KPK/wBtv0/wqSigCPyv9tv0/wAKPK/22/T/AAqSigCPyv8Abb9P8KPK/wBtv0/wqSigCPyv9tv0/wAKPK/22/T/AAqSigCPyv8Abb9P8KPK/wBtv0/wqSigCPyv9tv0/wAKPK/22/T/AAqSigCPyv8Abb9P8KPK/wBtv0/wqSigCPyv9tv0/wAKPK/22/T/AAqSigCPyv8Abb9P8KPK/wBtv0/wqSigCPyv9tv0/wAKPK/22/T/AAqSigCPyv8Abb9P8KPK/wBtv0/wqSigCPyv9tv0/wAKPK/22/T/AAqSigCPyv8Abb9P8KPK/wBtv0/wqSigCPyv9tv0/wAKPK/22/T/AAqSigCPyv8Abb9P8KPK/wBtv0/wqSigCPyv9tv0/wAKPK/22/T/AAqSigCPyv8Abb9P8KPK/wBtv0/wqSigCPyv9tv0/wAKPK/22/T/AAqSigCPyv8Abb9P8KPK/wBtv0/wqSigCPyv9tv0/wAKPK/22/T/AAqSigCPyv8Abb9P8KPK/wBtv0/wqSigCPyv9tv0/wAKPK/22/T/AAqSigCPyv8Abb9P8KPK/wBtv0/wqSigCPyv9tv0/wAKPK/22/T/AAqSigCPyv8Abb9P8KPK/wBtv0/wqSigCPyv9tv0/wAKPK/22/T/AAqSigCPyv8Abb9P8KPK/wBtv0/wqSigCPyv9tv0/wAKPK/22/T/AAqSigCPyv8Abb9P8KPK/wBtv0/wqSigCPyv9tv0/wAKPK/22/T/AAqSigCPyv8Abb9P8KPK/wBtv0/wqSigCPyv9tv0/wAKPK/22/T/AAqSigCPyv8Abb9P8KPK/wBtv0/wqSigCPyv9tv0/wAKPK/22/T/AAqSigCPyv8Abb9P8KPK/wBtv0/wqSigCPyv9tv0/wAKPK/22/T/AAqSigCPyv8Abb9P8KPK/wBtv0/wqSigCPyv9tv0/wAKPK/22/T/AAqSigCPyv8Abb9P8KPK/wBtv0/wqSigCPyv9tv0/wAKPK/22/T/AAqSigCPyv8Abb9P8KPK/wBtv0/wqSigCPyv9tv0/wAKPK/22/T/AAqSigCPyv8Abb9P8KPK/wBtv0/wqSigCPyv9tv0/wAKPK/22/T/AAqSigCPyv8Abb9P8KPK/wBtv0/wqSigCPyv9tv0/wAKPK/22/T/AAqSigCPyv8Abb9P8KPK/wBtv0/wqSigCCaPaincx+deDj+8KnqO4/1Y/wB9P/QhUlAEdv8A6s/77/8AoRqSo7f/AFZ/33/9CNSUAFFFFABRRRQAUUUUAFFFFABRRRQAUUUUAFFFFABRRRQAUUUUAFFFFABRRRQAUUUUAFFFFABRRRQAUUUUAFFFFABRRRQAUUUUAFFISFGWIA9TS0AFFFFABRRSBgWIBBI6jPSgBaKKKACiiigAooooAKKKKACiiigAooooAKKKKACiiigAooooAKKKKACiiigAoozRQAUUjMFGWIA6ZJpaACignAyeBQCGAKnIPII70AFFFFABRRRQAUUUUAFFFFABRRRQAUUZx1oBB6UAFFFFABRRRQAUUm4btuRuxnGecUtABRRRQAUUisGGVII9QaWgAooooAKKKKACiiigAooooAKKKKACiiigAooooAKKKKACiikyN2MjPpQAtFFFABRRRQAUUUUAR3H+rH++n/oQqSo7j/Vj/fT/ANCFSUAR2/8Aqz/vv/6EakqO3/1Z/wB9/wD0I1JQAVg6jHcf8JIlxZkmaC03iPPEo38qfw6e+K3qj+zxfavtO397s8vdk/dznGPrR1uHQwLTUUYandW04QS3MYRjGXOTGvAUcluoxTv7WvVhnjDfvYruGFXliwSr7eqg+/tWo2kWLJMvkbfOkErlGKneP4gQeDx2xQmkWSKwETHdIkrFpGYsy42kknJ6D60Lz/rYDLmvtSt0vybqN/sEi/8ALHHmhgDg88de1ST6lfSXV4LMN/orBEiEG4SnaG5btnOBj61qSafayrcCSLIuSDL8x+bAAHfjgDpTLjSbO6mMk0bFmADhZGVZAP7yg4b8c0AW1JZQSMEjOD2paBx0ooAKKKKACiiigAooooAKKKKACiiigAooooAKKKKACiiigAooooAKKKKACiiigAooooAKKKKACiiigDI1aza6vrdhFb3gjRt1nO+A2SPnHBGRjHI79ahsrxYWsbazjeCN7mSKWGTBMZCM20Y4xkDGO1al3p9tesjTo2+PO145GRhnqMqQcVG2kWLWaW3kYjjfeu12DBv724HOeeuaEBlXtzcXUsKh0VotV8qNivAGw/n1NST6jfWpmtjNHJLHcQIsxjxlZGxggHqOentWh/Y1h5PlfZxs83zsbm+/jG7r1/8A19adHpNlHD5YiJHmrKS0jMzOCCCWJycYHWhaWv8A1sD1/r1Mqa+1K3S/Juo3+wSL/wAsceaGAODzx17UzU5ZiuqfZ3WBo7i3G+NAGYHZ1Pfr+XFbcmn2sq3AkiyLkgy/MfmwAB344A6USadayrcCSLIuSDL8x+bAAH06DpQPqUH+0x+Io910zRrZl2QIMNggfnUWn6lf3AtbllaSK4G50EG1YlKkghu/Ye+e1an2C382CUq/mQLtR/MbOPQnPzfjmmQ6TZwXAmiiYMpJRTIxVCepVScL+Ao6CMdp7u7ttKvJ5ozHcXUbiIJjy85IAPf3zXSVQTRbBJlkWE5STzEHmNtRvVVzgfhV+gOtwooooAKKKKACiiigAooooAKKKKACiiigAooooAKKKKACiiigDlLi3e4WXQo2KEXLygg9E271/wDH2A/Cp4dQ+0yTakJFiMcEVuhaMviR8MwCjknlRj1rdFnbrfNeCMfaGjEZfJ5UHOKiGk2QtZLZYAsUkhlYBiDvzncDnIOfShf1/XoBkS6hO0F1DcKJfJmt9pnhAJDOOq9OOx4q7pf2g6tqnm3DSIsyhUK9PkU8VZXR7JVceUzeYUZ2eVmLFTlSSTnipks4I7yS6RSssgAchjhsdyM4z74zQHQyibga1qu6ffElqjCJlBXkP/h+NRR3l7JEI7WWK3SLT45wBCCNxzxjPA4rZksLeS5a4ZD5jR+WxDkBl9CAcHqfpSJp9rHnZFjMIgPzH7gzgdfc89aTv0/rcfX+vIyDq95bKs87JMk1i90I1TbsK7TgHPI+b9Kt6fc3zXUaz7pYpIyzsYPLEbcYA9Qefero0+1UxERD9zEYUyScIcZHv0HWmWul2lnL5kCNuC7VLyM+wei7ido9hVaE9C3RRRSGFFFFABRRRQAUUUUAZPiZd+jhfLWXNxCPLbo37xeDSQ272mn3Ultp9rpkoXcChUq+OfmwBx/jWheWcF/bmC6UvGSDgMVOQcg5BB6ioE0ezSCSHbK8cuN6yTyPnH1Y8e3fvR0DqZq63c3GnLdwrs+03AhiQpuaIdywHU8HA+lStqF/DC0bDLPNHFDPLFt4bqSvcjHtnIrRk020l87fDnzypfDEZI6EY6H3HPApq6TZrbSQGIukpBcySMzMR0O4nPHbnigCrc3F9YQKJZ4pi1zFGrhMNtZgCCOn0IqtrN3ctDqsUU3lC3SJlKjnnOefyrSGj2QtZbdoS6TEGQvIzMxHQ7ic8Y454oTSLGOKeNYcrcKFl3OzFwOmSTnPPXrR0Az7y9l0+8uX2xyyxWKMJCgBYlyOSO3fFOub2904zRTTpcMbSSeNxHt2MmOMZ5HI/KtEabajOYt+6IQt5jl9yc8HJOeppkekWUUcqCNmEyGNzJKznZ/dBJJA9hQNWv8A15FW0ur1dRtYrqZJkurdpcLHt2EbehzyPm70s32j/hK7dVuGWI2rsY8cHDKP69a0BaQCaKUJ88KFIzk8KcZH6Ckls4JrmK4kU+bDnYysVwD1BweRx0NPqLoYtndXUq2VtavFbCZZ2YrCONrgDA6d6da6lfH+z57iWN0uZHheNY8YKhjuBz1+Xp71rQ6fawPE8UW1ogwQ7icBjlu/cihNOtUWBUiwLdzJH8x+VjnJ68/eNSgMvTtRv7r7LcFWeK4OXj8gqsakEghu+OM+vtW7VOLSbOG4E0cTBlJZVMjFEJ6kKTgHnsKuUwCiiigAooooAKKKKACiiigAooooAKKKKACiiigArmfssVn/AKTd2sdwhn3rqVu4Mgy/G7vjtwSMdq6aqA0SwE/miFvv+Z5fmN5e7rnZnbnPtR1DoQRT393NPNBPDFHBOYhC6feCkAkt1BPOMe3WobjUb0W97fxyxrDZysn2cx5LhcZyc8E84/DrWhLpNlNdfaJIiXLBmAdgrMOhK5wTx1Iol0mymuTPJES7MGYCRgrkdCVBwT9RQgM+bUruN9TuRIpgseVhCcv+7Dcn0yasWFxfG7VLjfLE8ZZnaDy9jccD1Byffiry2kCtORGD9oOZQeQ3GOh9hUVrplrZy+ZCj79u0F5WfavoNxOB7ChAW6KKKAI7j/Vj/fT/ANCFSVHcf6sf76f+hCpKAI7f/Vn/AH3/APQjUlR2/wDqz/vv/wChGpKACqV9rFhpsipe3KxMV34wTtX+8cD5V9zgVdrnNftb437XGl2d59pa3EaXVpPEASCSFkSTgqCc5AJ5bp3QzaOo2gNyDOn+ioJJv9hSCQT+ANZ83iaxtdUntbuRYkjhimSTli4fdk4A4A2jJ6c9qzL+y1eKXVRDpxvH1OxSPzYpUSOOVUZSG3ENg5GCAffFSxw6lpmvXF5HpEl5FNY28AMMsYYOhkyDuYfL8w5/Q9n3/ruTrZf12OljkSWNZImV0YBlZTkEHuDVObW9Ot74Wc13Gk+QCvOFJ+6GPRScjAJGazbC/g8PaXaabfRXrzwwrvNrp1xPGD6BkQjA6Ulv9ttZrmCPSJLyG9ufPW4Z0RArYyJFYhwVxjAU8BenODqPoaTa3pqX/wBja7Tz94jI5wrnopboGORwTnmm2GtW2o6lfWUAkEtlII3LIQG+VTkH/gWP/rVz+q2Gt31xLC9vdzAX8U0brNCluIllRugIcsFBzuHUHB6CtWFL/T9U1uaPTpLlbh0uICkqKJCI0TZywIbKk8jGO/amtVd/1t/wR9y7d63ptjdC3uruOOXAJU5OwHoWPRQexOKWfWdPtr0Ws9yqzEqCMEhS33Qx6KT2BIz2rNZL+w1DURFpL6gmoSLIjiWNUT92qFJNxzgbc5UNwemesGoWmpR6xLLpFncwSzSRFp4542t5QAATIj/MpAGPkGThefRdhG62pWa28k7TqI45fKZvR923b9ckD8atVzs+j3b+KVKRr/Zcsi3kzbh/r0XaF29cH5Gz6p710VHQOoUUUUAFFFFABRRRQAUUUUAFFFFABRRRQAUUUUAFFFFABRRRQAUUUUAFFFFABRRRQBQu9Uisr0pcywRQJbPcSMzneoUjJxjG0Z5Oc9OKsPfW0cgjknRGMTTDccfIMZb6DI/Ouc8QWD6rrtxYwkB59EuIgT0Us6AZpRbajqV4JbvRGihXTJrZobi4T967FPlyhbCkKeevXIHGRapfP9f8ge/9eX+bNKfxPpkOlXl9HM0yWcRldFQhiuDggEcg4OD096vxXsE1gLwMVgKbyzKRgDrwa5pNP1e70rVrHyruG2msGggj1CWJ3EhUjhkJJTkcsSc1uMtxd+G5I2tZILiS2ZPIlZCwbaRglSV/WlJ2i2hqzaT/AK2HWet6bf3BgtLtJJdm8KMjcvqufvAZGcZxTYdf0u4eRYbyNjGjSHAOGVerKcfMB6rms06Ndy2ejQFPKaCxkgmcMMxM0QX155Hb0pltaX95LpFvc6Y1lHphzLIZEZJf3TR7YwrE7Tuz8wXgDv0b3aXQmLuk2bo1Kza7jthcxmeWEzomeWjBA3D25FSW1zDeWsdxbOJIZVDo46MD0Iri/wDhHNYi02RoY1F7BILO1bzRn7JtaMMT6gOXx1yortYIUtraOCFdscSBFA7ADAo/r+vw/EZJRRRQAUUUUAFFFFABRRRQAUUUUAFFFFABRRRQAUUUUAFFFFABRRRQBgwa3qN3rM1ta2mnm2hnMReW+ZZmC43MIxGRwcj73OO1a93eW9hbme7lWKMEDJ7knAAHck9hXO3+n3N3dNax6DHBL9sS4TU4jGEADg7jz5m8qCCNuDnritfXrZrnT1C2k10UlVwsE4ikTB+8hJAJHoSARn6FfZQdWPOt6cLEXhulEJfyx8p3F/7u3G7d7YzSnWdOGnC+N3H9mLbQ+erZxtx13Z4x1zXPNp+uSw2t3ci8ka2uZCkKvCtz5TKACSP3ZYHPcfKeuessWmXcMNtqCWFy80V61zJazTxtK4aMx5zkIGAwcbsdecmmBtnXNNFgLz7Wnkl/LBwdxf8Au7cZ3e2M0ja7pi2sVy17EIpnMaNn7zgElcdd3B468YrOnS/lns9VGjsrW80hazEsfmsrJtD5zs3jGMbvuk854qqmkahNqdpqElqYRJqpu5IGdSYI/sxiGcEgkkAkKT19s0LVgbi65pracb4XafZw+wscgh8427eu7P8ADjNV7XxHZXDX0hlRLa0KAzM2Mlh0IIyDnjHXNZs2lahDqVzfxWpnEeqi6SBXUNNGbZYiVyQAQ2ThiOnuDTW0+8ul1m4u9GfbdSwSRW63KJMdgHzblOA4IyOccAZofSw+p0dlf22oQtJaSbwrbWBUqyHrgqcEHkcEd6sVk6AupLDc/wBpCcIZf9HF0YzMEwM7jH8vXOO+Ota1AgooooAKKKKACiiigCtfvfR22dMgt559w+S4maJcd/mCMc/hVLQ9TvtRe9S/s7e3NtN5Qa3uGlRzgFsEovTOOnXPpV3UXuo9OnbTohLdbMRKxAG48AknsOp+lJplgmmabDaRsXEa/M7dXY8sx9ySSfrQgI21nT01D7E1yvn7ghXBwGIyFLdAxHQE5NH9t6d/aH2L7Wn2jds2843ddu7pu/2c5rGntNTh15n0u0urcS3aSTSefG9rKnAZirHerbRjCgcgHJGaqxaLfRy/YJ7a/nh+2m4E63MSQY83zAxH39w9NuCR1wcgWtgZ0Ta3pq6h9iN3H9o3BCvOAx6KW6Buemc0p1vThf8A2I3aefu2Y5xv/u7um7/Zzms2xjv7B305tJa5je8eb7YZIxFseQvkgnfuGcY24JA5HaodO1Aae+iDT2KteGf7f5ieWFM3m7sbt+/tjbjPfFAM2l8QaU12tst7GZWlMIHOPMBwUJ6Bsjp1Paq+seJrDSbe7zKktzbxljDkgbsZClsEAkYwDz7VnDRb7/hHrq2+z/vn1g3SrvXmP7UJN2c/3RnHXt1qLU7DVf7H1jSbbS2ujeSySxXPmxrGQ53YbLBgw6DjHC8jnBHW1/62/wCD9w5K17f15nQza1p9veC1nuVSYlQRgkKW+6GPRSewOM9qvVzGoWmpR6xLLpNndQyzSRFp0nja3lAABMqOdykAY+QZOF59Ono6CCiiigAooooAKKKKACiiigAooooAKKKKACiiigAooooAZNMlvbyTSnbHGpdj6ADJrGstdvJJrE6jYR2tvqOfszLOXdW2lwrrtABKgngnBGPetW9the2FxasdqzxNGSO2Rj+tYNtBqt/caTDf6e1qumP5ss7SIyTuI2QCMKxODuJ+YLjGKFvr/W9x9P6+Rr6hc6hHLFFpllHOzgs8k8xjjQDHGQrEk56Y7Hn1zz4keTTbSS3tohdXJk+SefZHGIztdi+Dlc4AIHO4dOy6lLeXVjEt54ee9tZ0P2i0WWIyRuCNv3mCMPo2Rx+GWuhXlvFpV7dWDag1iZ1Fl5qs8cTsDGAXIVmQKo5P0JwMgGtJrl1HZWgNjH9uvLgwQxfaMxMQpbf5gXO3apP3c9sVa03U5Lk3cN/FHbXNmwEypLvTaV3BgxAOCPUDBB+tYy6TdJob7tLbDXpuY7GCcRy26EceW4YKHzliN235mGT3ZD4aurrTdQMRbTZdQljZ0vP9JZo0HKyYfktyDhsBcCj+vyF/X5mjpviKTUbbUp00+TFo37hFbL3ClAynHG3OeB9PpU9hqd6+pfYNUtIYJmh89DbzmVdoIBByq4OSPrz6VQ02017TLrWbu8+z6gZArQQ20HkGZggHBaVgo4xz9c9qk8OC8+0TS6npN7b3lwoaa6naAocdI0CSsQoycDHqScnkW4PY6CiiigCO4/1Y/wB9P/QhUlR3H+rH++n/AKEKkoAjt/8AVn/ff/0I1JUdv/qz/vv/AOhGpKACiiua1bx3pmjapNYXUF28sO3cY0UqcqDxlh2NZ1KkKavN2JlJRV2dLRXG/wDCztG/59r/AP79p/8AF0f8LO0b/n2v/wDv2n/xdY/XMP8AzIj21PudlRXG/wDCztG/59r/AP79p/8AF0f8LO0b/n2v/wDv2n/xdH1zD/zIPbU+52VFcb/ws7Rv+fa//wC/af8AxdH/AAs7Rv8An2v/APv2n/xdH1zD/wAyD21PudlRXG/8LO0b/n2v/wDv2n/xdH/CztG/59r/AP79p/8AF0fXMP8AzIPbU+52VFcb/wALO0b/AJ9r/wD79p/8XR/ws7Rv+fa//wC/af8AxdH1zD/zIPbU+52VFcb/AMLO0b/n2v8A/v2n/wAXR/ws7Rv+fa//AO/af/F0fXMP/Mg9tT7nZUVxv/CztG/59r//AL9p/wDF0f8ACztG/wCfa/8A+/af/F0fXMP/ADIPbU+52VFcb/ws7Rv+fa//AO/af/F0f8LO0b/n2v8A/v2n/wAXR9cw/wDMg9tT7nZUVxv/AAs7Rv8An2v/APv2n/xdH/CztG/59r//AL9p/wDF0fXMP/Mg9tT7nZUVxv8Aws7Rv+fa/wD+/af/ABdH/CztG/59r/8A79p/8XR9cw/8yD21PudlRXG/8LO0b/n2v/8Av2n/AMXR/wALO0b/AJ9r/wD79p/8XR9cw/8AMg9tT7nZUVxv/CztG/59r/8A79p/8XR/ws7Rv+fa/wD+/af/ABdH1zD/AMyD21PudlRXG/8ACztG/wCfa/8A+/af/F0f8LO0b/n2v/8Av2n/AMXR9cw/8yD21PudlRXG/wDCztG/59r/AP79p/8AF0f8LO0b/n2v/wDv2n/xdH1zD/zIPbU+52VFcb/ws7Rv+fa//wC/af8AxdH/AAs7Rv8An2v/APv2n/xdH1zD/wAyD21PudlRXG/8LO0b/n2v/wDv2n/xdH/CztG/59r/AP79p/8AF0fXMP8AzIPbU+52VFcb/wALO0b/AJ9r/wD79p/8XR/ws7Rv+fa//wC/af8AxdH1zD/zIPbU+516wxJM8qRoskgAdwoBbHTJ70+uN/4Wdo3/AD7X/wD37T/4uj/hZ2jf8+1//wB+0/8Ai6PrmH/mQe2p9zsqK43/AIWdo3/Ptf8A/ftP/i6P+FnaN/z7X/8A37T/AOLo+uYf+ZB7an3Oyorjf+FnaN/z7X//AH7T/wCLo/4Wdo3/AD7X/wD37T/4uj65h/5kHtqfc7KiuN/4Wdo3/Ptf/wDftP8A4uj/AIWdo3/Ptf8A/ftP/i6PrmH/AJkHtqfc7KiuN/4Wdo3/AD7X/wD37T/4uj/hZ2jf8+1//wB+0/8Ai6PrmH/mQe2p9zsqK43/AIWdo3/Ptf8A/ftP/i6P+FnaN/z7X/8A37T/AOLo+uYf+ZB7an3Oyorjf+FnaN/z7X//AH7T/wCLo/4Wdo3/AD7X/wD37T/4uj65h/5kHtqfc7KiuN/4Wdo3/Ptf/wDftP8A4uj/AIWdo3/Ptf8A/ftP/i6PrmH/AJkHtqfc7KiuN/4Wdo3/AD7X/wD37T/4uj/hZ2jf8+1//wB+0/8Ai6PrmH/mQe2p9zsqK43/AIWdo3/Ptf8A/ftP/i6P+FnaN/z7X/8A37T/AOLo+uYf+ZB7an3Oyorjf+FnaN/z7X//AH7T/wCLo/4Wdo3/AD7X/wD37T/4uj65h/5kHtqfc7KiuN/4Wdo3/Ptf/wDftP8A4uj/AIWdo3/Ptf8A/ftP/i6PrmH/AJkHtqfc7KiuN/4Wdo3/AD7X/wD37T/4uj/hZ2jf8+1//wB+0/8Ai6PrmH/mQe2p9zsqK43/AIWdo3/Ptf8A/ftP/i6P+FnaN/z7X/8A37T/AOLo+uYf+ZB7an3Oyorjf+FnaN/z7X//AH7T/wCLo/4Wdo3/AD7X/wD37T/4uj65h/5kHtqfc7KiuN/4Wdo3/Ptf/wDftP8A4uj/AIWdo3/Ptf8A/ftP/i6PrmH/AJkHtqfc7KiuN/4Wdo3/AD7X/wD37T/4uj/hZ2jf8+1//wB+0/8Ai6PrmH/mQe2p9zsqK43/AIWdo3/Ptf8A/ftP/i6P+FnaN/z7X/8A37T/AOLo+uYf+ZB7an3Oyorjf+FnaN/z7X//AH7T/wCLo/4Wdo3/AD7X/wD37T/4uj65h/5kHtqfc7KiuN/4Wdo3/Ptf/wDftP8A4uj/AIWdo3/Ptf8A/ftP/i6PrmH/AJkHtqfc7KiuN/4Wdo3/AD7X/wD37T/4uj/hZ2jf8+1//wB+0/8Ai6PrmH/mQe2p9zsqK43/AIWdo3/Ptf8A/ftP/i6P+FnaN/z7X/8A37T/AOLo+uYf+ZB7an3Oyorjf+FnaN/z7X//AH7T/wCLo/4Wdo3/AD7X/wD37T/4uj65h/5kHtqfc7KiuN/4Wdo3/Ptf/wDftP8A4uj/AIWdo3/Ptf8A/ftP/i6PrmH/AJkHtqfc7KiuN/4Wdo3/AD7X/wD37T/4uj/hZ2jf8+1//wB+0/8Ai6PrmH/mQe2p9zsqK43/AIWdo3/Ptf8A/ftP/i6P+FnaN/z7X/8A37T/AOLo+uYf+ZB7an3Oyorjf+FnaN/z7X//AH7T/wCLo/4Wdo3/AD7X/wD37T/4uj65h/5kHtqfc7KiuN/4Wdo3/Ptf/wDftP8A4uj/AIWdo3/Ptf8A/ftP/i6PrmH/AJkHtqfc7KiuN/4Wdo3/AD7X/wD37T/4uj/hZ2jf8+1//wB+0/8Ai6PrmH/mQe2p9zsqK43/AIWdo3/Ptf8A/ftP/i6P+FnaN/z7X/8A37T/AOLo+uYf+ZB7an3Oyorjf+FnaN/z7X//AH7T/wCLo/4Wdo3/AD7X/wD37T/4uj65h/5kHtqfc7KiuN/4Wdo3/Ptf/wDftP8A4uj/AIWdo3/Ptf8A/ftP/i6PrmH/AJkHtqfc7KiuN/4Wdo3/AD7X/wD37T/4uj/hZ2jf8+1//wB+0/8Ai6PrmH/mQe2p9zsqK43/AIWdo3/Ptf8A/ftP/i6P+FnaN/z7X/8A37T/AOLo+uYf+ZB7an3Oyorjf+FnaN/z7X//AH7T/wCLo/4Wdo3/AD7X/wD37T/4uj65h/5kHtqfc7KiuN/4Wdo3/Ptf/wDftP8A4uj/AIWdo3/Ptf8A/ftP/i6PrmH/AJkHtqfc7KiuN/4Wdo3/AD7X/wD37T/4uj/hZ2jf8+1//wB+0/8Ai6PrmH/mQe2p9zsqK43/AIWdo3/Ptf8A/ftP/i6P+FnaN/z7X/8A37T/AOLo+uYf+ZB7an3Oyorjf+FnaN/z7X//AH7T/wCLq7pPjvTNZ1SGwtYLtJZt20yIoUYUnnDHsKccVQk0lIaqwbsmdLRRRXSaEdx/qx/vp/6EKkqO4/1Y/wB9P/QhUlAEdv8A6s/77/8AoRqSo7f/AFZ/33/9CNSUAFeN+PP+R2v/APtn/wCi1r2SvG/Hn/I7X/8A2z/9FrXlZp/BXr+jOXFfAvU52gEHOCDjr7VQ1yV4tHmaNzHkqrOp5VSwDH8ATTV0vTrO4t5LdUtJA21fLwvncH5T/e9fXivAUVa7PPtpc0aKxItRvDbW2oPIhhuJlj+z+XgqrNtHOc5HBP40wX2osizrPEEa9a2EZizxvKg5z1GKr2THys3qKwW1G+Rvs3nRtIt+tv5rR4ypj3dPXmm388/2e5tLmQTNBPbMsgXbkNIOCOmRg/pTVJ3Q+R3OgorEbUb6Wa4ktlcrDMY1hEBIcA4JLdj1x+HWmG6ubK41q4MpmELJsjZeASi4/AZpezf9f15i5Gb1FZ1jNeG8MVxvliMe7zGh8va2Rx7g5/StGolGzJegUUUVIBRRRQAUUUUAFFFFABRRRQAUUUUAFFFFABRRRQAUUUUAFFFFABRRRQAUUUUAFFFFABRRRQAUUUUAFFFFABRRRQAUUUUAFFFFABRRRQAUUUUAFFFFABRRRQAUUUUAFFFFABRRRQAUUUUAFFFFABRRRQAUUUUAFFFFABRRRQAUUUUAFFFFABRRRQAUUUUAFFFFABRRRQAUUUUAFFFFABRRRQAUUUUAFFFFABRRRQAUUUUAFFFFABRRRQAUUUUAFFFFABRRRQAV0XgP/kdrD/tp/wCi2rna6LwH/wAjtYf9tP8A0W1b4f8AjQ9V+ZdP416nslFFFfYHsEdx/qx/vp/6EKkqO4/1Y/30/wDQhUlAEdv/AKs/77/+hGpKjt/9Wf8Aff8A9CNSUAFeN+PP+R2v/wDtn/6LWvZK4DxL4E1PWfEVzf2s9okU2zaJHYMMIBzhT3FedmFOdSklBX1/zOfERcoWR5u6LLGySKHRhhlYZBHpVS20mztJhLDE29RhC8jPsHouScfhXf8A/CsdZ/5+bD/v4/8A8RR/wrHWf+fmw/7+P/8AEV4qwuJSsos4fZVOxwKaVZx3PnpEQwYuF3tsDHqwXO0H3xTxYWwjCCP5RN5wG4/fznP513f/AArHWf8An5sP+/j/APxFH/CsdZ/5+bD/AL+P/wDEUfVcT/Kx+yq9jzq90eK5eMoqgG5E82SfmwhXj0PT06VOmlWaW7QiIlXcSMWkZmZgQQSxOT0Heu+/4VjrP/PzYf8Afx//AIij/hWOs/8APzYf9/H/APiKf1bFWtysPZ1exwMulWk1wZnjbcxDMokYK5HQlQcE/UU9rC2eeWV48tMmyQFjtce69D9cZru/+FY6z/z82H/fx/8A4ij/AIVjrP8Az82H/fx//iKX1XE/ysPZVexwdrp9vZyF4VcuRt3SSM5A9AWJwPYVZrs/+FY6z/z82H/fx/8A4ij/AIVjrP8Az82H/fx//iKTwmIe8WL2NTscZRXZ/wDCsdZ/5+bD/v4//wARR/wrHWf+fmw/7+P/APEUvqeI/lYexqdjjKK7P/hWOs/8/Nh/38f/AOIo/wCFY6z/AM/Nh/38f/4ij6niP5WHsanY4yiuz/4VjrP/AD82H/fx/wD4ij/hWOs/8/Nh/wB/H/8AiKPqeI/lYexqdjjKK7P/AIVjrP8Az82H/fx//iKP+FY6z/z82H/fx/8A4ij6niP5WHsanY4yiuz/AOFY6z/z82H/AH8f/wCIo/4VjrP/AD82H/fx/wD4ij6niP5WHsanY4yiuz/4VjrP/PzYf9/H/wDiKP8AhWOs/wDPzYf9/H/+Io+p4j+Vh7Gp2OMors/+FY6z/wA/Nh/38f8A+Io/4VjrP/PzYf8Afx//AIij6niP5WHsanY4yiuz/wCFY6z/AM/Nh/38f/4ij/hWOs/8/Nh/38f/AOIo+p4j+Vh7Gp2OMors/wDhWOs/8/Nh/wB/H/8AiKP+FY6z/wA/Nh/38f8A+Io+p4j+Vh7Gp2OMors/+FY6z/z82H/fx/8A4ij/AIVjrP8Az82H/fx//iKPqeI/lYexqdjjKK7P/hWOs/8APzYf9/H/APiKP+FY6z/z82H/AH8f/wCIo+p4j+Vh7Gp2OMors/8AhWOs/wDPzYf9/H/+Io/4VjrP/PzYf9/H/wDiKPqeI/lYexqdjjKK7P8A4VjrP/PzYf8Afx//AIij/hWOs/8APzYf9/H/APiKPqeI/lYexqdjjKK7P/hWOs/8/Nh/38f/AOIo/wCFY6z/AM/Nh/38f/4ij6niP5WHsanY4yiuz/4VjrP/AD82H/fx/wD4ij/hWOs/8/Nh/wB/H/8AiKPqeI/lYexqdjjKK7P/AIVjrP8Az82H/fx//iKP+FY6z/z82H/fx/8A4ij6niP5WHsanY4yiuz/AOFY6z/z82H/AH8f/wCIo/4VjrP/AD82H/fx/wD4ij6niP5WHsanY4yiuz/4VjrP/PzYf9/H/wDiKP8AhWOs/wDPzYf9/H/+Io+p4j+Vh7Gp2OMors/+FY6z/wA/Nh/38f8A+Io/4VjrP/PzYf8Afx//AIij6niP5WHsanY4yiuz/wCFY6z/AM/Nh/38f/4ij/hWOs/8/Nh/38f/AOIo+p4j+Vh7Gp2OMors/wDhWOs/8/Nh/wB/H/8AiKP+FY6z/wA/Nh/38f8A+Io+p4j+Vh7Gp2OMors/+FY6z/z82H/fx/8A4ij/AIVjrP8Az82H/fx//iKPqeI/lYexqdjjKK7P/hWOs/8APzYf9/H/APiKP+FY6z/z82H/AH8f/wCIo+p4j+Vh7Gp2OMors/8AhWOs/wDPzYf9/H/+Io/4VjrP/PzYf9/H/wDiKPqeI/lYexqdjjKK7P8A4VjrP/PzYf8Afx//AIij/hWOs/8APzYf9/H/APiKPqeI/lYexqdjjKK7P/hWOs/8/Nh/38f/AOIo/wCFY6z/AM/Nh/38f/4ij6niP5WHsanY4yiuz/4VjrP/AD82H/fx/wD4ij/hWOs/8/Nh/wB/H/8AiKPqeI/lYexqdjjKK7P/AIVjrP8Az82H/fx//iKP+FY6z/z82H/fx/8A4ij6niP5WHsanY4yiuz/AOFY6z/z82H/AH8f/wCIo/4VjrP/AD82H/fx/wD4ij6niP5WHsanY4yiuz/4VjrP/PzYf9/H/wDiKP8AhWOs/wDPzYf9/H/+Io+p4j+Vh7Gp2OMors/+FY6z/wA/Nh/38f8A+Io/4VjrP/PzYf8Afx//AIij6niP5WHsanY4yiuz/wCFY6z/AM/Nh/38f/4ij/hWOs/8/Nh/38f/AOIo+p4j+Vh7Gp2OMors/wDhWOs/8/Nh/wB/H/8AiKP+FY6z/wA/Nh/38f8A+Io+p4j+Vh7Gp2OMors/+FY6z/z82H/fx/8A4ij/AIVjrP8Az82H/fx//iKPqeI/lYexqdjjKK7P/hWOs/8APzYf9/H/APiKP+FY6z/z82H/AH8f/wCIo+p4j+Vh7Gp2OMors/8AhWOs/wDPzYf9/H/+Io/4VjrP/PzYf9/H/wDiKPqeI/lYexqdjjKK7P8A4VjrP/PzYf8Afx//AIij/hWOs/8APzYf9/H/APiKPqeI/lYexqdjjKK7P/hWOs/8/Nh/38f/AOIo/wCFY6z/AM/Nh/38f/4ij6niP5WHsanY4yiuz/4VjrP/AD82H/fx/wD4ij/hWOs/8/Nh/wB/H/8AiKPqeI/lYexqdjjKK7P/AIVjrP8Az82H/fx//iKP+FY6z/z82H/fx/8A4ij6niP5WHsanY4yiuz/AOFY6z/z82H/AH8f/wCIo/4VjrP/AD82H/fx/wD4ij6niP5WHsanY4yiuz/4VjrP/PzYf9/H/wDiKP8AhWOs/wDPzYf9/H/+Io+p4j+Vh7Gp2OMors/+FY6z/wA/Nh/38f8A+Io/4VjrP/PzYf8Afx//AIij6niP5WHsanY4yiuz/wCFY6z/AM/Nh/38f/4ij/hWOs/8/Nh/38f/AOIo+p4j+Vh7Gp2OMors/wDhWOs/8/Nh/wB/H/8AiKP+FY6z/wA/Nh/38f8A+Io+p4j+Vh7Gp2OMors/+FY6z/z82H/fx/8A4ij/AIVjrP8Az82H/fx//iKPqeI/lYexqdjjKK7P/hWOs/8APzYf9/H/APiKP+FY6z/z82H/AH8f/wCIo+p4j+Vh7Gp2OMors/8AhWOs/wDPzYf9/H/+Io/4VjrP/PzYf9/H/wDiKPqeI/lYexqdjjKK7P8A4VjrP/PzYf8Afx//AIij/hWOs/8APzYf9/H/APiKPqeI/lYexqdjjKK7P/hWOs/8/Nh/38f/AOIo/wCFY6z/AM/Nh/38f/4ij6niP5WHsanY4yui8B/8jtYf9tP/AEW1aP8AwrHWf+fmw/7+P/8AEVqeGvAmp6N4itr+6ntHih37hG7FjlCOMqO5rahha8asW49UXClNTTaO/ooor6c9MjuP9WP99P8A0IVJUdx/qx/vp/6EKkoAjt/9Wf8Aff8A9CNSVHb/AOrP++//AKEakoAKKKq6pM9vo95NC22SOB3VsdCFJBoAtUVjWmub1uYpI2aSzsorl3yPn3qxx7fcP51DN4mlyRaaa9wVs47x/wB8q7UbPHPUjH4+orT2cr2M1Ui0n3N+isFfE5CSST6fJEhsnvbcmQHzUUAkED7rfMOOetTWeuyz3dtFeWD2iXqlrV2kDb8Lu2sB904ycc9D9KPZyD2sH1/r+mbFFZN7qN7B4ksLKC3R7aeORpHL4I2leQMds/jn2qFPEZdkuDYyDTpJ/IS63jJbdsBKdQpbjP44xzSUJNJobqRTd+huUVUvtQWxmtFkQmO5mEJkz9xiDtz9SMfUiqD+IS7mKzsnnme4kggXeFWTYPnct2UHI78ikoyew3OK0ZtUViweI0lu7W1ktZIria5e2lQsD5TrGZOo6gjGD7/hSXHiPyyEgsnmla+ayVBIFywQtuyeg4p+zle1ifaQte5t0Vn6lqjaXpK3k9szvujRoYmyQzMFwCcZwT7Zqo3iI2i3K6rZSWs0MQmWNHEnmqW2jaRj5skDB9RyaFCTWg3OK3Nuisb/AISB7bz01WxktZYrZ7pURxL5ka/ewRj5hkce/U1Xn1yaXQ5LuW3e3j3RGOW1uUkDhnAwGwRkdxjGDwaapyYnUijoaK5i91y9it/EBuomhgsB+7lt5V8wDYp4yCM85yRx0q7c+IJIprr7LYSXVvY8XUqyKpU7QxCqfvEAgnp14zR7OVv68v8AMPaxvb+v60NqisC58TvG141rp0l1b2SrJNKsqjKMgfKg9Tg9OPrWrfajDYaZJfShniRQwCDLNnoAPUkgUnCSt5jU4vZlqisC68TPp1vdNqmnPbzQ27XKRrKHEiKQDhh0YZGR78E1cstXln1NrG8smtJjF58WZA4dMgHOOhBIyOevWj2crXF7SN7GnRWPNqd8ni6HTkgjNq9o8zOX+YEMozj8cY96o6D4gvZrHTDqVo5S8zGt3vXLPhjyg6AhTg/oKfs5ON/66/5C9rFSce3/AAP8zpqKwIfFUct1Dm222dxN5EU/nKWLE4BKdQpIwD7jgVY1W+mtde0aFJdkFxJMJhgfMFiLD6YIzxS9nLr/AFYftI/l+Ohr0Vg2PihLy5tg1t5dteHFtL5yszHBYbkHK5AyOvvinw+Ij/asVlfWn2QzhzFmdXf5QWO9R93gE9TTdOSBVIvZm3RXNP4gvLl9Llhs5LezvblBHMXVvMjKsfmX+HIwR198dKmj8VRPdRn7Pizln+zpP5y7i5baDs6hS3AP0OMc0/ZTF7WHc36K5e58SXU+gXGoW1nJbxRTrGj71ZpCJwjAL6EA8n/69XW8R/Y/tK6vZPaSQwG4VEcS+agOOMfxZIGP9ocml7OQe1gbdFZNvrNwbk219p0lvcNC00MaSLJ5qrgEZ4AbkcdOetVP+Eq8oXiXlmIp7a1a68qO4WTKr1BI+62SOOevU0vZyH7SPU6GisQ67dkwQx6WTd3KtLHAZ1GIl2/OzY4OWAwM1JoOoXF9Y3c9ykm+O6lRYmChlCnheOPbOfxodOSV2CqRbsjXorjrP4k6ffa4ukQ6TqwvS+xo2hQbMdS3z8AetdjTnTnTtzLcVKtTq35HewUUUVmahRRRQAUUUUAFFFFABRRRQAUUUUAFFFFABRRRQAUUUUAFFFFABRRRQAUUUUAFFFFABRRRQAUUUUAFFFFABRRRQAUUUUAFFFFABRRRQAUUUUAFFFFABRRRQAUUUUAFFFFABRRRQAUUUUAFFFFABRRRQAUUUUAFFFFABRRRQAUUUUAFFFFABRRRQAUUUUAFFFFABRRRQAUUUUAR3H+rH++n/oQqSo7j/Vj/AH0/9CFSUAR2/wDqz/vv/wChGpKjt/8AVn/ff/0I1JQAVzOvrrU91cW+n2941pNEIpCscDqQRy0ZaZCp5wdwI46evTUVcJcrva5FSHOrXa9DjLu21RrmZ9O0rUbVLm1S1mV0tZCVXcFKn7QMHDHqDUkNvfQmU/2LqZ8zT47Lra8bQ3zf6/vu6e3WuvorT2zatZGKw9ndSf4f5HHXNtfTWKp/ZOoRm30qe0DOICHJRcHCSs3JTGAD96pLaLV4byxe/sbzUI7GIeQYI4IsuyYLMXmBJAJX7qjOTjpXW0Ue2fZf1/w4fV1p7z/Dy8vI5u8uNTuNSsry30PUImttysr/AGZw6NjIGJxg/KMHn6GqCW2rKsdmdL1E6ZFOJlg223mcPvCF/tGNobH8OcDGa7Oikq1lZJA6F95P8P8AIwdZmnv/AA3cIdNvbe5dttvGVR3EgwyPlGZVAYDkkdKoSW2oWlvZRadpV8LnT9yrc4t3jn3DDkqZlbDH5uxzj6V1tFKNTlVkipUebXmf4f5HFGz1XbFcppeoDUkuzdGdktjGzFPLK7PtAIXbgfezxnNOt7TUo3gkn0rU5pI79r1m22q7iyFduPP469ef612dFX7d9kR9WX8z/D/I5vXHv9W0KSKPTb2xlW4gKF/Kdj+9BLAI7fdxk5x/OqEltql8bmXVdJ1GW4khEML2620YhAYNkA3DZO4KeuOBxXZ0VMavKrJIqVDmd3J/h/kcjGdckupLu+03UGuhA0ED28dqixBiCW2tcNubKr7cdKpDStRkW7afRbqOW5EQb7JBbRIdj79zL9oO5j0zngV3dFUq7WyRLwye8n+H+Rxuo22p3yatCukahHBqcQVlK2zNG4ULuB+0DIwOmOvftS3UWsNJeJYaZqFtbX5zcIyWzuDtCko32gBSVA6huea7Gil7ZrSy/r/hhvDpu/M/w/y8zkRb3aW+qwxaFqaJfxLEozbfugI/LH/LfnpntVu9mu73R2sH0DVUyiqJEktcqy4IYfvuxANdHRSdW+tvz/zGqNlZSf4f5HD3tlrGrW92NT02/eaW1a1iaGO2RY1YgsSpuTuJ2juOlapnvjrsWo/2Dqf7u1e38vda87mVs58//Z6Y710dFN1m+i/4cn6utfeetu3TboczcTalJrltqUOh6ihjheCSN/szb0Yq3B88bTlRzz9Kr20N9b6bpdp/Yupt/Z8ok3ZtR5nysMY8/j73v0rrqKXtdLWX4+fn5lew1b5nr6eXl5HE2Vhf2N1EItBuPssMpkUfZrTziMkhTIZ8YGeu3OB171oX73l/qVhdPoGpqtm0hMe62PmB0KYz5/HXPeumopus27tL8f8AMSoW05n+H+RxGnafqFhJDGuh3P2W3UrH5dtaLMRjADSeeenqACcDnrmLT9J1CznsDJot00NjuASGC1jabdGyEyN9oOW5znAzz68d5RT+sSd9FqT9Vjp7z09PLy8jiYLXWoxp8Emn6i9np0qvBGI7YOyqCArt9o5wD1AHvSWthf2d3H5Gg3AtY5jKoNtaGbqW2+YZ8Yyeu3OO/eu3oo9u+yH9WSVuZ/h/kcb9kvx4ZfSV0nVULTtMJ1+y5XM3mcDz+3TP4+1JLbapqDXEmsaTqM0skBt4mt1tohEpYMWwbhstlVOenA4rs6KXtmuiD6urW5n+H+Rxc9vrGopP/a2m6jJI9q9tE1sltEIw+NzEG4bLHA7gdeOarDStTf7R5ujXMQlsZLNY7S2tYkQOVO7H2k5Py9M+nTHPe0U1Xa2SE8KnvJ/h/l5HKXbaq1xaXen6NfwXdtEYN0otpEkQ4yCouFPVQQc1Y0N7/TrdoZ9J1KZ57l5Xmc2y7dxySQJjwPbnjpXR0VLq3VrItULO/M/w9OxAllax30l4lvEtzKoR5gg3Mo6Amp6KKxvc3skFFFFAwooooAKKKKACiiigAooooAKKKKACiiigAooooAKKKKACiiigAooooAKKKKACiiigAooooAKKKKACiiigAooooAKKKKACiiigAooooAKKKKACiiigAooooAKKKKACiiigAooooAKKKKACiiigAooooAKKKKACiiigAooooAKKKKACiiigAooooAKKKKACiiigAooooAKKKKAI7j/Vj/fT/wBCFSVHcf6sf76f+hCpKAI7f/Vn/ff/ANCNSVHB/q2/32/9CNSUAFFFFABRRRQAUUUUAFFFFABRRRQAUUUUAFFFFABRRRQAUUUUAFFFFABRRRQAUUUUAFFFFABRRRQAUUUUAFFFFABRRRQAUUUUAFFFFABRRRQAUUUUAFFFFABRRRQAUUUUAFFFFABRRRQAUUUUAFFFFABRRRQAUUUUAFFFFABRRRQAUUUUAFFFFABRRRQAUUUUAFFFFABRRRQAUUUUAFFFFABRRRQAUUUUAFFFFABRRRQAUUUUAFFFFABRRRQAUUUUAFFFFABRRRQAUUUUAFFFFABRRRQAUUUUAFFFFABRRRQAUUUUAFFFFAEdx/qx/vp/6EKkqOf/AFa/76/+hCpKAI2hRmLfMCeu1iM/lR9nT1k/7+N/jRRQAfZ09ZP+/jf40fZ09ZP+/jf40UUAH2dPWT/v43+NH2dPWT/v43+NFFAB9nT1k/7+N/jR9nT1k/7+N/jRRQAfZ09ZP+/jf40fZ09ZP+/jf40UUAH2dPWT/v43+NH2dPWT/v43+NFFAB9nT1k/7+N/jR9nT1k/7+N/jRRQAfZ09ZP+/jf40fZ09ZP+/jf40UUAH2dPWT/v43+NH2dPWT/v43+NFFAB9nT1k/7+N/jR9nT1k/7+N/jRRQAfZ09ZP+/jf40fZ09ZP+/jf40UUAH2dPWT/v43+NH2dPWT/v43+NFFAB9nT1k/7+N/jR9nT1k/7+N/jRRQAfZ09ZP+/jf40fZ09ZP+/jf40UUAH2dPWT/v43+NH2dPWT/v43+NFFAB9nT1k/7+N/jR9nT1k/7+N/jRRQAfZ09ZP+/jf40fZ09ZP+/jf40UUAH2dPWT/v43+NH2dPWT/v43+NFFAB9nT1k/7+N/jR9nT1k/7+N/jRRQAfZ09ZP+/jf40fZ09ZP+/jf40UUAH2dPWT/v43+NH2dPWT/v43+NFFAB9nT1k/7+N/jR9nT1k/7+N/jRRQAfZ09ZP+/jf40fZ09ZP+/jf40UUAH2dPWT/v43+NH2dPWT/v43+NFFAB9nT1k/7+N/jR9nT1k/7+N/jRRQAfZ09ZP+/jf40fZ09ZP+/jf40UUAH2dPWT/v43+NH2dPWT/v43+NFFAB9nT1k/7+N/jR9nT1k/7+N/jRRQAfZ09ZP+/jf40fZ09ZP+/jf40UUAH2dPWT/v43+NH2dPWT/v43+NFFAB9nT1k/7+N/jR9nT1k/7+N/jRRQAfZ09ZP+/jf40fZ09ZP+/jf40UUAH2dPWT/v43+NH2dPWT/v43+NFFAB9nT1k/7+N/jR9nT1k/7+N/jRRQAfZ09ZP+/jf40fZ09ZP+/jf40UUAH2dPWT/v43+NH2dPWT/v43+NFFAB9nT1k/7+N/jR9nT1k/7+N/jRRQAfZ09ZP+/jf40fZ09ZP+/jf40UUAH2dPWT/v43+NH2dPWT/v43+NFFAB9nT1k/7+N/jR9nT1k/7+N/jRRQAfZ09ZP+/jf40fZ09ZP+/jf40UUAH2dPWT/v43+NH2dPWT/v43+NFFAB9nT1k/7+N/jR9nT1k/7+N/jRRQAfZ09ZP+/jf40fZ09ZP+/jf40UUAH2dPWT/v43+NH2dPWT/v43+NFFAB9nT1k/7+N/jR9nT1k/7+N/jRRQAfZ09ZP+/jf40fZ09ZP+/jf40UUAH2dPWT/v43+NH2dPWT/v43+NFFAB9nT1k/7+N/jR9nT1k/7+N/jRRQAfZ09ZP+/jf40fZ09ZP+/jf40UUAH2dPWT/v43+NH2dPWT/v43+NFFAB9nT1k/7+N/jR9nT1k/7+N/jRRQAfZ09ZP+/jf40fZ09ZP+/jf40UUAH2dPWT/v43+NH2dPWT/v43+NFFAB9nT1k/7+N/jR9nT1k/7+N/jRRQAfZ09ZP+/jf40fZ09ZP+/jf40UUAH2dPWT/v43+NH2dPWT/v43+NFFAB9nT1k/7+N/jR9nT1k/7+N/jRRQAfZ09ZP+/jf40fZ09ZP+/jf40UUACworBvmJHTcxOPzqSiigD/2Q==)"
   ]
  },
  {
   "cell_type": "code",
   "execution_count": 1,
   "metadata": {
    "colab": {
     "base_uri": "https://localhost:8080/"
    },
    "id": "J2lKkEtky4mr",
    "outputId": "d221d551-4ab2-43c5-fb9e-d8b522e54019"
   },
   "outputs": [
    {
     "name": "stdout",
     "output_type": "stream",
     "text": [
      "+---------------------+---------------------+---------------------+--------------+\n",
      "|        Models       |    Train F1 score   |     CV f1 score     | kaggle score |\n",
      "+---------------------+---------------------+---------------------+--------------+\n",
      "| Logistic Regression | 0.41813947038094595 | 0.27154717375508164 |      -       |\n",
      "|    Decision Tree    |  0.4188730139929286 |  0.4170827358637251 |      -       |\n",
      "|    Random Forest    | 0.41895097319774954 | 0.41912509540982956 |      -       |\n",
      "|       XGBOOST       |  0.4226661748570595 |  0.4226914564447804 |   0.36939    |\n",
      "|         LGBM        | 0.42323728563824353 |  0.4229607006439822 |   0.36991    |\n",
      "|       CatBoost      | 0.42326660501729363 |  0.4225307318037922 |   0.36942    |\n",
      "+---------------------+---------------------+---------------------+--------------+\n"
     ]
    }
   ],
   "source": [
    "#ref:https://pypi.org/project/prettytable/\n",
    "from prettytable import PrettyTable\n",
    "table=PrettyTable()\n",
    "table.field_names=[\"Models\",\"Train F1 score\",\"CV f1 score\",'kaggle score']\n",
    "table.add_row([\"Logistic Regression\",0.41813947038094595,0.27154717375508164,'-'])\n",
    "table.add_row([\"Decision Tree\",0.4188730139929286,0.4170827358637251,'-'])\n",
    "table.add_row([\"Random Forest\",0.41895097319774954,0.41912509540982956,'-'])\n",
    "table.add_row([\"XGBOOST\",0.4226661748570595,0.4226914564447804,0.36939])\n",
    "table.add_row([\"LGBM\", 0.42323728563824353,0.4229607006439822,0.36991])\n",
    "table.add_row([\"CatBoost\", 0.42326660501729363,0.4225307318037922,0.36942])\n",
    "print(table)"
   ]
  },
  {
   "cell_type": "markdown",
   "metadata": {
    "id": "vNNGdclMzl0c"
   },
   "source": [
    "**so my final model selected is lgbm**"
   ]
  }
 ],
 "metadata": {
  "accelerator": "GPU",
  "colab": {
   "collapsed_sections": [],
   "machine_shape": "hm",
   "name": "IV_Insta_modelling.ipynb",
   "provenance": []
  },
  "kernelspec": {
   "display_name": "Python 3",
   "language": "python",
   "name": "python3"
  },
  "language_info": {
   "codemirror_mode": {
    "name": "ipython",
    "version": 3
   },
   "file_extension": ".py",
   "mimetype": "text/x-python",
   "name": "python",
   "nbconvert_exporter": "python",
   "pygments_lexer": "ipython3",
   "version": "3.8.5"
  }
 },
 "nbformat": 4,
 "nbformat_minor": 1
}
